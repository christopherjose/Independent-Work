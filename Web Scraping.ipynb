{
 "cells": [
  {
   "cell_type": "markdown",
   "metadata": {},
   "source": [
    "## Practicing code from : \n",
    "https://www.analyticsvidhya.com/blog/2015/10/beginner-guide-web-scraping-beautiful-soup-python/"
   ]
  },
  {
   "cell_type": "code",
   "execution_count": 1,
   "metadata": {
    "collapsed": false
   },
   "outputs": [],
   "source": [
    "import urllib2\n",
    "from bs4 import BeautifulSoup"
   ]
  },
  {
   "cell_type": "code",
   "execution_count": 2,
   "metadata": {
    "collapsed": true
   },
   "outputs": [],
   "source": [
    "wiki = \"https://en.wikipedia.org/wiki/List_of_state_and_union_territory_capitals_in_India\""
   ]
  },
  {
   "cell_type": "code",
   "execution_count": 22,
   "metadata": {
    "collapsed": true
   },
   "outputs": [],
   "source": [
    "page = urllib2.urlopen(wiki)\n",
    "soup = BeautifulSoup(page)"
   ]
  },
  {
   "cell_type": "code",
   "execution_count": 120,
   "metadata": {
    "collapsed": false
   },
   "outputs": [
    {
     "name": "stdout",
     "output_type": "stream",
     "text": [
      "<!DOCTYPE html>\n",
      "<html class=\"client-nojs\" dir=\"ltr\" lang=\"en\">\n",
      " <head>\n",
      "  <meta charset=\"utf-8\"/>\n",
      "  <title>\n",
      "   List of state and union territory capitals in India - Wikipedia\n",
      "  </title>\n",
      "  <script>\n",
      "   d\n"
     ]
    }
   ],
   "source": [
    "print soup.prettify()[:200]"
   ]
  },
  {
   "cell_type": "code",
   "execution_count": 30,
   "metadata": {
    "collapsed": false
   },
   "outputs": [
    {
     "data": {
      "text/plain": [
       "<title>List of state and union territory capitals in India - Wikipedia</title>"
      ]
     },
     "execution_count": 30,
     "metadata": {},
     "output_type": "execute_result"
    }
   ],
   "source": [
    "soup.title"
   ]
  },
  {
   "cell_type": "code",
   "execution_count": 33,
   "metadata": {
    "collapsed": false
   },
   "outputs": [
    {
     "data": {
      "text/plain": [
       "<a id=\"top\"></a>"
      ]
     },
     "execution_count": 33,
     "metadata": {},
     "output_type": "execute_result"
    }
   ],
   "source": [
    "soup.a"
   ]
  },
  {
   "cell_type": "code",
   "execution_count": 38,
   "metadata": {
    "collapsed": false
   },
   "outputs": [
    {
     "data": {
      "text/plain": [
       "<a href=\"#p-search\">search</a>"
      ]
     },
     "execution_count": 38,
     "metadata": {},
     "output_type": "execute_result"
    }
   ],
   "source": [
    "soup.find_all('a')[3]"
   ]
  },
  {
   "cell_type": "code",
   "execution_count": 34,
   "metadata": {
    "collapsed": false
   },
   "outputs": [
    {
     "name": "stdout",
     "output_type": "stream",
     "text": [
      "None\n",
      "/wiki/Wikipedia:Featured_lists\n",
      "#mw-head\n",
      "#p-search\n",
      "/wiki/States_and_union_territories_of_India\n",
      "/wiki/File:Flag_of_India.svg\n",
      "/wiki/List_of_states_and_territories_of_India_by_area\n",
      "/wiki/List_of_states_and_union_territories_of_India_by_population\n",
      "/wiki/ISO_3166-2:IN\n",
      "/wiki/List_of_Indian_states_by_Child_Nutrition\n",
      "/wiki/Indian_states_and_territories_ranking_by_crime_rate\n",
      "/wiki/Indian_states_ranked_by_economic_freedom\n",
      "/wiki/Indian_states_ranking_by_households_having_electricity\n",
      "/wiki/Indian_states_ranking_by_fertility_rate\n",
      "/wiki/Forest_cover_by_state_in_India\n",
      "/wiki/List_of_Indian_states_and_union_territories_by_GDP\n",
      "/wiki/List_of_Indian_states_by_GDP_per_capita\n",
      "/wiki/List_of_Indian_states_and_territories_by_highest_point\n",
      "/wiki/Indian_states_ranked_by_HIV_awareness\n",
      "/wiki/List_of_Indian_states_and_territories_by_Human_Development_Index\n",
      "/wiki/Indian_states_ranking_by_families_owning_house\n",
      "/wiki/Indian_states_ranking_by_household_size\n",
      "/wiki/Indian_states_and_territories_ranked_by_incidents_of_human_trafficking\n",
      "/wiki/Indian_states_ranking_by_institutional_delivery\n",
      "/wiki/List_of_Indian_states_by_life_expectancy_at_birth\n",
      "/wiki/Indian_states_ranking_by_literacy_rate\n",
      "/wiki/Indian_states_ranking_by_media_exposure\n",
      "/wiki/Indian_states_ranked_by_number_of_vehicles\n",
      "/wiki/List_of_states_and_union_territories_of_India_by_voters\n",
      "/wiki/Indian_states_and_union_territories_ranked_by_prevalence_of_open_defecation\n",
      "/wiki/List_of_Indian_state_and_union_territory_name_etymologies\n",
      "/wiki/List_of_states_and_territories_of_India_by_number_of_places_of_worship\n",
      "/wiki/Indian_states_and_territories_ranked_by_poverty\n",
      "/wiki/States_of_India_by_installed_power_capacity\n",
      "/wiki/Indian_states_and_union_territories_ranked_by_riots_rate\n",
      "/wiki/Indian_states_ranking_by_drinking_water\n",
      "/wiki/Indian_states_and_territories_ranked_by_safety_of_women\n",
      "/wiki/Indian_states_ranked_by_school_enrollment_rate\n",
      "/wiki/Indian_states_and_territories_ranking_by_sex_ratio\n",
      "/wiki/Indian_states_ranked_by_suicide\n",
      "/wiki/States_of_India_by_tax_revenues\n",
      "/wiki/Indian_states_ranking_by_television_ownership\n",
      "/wiki/Indian_states_and_union_territories_ranked_by_availability_of_toilets\n",
      "/wiki/Indian_states_by_transport_network\n",
      "/wiki/Indian_states_ranking_by_underweight_people\n",
      "/wiki/Indian_states_ranked_by_unemployment\n",
      "/wiki/Indian_states_ranking_by_vaccination_coverage\n",
      "/wiki/Template:Lists_of_states_and_territories_of_India\n",
      "/wiki/Template_talk:Lists_of_states_and_territories_of_India\n",
      "//en.wikipedia.org/w/index.php?title=Template:Lists_of_states_and_territories_of_India&action=edit\n",
      "/wiki/India\n",
      "/wiki/Demographics_of_India\n",
      "/wiki/Democracy\n",
      "/wiki/Federalism\n",
      "/wiki/Constitutional_republic\n",
      "/wiki/Parliamentary_system\n",
      "/wiki/States_and_territories_of_India\n",
      "#cite_note-FOOTNOTELibrary_of_Congress2004-1\n",
      "/wiki/Puducherry\n",
      "/wiki/National_Capital_Territory_of_Delhi\n",
      "/wiki/Westminster_system\n",
      "/wiki/States_Reorganisation_Act\n",
      "#cite_note-FOOTNOTESharma200749-2\n",
      "/wiki/Vidhan_Sabha\n",
      "/wiki/High_Courts_of_India\n",
      "#List\n",
      "#Explanatory_notes\n",
      "#Citations\n",
      "#References\n",
      "#External_links\n",
      "/w/index.php?title=List_of_state_and_union_territory_capitals_in_India&action=edit&section=1\n",
      "/wiki/Andaman_and_Nicobar_Islands\n",
      "/wiki/Port_Blair\n",
      "/wiki/Kolkata\n",
      "/wiki/Andhra_Pradesh\n",
      "/wiki/Hyderabad\n",
      "#cite_note-3\n",
      "/wiki/High_Court_of_Judicature_at_Hyderabad\n",
      "/wiki/Kurnool\n",
      "/wiki/Arunachal_Pradesh\n",
      "/wiki/Itanagar\n",
      "/wiki/Guwahati\n",
      "/wiki/Assam\n",
      "/wiki/Dispur\n",
      "/wiki/Guwahati\n",
      "/wiki/Shillong\n",
      "#cite_note-5\n",
      "/wiki/Bihar\n",
      "/wiki/Patna\n",
      "/wiki/Chandigarh\n",
      "/wiki/Chandigarh\n",
      "#cite_note-7\n",
      "/wiki/Chhattisgarh\n",
      "/wiki/Naya_Raipur\n",
      "#cite_note-8\n",
      "/wiki/Bilaspur,_Chhattisgarh\n",
      "/wiki/Dadra_and_Nagar_Haveli\n",
      "/wiki/Silvassa\n",
      "/wiki/Mumbai\n",
      "/wiki/Panaji\n",
      "/wiki/Daman_and_Diu\n",
      "/wiki/Daman,_Daman_and_Diu\n",
      "/wiki/Mumbai\n",
      "/wiki/Ahmedabad\n",
      "/wiki/Panaji\n",
      "/wiki/Delhi_NCT\n",
      "/wiki/New_Delhi\n",
      "/wiki/Goa\n",
      "/wiki/Panaji\n",
      "#cite_note-10\n",
      "/wiki/Porvorim\n",
      "/wiki/Mumbai\n",
      "/wiki/Gujarat\n",
      "/wiki/Gandhinagar\n",
      "/wiki/Ahmedabad\n",
      "/wiki/Ahmedabad\n",
      "/wiki/Haryana\n",
      "/wiki/Chandigarh\n",
      "/wiki/Himachal_Pradesh\n",
      "/wiki/Shimla\n",
      "/wiki/Dharamsala\n",
      "#cite_note-11\n",
      "/wiki/Bilaspur,_Himachal_Pradesh\n",
      "/wiki/Jammu_and_Kashmir\n",
      "/wiki/Srinagar\n",
      "/wiki/Jammu\n",
      "/wiki/Jharkhand\n",
      "/wiki/Ranchi\n",
      "/wiki/Karnataka\n",
      "/wiki/Bengaluru\n",
      "/wiki/Kerala\n",
      "/wiki/Thiruvananthapuram\n",
      "/wiki/Kochi\n",
      "/wiki/Lakshadweep\n",
      "/wiki/Kavaratti\n",
      "/wiki/Kochi\n",
      "/wiki/Madhya_Pradesh\n",
      "/wiki/Bhopal\n",
      "/wiki/Jabalpur\n",
      "/wiki/Nagpur\n",
      "#cite_note-15\n",
      "/wiki/Maharashtra\n",
      "/wiki/Mumbai\n",
      "#cite_note-16\n",
      "/wiki/Nagpur\n",
      "#cite_note-17\n",
      "#cite_note-19\n",
      "/wiki/Manipur\n",
      "/wiki/Imphal\n",
      "/wiki/Meghalaya\n",
      "/wiki/Shillong\n",
      "/wiki/Mizoram\n",
      "/wiki/Aizawl\n",
      "/wiki/Guwahati\n",
      "/wiki/Nagaland\n",
      "/wiki/Kohima\n",
      "/wiki/Guwahati\n",
      "/wiki/Odisha\n",
      "/wiki/Bhubaneswar\n",
      "/wiki/Cuttack\n",
      "/wiki/Cuttack\n",
      "/wiki/Puducherry\n",
      "/wiki/Puducherry\n",
      "/wiki/Chennai\n",
      "/wiki/Madras\n",
      "/wiki/Punjab,_India\n",
      "/wiki/Chandigarh\n",
      "/wiki/Rajasthan\n",
      "/wiki/Jaipur\n",
      "/wiki/Jodhpur\n",
      "/wiki/Sikkim\n",
      "/wiki/Gangtok\n",
      "#cite_note-21\n",
      "/wiki/Tamil_Nadu\n",
      "/wiki/Chennai\n",
      "#cite_note-22\n",
      "/wiki/Telangana\n",
      "/wiki/Hyderabad\n",
      "#cite_note-23\n",
      "/wiki/Tripura\n",
      "/wiki/Agartala\n",
      "/wiki/Uttar_Pradesh\n",
      "/wiki/Lucknow\n",
      "/wiki/Allahabad\n",
      "/wiki/Uttarakhand\n",
      "/wiki/Dehradun\n",
      "#cite_note-25\n",
      "/wiki/Nainital\n",
      "/wiki/West_Bengal\n",
      "/wiki/Kolkata\n",
      "/w/index.php?title=List_of_state_and_union_territory_capitals_in_India&action=edit&section=2\n",
      "#cite_ref-3\n",
      "/wiki/Andhra_Pradesh_Reorganisation_Act,_2014\n",
      "/wiki/Andhra_Pradesh_Capital_City\n",
      "#cite_ref-5\n",
      "#cite_note-FOOTNOTEBaruah1999xiii-4\n",
      "#cite_ref-7\n",
      "#cite_note-FOOTNOTEMenonBanerjea20025-6\n",
      "#cite_ref-8\n",
      "/wiki/Chhattisgarh\n",
      "/wiki/Naya_Raipur\n",
      "#cite_ref-10\n",
      "/wiki/Portugal\n",
      "#cite_note-FOOTNOTERing1996288-9\n",
      "#cite_ref-15\n",
      "/wiki/Central_Provinces_and_Berar\n",
      "#cite_note-FOOTNOTEBoland-CreweLea2002155-12\n",
      "/wiki/Madhya_Pradesh\n",
      "#cite_note-FOOTNOTEBoland-CreweLea2002155-12\n",
      "#cite_note-FOOTNOTEKum.C4.81ra1998136-13\n",
      "/wiki/Central_Provinces_and_Berar\n",
      "/wiki/Vidarbha\n",
      "/wiki/Madhya_Pradesh\n",
      "/wiki/Bombay_State\n",
      "/wiki/Maharashtra\n",
      "#cite_note-FOOTNOTEKini197434.E2.80.9335-14\n",
      "#cite_ref-16\n",
      "/wiki/Bombay_Presidency\n",
      "/wiki/Bombay_State\n",
      "#cite_ref-17\n",
      "/wiki/Maharashtra\n",
      "#cite_note-FOOTNOTEKini197434.E2.80.9335-14\n",
      "/wiki/Maharashtra\n",
      "#cite_ref-19\n",
      "#cite_note-FOOTNOTEKhandewale198921-18\n",
      "#cite_ref-21\n",
      "#cite_note-FOOTNOTESpate1953200-20\n",
      "#cite_ref-22\n",
      "/wiki/Madras_Presidency\n",
      "#cite_ref-23\n",
      "/wiki/Andhra_Pradesh_Reorganisation_Act,_2014\n",
      "/wiki/Andhra_Pradesh_Capital_City\n",
      "#cite_ref-25\n",
      "/wiki/Uttarakhand\n",
      "/wiki/Gairsain\n",
      "#cite_note-FOOTNOTESatiKumar20049.E2.80.9310-24\n",
      "/w/index.php?title=List_of_state_and_union_territory_capitals_in_India&action=edit&section=3\n",
      "#cite_ref-FOOTNOTELibrary_of_Congress2004_1-0\n",
      "#CITEREFLibrary_of_Congress2004\n",
      "#cite_ref-FOOTNOTESharma200749_2-0\n",
      "#CITEREFSharma2007\n",
      "#cite_ref-FOOTNOTEBaruah1999xiii_4-0\n",
      "#CITEREFBaruah1999\n",
      "#cite_ref-FOOTNOTEMenonBanerjea20025_6-0\n",
      "#CITEREFMenonBanerjea2002\n",
      "#cite_ref-FOOTNOTERing1996288_9-0\n",
      "#CITEREFRing1996\n",
      "#cite_ref-11\n",
      "http://www.hillpost.in/2017/01/dharamshala-declared-second-capital-of-himachal/107991/\n",
      "#cite_ref-FOOTNOTEBoland-CreweLea2002155_12-0\n",
      "#cite_ref-FOOTNOTEBoland-CreweLea2002155_12-1\n",
      "#CITEREFBoland-CreweLea2002\n",
      "#cite_ref-FOOTNOTEKum.C4.81ra1998136_13-0\n",
      "#CITEREFKum.C4.81ra1998\n",
      "#cite_ref-FOOTNOTEKini197434.E2.80.9335_14-0\n",
      "#cite_ref-FOOTNOTEKini197434.E2.80.9335_14-1\n",
      "#CITEREFKini1974\n",
      "#cite_ref-FOOTNOTEKhandewale198921_18-0\n",
      "#CITEREFKhandewale1989\n",
      "#cite_ref-FOOTNOTESpate1953200_20-0\n",
      "#CITEREFSpate1953\n",
      "#cite_ref-FOOTNOTESatiKumar20049.E2.80.9310_24-0\n",
      "#CITEREFSatiKumar2004\n",
      "/w/index.php?title=List_of_state_and_union_territory_capitals_in_India&action=edit&section=4\n",
      "https://books.google.com/books?id=8k-irMMTnywC&pg=PR13\n",
      "/wiki/International_Standard_Book_Number\n",
      "/wiki/Special:BookSources/978-0-8122-3491-6\n",
      "https://books.google.com/books?id=JrNCaYCriicC&pg=PA155\n",
      "/wiki/International_Standard_Book_Number\n",
      "/wiki/Special:BookSources/978-1-85743-148-3\n",
      "http://lcweb2.loc.gov/frd/cs/profiles/India.pdf\n",
      "/wiki/Library_of_Congress_Country_Studies\n",
      "/wiki/Library_of_Congress\n",
      "/wiki/Federal_Research_Division\n",
      "https://books.google.com/books?id=_SDhC12S7q4C&pg=PA21\n",
      "/wiki/International_Standard_Book_Number\n",
      "/wiki/Special:BookSources/978-81-7099-134-2\n",
      "https://books.google.com/books?id=H6DQEoh0EJ8C&pg=PA95\n",
      "/wiki/International_Standard_Book_Number\n",
      "/wiki/Special:BookSources/978-81-7022-553-9\n",
      "https://books.google.com/books?id=46HcFvAv96sC&pg=PA34\n",
      "/wiki/International_Standard_Book_Number\n",
      "/wiki/Special:BookSources/978-0-88386-524-8\n",
      "https://books.google.com/books?id=nKqF_AgDd4gC&pg=PA136\n",
      "/wiki/International_Standard_Book_Number\n",
      "/wiki/Special:BookSources/978-81-7022-691-8\n",
      "https://books.google.com/books?id=sB1AhvY2BSEC\n",
      "/wiki/International_Standard_Book_Number\n",
      "/wiki/Special:BookSources/978-0-7546-5424-7\n",
      "https://books.google.com/books?id=gm_tzXsC12gC\n",
      "/wiki/International_Standard_Book_Number\n",
      "/wiki/Special:BookSources/978-81-7764-518-7\n",
      "http://www.aponline.gov.in/quick%20links/hist-cult/history_post.html\n",
      "https://books.google.com/books?id=vWLRxJEU49EC&pg=PA288\n",
      "/wiki/International_Standard_Book_Number\n",
      "/wiki/Special:BookSources/978-1-884964-04-6\n",
      "https://books.google.com/books?id=ct6YMRvYJQ4C&pg=PA9\n",
      "/wiki/International_Standard_Book_Number\n",
      "/wiki/Special:BookSources/978-81-7099-898-3\n",
      "https://books.google.com/books?id=srDytmFE3KMC\n",
      "/wiki/Prentice_Hall\n",
      "/wiki/International_Standard_Book_Number\n",
      "/wiki/Special:BookSources/978-81-203-3246-1\n",
      "https://books.google.com/books?id=DrgNAAAAQAAJ\n",
      "/w/index.php?title=List_of_state_and_union_territory_capitals_in_India&action=edit&section=5\n",
      "http://www.nic.in/states\n",
      "http://legislativebodiesinindia.nic.in/\n",
      "/wiki/Template:State_and_Union_Territory_capitals_of_India\n",
      "/wiki/Template_talk:State_and_Union_Territory_capitals_of_India\n",
      "//en.wikipedia.org/w/index.php?title=Template:State_and_Union_Territory_capitals_of_India&action=edit\n",
      "/wiki/India\n",
      "/wiki/States_and_territories_of_India\n",
      "/wiki/India\n",
      "/wiki/Agartala\n",
      "/wiki/Aizawl\n",
      "/wiki/Amaravati\n",
      "/wiki/Bangalore\n",
      "/wiki/Bhopal\n",
      "/wiki/Bhubaneswar\n",
      "/wiki/Chandigarh\n",
      "/wiki/Chennai\n",
      "/wiki/Daman,_Daman_and_Diu\n",
      "/wiki/Dehradun\n",
      "/wiki/New_Delhi\n",
      "/wiki/Dispur\n",
      "/wiki/Gandhinagar\n",
      "/wiki/Gangtok\n",
      "/wiki/Hyderabad\n",
      "/wiki/Imphal\n",
      "/wiki/Itanagar\n",
      "/wiki/Jaipur\n",
      "/wiki/Jammu_(city)\n",
      "/wiki/Kavaratti\n",
      "/wiki/Kohima\n",
      "/wiki/Kolkata\n",
      "/wiki/Lucknow\n",
      "/wiki/Mumbai\n",
      "/wiki/Panaji\n",
      "/wiki/Patna\n",
      "/wiki/Pondicherry\n",
      "/wiki/Port_Blair\n",
      "/wiki/Raipur\n",
      "/wiki/Ranchi\n",
      "/wiki/Shillong\n",
      "/wiki/Shimla\n",
      "/wiki/Silvassa\n",
      "/wiki/Srinagar\n",
      "/wiki/Thiruvananthapuram\n",
      "https://en.wikipedia.org/w/index.php?title=List_of_state_and_union_territory_capitals_in_India&oldid=766676291\n",
      "/wiki/Help:Category\n",
      "/wiki/Category:States_and_territories_of_India-related_lists\n",
      "/wiki/Category:Indian_capital_cities\n",
      "/wiki/Category:Lists_of_cities_in_India\n",
      "/wiki/Category:Lists_of_capitals_of_country_subdivisions\n",
      "/wiki/Category:Featured_lists\n",
      "/wiki/Special:MyTalk\n",
      "/wiki/Special:MyContributions\n",
      "/w/index.php?title=Special:CreateAccount&returnto=List+of+state+and+union+territory+capitals+in+India\n",
      "/w/index.php?title=Special:UserLogin&returnto=List+of+state+and+union+territory+capitals+in+India\n",
      "/wiki/List_of_state_and_union_territory_capitals_in_India\n",
      "/wiki/Talk:List_of_state_and_union_territory_capitals_in_India\n",
      "#\n",
      "/wiki/List_of_state_and_union_territory_capitals_in_India\n",
      "/w/index.php?title=List_of_state_and_union_territory_capitals_in_India&action=edit\n",
      "/w/index.php?title=List_of_state_and_union_territory_capitals_in_India&action=history\n",
      "#\n",
      "/wiki/Main_Page\n",
      "/wiki/Main_Page\n",
      "/wiki/Portal:Contents\n",
      "/wiki/Portal:Featured_content\n",
      "/wiki/Portal:Current_events\n",
      "/wiki/Special:Random\n",
      "https://donate.wikimedia.org/wiki/Special:FundraiserRedirector?utm_source=donate&utm_medium=sidebar&utm_campaign=C13_en.wikipedia.org&uselang=en\n",
      "//shop.wikimedia.org\n",
      "/wiki/Help:Contents\n",
      "/wiki/Wikipedia:About\n",
      "/wiki/Wikipedia:Community_portal\n",
      "/wiki/Special:RecentChanges\n",
      "//en.wikipedia.org/wiki/Wikipedia:Contact_us\n",
      "/wiki/Special:WhatLinksHere/List_of_state_and_union_territory_capitals_in_India\n",
      "/wiki/Special:RecentChangesLinked/List_of_state_and_union_territory_capitals_in_India\n",
      "/wiki/Wikipedia:File_Upload_Wizard\n",
      "/wiki/Special:SpecialPages\n",
      "/w/index.php?title=List_of_state_and_union_territory_capitals_in_India&oldid=766676291\n",
      "/w/index.php?title=List_of_state_and_union_territory_capitals_in_India&action=info\n",
      "https://www.wikidata.org/wiki/Q3518799\n",
      "/w/index.php?title=Special:CiteThisPage&page=List_of_state_and_union_territory_capitals_in_India&id=766676291\n",
      "/w/index.php?title=Special:Book&bookcmd=book_creator&referer=List+of+state+and+union+territory+capitals+in+India\n",
      "/w/index.php?title=Special:Book&bookcmd=render_article&arttitle=List+of+state+and+union+territory+capitals+in+India&returnto=List+of+state+and+union+territory+capitals+in+India&oldid=766676291&writer=rdf2latex\n",
      "/w/index.php?title=List_of_state_and_union_territory_capitals_in_India&printable=yes\n",
      "https://as.wikipedia.org/wiki/%E0%A6%AD%E0%A6%BE%E0%A7%B0%E0%A6%A4%E0%A7%B0_%E0%A7%B0%E0%A6%BE%E0%A6%9C%E0%A7%8D%E0%A6%AF_%E0%A6%86%E0%A7%B0%E0%A7%81_%E0%A6%95%E0%A7%87%E0%A6%A8%E0%A7%8D%E0%A6%A6%E0%A7%8D%E0%A7%B0%E0%A7%80%E0%A6%AF%E0%A6%BC%E0%A6%B6%E0%A6%BE%E0%A6%B8%E0%A6%BF%E0%A6%A4_%E0%A6%85%E0%A6%9E%E0%A7%8D%E0%A6%9A%E0%A6%B2%E0%A6%B8%E0%A6%AE%E0%A7%82%E0%A6%B9%E0%A7%B0_%E0%A7%B0%E0%A6%BE%E0%A6%9C%E0%A6%A7%E0%A6%BE%E0%A6%A8%E0%A7%80%E0%A7%B0_%E0%A6%A4%E0%A6%BE%E0%A6%B2%E0%A6%BF%E0%A6%95%E0%A6%BE\n",
      "https://bn.wikipedia.org/wiki/%E0%A6%AD%E0%A6%BE%E0%A6%B0%E0%A6%A4%E0%A7%87%E0%A6%B0_%E0%A6%B0%E0%A6%BE%E0%A6%9C%E0%A7%8D%E0%A6%AF_%E0%A6%93_%E0%A6%95%E0%A7%87%E0%A6%A8%E0%A7%8D%E0%A6%A6%E0%A7%8D%E0%A6%B0%E0%A6%B6%E0%A6%BE%E0%A6%B8%E0%A6%BF%E0%A6%A4_%E0%A6%85%E0%A6%9E%E0%A7%8D%E0%A6%9A%E0%A6%B2%E0%A6%B8%E0%A6%AE%E0%A7%82%E0%A6%B9%E0%A7%87%E0%A6%B0_%E0%A6%B0%E0%A6%BE%E0%A6%9C%E0%A6%A7%E0%A6%BE%E0%A6%A8%E0%A7%80%E0%A6%B0_%E0%A6%A4%E0%A6%BE%E0%A6%B2%E0%A6%BF%E0%A6%95%E0%A6%BE\n",
      "https://hi.wikipedia.org/wiki/%E0%A4%AD%E0%A4%BE%E0%A4%B0%E0%A4%A4_%E0%A4%95%E0%A5%87_%E0%A4%B0%E0%A4%BE%E0%A4%9C%E0%A5%8D%E0%A4%AF%E0%A5%8B%E0%A4%82_%E0%A4%94%E0%A4%B0_%E0%A4%B8%E0%A4%82%E0%A4%98_%E0%A4%95%E0%A5%8D%E0%A4%B7%E0%A5%87%E0%A4%A4%E0%A5%8D%E0%A4%B0%E0%A5%8B%E0%A4%82_%E0%A4%95%E0%A5%80_%E0%A4%B0%E0%A4%BE%E0%A4%9C%E0%A4%A7%E0%A4%BE%E0%A4%A8%E0%A4%BF%E0%A4%AF%E0%A4%BE%E0%A4%81\n",
      "https://id.wikipedia.org/wiki/Daftar_ibu_kota_negara_bagian_dan_wilayah_di_India\n",
      "https://kn.wikipedia.org/wiki/%E0%B2%AD%E0%B2%BE%E0%B2%B0%E0%B2%A4%E0%B2%A6_%E0%B2%B0%E0%B2%BE%E0%B2%9C%E0%B3%8D%E0%B2%AF_%E0%B2%AE%E0%B2%A4%E0%B3%8D%E0%B2%A4%E0%B3%81_%E0%B2%95%E0%B3%87%E0%B2%82%E0%B2%A6%E0%B3%8D%E0%B2%B0%E0%B2%BE%E0%B2%A1%E0%B2%B3%E0%B2%BF%E0%B2%A4_%E0%B2%AA%E0%B3%8D%E0%B2%B0%E0%B2%A6%E0%B3%87%E0%B2%B6%E0%B2%97%E0%B2%B3_%E0%B2%B0%E0%B2%BE%E0%B2%9C%E0%B2%A7%E0%B2%BE%E0%B2%A8%E0%B2%BF%E0%B2%97%E0%B2%B3%E0%B3%81\n",
      "https://ml.wikipedia.org/wiki/%E0%B4%87%E0%B4%A8%E0%B5%8D%E0%B4%A4%E0%B5%8D%E0%B4%AF%E0%B4%AF%E0%B4%BF%E0%B4%B2%E0%B5%86_%E0%B4%B8%E0%B4%82%E0%B4%B8%E0%B5%8D%E0%B4%A5%E0%B4%BE%E0%B4%A8%E0%B4%99%E0%B5%8D%E0%B4%99%E0%B4%B3%E0%B5%81%E0%B4%9F%E0%B5%86%E0%B4%AF%E0%B5%81%E0%B4%82_%E0%B4%95%E0%B5%87%E0%B4%A8%E0%B5%8D%E0%B4%A6%E0%B5%8D%E0%B4%B0%E0%B4%AD%E0%B4%B0%E0%B4%A3%E0%B4%AA%E0%B5%8D%E0%B4%B0%E0%B4%A6%E0%B5%87%E0%B4%B6%E0%B4%99%E0%B5%8D%E0%B4%99%E0%B4%B3%E0%B5%81%E0%B4%9F%E0%B5%86%E0%B4%AF%E0%B5%81%E0%B4%82_%E0%B4%A4%E0%B4%B2%E0%B4%B8%E0%B5%8D%E0%B4%A5%E0%B4%BE%E0%B4%A8%E0%B4%99%E0%B5%8D%E0%B4%99%E0%B4%B3%E0%B5%81%E0%B4%9F%E0%B5%86_%E0%B4%AA%E0%B4%9F%E0%B5%8D%E0%B4%9F%E0%B4%BF%E0%B4%95\n",
      "https://mr.wikipedia.org/wiki/%E0%A4%AD%E0%A4%BE%E0%A4%B0%E0%A4%A4%E0%A4%BE%E0%A4%9A%E0%A5%8D%E0%A4%AF%E0%A4%BE_%E0%A4%B0%E0%A4%BE%E0%A4%9C%E0%A5%8D%E0%A4%AF%E0%A5%87_%E0%A4%86%E0%A4%A3%E0%A4%BF_%E0%A4%AA%E0%A5%8D%E0%A4%B0%E0%A4%A6%E0%A5%87%E0%A4%B6%E0%A4%BE%E0%A4%82%E0%A4%9A%E0%A5%8D%E0%A4%AF%E0%A4%BE_%E0%A4%B0%E0%A4%BE%E0%A4%9C%E0%A4%A7%E0%A4%BE%E0%A4%A8%E0%A5%80%E0%A4%9A%E0%A5%80_%E0%A4%B6%E0%A4%B9%E0%A4%B0%E0%A5%87\n",
      "https://ne.wikipedia.org/wiki/%E0%A4%AD%E0%A4%BE%E0%A4%B0%E0%A4%A4%E0%A4%95%E0%A4%BE_%E0%A4%AA%E0%A5%8D%E0%A4%B0%E0%A4%BE%E0%A4%A8%E0%A5%8D%E0%A4%A4_%E0%A4%A4%E0%A4%A5%E0%A4%BE_%E0%A4%B0%E0%A4%BE%E0%A4%9C%E0%A4%A7%E0%A4%BE%E0%A4%A8%E0%A5%80%E0%A4%B9%E0%A4%B0%E0%A5%81\n",
      "https://or.wikipedia.org/wiki/%E0%AC%AD%E0%AC%BE%E0%AC%B0%E0%AC%A4%E0%AC%B0_%E0%AC%B0%E0%AC%BE%E0%AC%9C%E0%AD%8D%E0%AD%9F_%E0%AC%93_%E0%AC%95%E0%AD%87%E0%AC%A8%E0%AD%8D%E0%AC%A6%E0%AD%8D%E0%AC%B0%E0%AC%B6%E0%AC%BE%E0%AC%B8%E0%AC%BF%E0%AC%A4_%E0%AC%85%E0%AC%9E%E0%AD%8D%E0%AC%9A%E0%AC%B3%E0%AC%AE%E0%AC%BE%E0%AC%A8%E0%AC%99%E0%AD%8D%E0%AC%95_%E0%AC%B0%E0%AC%BE%E0%AC%9C%E0%AC%A7%E0%AC%BE%E0%AC%A8%E0%AD%80_%E0%AC%A4%E0%AC%BE%E0%AC%B2%E0%AC%BF%E0%AC%95%E0%AC%BE\n",
      "https://pa.wikipedia.org/wiki/%E0%A8%AD%E0%A8%BE%E0%A8%B0%E0%A8%A4_%E0%A8%A6%E0%A9%87_%E0%A8%B0%E0%A8%BE%E0%A8%9C%E0%A8%BE%E0%A8%82_%E0%A8%85%E0%A8%A4%E0%A9%87_%E0%A8%95%E0%A9%87%E0%A8%82%E0%A8%A6%E0%A8%B0%E0%A9%80_%E0%A8%B8%E0%A8%BC%E0%A8%BE%E0%A8%B8%E0%A8%BC%E0%A8%A4_%E0%A8%AA%E0%A9%8D%E0%A8%B0%E0%A8%A6%E0%A9%87%E0%A8%B8%E0%A8%BE%E0%A8%82_%E0%A8%A6%E0%A9%80_%E0%A8%B8%E0%A9%82%E0%A8%9A%E0%A9%80\n",
      "https://pnb.wikipedia.org/wiki/%D9%84%D8%B3%D9%B9_%D8%A8%DA%BE%D8%A7%D8%B1%D8%AA_%D8%AF%DB%8C%D8%A7%DA%BA_%D8%B1%DB%8C%D8%A7%D8%B3%D8%AA%D8%A7%DA%BA_%D8%AA%DB%92_%D8%B9%D9%84%D8%A7%D9%82%DB%92_%D8%A8%D9%84%D8%AD%D8%A7%D8%B8_%D8%AF%D8%A7%D8%B1%D8%A7%D9%84%D8%AD%DA%A9%D9%88%D9%85%D8%AA\n",
      "https://pt.wikipedia.org/wiki/Lista_das_capitais_dos_estados_e_territ%C3%B3rios_da_uni%C3%A3o_da_%C3%8Dndia\n",
      "https://sr.wikipedia.org/wiki/%D0%94%D1%80%D0%B6%D0%B0%D0%B2%D0%B5_%D0%B8_%D1%82%D0%B5%D1%80%D0%B8%D1%82%D0%BE%D1%80%D0%B8%D1%98%D0%B5_%D0%98%D0%BD%D0%B4%D0%B8%D1%98%D0%B5\n",
      "https://sh.wikipedia.org/wiki/Dr%C5%BEave_i_teritorije_Indije\n",
      "https://sv.wikipedia.org/wiki/Lista_%C3%B6ver_huvudst%C3%A4der_i_Indien\n",
      "https://ta.wikipedia.org/wiki/%E0%AE%87%E0%AE%A8%E0%AF%8D%E0%AE%A4%E0%AE%BF%E0%AE%AF_%E0%AE%AE%E0%AE%BE%E0%AE%A8%E0%AE%BF%E0%AE%B2%E0%AE%99%E0%AF%8D%E0%AE%95%E0%AE%B3%E0%AE%BF%E0%AE%A9%E0%AF%8D_%E0%AE%A4%E0%AE%B2%E0%AF%88%E0%AE%A8%E0%AE%95%E0%AE%B0%E0%AE%99%E0%AF%8D%E0%AE%95%E0%AE%B3%E0%AF%81%E0%AE%AE%E0%AF%8D_%E0%AE%92%E0%AE%A9%E0%AF%8D%E0%AE%B1%E0%AE%BF%E0%AE%AF%E0%AE%AA%E0%AF%8D_%E0%AE%AA%E0%AE%95%E0%AF%81%E0%AE%A4%E0%AE%BF%E0%AE%95%E0%AE%B3%E0%AE%BF%E0%AE%A9%E0%AF%8D_%E0%AE%A4%E0%AE%B2%E0%AF%88%E0%AE%A8%E0%AE%95%E0%AE%B0%E0%AE%99%E0%AF%8D%E0%AE%95%E0%AE%B3%E0%AF%81%E0%AE%AE%E0%AF%8D\n",
      "https://te.wikipedia.org/wiki/%E0%B0%AD%E0%B0%BE%E0%B0%B0%E0%B0%A4_%E0%B0%A6%E0%B1%87%E0%B0%B6_%E0%B0%B0%E0%B0%BE%E0%B0%B7%E0%B1%8D%E0%B0%9F%E0%B1%8D%E0%B0%B0,_%E0%B0%95%E0%B1%87%E0%B0%82%E0%B0%A6%E0%B1%8D%E0%B0%B0_%E0%B0%AA%E0%B0%BE%E0%B0%B2%E0%B0%BF%E0%B0%A4_%E0%B0%AA%E0%B1%8D%E0%B0%B0%E0%B0%BE%E0%B0%82%E0%B0%A4%E0%B0%BE%E0%B0%B2_%E0%B0%B0%E0%B0%BE%E0%B0%9C%E0%B0%A7%E0%B0%BE%E0%B0%A8%E0%B1%81%E0%B0%B2%E0%B1%81\n",
      "https://ur.wikipedia.org/wiki/%D9%81%DB%81%D8%B1%D8%B3%D8%AA_%D8%A8%DA%BE%D8%A7%D8%B1%D8%AA%DB%8C_%D8%B1%DB%8C%D8%A7%D8%B3%D8%AA%DB%8C%DA%BA_%D8%A7%D9%88%D8%B1_%D8%B9%D9%84%D8%A7%D9%82%DB%81_%D8%AC%D8%A7%D8%AA_%D8%A8%D9%84%D8%AD%D8%A7%D8%B8_%D8%AF%D8%A7%D8%B1%D8%A7%D9%84%D8%AD%DA%A9%D9%88%D9%85%D8%AA\n",
      "https://zh.wikipedia.org/wiki/%E5%8D%B0%E5%BA%A6%E5%90%84%E9%82%A6%E5%92%8C%E4%B8%AD%E5%A4%AE%E7%9B%B4%E8%BE%96%E5%8C%BA%E9%A6%96%E5%BA%9C%E5%88%97%E8%A1%A8\n",
      "https://www.wikidata.org/wiki/Q3518799#sitelinks-wikipedia\n",
      "//en.wikipedia.org/wiki/Wikipedia:Text_of_Creative_Commons_Attribution-ShareAlike_3.0_Unported_License\n",
      "//creativecommons.org/licenses/by-sa/3.0/\n",
      "//wikimediafoundation.org/wiki/Terms_of_Use\n",
      "//wikimediafoundation.org/wiki/Privacy_policy\n",
      "//www.wikimediafoundation.org/\n",
      "https://wikimediafoundation.org/wiki/Privacy_policy\n",
      "/wiki/Wikipedia:About\n",
      "/wiki/Wikipedia:General_disclaimer\n",
      "//en.wikipedia.org/wiki/Wikipedia:Contact_us\n",
      "https://www.mediawiki.org/wiki/Special:MyLanguage/How_to_contribute\n",
      "https://wikimediafoundation.org/wiki/Cookie_statement\n",
      "//en.m.wikipedia.org/w/index.php?title=List_of_state_and_union_territory_capitals_in_India&mobileaction=toggle_view_mobile\n",
      "https://wikimediafoundation.org/\n",
      "//www.mediawiki.org/\n"
     ]
    }
   ],
   "source": [
    "links=soup.find_all('a')\n",
    "for j in links:\n",
    "    print j.get('href')"
   ]
  },
  {
   "cell_type": "code",
   "execution_count": 43,
   "metadata": {
    "collapsed": false
   },
   "outputs": [
    {
     "name": "stdout",
     "output_type": "stream",
     "text": [
      "[<table class=\"vertical-navbox nowraplinks\" style=\"float:right;clear:right;width:22.0em;margin:0 0 1.0em 1.0em;background:#f9f9f9;border:1px solid #aaa;padding:0.2em;border-spacing:0.4em 0;text-align:center;line-height:1.4em;font-size:88%\">\\n<tr>\\n<th style=\"padding:0.2em 0.4em 0.2em;font-size:145%;line-height:1.2em\"><a href=\"/wiki/States_and_union_territories_of_India\" title=\"States and union territories of India\">States and union<br/>\\nterritories of India</a><br/>\\nordered by</th>\\n</tr>\\n<tr>\\n<td style=\"padding:0.2em 0 0.4em\">\\n<div class=\"center\">\\n<div class=\"floatnone\"><a class=\"image\" href=\"/wiki/File:Flag_of_India.svg\"><img alt=\"Flag of India.svg\" data-file-height=\"900\" data-file-width=\"1350\" height=\"47\" src=\"//upload.wikimedia.org/wikipedia/en/thumb/4/41/Flag_of_India.svg/70px-Flag_of_India.svg.png\" srcset=\"//upload.wikimedia.org/wikipedia/en/thumb/4/41/Flag_of_India.svg/105px-Flag_of_India.svg.png 1.5x, //upload.wikimedia.org/wikipedia/en/thumb/4/41/Flag_of_India.svg/140px-Flag_of_India.svg.png 2x\" width=\"70\"/></a></div>\\n</div>\\n</td>\\n</tr>\\n<tr>\\n<td class=\"hlist\" style=\"padding:0 0.1em 0.4em\">\\n<ul>\\n<li><a class=\"mw-redirect\" href=\"/wiki/List_of_states_and_territories_of_India_by_area\" title=\"List of states and territories of India by area\">Area</a></li>\\n<li><a href=\"/wiki/List_of_states_and_union_territories_of_India_by_population\" title=\"List of states and union territories of India by population\">Population</a></li>\\n</ul>\\n<hr/>\\n<ul>\\n<li><a href=\"/wiki/ISO_3166-2:IN\" title=\"ISO 3166-2:IN\">Abbreviations</a></li>\\n<li><strong class=\"selflink\">Capitals</strong></li>\\n<li><a href=\"/wiki/List_of_Indian_states_by_Child_Nutrition\" title=\"List of Indian states by Child Nutrition\">Child Nutrition</a></li>\\n<li><a href=\"/wiki/Indian_states_and_territories_ranking_by_crime_rate\" title=\"Indian states and territories ranking by crime rate\">Crime rate</a></li>\\n<li><a href=\"/wiki/Indian_states_ranked_by_economic_freedom\" title=\"Indian states ranked by economic freedom\">Economic Freedom</a></li>\\n<li><a href=\"/wiki/Indian_states_ranking_by_households_having_electricity\" title=\"Indian states ranking by households having electricity\">Electricity penetration</a></li>\\n<li><a href=\"/wiki/Indian_states_ranking_by_fertility_rate\" title=\"Indian states ranking by fertility rate\">Fertility rate</a></li>\\n<li><a href=\"/wiki/Forest_cover_by_state_in_India\" title=\"Forest cover by state in India\">Forest cover</a></li>\\n<li><a href=\"/wiki/List_of_Indian_states_and_union_territories_by_GDP\" title=\"List of Indian states and union territories by GDP\">GDP</a> (<a class=\"mw-redirect\" href=\"/wiki/List_of_Indian_states_by_GDP_per_capita\" title=\"List of Indian states by GDP per capita\">per capita</a>)</li>\\n<li><a href=\"/wiki/List_of_Indian_states_and_territories_by_highest_point\" title=\"List of Indian states and territories by highest point\">Highest point</a></li>\\n<li><a href=\"/wiki/Indian_states_ranked_by_HIV_awareness\" title=\"Indian states ranked by HIV awareness\">HIV awareness</a></li>\\n<li><a href=\"/wiki/List_of_Indian_states_and_territories_by_Human_Development_Index\" title=\"List of Indian states and territories by Human Development Index\">HDI</a></li>\\n<li><a href=\"/wiki/Indian_states_ranking_by_families_owning_house\" title=\"Indian states ranking by families owning house\">Home ownership</a></li>\\n<li><a href=\"/wiki/Indian_states_ranking_by_household_size\" title=\"Indian states ranking by household size\">Household size</a></li>\\n<li><a href=\"/wiki/Indian_states_and_territories_ranked_by_incidents_of_human_trafficking\" title=\"Indian states and territories ranked by incidents of human trafficking\">Human Trafficking</a></li>\\n<li><a href=\"/wiki/Indian_states_ranking_by_institutional_delivery\" title=\"Indian states ranking by institutional delivery\">Institutional delivery</a></li>\\n<li><a href=\"/wiki/List_of_Indian_states_by_life_expectancy_at_birth\" title=\"List of Indian states by life expectancy at birth\">Life expectancy at birth</a></li>\\n<li><a href=\"/wiki/Indian_states_ranking_by_literacy_rate\" title=\"Indian states ranking by literacy rate\">Literacy rate</a></li>\\n<li><a href=\"/wiki/Indian_states_ranking_by_media_exposure\" title=\"Indian states ranking by media exposure\">Media exposure</a></li>\\n<li><a href=\"/wiki/Indian_states_ranked_by_number_of_vehicles\" title=\"Indian states ranked by number of vehicles\">Number of Vehicles</a></li>\\n<li><a href=\"/wiki/List_of_states_and_union_territories_of_India_by_voters\" title=\"List of states and union territories of India by voters\">Number of voters</a></li>\\n<li><a href=\"/wiki/Indian_states_and_union_territories_ranked_by_prevalence_of_open_defecation\" title=\"Indian states and union territories ranked by prevalence of open defecation\">Open defecation</a></li>\\n<li><a href=\"/wiki/List_of_Indian_state_and_union_territory_name_etymologies\" title=\"List of Indian state and union territory name etymologies\">Origin of name</a></li>\\n<li><a href=\"/wiki/List_of_states_and_territories_of_India_by_number_of_places_of_worship\" title=\"List of states and territories of India by number of places of worship\">Places of worship</a></li>\\n<li><a href=\"/wiki/Indian_states_and_territories_ranked_by_poverty\" title=\"Indian states and territories ranked by poverty\">Poverty</a></li>\\n<li><a href=\"/wiki/States_of_India_by_installed_power_capacity\" title=\"States of India by installed power capacity\">Power capacity</a></li>\\n<li><a href=\"/wiki/Indian_states_and_union_territories_ranked_by_riots_rate\" title=\"Indian states and union territories ranked by riots rate\">Riots rate</a></li>\\n<li><a href=\"/wiki/Indian_states_ranking_by_drinking_water\" title=\"Indian states ranking by drinking water\">Safe Drinking Water</a></li>\\n<li><a href=\"/wiki/Indian_states_and_territories_ranked_by_safety_of_women\" title=\"Indian states and territories ranked by safety of women\">Safety of Women</a></li>\\n<li><a href=\"/wiki/Indian_states_ranked_by_school_enrollment_rate\" title=\"Indian states ranked by school enrollment rate\">School Enrollment Rate</a></li>\\n<li><a href=\"/wiki/Indian_states_and_territories_ranking_by_sex_ratio\" title=\"Indian states and territories ranking by sex ratio\">Sex ratio</a></li>\\n<li><a href=\"/wiki/Indian_states_ranked_by_suicide\" title=\"Indian states ranked by suicide\">Suicides</a></li>\\n<li><a href=\"/wiki/States_of_India_by_tax_revenues\" title=\"States of India by tax revenues\">Tax revenues</a></li>\\n<li><a href=\"/wiki/Indian_states_ranking_by_television_ownership\" title=\"Indian states ranking by television ownership\">TV ownership</a></li>\\n<li><a href=\"/wiki/Indian_states_and_union_territories_ranked_by_availability_of_toilets\" title=\"Indian states and union territories ranked by availability of toilets\">Toilet availability</a></li>\\n<li><a href=\"/wiki/Indian_states_by_transport_network\" title=\"Indian states by transport network\">Transport network</a></li>\\n<li><a href=\"/wiki/Indian_states_ranking_by_underweight_people\" title=\"Indian states ranking by underweight people\">Underweight people</a></li>\\n<li><a href=\"/wiki/Indian_states_ranked_by_unemployment\" title=\"Indian states ranked by unemployment\">Unemployment</a></li>\\n<li><a href=\"/wiki/Indian_states_ranking_by_vaccination_coverage\" title=\"Indian states ranking by vaccination coverage\">Vaccination coverage</a></li>\\n</ul>\\n</td>\\n</tr>\\n<tr>\\n<td style=\"text-align:right;font-size:115%\">\\n<div class=\"plainlinks hlist navbar mini\">\\n<ul>\\n<li class=\"nv-view\"><a href=\"/wiki/Template:Lists_of_states_and_territories_of_India\" title=\"Template:Lists of states and territories of India\"><abbr title=\"View this template\">v</abbr></a></li>\\n<li class=\"nv-talk\"><a href=\"/wiki/Template_talk:Lists_of_states_and_territories_of_India\" title=\"Template talk:Lists of states and territories of India\"><abbr title=\"Discuss this template\">t</abbr></a></li>\\n<li class=\"nv-edit\"><a class=\"external text\" href=\"//en.wikipedia.org/w/index.php?title=Template:Lists_of_states_and_territories_of_India&amp;action=edit\"><abbr title=\"Edit this template\">e</abbr></a></li>\\n</ul>\\n</div>\\n</td>\\n</tr>\\n</table>, <table class=\"wikitable sortable plainrowheaders\">\\n<tr>\\n<th scope=\"col\">No.</th>\\n<th scope=\"col\">State or<br/>\\nunion territory</th>\\n<th scope=\"col\">Administrative capitals</th>\\n<th scope=\"col\">Legislative capitals</th>\\n<th scope=\"col\">Judiciary capitals</th>\\n<th scope=\"col\">Year capital was established</th>\\n<th scope=\"col\">The Former capital</th>\\n</tr>\\n<tr>\\n<td>1</td>\\n<th scope=\"row\"><a href=\"/wiki/Andaman_and_Nicobar_Islands\" title=\"Andaman and Nicobar Islands\">Andaman and Nicobar Islands</a> <img alt=\"union territory\" data-file-height=\"14\" data-file-width=\"9\" height=\"14\" src=\"//upload.wikimedia.org/wikipedia/commons/3/37/Dagger-14-plain.png\" width=\"9\"/></th>\\n<td><b><a href=\"/wiki/Port_Blair\" title=\"Port Blair\">Port Blair</a></b></td>\\n<td>Port Blair</td>\\n<td><a href=\"/wiki/Kolkata\" title=\"Kolkata\">Kolkata</a></td>\\n<td>1955</td>\\n<td>Calcutta (1945\\u20131956)</td>\\n</tr>\\n<tr>\\n<td>2</td>\\n<th scope=\"row\"><a href=\"/wiki/Andhra_Pradesh\" title=\"Andhra Pradesh\">Andhra Pradesh</a></th>\\n<td><b><a href=\"/wiki/Hyderabad\" title=\"Hyderabad\">Hyderabad</a></b><sup class=\"reference\" id=\"cite_ref-3\"><a href=\"#cite_note-3\">[a]</a></sup></td>\\n<td>Hyderabad</td>\\n<td><a href=\"/wiki/High_Court_of_Judicature_at_Hyderabad\" title=\"High Court of Judicature at Hyderabad\">Hyderabad</a></td>\\n<td>1959</td>\\n<td><a href=\"/wiki/Kurnool\" title=\"Kurnool\">Kurnool</a> (1953-1956)</td>\\n</tr>\\n<tr>\\n<td>3</td>\\n<th scope=\"row\"><a href=\"/wiki/Arunachal_Pradesh\" title=\"Arunachal Pradesh\">Arunachal Pradesh</a></th>\\n<td><b><a href=\"/wiki/Itanagar\" title=\"Itanagar\">Itanagar</a></b></td>\\n<td>Itanagar</td>\\n<td><a href=\"/wiki/Guwahati\" title=\"Guwahati\">Guwahati</a></td>\\n<td>1986</td>\\n<td></td>\\n</tr>\\n<tr>\\n<td>4</td>\\n<th scope=\"row\"><a href=\"/wiki/Assam\" title=\"Assam\">Assam</a></th>\\n<td><b><a href=\"/wiki/Dispur\" title=\"Dispur\">Dispur</a></b></td>\\n<td><a href=\"/wiki/Guwahati\" title=\"Guwahati\">Guwahati</a></td>\\n<td>Guwahati</td>\\n<td>1975</td>\\n<td><a href=\"/wiki/Shillong\" title=\"Shillong\">Shillong</a><sup class=\"reference\" id=\"cite_ref-5\"><a href=\"#cite_note-5\">[b]</a></sup> (1874\\u20131972)</td>\\n</tr>\\n<tr>\\n<td>5</td>\\n<th scope=\"row\"><a href=\"/wiki/Bihar\" title=\"Bihar\">Bihar</a></th>\\n<td><b><a href=\"/wiki/Patna\" title=\"Patna\">Patna</a></b></td>\\n<td>Patna</td>\\n<td>Patna</td>\\n<td>1912</td>\\n<td></td>\\n</tr>\\n<tr>\\n<td>6</td>\\n<th scope=\"row\"><a href=\"/wiki/Chandigarh\" title=\"Chandigarh\">Chandigarh</a> <img alt=\"union territory\" data-file-height=\"14\" data-file-width=\"9\" height=\"14\" src=\"//upload.wikimedia.org/wikipedia/commons/3/37/Dagger-14-plain.png\" width=\"9\"/></th>\\n<td><b><a href=\"/wiki/Chandigarh\" title=\"Chandigarh\">Chandigarh</a></b><sup class=\"reference\" id=\"cite_ref-7\"><a href=\"#cite_note-7\">[c]</a></sup></td>\\n<td>\\xa0\\u2014</td>\\n<td>Chandigarh</td>\\n<td>1966</td>\\n<td>\\xa0\\u2014</td>\\n</tr>\\n<tr>\\n<td>7</td>\\n<th scope=\"row\"><a href=\"/wiki/Chhattisgarh\" title=\"Chhattisgarh\">Chhattisgarh</a></th>\\n<td><b><a href=\"/wiki/Naya_Raipur\" title=\"Naya Raipur\">Naya Raipur</a></b><sup class=\"reference\" id=\"cite_ref-8\"><a href=\"#cite_note-8\">[d]</a></sup></td>\\n<td>Raipur</td>\\n<td><a href=\"/wiki/Bilaspur,_Chhattisgarh\" title=\"Bilaspur, Chhattisgarh\">Bilaspur</a></td>\\n<td>2000</td>\\n<td>\\xa0\\u2014</td>\\n</tr>\\n<tr>\\n<td>8</td>\\n<th scope=\"row\"><a href=\"/wiki/Dadra_and_Nagar_Haveli\" title=\"Dadra and Nagar Haveli\">Dadra and Nagar Haveli</a> <img alt=\"union territory\" data-file-height=\"14\" data-file-width=\"9\" height=\"14\" src=\"//upload.wikimedia.org/wikipedia/commons/3/37/Dagger-14-plain.png\" width=\"9\"/></th>\\n<td><b><a href=\"/wiki/Silvassa\" title=\"Silvassa\">Silvassa</a></b></td>\\n<td>\\xa0\\u2014</td>\\n<td><a href=\"/wiki/Mumbai\" title=\"Mumbai\">Mumbai</a></td>\\n<td>1945</td>\\n<td>Mumbai (1954\\u20131961)<br/>\\n<a href=\"/wiki/Panaji\" title=\"Panaji\">Panaji</a> (1961\\u20131987)</td>\\n</tr>\\n<tr>\\n<td>9</td>\\n<th scope=\"row\"><a href=\"/wiki/Daman_and_Diu\" title=\"Daman and Diu\">Daman and Diu</a> <img alt=\"union territory\" data-file-height=\"14\" data-file-width=\"9\" height=\"14\" src=\"//upload.wikimedia.org/wikipedia/commons/3/37/Dagger-14-plain.png\" width=\"9\"/></th>\\n<td><b><a href=\"/wiki/Daman,_Daman_and_Diu\" title=\"Daman, Daman and Diu\">Daman</a></b></td>\\n<td>\\xa0\\u2014</td>\\n<td><a href=\"/wiki/Mumbai\" title=\"Mumbai\">Mumbai</a></td>\\n<td>1987</td>\\n<td><a href=\"/wiki/Ahmedabad\" title=\"Ahmedabad\">Ahmedabad</a> (1961\\u20131963)<br/>\\n<a href=\"/wiki/Panaji\" title=\"Panaji\">Panaji</a> (1963\\u20131987)</td>\\n</tr>\\n<tr>\\n<td>10</td>\\n<th scope=\"row\"><a class=\"mw-redirect\" href=\"/wiki/Delhi_NCT\" title=\"Delhi NCT\">National Capital Territory of Delhi</a> <img alt=\"union territory\" data-file-height=\"14\" data-file-width=\"9\" height=\"14\" src=\"//upload.wikimedia.org/wikipedia/commons/3/37/Dagger-14-plain.png\" width=\"9\"/></th>\\n<td><b><a href=\"/wiki/New_Delhi\" title=\"New Delhi\">New Delhi</a></b></td>\\n<td>New Delhi</td>\\n<td>New Delhi</td>\\n<td>1931</td>\\n<td>\\xa0\\u2014</td>\\n</tr>\\n<tr>\\n<td>11</td>\\n<th scope=\"row\"><a href=\"/wiki/Goa\" title=\"Goa\">Goa</a></th>\\n<td><b><a href=\"/wiki/Panaji\" title=\"Panaji\">Panaji</a></b><sup class=\"reference\" id=\"cite_ref-10\"><a href=\"#cite_note-10\">[e]</a></sup></td>\\n<td><a href=\"/wiki/Porvorim\" title=\"Porvorim\">Porvorim</a></td>\\n<td><a href=\"/wiki/Mumbai\" title=\"Mumbai\">Mumbai</a></td>\\n<td>1961</td>\\n<td>Panaji (1961\\u20131987)</td>\\n</tr>\\n<tr>\\n<td>12</td>\\n<th scope=\"row\"><a href=\"/wiki/Gujarat\" title=\"Gujarat\">Gujarat</a></th>\\n<td><b><a href=\"/wiki/Gandhinagar\" title=\"Gandhinagar\">Gandhinagar</a></b></td>\\n<td>Gandhinagar</td>\\n<td><a href=\"/wiki/Ahmedabad\" title=\"Ahmedabad\">Ahmedabad</a></td>\\n<td>1960</td>\\n<td><a href=\"/wiki/Ahmedabad\" title=\"Ahmedabad\">Ahmedabad</a> (1960\\u20131970)</td>\\n</tr>\\n<tr>\\n<td>13</td>\\n<th scope=\"row\"><a href=\"/wiki/Haryana\" title=\"Haryana\">Haryana</a></th>\\n<td><b><a href=\"/wiki/Chandigarh\" title=\"Chandigarh\">Chandigarh</a></b></td>\\n<td>Chandigarh</td>\\n<td>Chandigarh</td>\\n<td>1966</td>\\n<td>\\xa0\\u2014</td>\\n</tr>\\n<tr>\\n<td>14</td>\\n<th scope=\"row\"><a href=\"/wiki/Himachal_Pradesh\" title=\"Himachal Pradesh\">Himachal Pradesh</a></th>\\n<td><b><a href=\"/wiki/Shimla\" title=\"Shimla\">Shimla</a></b>\\xa0(Summer)\\n<p><a href=\"/wiki/Dharamsala\" title=\"Dharamsala\"><b>Dharamshala</b></a> (Winter)<sup class=\"reference\" id=\"cite_ref-11\"><a href=\"#cite_note-11\">[6]</a></sup></p>\\n</td>\\n<td>Shimla\\xa0(Summer)\\n<p>Dharamsala(Winter)</p>\\n</td>\\n<td>Shimla\\xa0</td>\\n<td>1971\\n<p>2017</p>\\n</td>\\n<td><a href=\"/wiki/Bilaspur,_Himachal_Pradesh\" title=\"Bilaspur, Himachal Pradesh\">Bilaspur</a> (1950\\u20131956)</td>\\n</tr>\\n<tr>\\n<td>15</td>\\n<th scope=\"row\"><a href=\"/wiki/Jammu_and_Kashmir\" title=\"Jammu and Kashmir\">Jammu and Kashmir</a></th>\\n<td><b><a href=\"/wiki/Srinagar\" title=\"Srinagar\">Srinagar</a></b>\\xa0(Summer)<br/>\\n<b><a href=\"/wiki/Jammu\" title=\"Jammu\">Jammu</a></b>\\xa0(Winter)</td>\\n<td>Srinagar\\xa0(Summer)<br/>\\nJammu\\xa0(Winter)</td>\\n<td>Srinagar\\xa0(Summer)<br/>\\nJammu\\xa0(Winter)</td>\\n<td>1947</td>\\n<td>\\xa0\\u2014</td>\\n</tr>\\n<tr>\\n<td>16</td>\\n<th scope=\"row\"><a href=\"/wiki/Jharkhand\" title=\"Jharkhand\">Jharkhand</a></th>\\n<td><b><a href=\"/wiki/Ranchi\" title=\"Ranchi\">Ranchi</a></b></td>\\n<td>Ranchi</td>\\n<td>Ranchi</td>\\n<td>2000</td>\\n<td></td>\\n</tr>\\n<tr>\\n<td>17</td>\\n<th scope=\"row\"><a href=\"/wiki/Karnataka\" title=\"Karnataka\">Karnataka</a></th>\\n<td><b><a class=\"mw-redirect\" href=\"/wiki/Bengaluru\" title=\"Bengaluru\">Bengaluru</a></b></td>\\n<td>Bengaluru</td>\\n<td>Bengaluru</td>\\n<td>1940</td>\\n<td>(Mysore)</td>\\n</tr>\\n<tr>\\n<td>18</td>\\n<th scope=\"row\"><a href=\"/wiki/Kerala\" title=\"Kerala\">Kerala</a></th>\\n<td><b><a href=\"/wiki/Thiruvananthapuram\" title=\"Thiruvananthapuram\">Thiruvananthapuram</a></b></td>\\n<td>Thiruvananthapuram</td>\\n<td><a href=\"/wiki/Kochi\" title=\"Kochi\">Kochi</a></td>\\n<td>1956</td>\\n<td></td>\\n</tr>\\n<tr>\\n<td>19</td>\\n<th scope=\"row\"><a href=\"/wiki/Lakshadweep\" title=\"Lakshadweep\">Lakshadweep</a> <img alt=\"union territory\" data-file-height=\"14\" data-file-width=\"9\" height=\"14\" src=\"//upload.wikimedia.org/wikipedia/commons/3/37/Dagger-14-plain.png\" width=\"9\"/></th>\\n<td><b><a href=\"/wiki/Kavaratti\" title=\"Kavaratti\">Kavaratti</a></b></td>\\n<td>Kavaratti</td>\\n<td><a href=\"/wiki/Kochi\" title=\"Kochi\">Kochi</a></td>\\n<td>1956</td>\\n<td></td>\\n</tr>\\n<tr>\\n<td>20</td>\\n<th scope=\"row\"><a href=\"/wiki/Madhya_Pradesh\" title=\"Madhya Pradesh\">Madhya Pradesh</a></th>\\n<td><b><a href=\"/wiki/Bhopal\" title=\"Bhopal\">Bhopal</a></b></td>\\n<td>Bhopal</td>\\n<td><a href=\"/wiki/Jabalpur\" title=\"Jabalpur\">Jabalpur</a></td>\\n<td>1956</td>\\n<td><a href=\"/wiki/Nagpur\" title=\"Nagpur\">Nagpur</a><sup class=\"reference\" id=\"cite_ref-15\"><a href=\"#cite_note-15\">[f]</a></sup> (1861\\u20131956)</td>\\n</tr>\\n<tr>\\n<td>21</td>\\n<th scope=\"row\"><a href=\"/wiki/Maharashtra\" title=\"Maharashtra\">Maharashtra</a></th>\\n<td><b><a href=\"/wiki/Mumbai\" title=\"Mumbai\">Mumbai</a></b><sup class=\"reference\" id=\"cite_ref-16\"><a href=\"#cite_note-16\">[g]</a></sup><br/>\\n<b><a href=\"/wiki/Nagpur\" title=\"Nagpur\">Nagpur</a></b>\\xa0(W/2nd)<sup class=\"reference\" id=\"cite_ref-17\"><a href=\"#cite_note-17\">[h]</a></sup></td>\\n<td>Mumbai\\xa0(S+B)<br/>\\nNagpur\\xa0(W)<sup class=\"reference\" id=\"cite_ref-19\"><a href=\"#cite_note-19\">[i]</a></sup></td>\\n<td>Mumbai</td>\\n<td>1818<br/>\\n1960</td>\\n<td>\\xa0\\u2014</td>\\n</tr>\\n<tr>\\n<td>22</td>\\n<th scope=\"row\"><a href=\"/wiki/Manipur\" title=\"Manipur\">Manipur</a></th>\\n<td><b><a href=\"/wiki/Imphal\" title=\"Imphal\">Imphal</a></b></td>\\n<td>Imphal</td>\\n<td>Imphal</td>\\n<td>1947</td>\\n<td>\\xa0\\u2014</td>\\n</tr>\\n<tr>\\n<td>23</td>\\n<th scope=\"row\"><a href=\"/wiki/Meghalaya\" title=\"Meghalaya\">Meghalaya</a></th>\\n<td><b><a href=\"/wiki/Shillong\" title=\"Shillong\">Shillong</a></b></td>\\n<td>Shillong</td>\\n<td>Shillong</td>\\n<td>1970</td>\\n<td>\\xa0\\u2014</td>\\n</tr>\\n<tr>\\n<td>24</td>\\n<th scope=\"row\"><a href=\"/wiki/Mizoram\" title=\"Mizoram\">Mizoram</a></th>\\n<td><b><a href=\"/wiki/Aizawl\" title=\"Aizawl\">Aizawl</a></b></td>\\n<td>Aizawl</td>\\n<td><a href=\"/wiki/Guwahati\" title=\"Guwahati\">Guwahati</a></td>\\n<td>1972</td>\\n<td>\\xa0\\u2014</td>\\n</tr>\\n<tr>\\n<td>25</td>\\n<th scope=\"row\"><a href=\"/wiki/Nagaland\" title=\"Nagaland\">Nagaland</a></th>\\n<td><b><a href=\"/wiki/Kohima\" title=\"Kohima\">Kohima</a></b></td>\\n<td>Kohima</td>\\n<td><a href=\"/wiki/Guwahati\" title=\"Guwahati\">Guwahati</a></td>\\n<td>1963</td>\\n<td>\\xa0\\u2014</td>\\n</tr>\\n<tr>\\n<td>26</td>\\n<th scope=\"row\"><a href=\"/wiki/Odisha\" title=\"Odisha\">Odisha</a></th>\\n<td><b><a href=\"/wiki/Bhubaneswar\" title=\"Bhubaneswar\">Bhubaneswar</a></b></td>\\n<td>Bhubaneswar</td>\\n<td><a href=\"/wiki/Cuttack\" title=\"Cuttack\">Cuttack</a></td>\\n<td>1948</td>\\n<td><a href=\"/wiki/Cuttack\" title=\"Cuttack\">Cuttack</a> (1936\\u20131948)</td>\\n</tr>\\n<tr>\\n<td>27</td>\\n<th scope=\"row\"><a href=\"/wiki/Puducherry\" title=\"Puducherry\">Puducherry</a> <img alt=\"union territory\" data-file-height=\"14\" data-file-width=\"9\" height=\"14\" src=\"//upload.wikimedia.org/wikipedia/commons/3/37/Dagger-14-plain.png\" width=\"9\"/></th>\\n<td><b><a href=\"/wiki/Puducherry\" title=\"Puducherry\">Puducherry</a></b></td>\\n<td>Puducherry</td>\\n<td><a href=\"/wiki/Chennai\" title=\"Chennai\">Chennai</a></td>\\n<td>1954</td>\\n<td><a class=\"mw-redirect\" href=\"/wiki/Madras\" title=\"Madras\">Madras</a> (1948\\u20131954)</td>\\n</tr>\\n<tr>\\n<td>28</td>\\n<th scope=\"row\"><a href=\"/wiki/Punjab,_India\" title=\"Punjab, India\">Punjab</a></th>\\n<td><b><a href=\"/wiki/Chandigarh\" title=\"Chandigarh\">Chandigarh</a></b></td>\\n<td>Chandigarh</td>\\n<td>Chandigarh</td>\\n<td>1966</td>\\n</tr>\\n<tr>\\n<td>29</td>\\n<th scope=\"row\"><a href=\"/wiki/Rajasthan\" title=\"Rajasthan\">Rajasthan</a></th>\\n<td><b><a href=\"/wiki/Jaipur\" title=\"Jaipur\">Jaipur</a></b></td>\\n<td>Jaipur</td>\\n<td><a href=\"/wiki/Jodhpur\" title=\"Jodhpur\">Jodhpur</a></td>\\n<td>1950</td>\\n<td>\\xa0\\u2014</td>\\n</tr>\\n<tr>\\n<td>30</td>\\n<th scope=\"row\"><a href=\"/wiki/Sikkim\" title=\"Sikkim\">Sikkim</a></th>\\n<td><b><a href=\"/wiki/Gangtok\" title=\"Gangtok\">Gangtok</a></b><sup class=\"reference\" id=\"cite_ref-21\"><a href=\"#cite_note-21\">[j]</a></sup></td>\\n<td>Gangtok</td>\\n<td>Gangtok</td>\\n<td>1890</td>\\n<td>\\xa0\\u2014</td>\\n</tr>\\n<tr>\\n<td>31</td>\\n<th scope=\"row\"><a href=\"/wiki/Tamil_Nadu\" title=\"Tamil Nadu\">Tamil Nadu</a></th>\\n<td><b><a href=\"/wiki/Chennai\" title=\"Chennai\">Chennai</a></b><sup class=\"reference\" id=\"cite_ref-22\"><a href=\"#cite_note-22\">[k]</a></sup></td>\\n<td>Chennai</td>\\n<td>Chennai</td>\\n<td>1956</td>\\n<td>\\xa0</td>\\n</tr>\\n<tr>\\n<td>32</td>\\n<th scope=\"row\"><a href=\"/wiki/Telangana\" title=\"Telangana\">Telangana</a></th>\\n<td><b><a href=\"/wiki/Hyderabad\" title=\"Hyderabad\">Hyderabad</a></b><sup class=\"reference\" id=\"cite_ref-23\"><a href=\"#cite_note-23\">[l]</a></sup></td>\\n<td>Hyderabad</td>\\n<td>Hyderabad</td>\\n<td>2014</td>\\n<td>\\xa0\\u2014</td>\\n</tr>\\n<tr>\\n<td>33</td>\\n<th scope=\"row\"><a href=\"/wiki/Tripura\" title=\"Tripura\">Tripura</a></th>\\n<td><b><a href=\"/wiki/Agartala\" title=\"Agartala\">Agartala</a></b></td>\\n<td>Agartala</td>\\n<td>Agartala</td>\\n<td>1956</td>\\n<td>\\xa0\\u2014</td>\\n</tr>\\n<tr>\\n<td>34</td>\\n<th scope=\"row\"><a href=\"/wiki/Uttar_Pradesh\" title=\"Uttar Pradesh\">Uttar Pradesh</a></th>\\n<td><b><a href=\"/wiki/Lucknow\" title=\"Lucknow\">Lucknow</a></b></td>\\n<td>Lucknow</td>\\n<td><a href=\"/wiki/Allahabad\" title=\"Allahabad\">Allahabad</a></td>\\n<td>1938</td>\\n<td>\\xa0\\u2014</td>\\n</tr>\\n<tr>\\n<td>35</td>\\n<th scope=\"row\"><a href=\"/wiki/Uttarakhand\" title=\"Uttarakhand\">Uttarakhand</a></th>\\n<td><b><a href=\"/wiki/Dehradun\" title=\"Dehradun\">Dehradun</a></b><sup class=\"reference\" id=\"cite_ref-25\"><a href=\"#cite_note-25\">[m]</a></sup></td>\\n<td>Dehradun</td>\\n<td><a href=\"/wiki/Nainital\" title=\"Nainital\">Nainital</a></td>\\n<td>2000</td>\\n<td>\\xa0\\u2014</td>\\n</tr>\\n<tr>\\n<td>36</td>\\n<th scope=\"row\"><a href=\"/wiki/West_Bengal\" title=\"West Bengal\">West Bengal</a></th>\\n<td><b><a href=\"/wiki/Kolkata\" title=\"Kolkata\">Kolkata</a></b></td>\\n<td>Kolkata</td>\\n<td>Kolkata</td>\\n<td>1947</td>\\n<td>\\xa0</td>\\n</tr>\\n</table>, <table class=\"nowraplinks collapsible autocollapse navbox-inner\" style=\"border-spacing:0;background:transparent;color:inherit\">\\n<tr>\\n<th class=\"navbox-title\" colspan=\"2\" scope=\"col\">\\n<div class=\"plainlinks hlist navbar mini\">\\n<ul>\\n<li class=\"nv-view\"><a href=\"/wiki/Template:State_and_Union_Territory_capitals_of_India\" title=\"Template:State and Union Territory capitals of India\"><abbr style=\";;background:none transparent;border:none;\" title=\"View this template\">v</abbr></a></li>\\n<li class=\"nv-talk\"><a href=\"/wiki/Template_talk:State_and_Union_Territory_capitals_of_India\" title=\"Template talk:State and Union Territory capitals of India\"><abbr style=\";;background:none transparent;border:none;\" title=\"Discuss this template\">t</abbr></a></li>\\n<li class=\"nv-edit\"><a class=\"external text\" href=\"//en.wikipedia.org/w/index.php?title=Template:State_and_Union_Territory_capitals_of_India&amp;action=edit\"><abbr style=\";;background:none transparent;border:none;\" title=\"Edit this template\">e</abbr></a></li>\\n</ul>\\n</div>\\n<div id=\"23x15px.7Cborder_.7Calt.3DIndia.7Clink.3DIndia_State_and_Union_Territory_capitals_of_India\" style=\"font-size:114%\"><span class=\"flagicon\"><a href=\"/wiki/India\" title=\"India\"><img alt=\"India\" class=\"thumbborder\" data-file-height=\"900\" data-file-width=\"1350\" height=\"15\" src=\"//upload.wikimedia.org/wikipedia/en/thumb/4/41/Flag_of_India.svg/23px-Flag_of_India.svg.png\" srcset=\"//upload.wikimedia.org/wikipedia/en/thumb/4/41/Flag_of_India.svg/35px-Flag_of_India.svg.png 1.5x, //upload.wikimedia.org/wikipedia/en/thumb/4/41/Flag_of_India.svg/45px-Flag_of_India.svg.png 2x\" width=\"23\"/></a></span> <a class=\"mw-redirect\" href=\"/wiki/States_and_territories_of_India\" title=\"States and territories of India\">State and Union Territory</a> <strong class=\"selflink\">capitals</strong> of <a href=\"/wiki/India\" title=\"India\">India</a></div>\\n</th>\\n</tr>\\n<tr style=\"height:2px\">\\n<td colspan=\"2\"></td>\\n</tr>\\n<tr>\\n<td class=\"navbox-list navbox-odd hlist\" colspan=\"2\" style=\"width:100%;padding:0px\">\\n<div style=\"padding:0em 0.25em\">\\n<ul>\\n<li><a href=\"/wiki/Agartala\" title=\"Agartala\">Agartala</a></li>\\n<li><a href=\"/wiki/Aizawl\" title=\"Aizawl\">Aizawl</a></li>\\n<li><a href=\"/wiki/Amaravati\" title=\"Amaravati\">Amaravati</a> (de facto)</li>\\n<li><a href=\"/wiki/Bangalore\" title=\"Bangalore\">Bangalore</a></li>\\n<li><a href=\"/wiki/Bhopal\" title=\"Bhopal\">Bhopal</a></li>\\n<li><a href=\"/wiki/Bhubaneswar\" title=\"Bhubaneswar\">Bhubaneswar</a></li>\\n<li><a href=\"/wiki/Chandigarh\" title=\"Chandigarh\">Chandigarh</a></li>\\n<li><a href=\"/wiki/Chennai\" title=\"Chennai\">Chennai</a></li>\\n<li><a href=\"/wiki/Daman,_Daman_and_Diu\" title=\"Daman, Daman and Diu\">Daman</a></li>\\n<li><a href=\"/wiki/Dehradun\" title=\"Dehradun\">Dehradun</a></li>\\n<li><a href=\"/wiki/New_Delhi\" title=\"New Delhi\">New Delhi</a></li>\\n<li><a href=\"/wiki/Dispur\" title=\"Dispur\">Dispur</a></li>\\n<li><a href=\"/wiki/Gandhinagar\" title=\"Gandhinagar\">Gandhinagar</a></li>\\n<li><a href=\"/wiki/Gangtok\" title=\"Gangtok\">Gangtok</a></li>\\n<li><a href=\"/wiki/Hyderabad\" title=\"Hyderabad\">Hyderabad</a></li>\\n<li><a href=\"/wiki/Imphal\" title=\"Imphal\">Imphal</a></li>\\n<li><a href=\"/wiki/Itanagar\" title=\"Itanagar\">Itanagar</a></li>\\n<li><a href=\"/wiki/Jaipur\" title=\"Jaipur\">Jaipur</a></li>\\n<li><a class=\"mw-redirect\" href=\"/wiki/Jammu_(city)\" title=\"Jammu (city)\">Jammu</a> (<i>in winter</i>)</li>\\n<li><a href=\"/wiki/Kavaratti\" title=\"Kavaratti\">Kavaratti</a></li>\\n<li><a href=\"/wiki/Kohima\" title=\"Kohima\">Kohima</a></li>\\n<li><a href=\"/wiki/Kolkata\" title=\"Kolkata\">Kolkata</a></li>\\n<li><a href=\"/wiki/Lucknow\" title=\"Lucknow\">Lucknow</a></li>\\n<li><a href=\"/wiki/Mumbai\" title=\"Mumbai\">Mumbai</a></li>\\n<li><a href=\"/wiki/Panaji\" title=\"Panaji\">Panaji</a></li>\\n<li><a href=\"/wiki/Patna\" title=\"Patna\">Patna</a></li>\\n<li><a href=\"/wiki/Pondicherry\" title=\"Pondicherry\">Pondicherry (Puducherry)</a></li>\\n<li><a href=\"/wiki/Port_Blair\" title=\"Port Blair\">Port Blair</a></li>\\n<li><a href=\"/wiki/Raipur\" title=\"Raipur\">Raipur</a></li>\\n<li><a href=\"/wiki/Ranchi\" title=\"Ranchi\">Ranchi</a></li>\\n<li><a href=\"/wiki/Shillong\" title=\"Shillong\">Shillong</a></li>\\n<li><a href=\"/wiki/Shimla\" title=\"Shimla\">Shimla</a></li>\\n<li><a href=\"/wiki/Silvassa\" title=\"Silvassa\">Silvassa</a></li>\\n<li><a href=\"/wiki/Srinagar\" title=\"Srinagar\">Srinagar</a> (<i>in summer</i>)</li>\\n<li><a href=\"/wiki/Thiruvananthapuram\" title=\"Thiruvananthapuram\">Thiruvananthapuram (Trivandrum)</a></li>\\n</ul>\\n</div>\\n</td>\\n</tr>\\n</table>]\n"
     ]
    }
   ],
   "source": [
    "tables=soup.find_all('table')\n",
    "print tables"
   ]
  },
  {
   "cell_type": "code",
   "execution_count": 53,
   "metadata": {
    "collapsed": false
   },
   "outputs": [
    {
     "name": "stdout",
     "output_type": "stream",
     "text": [
      "[u'\\n', <tr>\\n<th scope=\"col\">No.</th>\\n<th scope=\"col\">State or<br/>\\nunion territory</th>\\n<th scope=\"col\">Administrative capitals</th>\\n<th scope=\"col\">Legislative capitals</th>\\n<th scope=\"col\">Judiciary capitals</th>\\n<th scope=\"col\">Year capital was established</th>\\n<th scope=\"col\">The Former capital</th>\\n</tr>, u'\\n', <tr>\\n<td>1</td>\\n<th scope=\"row\"><a href=\"/wiki/Andaman_and_Nicobar_Islands\" title=\"Andaman and Nicobar Islands\">Andaman and Nicobar Islands</a> <img alt=\"union territory\" data-file-height=\"14\" data-file-width=\"9\" height=\"14\" src=\"//upload.wikimedia.org/wikipedia/commons/3/37/Dagger-14-plain.png\" width=\"9\"/></th>\\n<td><b><a href=\"/wiki/Port_Blair\" title=\"Port Blair\">Port Blair</a></b></td>\\n<td>Port Blair</td>\\n<td><a href=\"/wiki/Kolkata\" title=\"Kolkata\">Kolkata</a></td>\\n<td>1955</td>\\n<td>Calcutta (1945\\u20131956)</td>\\n</tr>, u'\\n', <tr>\\n<td>2</td>\\n<th scope=\"row\"><a href=\"/wiki/Andhra_Pradesh\" title=\"Andhra Pradesh\">Andhra Pradesh</a></th>\\n<td><b><a href=\"/wiki/Hyderabad\" title=\"Hyderabad\">Hyderabad</a></b><sup class=\"reference\" id=\"cite_ref-3\"><a href=\"#cite_note-3\">[a]</a></sup></td>\\n<td>Hyderabad</td>\\n<td><a href=\"/wiki/High_Court_of_Judicature_at_Hyderabad\" title=\"High Court of Judicature at Hyderabad\">Hyderabad</a></td>\\n<td>1959</td>\\n<td><a href=\"/wiki/Kurnool\" title=\"Kurnool\">Kurnool</a> (1953-1956)</td>\\n</tr>, u'\\n', <tr>\\n<td>3</td>\\n<th scope=\"row\"><a href=\"/wiki/Arunachal_Pradesh\" title=\"Arunachal Pradesh\">Arunachal Pradesh</a></th>\\n<td><b><a href=\"/wiki/Itanagar\" title=\"Itanagar\">Itanagar</a></b></td>\\n<td>Itanagar</td>\\n<td><a href=\"/wiki/Guwahati\" title=\"Guwahati\">Guwahati</a></td>\\n<td>1986</td>\\n<td></td>\\n</tr>, u'\\n', <tr>\\n<td>4</td>\\n<th scope=\"row\"><a href=\"/wiki/Assam\" title=\"Assam\">Assam</a></th>\\n<td><b><a href=\"/wiki/Dispur\" title=\"Dispur\">Dispur</a></b></td>\\n<td><a href=\"/wiki/Guwahati\" title=\"Guwahati\">Guwahati</a></td>\\n<td>Guwahati</td>\\n<td>1975</td>\\n<td><a href=\"/wiki/Shillong\" title=\"Shillong\">Shillong</a><sup class=\"reference\" id=\"cite_ref-5\"><a href=\"#cite_note-5\">[b]</a></sup> (1874\\u20131972)</td>\\n</tr>, u'\\n', <tr>\\n<td>5</td>\\n<th scope=\"row\"><a href=\"/wiki/Bihar\" title=\"Bihar\">Bihar</a></th>\\n<td><b><a href=\"/wiki/Patna\" title=\"Patna\">Patna</a></b></td>\\n<td>Patna</td>\\n<td>Patna</td>\\n<td>1912</td>\\n<td></td>\\n</tr>, u'\\n', <tr>\\n<td>6</td>\\n<th scope=\"row\"><a href=\"/wiki/Chandigarh\" title=\"Chandigarh\">Chandigarh</a> <img alt=\"union territory\" data-file-height=\"14\" data-file-width=\"9\" height=\"14\" src=\"//upload.wikimedia.org/wikipedia/commons/3/37/Dagger-14-plain.png\" width=\"9\"/></th>\\n<td><b><a href=\"/wiki/Chandigarh\" title=\"Chandigarh\">Chandigarh</a></b><sup class=\"reference\" id=\"cite_ref-7\"><a href=\"#cite_note-7\">[c]</a></sup></td>\\n<td>\\xa0\\u2014</td>\\n<td>Chandigarh</td>\\n<td>1966</td>\\n<td>\\xa0\\u2014</td>\\n</tr>, u'\\n', <tr>\\n<td>7</td>\\n<th scope=\"row\"><a href=\"/wiki/Chhattisgarh\" title=\"Chhattisgarh\">Chhattisgarh</a></th>\\n<td><b><a href=\"/wiki/Naya_Raipur\" title=\"Naya Raipur\">Naya Raipur</a></b><sup class=\"reference\" id=\"cite_ref-8\"><a href=\"#cite_note-8\">[d]</a></sup></td>\\n<td>Raipur</td>\\n<td><a href=\"/wiki/Bilaspur,_Chhattisgarh\" title=\"Bilaspur, Chhattisgarh\">Bilaspur</a></td>\\n<td>2000</td>\\n<td>\\xa0\\u2014</td>\\n</tr>, u'\\n', <tr>\\n<td>8</td>\\n<th scope=\"row\"><a href=\"/wiki/Dadra_and_Nagar_Haveli\" title=\"Dadra and Nagar Haveli\">Dadra and Nagar Haveli</a> <img alt=\"union territory\" data-file-height=\"14\" data-file-width=\"9\" height=\"14\" src=\"//upload.wikimedia.org/wikipedia/commons/3/37/Dagger-14-plain.png\" width=\"9\"/></th>\\n<td><b><a href=\"/wiki/Silvassa\" title=\"Silvassa\">Silvassa</a></b></td>\\n<td>\\xa0\\u2014</td>\\n<td><a href=\"/wiki/Mumbai\" title=\"Mumbai\">Mumbai</a></td>\\n<td>1945</td>\\n<td>Mumbai (1954\\u20131961)<br/>\\n<a href=\"/wiki/Panaji\" title=\"Panaji\">Panaji</a> (1961\\u20131987)</td>\\n</tr>, u'\\n', <tr>\\n<td>9</td>\\n<th scope=\"row\"><a href=\"/wiki/Daman_and_Diu\" title=\"Daman and Diu\">Daman and Diu</a> <img alt=\"union territory\" data-file-height=\"14\" data-file-width=\"9\" height=\"14\" src=\"//upload.wikimedia.org/wikipedia/commons/3/37/Dagger-14-plain.png\" width=\"9\"/></th>\\n<td><b><a href=\"/wiki/Daman,_Daman_and_Diu\" title=\"Daman, Daman and Diu\">Daman</a></b></td>\\n<td>\\xa0\\u2014</td>\\n<td><a href=\"/wiki/Mumbai\" title=\"Mumbai\">Mumbai</a></td>\\n<td>1987</td>\\n<td><a href=\"/wiki/Ahmedabad\" title=\"Ahmedabad\">Ahmedabad</a> (1961\\u20131963)<br/>\\n<a href=\"/wiki/Panaji\" title=\"Panaji\">Panaji</a> (1963\\u20131987)</td>\\n</tr>, u'\\n', <tr>\\n<td>10</td>\\n<th scope=\"row\"><a class=\"mw-redirect\" href=\"/wiki/Delhi_NCT\" title=\"Delhi NCT\">National Capital Territory of Delhi</a> <img alt=\"union territory\" data-file-height=\"14\" data-file-width=\"9\" height=\"14\" src=\"//upload.wikimedia.org/wikipedia/commons/3/37/Dagger-14-plain.png\" width=\"9\"/></th>\\n<td><b><a href=\"/wiki/New_Delhi\" title=\"New Delhi\">New Delhi</a></b></td>\\n<td>New Delhi</td>\\n<td>New Delhi</td>\\n<td>1931</td>\\n<td>\\xa0\\u2014</td>\\n</tr>, u'\\n', <tr>\\n<td>11</td>\\n<th scope=\"row\"><a href=\"/wiki/Goa\" title=\"Goa\">Goa</a></th>\\n<td><b><a href=\"/wiki/Panaji\" title=\"Panaji\">Panaji</a></b><sup class=\"reference\" id=\"cite_ref-10\"><a href=\"#cite_note-10\">[e]</a></sup></td>\\n<td><a href=\"/wiki/Porvorim\" title=\"Porvorim\">Porvorim</a></td>\\n<td><a href=\"/wiki/Mumbai\" title=\"Mumbai\">Mumbai</a></td>\\n<td>1961</td>\\n<td>Panaji (1961\\u20131987)</td>\\n</tr>, u'\\n', <tr>\\n<td>12</td>\\n<th scope=\"row\"><a href=\"/wiki/Gujarat\" title=\"Gujarat\">Gujarat</a></th>\\n<td><b><a href=\"/wiki/Gandhinagar\" title=\"Gandhinagar\">Gandhinagar</a></b></td>\\n<td>Gandhinagar</td>\\n<td><a href=\"/wiki/Ahmedabad\" title=\"Ahmedabad\">Ahmedabad</a></td>\\n<td>1960</td>\\n<td><a href=\"/wiki/Ahmedabad\" title=\"Ahmedabad\">Ahmedabad</a> (1960\\u20131970)</td>\\n</tr>, u'\\n', <tr>\\n<td>13</td>\\n<th scope=\"row\"><a href=\"/wiki/Haryana\" title=\"Haryana\">Haryana</a></th>\\n<td><b><a href=\"/wiki/Chandigarh\" title=\"Chandigarh\">Chandigarh</a></b></td>\\n<td>Chandigarh</td>\\n<td>Chandigarh</td>\\n<td>1966</td>\\n<td>\\xa0\\u2014</td>\\n</tr>, u'\\n', <tr>\\n<td>14</td>\\n<th scope=\"row\"><a href=\"/wiki/Himachal_Pradesh\" title=\"Himachal Pradesh\">Himachal Pradesh</a></th>\\n<td><b><a href=\"/wiki/Shimla\" title=\"Shimla\">Shimla</a></b>\\xa0(Summer)\\n<p><a href=\"/wiki/Dharamsala\" title=\"Dharamsala\"><b>Dharamshala</b></a> (Winter)<sup class=\"reference\" id=\"cite_ref-11\"><a href=\"#cite_note-11\">[6]</a></sup></p>\\n</td>\\n<td>Shimla\\xa0(Summer)\\n<p>Dharamsala(Winter)</p>\\n</td>\\n<td>Shimla\\xa0</td>\\n<td>1971\\n<p>2017</p>\\n</td>\\n<td><a href=\"/wiki/Bilaspur,_Himachal_Pradesh\" title=\"Bilaspur, Himachal Pradesh\">Bilaspur</a> (1950\\u20131956)</td>\\n</tr>, u'\\n', <tr>\\n<td>15</td>\\n<th scope=\"row\"><a href=\"/wiki/Jammu_and_Kashmir\" title=\"Jammu and Kashmir\">Jammu and Kashmir</a></th>\\n<td><b><a href=\"/wiki/Srinagar\" title=\"Srinagar\">Srinagar</a></b>\\xa0(Summer)<br/>\\n<b><a href=\"/wiki/Jammu\" title=\"Jammu\">Jammu</a></b>\\xa0(Winter)</td>\\n<td>Srinagar\\xa0(Summer)<br/>\\nJammu\\xa0(Winter)</td>\\n<td>Srinagar\\xa0(Summer)<br/>\\nJammu\\xa0(Winter)</td>\\n<td>1947</td>\\n<td>\\xa0\\u2014</td>\\n</tr>, u'\\n', <tr>\\n<td>16</td>\\n<th scope=\"row\"><a href=\"/wiki/Jharkhand\" title=\"Jharkhand\">Jharkhand</a></th>\\n<td><b><a href=\"/wiki/Ranchi\" title=\"Ranchi\">Ranchi</a></b></td>\\n<td>Ranchi</td>\\n<td>Ranchi</td>\\n<td>2000</td>\\n<td></td>\\n</tr>, u'\\n', <tr>\\n<td>17</td>\\n<th scope=\"row\"><a href=\"/wiki/Karnataka\" title=\"Karnataka\">Karnataka</a></th>\\n<td><b><a class=\"mw-redirect\" href=\"/wiki/Bengaluru\" title=\"Bengaluru\">Bengaluru</a></b></td>\\n<td>Bengaluru</td>\\n<td>Bengaluru</td>\\n<td>1940</td>\\n<td>(Mysore)</td>\\n</tr>, u'\\n', <tr>\\n<td>18</td>\\n<th scope=\"row\"><a href=\"/wiki/Kerala\" title=\"Kerala\">Kerala</a></th>\\n<td><b><a href=\"/wiki/Thiruvananthapuram\" title=\"Thiruvananthapuram\">Thiruvananthapuram</a></b></td>\\n<td>Thiruvananthapuram</td>\\n<td><a href=\"/wiki/Kochi\" title=\"Kochi\">Kochi</a></td>\\n<td>1956</td>\\n<td></td>\\n</tr>, u'\\n', <tr>\\n<td>19</td>\\n<th scope=\"row\"><a href=\"/wiki/Lakshadweep\" title=\"Lakshadweep\">Lakshadweep</a> <img alt=\"union territory\" data-file-height=\"14\" data-file-width=\"9\" height=\"14\" src=\"//upload.wikimedia.org/wikipedia/commons/3/37/Dagger-14-plain.png\" width=\"9\"/></th>\\n<td><b><a href=\"/wiki/Kavaratti\" title=\"Kavaratti\">Kavaratti</a></b></td>\\n<td>Kavaratti</td>\\n<td><a href=\"/wiki/Kochi\" title=\"Kochi\">Kochi</a></td>\\n<td>1956</td>\\n<td></td>\\n</tr>, u'\\n', <tr>\\n<td>20</td>\\n<th scope=\"row\"><a href=\"/wiki/Madhya_Pradesh\" title=\"Madhya Pradesh\">Madhya Pradesh</a></th>\\n<td><b><a href=\"/wiki/Bhopal\" title=\"Bhopal\">Bhopal</a></b></td>\\n<td>Bhopal</td>\\n<td><a href=\"/wiki/Jabalpur\" title=\"Jabalpur\">Jabalpur</a></td>\\n<td>1956</td>\\n<td><a href=\"/wiki/Nagpur\" title=\"Nagpur\">Nagpur</a><sup class=\"reference\" id=\"cite_ref-15\"><a href=\"#cite_note-15\">[f]</a></sup> (1861\\u20131956)</td>\\n</tr>, u'\\n', <tr>\\n<td>21</td>\\n<th scope=\"row\"><a href=\"/wiki/Maharashtra\" title=\"Maharashtra\">Maharashtra</a></th>\\n<td><b><a href=\"/wiki/Mumbai\" title=\"Mumbai\">Mumbai</a></b><sup class=\"reference\" id=\"cite_ref-16\"><a href=\"#cite_note-16\">[g]</a></sup><br/>\\n<b><a href=\"/wiki/Nagpur\" title=\"Nagpur\">Nagpur</a></b>\\xa0(W/2nd)<sup class=\"reference\" id=\"cite_ref-17\"><a href=\"#cite_note-17\">[h]</a></sup></td>\\n<td>Mumbai\\xa0(S+B)<br/>\\nNagpur\\xa0(W)<sup class=\"reference\" id=\"cite_ref-19\"><a href=\"#cite_note-19\">[i]</a></sup></td>\\n<td>Mumbai</td>\\n<td>1818<br/>\\n1960</td>\\n<td>\\xa0\\u2014</td>\\n</tr>, u'\\n', <tr>\\n<td>22</td>\\n<th scope=\"row\"><a href=\"/wiki/Manipur\" title=\"Manipur\">Manipur</a></th>\\n<td><b><a href=\"/wiki/Imphal\" title=\"Imphal\">Imphal</a></b></td>\\n<td>Imphal</td>\\n<td>Imphal</td>\\n<td>1947</td>\\n<td>\\xa0\\u2014</td>\\n</tr>, u'\\n', <tr>\\n<td>23</td>\\n<th scope=\"row\"><a href=\"/wiki/Meghalaya\" title=\"Meghalaya\">Meghalaya</a></th>\\n<td><b><a href=\"/wiki/Shillong\" title=\"Shillong\">Shillong</a></b></td>\\n<td>Shillong</td>\\n<td>Shillong</td>\\n<td>1970</td>\\n<td>\\xa0\\u2014</td>\\n</tr>, u'\\n', <tr>\\n<td>24</td>\\n<th scope=\"row\"><a href=\"/wiki/Mizoram\" title=\"Mizoram\">Mizoram</a></th>\\n<td><b><a href=\"/wiki/Aizawl\" title=\"Aizawl\">Aizawl</a></b></td>\\n<td>Aizawl</td>\\n<td><a href=\"/wiki/Guwahati\" title=\"Guwahati\">Guwahati</a></td>\\n<td>1972</td>\\n<td>\\xa0\\u2014</td>\\n</tr>, u'\\n', <tr>\\n<td>25</td>\\n<th scope=\"row\"><a href=\"/wiki/Nagaland\" title=\"Nagaland\">Nagaland</a></th>\\n<td><b><a href=\"/wiki/Kohima\" title=\"Kohima\">Kohima</a></b></td>\\n<td>Kohima</td>\\n<td><a href=\"/wiki/Guwahati\" title=\"Guwahati\">Guwahati</a></td>\\n<td>1963</td>\\n<td>\\xa0\\u2014</td>\\n</tr>, u'\\n', <tr>\\n<td>26</td>\\n<th scope=\"row\"><a href=\"/wiki/Odisha\" title=\"Odisha\">Odisha</a></th>\\n<td><b><a href=\"/wiki/Bhubaneswar\" title=\"Bhubaneswar\">Bhubaneswar</a></b></td>\\n<td>Bhubaneswar</td>\\n<td><a href=\"/wiki/Cuttack\" title=\"Cuttack\">Cuttack</a></td>\\n<td>1948</td>\\n<td><a href=\"/wiki/Cuttack\" title=\"Cuttack\">Cuttack</a> (1936\\u20131948)</td>\\n</tr>, u'\\n', <tr>\\n<td>27</td>\\n<th scope=\"row\"><a href=\"/wiki/Puducherry\" title=\"Puducherry\">Puducherry</a> <img alt=\"union territory\" data-file-height=\"14\" data-file-width=\"9\" height=\"14\" src=\"//upload.wikimedia.org/wikipedia/commons/3/37/Dagger-14-plain.png\" width=\"9\"/></th>\\n<td><b><a href=\"/wiki/Puducherry\" title=\"Puducherry\">Puducherry</a></b></td>\\n<td>Puducherry</td>\\n<td><a href=\"/wiki/Chennai\" title=\"Chennai\">Chennai</a></td>\\n<td>1954</td>\\n<td><a class=\"mw-redirect\" href=\"/wiki/Madras\" title=\"Madras\">Madras</a> (1948\\u20131954)</td>\\n</tr>, u'\\n', <tr>\\n<td>28</td>\\n<th scope=\"row\"><a href=\"/wiki/Punjab,_India\" title=\"Punjab, India\">Punjab</a></th>\\n<td><b><a href=\"/wiki/Chandigarh\" title=\"Chandigarh\">Chandigarh</a></b></td>\\n<td>Chandigarh</td>\\n<td>Chandigarh</td>\\n<td>1966</td>\\n</tr>, u'\\n', <tr>\\n<td>29</td>\\n<th scope=\"row\"><a href=\"/wiki/Rajasthan\" title=\"Rajasthan\">Rajasthan</a></th>\\n<td><b><a href=\"/wiki/Jaipur\" title=\"Jaipur\">Jaipur</a></b></td>\\n<td>Jaipur</td>\\n<td><a href=\"/wiki/Jodhpur\" title=\"Jodhpur\">Jodhpur</a></td>\\n<td>1950</td>\\n<td>\\xa0\\u2014</td>\\n</tr>, u'\\n', <tr>\\n<td>30</td>\\n<th scope=\"row\"><a href=\"/wiki/Sikkim\" title=\"Sikkim\">Sikkim</a></th>\\n<td><b><a href=\"/wiki/Gangtok\" title=\"Gangtok\">Gangtok</a></b><sup class=\"reference\" id=\"cite_ref-21\"><a href=\"#cite_note-21\">[j]</a></sup></td>\\n<td>Gangtok</td>\\n<td>Gangtok</td>\\n<td>1890</td>\\n<td>\\xa0\\u2014</td>\\n</tr>, u'\\n', <tr>\\n<td>31</td>\\n<th scope=\"row\"><a href=\"/wiki/Tamil_Nadu\" title=\"Tamil Nadu\">Tamil Nadu</a></th>\\n<td><b><a href=\"/wiki/Chennai\" title=\"Chennai\">Chennai</a></b><sup class=\"reference\" id=\"cite_ref-22\"><a href=\"#cite_note-22\">[k]</a></sup></td>\\n<td>Chennai</td>\\n<td>Chennai</td>\\n<td>1956</td>\\n<td>\\xa0</td>\\n</tr>, u'\\n', <tr>\\n<td>32</td>\\n<th scope=\"row\"><a href=\"/wiki/Telangana\" title=\"Telangana\">Telangana</a></th>\\n<td><b><a href=\"/wiki/Hyderabad\" title=\"Hyderabad\">Hyderabad</a></b><sup class=\"reference\" id=\"cite_ref-23\"><a href=\"#cite_note-23\">[l]</a></sup></td>\\n<td>Hyderabad</td>\\n<td>Hyderabad</td>\\n<td>2014</td>\\n<td>\\xa0\\u2014</td>\\n</tr>, u'\\n', <tr>\\n<td>33</td>\\n<th scope=\"row\"><a href=\"/wiki/Tripura\" title=\"Tripura\">Tripura</a></th>\\n<td><b><a href=\"/wiki/Agartala\" title=\"Agartala\">Agartala</a></b></td>\\n<td>Agartala</td>\\n<td>Agartala</td>\\n<td>1956</td>\\n<td>\\xa0\\u2014</td>\\n</tr>, u'\\n', <tr>\\n<td>34</td>\\n<th scope=\"row\"><a href=\"/wiki/Uttar_Pradesh\" title=\"Uttar Pradesh\">Uttar Pradesh</a></th>\\n<td><b><a href=\"/wiki/Lucknow\" title=\"Lucknow\">Lucknow</a></b></td>\\n<td>Lucknow</td>\\n<td><a href=\"/wiki/Allahabad\" title=\"Allahabad\">Allahabad</a></td>\\n<td>1938</td>\\n<td>\\xa0\\u2014</td>\\n</tr>, u'\\n', <tr>\\n<td>35</td>\\n<th scope=\"row\"><a href=\"/wiki/Uttarakhand\" title=\"Uttarakhand\">Uttarakhand</a></th>\\n<td><b><a href=\"/wiki/Dehradun\" title=\"Dehradun\">Dehradun</a></b><sup class=\"reference\" id=\"cite_ref-25\"><a href=\"#cite_note-25\">[m]</a></sup></td>\\n<td>Dehradun</td>\\n<td><a href=\"/wiki/Nainital\" title=\"Nainital\">Nainital</a></td>\\n<td>2000</td>\\n<td>\\xa0\\u2014</td>\\n</tr>, u'\\n', <tr>\\n<td>36</td>\\n<th scope=\"row\"><a href=\"/wiki/West_Bengal\" title=\"West Bengal\">West Bengal</a></th>\\n<td><b><a href=\"/wiki/Kolkata\" title=\"Kolkata\">Kolkata</a></b></td>\\n<td>Kolkata</td>\\n<td>Kolkata</td>\\n<td>1947</td>\\n<td>\\xa0</td>\\n</tr>, u'\\n']\n"
     ]
    }
   ],
   "source": [
    "table=soup.find('table', class_='wikitable sortable plainrowheaders')\n",
    "print list(table)"
   ]
  },
  {
   "cell_type": "code",
   "execution_count": 56,
   "metadata": {
    "collapsed": false
   },
   "outputs": [],
   "source": [
    "#Generate lists\n",
    "A=[]\n",
    "B=[]\n",
    "C=[]\n",
    "D=[]\n",
    "E=[]\n",
    "F=[]\n",
    "G=[]\n",
    "for row in table.findAll(\"tr\"):\n",
    "    cells = row.findAll('td')\n",
    "    states=row.findAll('th') #To store second column data\n",
    "    #All rows except the first row have 6 values, thus\n",
    "    # len(table.findAll(\"tr\")[j].findAll('td')) = 6 \n",
    "    if len(cells)==6: #Only extract table body not heading\n",
    "        A.append(cells[0].find(text=True))\n",
    "        B.append(states[0].find(text=True))\n",
    "        C.append(cells[1].find(text=True)) # This isn't the \"State or Union...\" column\n",
    "                                           #because this column has <th> </th> tags\n",
    "        D.append(cells[2].find(text=True))\n",
    "        E.append(cells[3].find(text=True))\n",
    "        F.append(cells[4].find(text=True))\n",
    "        G.append(cells[5].find(text=True))"
   ]
  },
  {
   "cell_type": "code",
   "execution_count": 116,
   "metadata": {
    "collapsed": false
   },
   "outputs": [
    {
     "data": {
      "text/plain": [
       "u'1'"
      ]
     },
     "execution_count": 116,
     "metadata": {},
     "output_type": "execute_result"
    }
   ],
   "source": [
    "#Row 1, element 0 of the table\n",
    "table.findAll(\"tr\")[1].findAll('td')[0].find(text=True)"
   ]
  },
  {
   "cell_type": "code",
   "execution_count": 132,
   "metadata": {
    "collapsed": false
   },
   "outputs": [
    {
     "data": {
      "text/html": [
       "<div>\n",
       "<table border=\"1\" class=\"dataframe\">\n",
       "  <thead>\n",
       "    <tr style=\"text-align: right;\">\n",
       "      <th></th>\n",
       "      <th>Number</th>\n",
       "      <th>State/UT</th>\n",
       "      <th>Admin_Capital</th>\n",
       "      <th>Legislative_Capital</th>\n",
       "      <th>Judiciary_Capital</th>\n",
       "      <th>Year_Capital</th>\n",
       "      <th>Former_Capital</th>\n",
       "    </tr>\n",
       "  </thead>\n",
       "  <tbody>\n",
       "    <tr>\n",
       "      <th>0</th>\n",
       "      <td>1</td>\n",
       "      <td>Andaman and Nicobar Islands</td>\n",
       "      <td>Port Blair</td>\n",
       "      <td>Port Blair</td>\n",
       "      <td>Kolkata</td>\n",
       "      <td>1955</td>\n",
       "      <td>Calcutta (1945–1956)</td>\n",
       "    </tr>\n",
       "    <tr>\n",
       "      <th>1</th>\n",
       "      <td>2</td>\n",
       "      <td>Andhra Pradesh</td>\n",
       "      <td>Hyderabad</td>\n",
       "      <td>Hyderabad</td>\n",
       "      <td>Hyderabad</td>\n",
       "      <td>1959</td>\n",
       "      <td>Kurnool</td>\n",
       "    </tr>\n",
       "    <tr>\n",
       "      <th>2</th>\n",
       "      <td>3</td>\n",
       "      <td>Arunachal Pradesh</td>\n",
       "      <td>Itanagar</td>\n",
       "      <td>Itanagar</td>\n",
       "      <td>Guwahati</td>\n",
       "      <td>1986</td>\n",
       "      <td>None</td>\n",
       "    </tr>\n",
       "    <tr>\n",
       "      <th>3</th>\n",
       "      <td>4</td>\n",
       "      <td>Assam</td>\n",
       "      <td>Dispur</td>\n",
       "      <td>Guwahati</td>\n",
       "      <td>Guwahati</td>\n",
       "      <td>1975</td>\n",
       "      <td>Shillong</td>\n",
       "    </tr>\n",
       "    <tr>\n",
       "      <th>4</th>\n",
       "      <td>5</td>\n",
       "      <td>Bihar</td>\n",
       "      <td>Patna</td>\n",
       "      <td>Patna</td>\n",
       "      <td>Patna</td>\n",
       "      <td>1912</td>\n",
       "      <td>None</td>\n",
       "    </tr>\n",
       "  </tbody>\n",
       "</table>\n",
       "</div>"
      ],
      "text/plain": [
       "  Number                     State/UT Admin_Capital Legislative_Capital  \\\n",
       "0      1  Andaman and Nicobar Islands    Port Blair          Port Blair   \n",
       "1      2               Andhra Pradesh     Hyderabad           Hyderabad   \n",
       "2      3            Arunachal Pradesh      Itanagar            Itanagar   \n",
       "3      4                        Assam        Dispur            Guwahati   \n",
       "4      5                        Bihar         Patna               Patna   \n",
       "\n",
       "  Judiciary_Capital Year_Capital        Former_Capital  \n",
       "0           Kolkata         1955  Calcutta (1945–1956)  \n",
       "1         Hyderabad         1959               Kurnool  \n",
       "2          Guwahati         1986                  None  \n",
       "3          Guwahati         1975              Shillong  \n",
       "4             Patna         1912                  None  "
      ]
     },
     "execution_count": 132,
     "metadata": {},
     "output_type": "execute_result"
    }
   ],
   "source": [
    "#import pandas to convert list to data frame\n",
    "import pandas as pd\n",
    "df=pd.DataFrame(zip(A, B, C, D, E, F, G), columns=['Number','State/UT','Admin_Capital',\n",
    " 'Legislative_Capital', 'Judiciary_Capital','Year_Capital','Former_Capital'])\n",
    "df.head()"
   ]
  },
  {
   "cell_type": "code",
   "execution_count": null,
   "metadata": {
    "collapsed": true
   },
   "outputs": [],
   "source": []
  },
  {
   "cell_type": "markdown",
   "metadata": {},
   "source": [
    "## Top Master's in Data Science Programs"
   ]
  },
  {
   "cell_type": "code",
   "execution_count": 2,
   "metadata": {
    "collapsed": true
   },
   "outputs": [],
   "source": [
    "schools='http://www.mastersindatascience.org/schools/top-masters-in-analytics/'\n",
    "import pandas as pd"
   ]
  },
  {
   "cell_type": "code",
   "execution_count": 4,
   "metadata": {
    "collapsed": false
   },
   "outputs": [],
   "source": [
    "page = urllib2.urlopen(schools)\n",
    "soup = BeautifulSoup(page)"
   ]
  },
  {
   "cell_type": "code",
   "execution_count": 5,
   "metadata": {
    "collapsed": false,
    "scrolled": false
   },
   "outputs": [
    {
     "name": "stdout",
     "output_type": "stream",
     "text": [
      "<!DOCTYPE html>\n",
      "<html lang=\"en-US\" prefix=\"og: http://ogp.me/ns#\">\n",
      " <head>\n",
      "  <meta charset=\"utf-8\"/>\n",
      "  <title>\n",
      "   21 Best Master's in Business Analytics Programs | 2016 Rankings\n",
      "  </title>\n",
      "  <meta content=\"width=device-width, initial-scale=1\" name=\"viewport\"/>\n",
      "  <!-- This site is optimized with the \n"
     ]
    }
   ],
   "source": [
    "print soup.prettify()[:300]"
   ]
  },
  {
   "cell_type": "code",
   "execution_count": 77,
   "metadata": {
    "collapsed": false
   },
   "outputs": [
    {
     "name": "stdout",
     "output_type": "stream",
     "text": [
      "21 Best Master's in Business Analytics Programs | 2016 Rankings\n"
     ]
    }
   ],
   "source": [
    "print soup.title.string"
   ]
  },
  {
   "cell_type": "code",
   "execution_count": 33,
   "metadata": {
    "collapsed": false
   },
   "outputs": [
    {
     "data": {
      "text/plain": [
       "['http://www.mastersindatascience.org/',\n",
       " 'http://www.mastersindatascience.org/schools/23-great-schools-with-masters-programs-in-data-science/']"
      ]
     },
     "execution_count": 33,
     "metadata": {},
     "output_type": "execute_result"
    }
   ],
   "source": [
    "#Find all links\n",
    "links=[]\n",
    "links2=soup.find_all('a')\n",
    "for j in links2:\n",
    "    links.append(j.get('href'))\n",
    "links[:2]"
   ]
  },
  {
   "cell_type": "code",
   "execution_count": 45,
   "metadata": {
    "collapsed": false
   },
   "outputs": [
    {
     "data": {
      "text/plain": [
       "<h3>UNIVERSITY OF TEXAS AT AUSTIN</h3>"
      ]
     },
     "execution_count": 45,
     "metadata": {},
     "output_type": "execute_result"
    }
   ],
   "source": [
    "#Find the universities\n",
    "soup.findAll({\"h1\",\"h2\",\"h3\",\"h4\",\"h5\",\"h6\"})[23]\n",
    "#I notice that universities in <h3> header tags"
   ]
  },
  {
   "cell_type": "code",
   "execution_count": 42,
   "metadata": {
    "collapsed": false
   },
   "outputs": [
    {
     "data": {
      "text/plain": [
       "[<h3 id=\"p-personal-label\">Personal tools</h3>,\n",
       " <h3 id=\"p-namespaces-label\">Namespaces</h3>,\n",
       " <h3 id=\"p-variants-label\">\\n<span>Variants</span><a href=\"#\"></a>\\n</h3>,\n",
       " <h3 id=\"p-views-label\">Views</h3>,\n",
       " <h3 id=\"p-cactions-label\"><span>More</span><a href=\"#\"></a></h3>,\n",
       " <h3>\\n<label for=\"searchInput\">Search</label>\\n</h3>,\n",
       " <h3 id=\"p-navigation-label\">Navigation</h3>]"
      ]
     },
     "execution_count": 42,
     "metadata": {},
     "output_type": "execute_result"
    }
   ],
   "source": [
    "soup.findAll('h3')[:7]"
   ]
  },
  {
   "cell_type": "code",
   "execution_count": 62,
   "metadata": {
    "collapsed": false
   },
   "outputs": [
    {
     "data": {
      "text/html": [
       "<div>\n",
       "<table border=\"1\" class=\"dataframe\">\n",
       "  <thead>\n",
       "    <tr style=\"text-align: right;\">\n",
       "      <th></th>\n",
       "      <th>University</th>\n",
       "    </tr>\n",
       "  </thead>\n",
       "  <tbody>\n",
       "    <tr>\n",
       "      <th>0</th>\n",
       "      <td>MASSACHUSETTS INSTITUTE OF TECHNOLOGY</td>\n",
       "    </tr>\n",
       "    <tr>\n",
       "      <th>1</th>\n",
       "      <td>CARNEGIE MELLON</td>\n",
       "    </tr>\n",
       "    <tr>\n",
       "      <th>2</th>\n",
       "      <td>UNIVERSITY OF TEXAS AT AUSTIN</td>\n",
       "    </tr>\n",
       "    <tr>\n",
       "      <th>3</th>\n",
       "      <td>UNIVERSITY OF CHICAGO</td>\n",
       "    </tr>\n",
       "    <tr>\n",
       "      <th>4</th>\n",
       "      <td>COLUMBIA UNIVERSITY</td>\n",
       "    </tr>\n",
       "    <tr>\n",
       "      <th>5</th>\n",
       "      <td>DUKE UNIVERSITY</td>\n",
       "    </tr>\n",
       "    <tr>\n",
       "      <th>6</th>\n",
       "      <td>GEORGIA INSTITUTE OF TECHNOLOGY</td>\n",
       "    </tr>\n",
       "    <tr>\n",
       "      <th>7</th>\n",
       "      <td>PURDUE UNIVERSITY</td>\n",
       "    </tr>\n",
       "    <tr>\n",
       "      <th>8</th>\n",
       "      <td>UNIVERSITY OF MINNESOTA-TWIN CITIES</td>\n",
       "    </tr>\n",
       "    <tr>\n",
       "      <th>9</th>\n",
       "      <td>NEW YORK UNIVERSITY</td>\n",
       "    </tr>\n",
       "    <tr>\n",
       "      <th>10</th>\n",
       "      <td>INDIANA UNIVERSITY BLOOMINGTON</td>\n",
       "    </tr>\n",
       "    <tr>\n",
       "      <th>11</th>\n",
       "      <td>TEXAS A&amp;M UNIVERSITY</td>\n",
       "    </tr>\n",
       "    <tr>\n",
       "      <th>12</th>\n",
       "      <td>NORTHWESTERN UNIVERSITY</td>\n",
       "    </tr>\n",
       "    <tr>\n",
       "      <th>13</th>\n",
       "      <td>UNIVERSITY OF FLORIDA</td>\n",
       "    </tr>\n",
       "    <tr>\n",
       "      <th>14</th>\n",
       "      <td>UNIVERSITY OF VIRGINIA</td>\n",
       "    </tr>\n",
       "    <tr>\n",
       "      <th>15</th>\n",
       "      <td>UNIVERSITY OF CALIFORNIA-DAVIS</td>\n",
       "    </tr>\n",
       "    <tr>\n",
       "      <th>16</th>\n",
       "      <td>RUTGERS UNIVERSITY</td>\n",
       "    </tr>\n",
       "    <tr>\n",
       "      <th>17</th>\n",
       "      <td>UNIVERSITY OF ROCHESTER</td>\n",
       "    </tr>\n",
       "    <tr>\n",
       "      <th>18</th>\n",
       "      <td>MICHIGAN STATE UNIVERSITY</td>\n",
       "    </tr>\n",
       "    <tr>\n",
       "      <th>19</th>\n",
       "      <td>BOSTON UNIVERSITY</td>\n",
       "    </tr>\n",
       "    <tr>\n",
       "      <th>20</th>\n",
       "      <td>UNIVERSITY OF IOWA</td>\n",
       "    </tr>\n",
       "    <tr>\n",
       "      <th>21</th>\n",
       "      <td>Southern Methodist University</td>\n",
       "    </tr>\n",
       "    <tr>\n",
       "      <th>22</th>\n",
       "      <td>Saint Joseph's University</td>\n",
       "    </tr>\n",
       "    <tr>\n",
       "      <th>23</th>\n",
       "      <td>University of California-Berkeley</td>\n",
       "    </tr>\n",
       "    <tr>\n",
       "      <th>24</th>\n",
       "      <td>Galvanize</td>\n",
       "    </tr>\n",
       "    <tr>\n",
       "      <th>25</th>\n",
       "      <td>Level Bootcamp (run by Northeastern University)</td>\n",
       "    </tr>\n",
       "  </tbody>\n",
       "</table>\n",
       "</div>"
      ],
      "text/plain": [
       "                                         University\n",
       "0             MASSACHUSETTS INSTITUTE OF TECHNOLOGY\n",
       "1                                   CARNEGIE MELLON\n",
       "2                     UNIVERSITY OF TEXAS AT AUSTIN\n",
       "3                             UNIVERSITY OF CHICAGO\n",
       "4                               COLUMBIA UNIVERSITY\n",
       "5                                   DUKE UNIVERSITY\n",
       "6                   GEORGIA INSTITUTE OF TECHNOLOGY\n",
       "7                                 PURDUE UNIVERSITY\n",
       "8               UNIVERSITY OF MINNESOTA-TWIN CITIES\n",
       "9                               NEW YORK UNIVERSITY\n",
       "10                   INDIANA UNIVERSITY BLOOMINGTON\n",
       "11                             TEXAS A&M UNIVERSITY\n",
       "12                          NORTHWESTERN UNIVERSITY\n",
       "13                            UNIVERSITY OF FLORIDA\n",
       "14                           UNIVERSITY OF VIRGINIA\n",
       "15                   UNIVERSITY OF CALIFORNIA-DAVIS\n",
       "16                               RUTGERS UNIVERSITY\n",
       "17                          UNIVERSITY OF ROCHESTER\n",
       "18                        MICHIGAN STATE UNIVERSITY\n",
       "19                                BOSTON UNIVERSITY\n",
       "20                               UNIVERSITY OF IOWA\n",
       "21                    Southern Methodist University\n",
       "22                        Saint Joseph's University\n",
       "23                University of California-Berkeley\n",
       "24                                        Galvanize\n",
       "25  Level Bootcamp (run by Northeastern University)"
      ]
     },
     "execution_count": 62,
     "metadata": {},
     "output_type": "execute_result"
    }
   ],
   "source": [
    "Universities=[]\n",
    "for j in soup.find_all('h3'):\n",
    "    Universities.append(j.find(text=True))\n",
    "Universities=Universities[3:]\n",
    "pd.DataFrame(Universities, columns=['University'])"
   ]
  },
  {
   "cell_type": "code",
   "execution_count": 63,
   "metadata": {
    "collapsed": false
   },
   "outputs": [
    {
     "data": {
      "text/plain": [
       "u'Home ownership'"
      ]
     },
     "execution_count": 63,
     "metadata": {},
     "output_type": "execute_result"
    }
   ],
   "source": [
    "page = urllib2.urlopen(wiki)\n",
    "soup = BeautifulSoup(page)\n",
    "a=soup.find_all('a')[20]\n",
    "#find_all is the same as findALL\n",
    "a.find(text=True)"
   ]
  },
  {
   "cell_type": "code",
   "execution_count": 163,
   "metadata": {
    "collapsed": false
   },
   "outputs": [
    {
     "name": "stdout",
     "output_type": "stream",
     "text": [
      "Here they are: 21 top universities with programs in business analytics! There are a few things you should keep in mind. Here they are: 21 top universities with programs in business analytics! There are a few things you should keep in mind.\n"
     ]
    }
   ],
   "source": [
    "temp=list(soup.children)\n",
    "html=temp[1]\n",
    "html=list(html)\n",
    "head=html[1]\n",
    "body=html[3]\n",
    "print list(body.children)[0].find_all('p')[1].get_text() #or .string"
   ]
  },
  {
   "cell_type": "code",
   "execution_count": null,
   "metadata": {
    "collapsed": true
   },
   "outputs": [],
   "source": []
  },
  {
   "cell_type": "code",
   "execution_count": null,
   "metadata": {
    "collapsed": true
   },
   "outputs": [],
   "source": []
  },
  {
   "cell_type": "code",
   "execution_count": 7,
   "metadata": {
    "collapsed": false
   },
   "outputs": [
    {
     "ename": "HTTPError",
     "evalue": "HTTP Error 403: Forbidden",
     "output_type": "error",
     "traceback": [
      "\u001b[0;31m---------------------------------------------------------------------------\u001b[0m",
      "\u001b[0;31mHTTPError\u001b[0m                                 Traceback (most recent call last)",
      "\u001b[0;32m<ipython-input-7-5ebc2e01ce5e>\u001b[0m in \u001b[0;36m<module>\u001b[0;34m()\u001b[0m\n\u001b[1;32m      1\u001b[0m \u001b[0murl\u001b[0m\u001b[0;34m=\u001b[0m\u001b[0;34m'http://www.metacritic.com/music/run-the-jewels-3/run-the-jewels'\u001b[0m\u001b[0;34m\u001b[0m\u001b[0m\n\u001b[0;32m----> 2\u001b[0;31m \u001b[0mpage\u001b[0m \u001b[0;34m=\u001b[0m \u001b[0murllib2\u001b[0m\u001b[0;34m.\u001b[0m\u001b[0murlopen\u001b[0m\u001b[0;34m(\u001b[0m\u001b[0murl\u001b[0m\u001b[0;34m)\u001b[0m\u001b[0;34m\u001b[0m\u001b[0m\n\u001b[0m\u001b[1;32m      3\u001b[0m \u001b[0msoup\u001b[0m \u001b[0;34m=\u001b[0m \u001b[0mBeautifulSoup\u001b[0m\u001b[0;34m(\u001b[0m\u001b[0mpage\u001b[0m\u001b[0;34m)\u001b[0m\u001b[0;34m\u001b[0m\u001b[0m\n",
      "\u001b[0;32m/Users/Work/anaconda/lib/python2.7/urllib2.pyc\u001b[0m in \u001b[0;36murlopen\u001b[0;34m(url, data, timeout, cafile, capath, cadefault, context)\u001b[0m\n\u001b[1;32m    152\u001b[0m     \u001b[0;32melse\u001b[0m\u001b[0;34m:\u001b[0m\u001b[0;34m\u001b[0m\u001b[0m\n\u001b[1;32m    153\u001b[0m         \u001b[0mopener\u001b[0m \u001b[0;34m=\u001b[0m \u001b[0m_opener\u001b[0m\u001b[0;34m\u001b[0m\u001b[0m\n\u001b[0;32m--> 154\u001b[0;31m     \u001b[0;32mreturn\u001b[0m \u001b[0mopener\u001b[0m\u001b[0;34m.\u001b[0m\u001b[0mopen\u001b[0m\u001b[0;34m(\u001b[0m\u001b[0murl\u001b[0m\u001b[0;34m,\u001b[0m \u001b[0mdata\u001b[0m\u001b[0;34m,\u001b[0m \u001b[0mtimeout\u001b[0m\u001b[0;34m)\u001b[0m\u001b[0;34m\u001b[0m\u001b[0m\n\u001b[0m\u001b[1;32m    155\u001b[0m \u001b[0;34m\u001b[0m\u001b[0m\n\u001b[1;32m    156\u001b[0m \u001b[0;32mdef\u001b[0m \u001b[0minstall_opener\u001b[0m\u001b[0;34m(\u001b[0m\u001b[0mopener\u001b[0m\u001b[0;34m)\u001b[0m\u001b[0;34m:\u001b[0m\u001b[0;34m\u001b[0m\u001b[0m\n",
      "\u001b[0;32m/Users/Work/anaconda/lib/python2.7/urllib2.pyc\u001b[0m in \u001b[0;36mopen\u001b[0;34m(self, fullurl, data, timeout)\u001b[0m\n\u001b[1;32m    433\u001b[0m         \u001b[0;32mfor\u001b[0m \u001b[0mprocessor\u001b[0m \u001b[0;32min\u001b[0m \u001b[0mself\u001b[0m\u001b[0;34m.\u001b[0m\u001b[0mprocess_response\u001b[0m\u001b[0;34m.\u001b[0m\u001b[0mget\u001b[0m\u001b[0;34m(\u001b[0m\u001b[0mprotocol\u001b[0m\u001b[0;34m,\u001b[0m \u001b[0;34m[\u001b[0m\u001b[0;34m]\u001b[0m\u001b[0;34m)\u001b[0m\u001b[0;34m:\u001b[0m\u001b[0;34m\u001b[0m\u001b[0m\n\u001b[1;32m    434\u001b[0m             \u001b[0mmeth\u001b[0m \u001b[0;34m=\u001b[0m \u001b[0mgetattr\u001b[0m\u001b[0;34m(\u001b[0m\u001b[0mprocessor\u001b[0m\u001b[0;34m,\u001b[0m \u001b[0mmeth_name\u001b[0m\u001b[0;34m)\u001b[0m\u001b[0;34m\u001b[0m\u001b[0m\n\u001b[0;32m--> 435\u001b[0;31m             \u001b[0mresponse\u001b[0m \u001b[0;34m=\u001b[0m \u001b[0mmeth\u001b[0m\u001b[0;34m(\u001b[0m\u001b[0mreq\u001b[0m\u001b[0;34m,\u001b[0m \u001b[0mresponse\u001b[0m\u001b[0;34m)\u001b[0m\u001b[0;34m\u001b[0m\u001b[0m\n\u001b[0m\u001b[1;32m    436\u001b[0m \u001b[0;34m\u001b[0m\u001b[0m\n\u001b[1;32m    437\u001b[0m         \u001b[0;32mreturn\u001b[0m \u001b[0mresponse\u001b[0m\u001b[0;34m\u001b[0m\u001b[0m\n",
      "\u001b[0;32m/Users/Work/anaconda/lib/python2.7/urllib2.pyc\u001b[0m in \u001b[0;36mhttp_response\u001b[0;34m(self, request, response)\u001b[0m\n\u001b[1;32m    546\u001b[0m         \u001b[0;32mif\u001b[0m \u001b[0;32mnot\u001b[0m \u001b[0;34m(\u001b[0m\u001b[0;36m200\u001b[0m \u001b[0;34m<=\u001b[0m \u001b[0mcode\u001b[0m \u001b[0;34m<\u001b[0m \u001b[0;36m300\u001b[0m\u001b[0;34m)\u001b[0m\u001b[0;34m:\u001b[0m\u001b[0;34m\u001b[0m\u001b[0m\n\u001b[1;32m    547\u001b[0m             response = self.parent.error(\n\u001b[0;32m--> 548\u001b[0;31m                 'http', request, response, code, msg, hdrs)\n\u001b[0m\u001b[1;32m    549\u001b[0m \u001b[0;34m\u001b[0m\u001b[0m\n\u001b[1;32m    550\u001b[0m         \u001b[0;32mreturn\u001b[0m \u001b[0mresponse\u001b[0m\u001b[0;34m\u001b[0m\u001b[0m\n",
      "\u001b[0;32m/Users/Work/anaconda/lib/python2.7/urllib2.pyc\u001b[0m in \u001b[0;36merror\u001b[0;34m(self, proto, *args)\u001b[0m\n\u001b[1;32m    471\u001b[0m         \u001b[0;32mif\u001b[0m \u001b[0mhttp_err\u001b[0m\u001b[0;34m:\u001b[0m\u001b[0;34m\u001b[0m\u001b[0m\n\u001b[1;32m    472\u001b[0m             \u001b[0margs\u001b[0m \u001b[0;34m=\u001b[0m \u001b[0;34m(\u001b[0m\u001b[0mdict\u001b[0m\u001b[0;34m,\u001b[0m \u001b[0;34m'default'\u001b[0m\u001b[0;34m,\u001b[0m \u001b[0;34m'http_error_default'\u001b[0m\u001b[0;34m)\u001b[0m \u001b[0;34m+\u001b[0m \u001b[0morig_args\u001b[0m\u001b[0;34m\u001b[0m\u001b[0m\n\u001b[0;32m--> 473\u001b[0;31m             \u001b[0;32mreturn\u001b[0m \u001b[0mself\u001b[0m\u001b[0;34m.\u001b[0m\u001b[0m_call_chain\u001b[0m\u001b[0;34m(\u001b[0m\u001b[0;34m*\u001b[0m\u001b[0margs\u001b[0m\u001b[0;34m)\u001b[0m\u001b[0;34m\u001b[0m\u001b[0m\n\u001b[0m\u001b[1;32m    474\u001b[0m \u001b[0;34m\u001b[0m\u001b[0m\n\u001b[1;32m    475\u001b[0m \u001b[0;31m# XXX probably also want an abstract factory that knows when it makes\u001b[0m\u001b[0;34m\u001b[0m\u001b[0;34m\u001b[0m\u001b[0m\n",
      "\u001b[0;32m/Users/Work/anaconda/lib/python2.7/urllib2.pyc\u001b[0m in \u001b[0;36m_call_chain\u001b[0;34m(self, chain, kind, meth_name, *args)\u001b[0m\n\u001b[1;32m    405\u001b[0m             \u001b[0mfunc\u001b[0m \u001b[0;34m=\u001b[0m \u001b[0mgetattr\u001b[0m\u001b[0;34m(\u001b[0m\u001b[0mhandler\u001b[0m\u001b[0;34m,\u001b[0m \u001b[0mmeth_name\u001b[0m\u001b[0;34m)\u001b[0m\u001b[0;34m\u001b[0m\u001b[0m\n\u001b[1;32m    406\u001b[0m \u001b[0;34m\u001b[0m\u001b[0m\n\u001b[0;32m--> 407\u001b[0;31m             \u001b[0mresult\u001b[0m \u001b[0;34m=\u001b[0m \u001b[0mfunc\u001b[0m\u001b[0;34m(\u001b[0m\u001b[0;34m*\u001b[0m\u001b[0margs\u001b[0m\u001b[0;34m)\u001b[0m\u001b[0;34m\u001b[0m\u001b[0m\n\u001b[0m\u001b[1;32m    408\u001b[0m             \u001b[0;32mif\u001b[0m \u001b[0mresult\u001b[0m \u001b[0;32mis\u001b[0m \u001b[0;32mnot\u001b[0m \u001b[0mNone\u001b[0m\u001b[0;34m:\u001b[0m\u001b[0;34m\u001b[0m\u001b[0m\n\u001b[1;32m    409\u001b[0m                 \u001b[0;32mreturn\u001b[0m \u001b[0mresult\u001b[0m\u001b[0;34m\u001b[0m\u001b[0m\n",
      "\u001b[0;32m/Users/Work/anaconda/lib/python2.7/urllib2.pyc\u001b[0m in \u001b[0;36mhttp_error_default\u001b[0;34m(self, req, fp, code, msg, hdrs)\u001b[0m\n\u001b[1;32m    554\u001b[0m \u001b[0;32mclass\u001b[0m \u001b[0mHTTPDefaultErrorHandler\u001b[0m\u001b[0;34m(\u001b[0m\u001b[0mBaseHandler\u001b[0m\u001b[0;34m)\u001b[0m\u001b[0;34m:\u001b[0m\u001b[0;34m\u001b[0m\u001b[0m\n\u001b[1;32m    555\u001b[0m     \u001b[0;32mdef\u001b[0m \u001b[0mhttp_error_default\u001b[0m\u001b[0;34m(\u001b[0m\u001b[0mself\u001b[0m\u001b[0;34m,\u001b[0m \u001b[0mreq\u001b[0m\u001b[0;34m,\u001b[0m \u001b[0mfp\u001b[0m\u001b[0;34m,\u001b[0m \u001b[0mcode\u001b[0m\u001b[0;34m,\u001b[0m \u001b[0mmsg\u001b[0m\u001b[0;34m,\u001b[0m \u001b[0mhdrs\u001b[0m\u001b[0;34m)\u001b[0m\u001b[0;34m:\u001b[0m\u001b[0;34m\u001b[0m\u001b[0m\n\u001b[0;32m--> 556\u001b[0;31m         \u001b[0;32mraise\u001b[0m \u001b[0mHTTPError\u001b[0m\u001b[0;34m(\u001b[0m\u001b[0mreq\u001b[0m\u001b[0;34m.\u001b[0m\u001b[0mget_full_url\u001b[0m\u001b[0;34m(\u001b[0m\u001b[0;34m)\u001b[0m\u001b[0;34m,\u001b[0m \u001b[0mcode\u001b[0m\u001b[0;34m,\u001b[0m \u001b[0mmsg\u001b[0m\u001b[0;34m,\u001b[0m \u001b[0mhdrs\u001b[0m\u001b[0;34m,\u001b[0m \u001b[0mfp\u001b[0m\u001b[0;34m)\u001b[0m\u001b[0;34m\u001b[0m\u001b[0m\n\u001b[0m\u001b[1;32m    557\u001b[0m \u001b[0;34m\u001b[0m\u001b[0m\n\u001b[1;32m    558\u001b[0m \u001b[0;32mclass\u001b[0m \u001b[0mHTTPRedirectHandler\u001b[0m\u001b[0;34m(\u001b[0m\u001b[0mBaseHandler\u001b[0m\u001b[0;34m)\u001b[0m\u001b[0;34m:\u001b[0m\u001b[0;34m\u001b[0m\u001b[0m\n",
      "\u001b[0;31mHTTPError\u001b[0m: HTTP Error 403: Forbidden"
     ]
    }
   ],
   "source": [
    "url='http://www.metacritic.com/music/run-the-jewels-3/run-the-jewels'\n",
    "page = urllib2.urlopen(url)\n",
    "soup = BeautifulSoup(page)"
   ]
  }
 ],
 "metadata": {
  "kernelspec": {
   "display_name": "Python 2",
   "language": "python",
   "name": "python2"
  },
  "language_info": {
   "codemirror_mode": {
    "name": "ipython",
    "version": 2
   },
   "file_extension": ".py",
   "mimetype": "text/x-python",
   "name": "python",
   "nbconvert_exporter": "python",
   "pygments_lexer": "ipython2",
   "version": "2.7.13"
  }
 },
 "nbformat": 4,
 "nbformat_minor": 0
}
