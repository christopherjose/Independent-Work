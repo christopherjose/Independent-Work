{
 "cells": [
  {
   "cell_type": "code",
   "execution_count": 11,
   "metadata": {
    "collapsed": true
   },
   "outputs": [],
   "source": [
    "from IPython.core.interactiveshell import InteractiveShell\n",
    "InteractiveShell.ast_node_interactivity = \"all\"\n",
    "# change to all outputs of a cell (such as if df.head() and df.tail() are in the same cell\n",
    "#default is 'last_expr'"
   ]
  },
  {
   "cell_type": "code",
   "execution_count": 55,
   "metadata": {
    "collapsed": false
   },
   "outputs": [],
   "source": [
    "#Use the following code in markdown to make it green.  </font> is not necessary if you want the whole cell to be green.\n",
    "#<font color='green'> </font>"
   ]
  },
  {
   "cell_type": "markdown",
   "metadata": {},
   "source": [
    "## Raw Strings"
   ]
  },
  {
   "cell_type": "markdown",
   "metadata": {},
   "source": [
    "**Raw strings** are characters enclosed in quotes, but whose escape sequences remain in the string when the string is printed.<br>\n",
    "Raw strings are the same as literal strings, except the backslash no longer functions as an escape character (thought it functions as a line continuation operator). <br> \n",
    "Place an r in front of a literal string to make it a raw string, so that all metacharacters, which aren't usually printed, are printed. <br>\n",
    "**r'text'**<br>\n",
    "\n",
    "Backslashes no longer function as an escape character in escape sequences, except for quotes. <br> \n",
    "Thus, escape sequences no longer function, except for quotes. <br>\n",
    "Backslashes still function as a line continuation operator and are not printed when used in this capacity. <br>\n",
    "You can't end raw strings with a backslash since it escapes the ending quote's meaning and the string won't end.\n",
    "\n",
    "In using () for raw strings for line continuation, put them before r: <br>\n",
    "**(r'This is' <br>\n",
    "'a sentence')** <br>"
   ]
  },
  {
   "cell_type": "code",
   "execution_count": 5,
   "metadata": {
    "collapsed": false
   },
   "outputs": [
    {
     "name": "stdout",
     "output_type": "stream",
     "text": [
      "\\'This sentence is split between \n",
      "two lines in two different ways'\n"
     ]
    }
   ],
   "source": [
    "print (r'\\'This sentence is split '\n",
    "'between \\ntwo lines in two different ways\\'')"
   ]
  },
  {
   "cell_type": "code",
   "execution_count": 6,
   "metadata": {
    "collapsed": false
   },
   "outputs": [
    {
     "name": "stdout",
     "output_type": "stream",
     "text": [
      "\\'This sentence is split between \\ntwo lines in two different ways\\'\n"
     ]
    }
   ],
   "source": [
    "print r'\\'This sentence is split \\\n",
    "between \\ntwo lines in two different ways\\'' \n",
    "#The escape sequences are \\' and \\n, and \\ is used as a line continuation operator."
   ]
  },
  {
   "cell_type": "markdown",
   "metadata": {},
   "source": [
    "## Line Continuation for Strings"
   ]
  },
  {
   "cell_type": "markdown",
   "metadata": {},
   "source": [
    "Line continuation is the act of breaking the line of code so that it is continued on the next line.<br>\n",
    "Line continuation can be done for code AND strings. <br>\n",
    "Line continuation for strings allows a string's code to be continued on the next line, but when the string is printed, the entire string is still shown on the same line. <br>\n",
    "\\ serves as a **line continuation character** (aka line continuation operator). <br>\n",
    "(),[], and {} an also be used for _implied_ line continuation, meaning without needing the line continuation character. <br>\n",
    "It is recommended that parentheses () are used instead of '''.  <br>\n",
    "Triple quotes offer line continuation in that you can break a string up on multiple lines, but the string is actually shown on multiple lines when printed."
   ]
  },
  {
   "cell_type": "code",
   "execution_count": 7,
   "metadata": {
    "collapsed": false
   },
   "outputs": [
    {
     "name": "stdout",
     "output_type": "stream",
     "text": [
      "This string ends on the same line.\n"
     ]
    }
   ],
   "source": [
    "print 'This string ends \\\n",
    "on the same line.'"
   ]
  },
  {
   "cell_type": "code",
   "execution_count": 8,
   "metadata": {
    "collapsed": false
   },
   "outputs": [
    {
     "name": "stdout",
     "output_type": "stream",
     "text": [
      "This string is raw and ends on the same line.\n"
     ]
    }
   ],
   "source": [
    "print (r'This string is raw and '\n",
    "      'ends on the same line.')"
   ]
  },
  {
   "cell_type": "code",
   "execution_count": 9,
   "metadata": {
    "collapsed": false
   },
   "outputs": [
    {
     "name": "stdout",
     "output_type": "stream",
     "text": [
      "This string \n",
      "ends on the next line.\n"
     ]
    }
   ],
   "source": [
    "print '''This string \n",
    "ends on the next line.'''"
   ]
  },
  {
   "cell_type": "markdown",
   "metadata": {},
   "source": [
    "## Escaping from the normal meaning of characters in a string literal."
   ]
  },
  {
   "cell_type": "markdown",
   "metadata": {},
   "source": [
    "**String literals** are characters enclosed in single, double, or triple quotes. <br> \n",
    "**Metacharacters** are characters that have a special meaning to a computer program (as opposed to a literal meaning).<br>\n",
    "**Escape Sequences** are used in string literals to escape the normal meaning of a character or combination of characters.  <br>It consists of a backslash followed by a character or combination of characters. (\\ + characters), where characters might equal n or \\n, for instance.  <br>\n",
    "**Escape characters** are backslashes placed at the beginning of an escape sequence.  They are signals that the characters that follow in the escape sequence are to have a special meaning.  Backslash is also used as a line continuation operator so you can write a string on multiple lines.<br>\n",
    "\n",
    "Metacharacters in a string literal can include: \\ (the escape character), ' (a single quote),'' (double quotes). <br> \n",
    "An escape sequence can give a literal meaning to characters that normally have special meanings. <br>\n",
    "An escape sequence can give a special meaning to characters that normally have literal meanings. <br>\n",
    "Escape sequences that give a special meaning to characters are often themselves referred to as characters, <br>such as a \"newline character\"(\\n) or \"tab character\" (\\t).\n",
    "\n",
    "**\\\\\\n** escape special meaning of \\n to show, when printing the string, '\\n'<br>\n",
    "**\\n** newline escape sequence <br>\n",
    "**\\t** tab escape sequence <br>\n",
    "**\\'** escape special meaning of single quote if the string was made with single quotes<br>\n",
    "***\\\\\\*** escape special meaning of backslash, which has a special meaning in single or double quote strings to let you keep writing them (to continue them) on the next line without an error (triple quotes solves this problem though)"
   ]
  },
  {
   "cell_type": "code",
   "execution_count": 178,
   "metadata": {
    "collapsed": false
   },
   "outputs": [
    {
     "data": {
      "text/plain": [
       "'?\\\\\\\\?'"
      ]
     },
     "execution_count": 178,
     "metadata": {},
     "output_type": "execute_result"
    }
   ],
   "source": [
    "r'?\\\\?' \n",
    "#let's call the right backslash, b1\n",
    "#let's call the left backslash, b2\n",
    "#since raw strings add a backslash for every backslash to escape it's special meaning potentially,\n",
    "#a backslash is added to the left of b1 and a backslash is added to the left of b2 in the output\n",
    "#thus output = \\b2\\b1 = \\\\\\"
   ]
  },
  {
   "cell_type": "code",
   "execution_count": 179,
   "metadata": {
    "collapsed": false
   },
   "outputs": [
    {
     "name": "stdout",
     "output_type": "stream",
     "text": [
      "\n",
      "hi\n",
      "\\nhi\n",
      "\\\n",
      "hi\n"
     ]
    }
   ],
   "source": [
    "print '\\nhi' # 1st \\ escapes n.  \\n\n",
    "print '\\\\nhi' # 2nd \\ escapes newline character \\(\\n)\n",
    "print '\\\\\\nhi' # 3rd \\ escapes the 2nd backslash , so the newline character's special meaning still remains\n",
    "#read backslashes from left to right, so in the third print, the leftmost \\ nullifies the meaning of the next one"
   ]
  },
  {
   "cell_type": "markdown",
   "metadata": {},
   "source": [
    "## The repr() and str() Functions"
   ]
  },
  {
   "cell_type": "markdown",
   "metadata": {},
   "source": [
    "String objects in python can be shown in two ways, meaning there are two **string representations** of objects:<br> \n",
    "**repr()** is a built-in function that returns the \"official string representation\" of a string. <br>\n",
    "**str()** returns the \"informal string representation\" or \"nicely printable string representation\". <br>\n",
    "\n",
    "These functions call **special methods**, as indicated by underscores: \\__ method name\\__. <br>\n",
    "repr() calls the \\__repr\\__ special method, which can be accessed as obj.\\__repr\\__() <br>\n",
    "str() calls the \\__str\\__ special method, which can be accessed as obj.\\__str\\__() <br>\n",
    "http://www.diveintopython3.net/special-method-names.html <br>"
   ]
  },
  {
   "cell_type": "markdown",
   "metadata": {},
   "source": [
    "## Official String Representations of Literal Strings"
   ]
  },
  {
   "cell_type": "markdown",
   "metadata": {},
   "source": [
    "**print repr(text)** <br>\n",
    "_Prints_ the official representation of the string. <br>\n",
    "All characters in the string are shown, since they are treated as literals (except for \\ as a line continuation character). <br>\n",
    "Outermost quotes around the text are not shown.<br>\n",
    "**print repr('h\\ni')  \n",
    "'h\\ni' **  \n"
   ]
  },
  {
   "cell_type": "code",
   "execution_count": 8,
   "metadata": {
    "collapsed": false
   },
   "outputs": [
    {
     "name": "stdout",
     "output_type": "stream",
     "text": [
      "'h\\ni'\n"
     ]
    }
   ],
   "source": [
    "print repr('h\\ni')"
   ]
  },
  {
   "cell_type": "markdown",
   "metadata": {},
   "source": [
    "**repr(text)** <br>\n",
    "_Shows_ the official representation of the string, as seen in the interpreter. <br>\n",
    "Type this into the Python interpreter or into Jupyter Notebooks and press enter (its display shortcut is what you see in a Python interpreter). <br>\n",
    "This is the same thing as **print repr(  repr(string)  ).** <br>\n",
    "+ Adds a backslash to every backslash, so all characters are treated as literals except for \\ as a line continuation operator. <br>  This escapes the meaning of every backslash so that Python does not potentially interpret the backslash as an escape character, which would result in some of the string not being printed. <br>\n",
    "\n",
    "\n",
    "+ Adds double quotes around the string  <br> The result of repr() is itself a string (a string of the official string representation of the string). <br>\n",
    "**print repr(string) => \"official string\" aka \"official string representation of string\" => string object that contains a string object**. <br>\n",
    "\n",
    "\n",
    "+ **repr()** can be passed as an argument to the built-in **eval()** function, and then the original string will be returned.  <br>\n",
    "eval() strips the quotes of a string away and evaluates the expression that remains (eval('1+1')=1+1=2).  <br>Since repr() addes quotes to a string, these quotes are then stripped by eval(), leaving the original string (eval(repr('1+1'))=eval(\"'1+1'\")='1+1'. \n",
    "\n",
    "**repr('h\\ni')   \n",
    "\"'h\\\\ni'\" **  "
   ]
  },
  {
   "cell_type": "code",
   "execution_count": 121,
   "metadata": {
    "collapsed": false
   },
   "outputs": [
    {
     "name": "stdout",
     "output_type": "stream",
     "text": [
      "'h\\ni'\n"
     ]
    },
    {
     "data": {
      "text/plain": [
       "\"'h\\\\ni'\""
      ]
     },
     "execution_count": 121,
     "metadata": {},
     "output_type": "execute_result"
    },
    {
     "name": "stdout",
     "output_type": "stream",
     "text": [
      "\"'h\\\\ni'\"\n"
     ]
    }
   ],
   "source": [
    "print repr('h\\ni')\n",
    "repr('h\\ni')\n",
    "print repr(repr('h\\ni'))"
   ]
  },
  {
   "cell_type": "markdown",
   "metadata": {},
   "source": [
    "## Informal String Representations of Literal Strings"
   ]
  },
  {
   "cell_type": "markdown",
   "metadata": {},
   "source": [
    "**print str(text)** <br>\n",
    "_Prints_ the informal representation of the string. <br>\n",
    "This is the same thing as printing the text normally: **print text** <br> \n",
    "Metacharacters (escape sequences) retain their special meaning and their literal values are not printed. <br>\n",
    "Outermost quotes around the text are not shown.  \n",
    "If text is not already a string, converts it to a string format first.<br>\n",
    "**print str('h\\ni')** <br>\n",
    "**h <br>\n",
    "i**"
   ]
  },
  {
   "cell_type": "markdown",
   "metadata": {},
   "source": [
    "**str(text)** <br>\n",
    "_Shows_ the informal representation of the string, as seen in the interpreter. <br>\n",
    "Type this into the Python interpreter or into Jupyter Notebooks and press enter (its display shortcut is what you see in a Python interpreter). <br>\n",
    "This is the same thing as **print str(  repr(string)  ).** <br>\n",
    "+ treats all characters as literals except for \\ as a line continuation operator. <br>\n",
    "+ does _not_ add a backslash to every backslash<br>\n",
    "+ does _not_ add double quotes to strings passed to it <br>\n",
    "Thus, the result of str() is not itself a string containing the original string.  The result is the passed code which has been \"string-ified\" to be in the format of the informal string representation of the code. <br>\n",
    "**str(string) => informal string object**"
   ]
  },
  {
   "cell_type": "code",
   "execution_count": 131,
   "metadata": {
    "collapsed": false
   },
   "outputs": [
    {
     "name": "stdout",
     "output_type": "stream",
     "text": [
      "h\n",
      "i\n"
     ]
    },
    {
     "data": {
      "text/plain": [
       "'h\\ni'"
      ]
     },
     "execution_count": 131,
     "metadata": {},
     "output_type": "execute_result"
    },
    {
     "name": "stdout",
     "output_type": "stream",
     "text": [
      "'h\\ni'\n"
     ]
    }
   ],
   "source": [
    "print str('h\\ni')\n",
    "str('h\\ni')\n",
    "print str(repr('h\\ni'))"
   ]
  },
  {
   "cell_type": "markdown",
   "metadata": {},
   "source": [
    "<font color='green'> stackoverflow: <br>\n",
    "</font>Note that when you just type str(s) in the interpreter, it's printing out repr(str(s)), because the interpreter displays the repr of any expression you type. print str(s) and print repr(s) and you might find it more enlightening. – abarnert Oct 12 '13 at 6:59"
   ]
  },
  {
   "cell_type": "markdown",
   "metadata": {},
   "source": [
    "## Representations of Raw Strings"
   ]
  },
  {
   "cell_type": "markdown",
   "metadata": {},
   "source": [
    "**strings** in the interpreter show all characters literally and no extra backslashes<br>\n",
    "**raw strings** in the interpreter show all characters literally and extra backslashes for all backslashes.<br>\n",
    "When the raw string is printed, the extra \\ are not printed, but tell Python to treat literally the original \\'s.<br>\n",
    "**str(raw string)** in the interpreter shows the same thing as raw strings and print repr(raw strings)<br>\n",
    "**str(string)** in the interpreter shows the same thing as strings<br>\n",
    "**repr(raw string)** in the interpreter shows all characters literally and extra backslashes (incl for backslashes that the raw string added).  \n",
    "By using repr(), when this expression is printed, the extra \\ that the raw string added will also be printed.<br>\n",
    "\n",
    "**print repr(raw string)** prints all characters literally and extra backslashes for all backslashes (same as entering the raw string in the interpreter)<br>\n",
    "The extra backslashes created by repr() are NOT printed and tell Python to treat literally all backslashes in the raw string.  <br>\n",
    "The raw string creates a \\ for each \\ in the string and repr()'s non-printed \\s tell Python to treat literally, while printing, these two kinds of \\'s in the raw string. <br>\n",
    "**print (raw string)** prints all characters literally and no extra backslashes for backslashes<br>\n",
    "**print str(raw string)** prints same as above (all characters literally)\n",
    "\n",
    "\n",
    "repr(raw string) will have double the backslashes as (raw string) in the interpreter if none are line continuation operators"
   ]
  },
  {
   "cell_type": "code",
   "execution_count": 172,
   "metadata": {
    "collapsed": false
   },
   "outputs": [
    {
     "data": {
      "text/plain": [
       "'h\\ni'"
      ]
     },
     "execution_count": 172,
     "metadata": {},
     "output_type": "execute_result"
    },
    {
     "data": {
      "text/plain": [
       "True"
      ]
     },
     "execution_count": 172,
     "metadata": {},
     "output_type": "execute_result"
    },
    {
     "data": {
      "text/plain": [
       "'h\\\\ni'"
      ]
     },
     "execution_count": 172,
     "metadata": {},
     "output_type": "execute_result"
    },
    {
     "data": {
      "text/plain": [
       "True"
      ]
     },
     "execution_count": 172,
     "metadata": {},
     "output_type": "execute_result"
    },
    {
     "data": {
      "text/plain": [
       "\"'h\\\\\\\\ni'\""
      ]
     },
     "execution_count": 172,
     "metadata": {},
     "output_type": "execute_result"
    }
   ],
   "source": [
    "'h\\ni'\n",
    "'h\\ni' ==str('h\\ni')\n",
    "r'h\\ni'\n",
    "r'h\\ni'==str(r'h\\ni')\n",
    "repr(r'h\\ni' )"
   ]
  },
  {
   "cell_type": "code",
   "execution_count": 177,
   "metadata": {
    "collapsed": false,
    "scrolled": true
   },
   "outputs": [
    {
     "name": "stdout",
     "output_type": "stream",
     "text": [
      "'h\\\\ni'\n",
      "h\\ni\n",
      "h\\ni\n",
      "'h\\\\ni'\n"
     ]
    },
    {
     "data": {
      "text/plain": [
       "'h\\\\ni'"
      ]
     },
     "execution_count": 177,
     "metadata": {},
     "output_type": "execute_result"
    }
   ],
   "source": [
    "print repr(r'h\\ni' )\n",
    "print str(r'h\\ni' )\n",
    "print r'h\\ni' \n",
    "print repr(str(r'h\\ni' ))\n",
    "str(r'h\\ni' )"
   ]
  },
  {
   "cell_type": "markdown",
   "metadata": {},
   "source": [
    "## Guidelines for understanding string output in the interpreter"
   ]
  },
  {
   "cell_type": "markdown",
   "metadata": {},
   "source": [
    "1. Is the string literal or raw?\n",
    "2. Is the string being passed as an argument to str(), repr(), or neither?\n",
    "3. Is the expression being printed or entered into the interpreter?"
   ]
  },
  {
   "cell_type": "markdown",
   "metadata": {},
   "source": [
    "**literal, no function, interpreter** -> shows string as is (all characters are literal)<br>\n",
    "**raw, no function, interpreter** -> shows string as is (all characters are literal), but with two backslashes for every backslash <br>\n",
    "**literal, str(), interpreter** -> shows string as is (all characters are literal)<br>\n",
    "**literal, repr(), interpreter** -> shows string as is (all characters are literal), but contained in quotes, and with two backslashes for every backslash <br>\n",
    "**raw, str(), interpreter** -> shows string as is (all characters are literal), but with two extra backslashes for every backslash  <br>\n",
    "**raw, repr(), interpreter** -> shows string as is (all characters are literal), but with three extra \\ for every 1 \\ in the original, literal string.  <br> In other words, the output has 4 \\ for every 1 \\ in the original, literal string.\n",
    "\n",
    "**literal, no function, print** -> prints string (metacharacters retain their meaning), quotes that define the string are not shown, <br>\n",
    "**raw, no function, print** -> prints raw string as is (all characters are literal), quotes that define the string are not shown<br>\n",
    "**literal, str(), print** -> prints string (metacharacters retain their meaning), quotes that define the string are not shown, <br>\n",
    "**literal, repr(), print** -> prints string as is (all characters are literal), quotes that define the string are shown, outermost quotes from repr() are stripped away      <br>\n",
    "**raw, str(), print** -> prints string as is (all characters are literal), quotes that define the string are not shown<br>\n",
    "**raw, repr(), print** -> prints string as is (all characters are literal), quotes that define the string are shown, an extra backslash for each backslash is shown\n",
    "\n",
    "\\ as a line continuation operator retains its special meaning in all of the above "
   ]
  }
 ],
 "metadata": {
  "kernelspec": {
   "display_name": "Python 2",
   "language": "python",
   "name": "python2"
  },
  "language_info": {
   "codemirror_mode": {
    "name": "ipython",
    "version": 2
   },
   "file_extension": ".py",
   "mimetype": "text/x-python",
   "name": "python",
   "nbconvert_exporter": "python",
   "pygments_lexer": "ipython2",
   "version": "2.7.10"
  }
 },
 "nbformat": 4,
 "nbformat_minor": 0
}
