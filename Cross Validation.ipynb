{
 "cells": [
  {
   "cell_type": "markdown",
   "metadata": {},
   "source": [
    "# Validation Set Approach"
   ]
  },
  {
   "cell_type": "code",
   "execution_count": 63,
   "metadata": {
    "collapsed": false
   },
   "outputs": [],
   "source": [
    "library(ISLR)\n",
    "set.seed(1)\n",
    "train=sample(392,196) #select a random subset of 192 obs out of 396 obs"
   ]
  },
  {
   "cell_type": "code",
   "execution_count": 64,
   "metadata": {
    "collapsed": false
   },
   "outputs": [
    {
     "data": {
      "text/html": [
       "26.1414211520072"
      ],
      "text/latex": [
       "26.1414211520072"
      ],
      "text/markdown": [
       "26.1414211520072"
      ],
      "text/plain": [
       "[1] 26.14142"
      ]
     },
     "metadata": {},
     "output_type": "display_data"
    }
   ],
   "source": [
    "lm=lm(mpg~horsepower,data=Auto,subset=train) #use subset option to fit only obs in train set\n",
    "mean((mpg-predict(lm,Auto))[-train]^2)  #calulate MSE on test set\n",
    "#predict(lm,Auto) takes the whole df and makes predictions just from the vars in the model\n",
    "#(mpg-predict(lm,Auto))[-train] --> only errors NOT in the training data are selected"
   ]
  },
  {
   "cell_type": "code",
   "execution_count": 71,
   "metadata": {
    "collapsed": false
   },
   "outputs": [
    {
     "data": {
      "text/html": [
       "19.8225850408262"
      ],
      "text/latex": [
       "19.8225850408262"
      ],
      "text/markdown": [
       "19.8225850408262"
      ],
      "text/plain": [
       "[1] 19.82259"
      ]
     },
     "metadata": {},
     "output_type": "display_data"
    },
    {
     "data": {
      "text/html": [
       "19.8225850408262"
      ],
      "text/latex": [
       "19.8225850408262"
      ],
      "text/markdown": [
       "19.8225850408262"
      ],
      "text/plain": [
       "[1] 19.82259"
      ]
     },
     "metadata": {},
     "output_type": "display_data"
    }
   ],
   "source": [
    "lm2=lm(mpg~horsepower+I(horsepower^2),data=Auto,subset=train)\n",
    "lm3=lm(mpg~poly(horsepower,2),data=Auto,subset=train)\n",
    "mean((mpg-predict(lm2,Auto))[-train]^2)\n",
    "mean((mpg-predict(lm3,Auto))[-train]^2)"
   ]
  },
  {
   "cell_type": "markdown",
   "metadata": {},
   "source": [
    "# Leave-One-Out Cross-Validation"
   ]
  },
  {
   "cell_type": "code",
   "execution_count": 87,
   "metadata": {
    "collapsed": false
   },
   "outputs": [
    {
     "data": {
      "text/html": [
       "<ol class=list-inline>\n",
       "\t<li>24.2315135179292</li>\n",
       "\t<li>24.2311440937562</li>\n",
       "</ol>\n"
      ],
      "text/latex": [
       "\\begin{enumerate*}\n",
       "\\item 24.2315135179292\n",
       "\\item 24.2311440937562\n",
       "\\end{enumerate*}\n"
      ],
      "text/markdown": [
       "1. 24.2315135179292\n",
       "2. 24.2311440937562\n",
       "\n",
       "\n"
      ],
      "text/plain": [
       "[1] 24.23151 24.23114"
      ]
     },
     "metadata": {},
     "output_type": "display_data"
    }
   ],
   "source": [
    "library(boot)\n",
    "glm=glm(mpg~horsepower,data=Auto) #performs linear regression without the family argument\n",
    "                         #we'll use this instead of lm because it has bootstrap abilities\n",
    "cv.error=cv.glm(Auto,glm) #cv.glm() is part of the boot library\n",
    "cv.error$delta #provides the LOOVC test error statistic in this case (both #s are the same)"
   ]
  },
  {
   "cell_type": "code",
   "execution_count": 104,
   "metadata": {
    "collapsed": false
   },
   "outputs": [
    {
     "data": {
      "text/html": [
       "<ol class=list-inline>\n",
       "\t<li>19.2482131244897</li>\n",
       "\t<li>19.2478749793005</li>\n",
       "</ol>\n"
      ],
      "text/latex": [
       "\\begin{enumerate*}\n",
       "\\item 19.2482131244897\n",
       "\\item 19.2478749793005\n",
       "\\end{enumerate*}\n"
      ],
      "text/markdown": [
       "1. 19.2482131244897\n",
       "2. 19.2478749793005\n",
       "\n",
       "\n"
      ],
      "text/plain": [
       "[1] 19.24821 19.24787"
      ]
     },
     "metadata": {},
     "output_type": "display_data"
    },
    {
     "data": {
      "text/html": [
       "<ol class=list-inline>\n",
       "\t<li>24.2315135179292</li>\n",
       "\t<li>19.2482131244897</li>\n",
       "\t<li>19.334984064029</li>\n",
       "\t<li>19.4244303104302</li>\n",
       "\t<li>19.0332138547041</li>\n",
       "</ol>\n"
      ],
      "text/latex": [
       "\\begin{enumerate*}\n",
       "\\item 24.2315135179292\n",
       "\\item 19.2482131244897\n",
       "\\item 19.334984064029\n",
       "\\item 19.4244303104302\n",
       "\\item 19.0332138547041\n",
       "\\end{enumerate*}\n"
      ],
      "text/markdown": [
       "1. 24.2315135179292\n",
       "2. 19.2482131244897\n",
       "3. 19.334984064029\n",
       "4. 19.4244303104302\n",
       "5. 19.0332138547041\n",
       "\n",
       "\n"
      ],
      "text/plain": [
       "[1] 24.23151 19.24821 19.33498 19.42443 19.03321"
      ]
     },
     "metadata": {},
     "output_type": "display_data"
    }
   ],
   "source": [
    "cv.error=rep(0,5)\n",
    "for (i in 1:5){\n",
    "glm.fit=glm(mpg~poly(horsepower,i),data=Auto)\n",
    "cv.error[i]=cv.glm(Auto,glm.fit)$delta[1]  \n",
    "}    #each delta vector has 2 #s = LOOCV = the same, so we take the first => $delta[1]\n",
    "cv.error"
   ]
  },
  {
   "cell_type": "markdown",
   "metadata": {},
   "source": [
    "# K-Fold Cross Validation"
   ]
  },
  {
   "cell_type": "code",
   "execution_count": 110,
   "metadata": {
    "collapsed": false
   },
   "outputs": [
    {
     "data": {
      "text/html": [
       "19.2792731245023"
      ],
      "text/latex": [
       "19.2792731245023"
      ],
      "text/markdown": [
       "19.2792731245023"
      ],
      "text/plain": [
       "[1] 19.27927"
      ]
     },
     "metadata": {},
     "output_type": "display_data"
    }
   ],
   "source": [
    "set.seed(17)\n",
    "glm=glm(mpg~poly(horsepower,2),data=Auto)\n",
    "cv.error=cv.glm(Auto,glm,K=10)$delta[1] #set K=10 to do 10-fold CV\n",
    "cv.error"
   ]
  },
  {
   "cell_type": "markdown",
   "metadata": {},
   "source": [
    "# The Bootstrap"
   ]
  },
  {
   "cell_type": "code",
   "execution_count": 122,
   "metadata": {
    "collapsed": false
   },
   "outputs": [
    {
     "data": {
      "text/html": [
       "0.57583207459283"
      ],
      "text/latex": [
       "0.57583207459283"
      ],
      "text/markdown": [
       "0.57583207459283"
      ],
      "text/plain": [
       "[1] 0.5758321"
      ]
     },
     "metadata": {},
     "output_type": "display_data"
    },
    {
     "data": {
      "text/html": [
       "0.596383302006392"
      ],
      "text/latex": [
       "0.596383302006392"
      ],
      "text/markdown": [
       "0.596383302006392"
      ],
      "text/plain": [
       "[1] 0.5963833"
      ]
     },
     "metadata": {},
     "output_type": "display_data"
    },
    {
     "data": {
      "text/plain": [
       "\n",
       "ORDINARY NONPARAMETRIC BOOTSTRAP\n",
       "\n",
       "\n",
       "Call:\n",
       "boot(data = Portfolio, statistic = alpha.fn, R = 1000)\n",
       "\n",
       "\n",
       "Bootstrap Statistics :\n",
       "     original        bias    std. error\n",
       "t1* 0.5758321 -7.315422e-05  0.08861826"
      ]
     },
     "metadata": {},
     "output_type": "display_data"
    }
   ],
   "source": [
    "library(boot)\n",
    "alpha.fn=function(data,index){\n",
    "X=data$X[index]\n",
    "Y=data$Y[index]\n",
    "return((var(Y)-cov(X,Y))/(var(X)+var(Y)-2*cov(X,Y))) } #create alpha statistic\n",
    "\n",
    "set.seed(1)\n",
    "alpha.fn(Portfolio ,1:100) #create alpha from first 100 obs\n",
    "alpha.fn(Portfolio,sample(100,100,replace=T)) \n",
    "#create alpha from 100 randomly selected obs with replacement from the first 100 obs\n",
    "boot(Portfolio ,alpha.fn,R=1000) \n",
    "# do the above operation to produce an estimated alpha 1000 times, but automated using boot()\n",
    "#original alpha from all data  = .5758, and the bootstrap estimate for SE(est alpha) = .0886"
   ]
  },
  {
   "cell_type": "code",
   "execution_count": 130,
   "metadata": {
    "collapsed": false
   },
   "outputs": [
    {
     "data": {
      "text/html": [
       "<dl class=dl-horizontal>\n",
       "\t<dt>(Intercept)</dt>\n",
       "\t\t<dd>39.9358610211705</dd>\n",
       "\t<dt>horsepower</dt>\n",
       "\t\t<dd>-0.157844733353654</dd>\n",
       "</dl>\n"
      ],
      "text/latex": [
       "\\begin{description*}\n",
       "\\item[(Intercept)] 39.9358610211705\n",
       "\\item[horsepower] -0.157844733353654\n",
       "\\end{description*}\n"
      ],
      "text/markdown": [
       "(Intercept)\n",
       ":   39.9358610211705horsepower\n",
       ":   -0.157844733353654\n",
       "\n"
      ],
      "text/plain": [
       "(Intercept)  horsepower \n",
       " 39.9358610  -0.1578447 "
      ]
     },
     "metadata": {},
     "output_type": "display_data"
    },
    {
     "data": {
      "text/html": [
       "<dl class=dl-horizontal>\n",
       "\t<dt>(Intercept)</dt>\n",
       "\t\t<dd>38.7387133554397</dd>\n",
       "\t<dt>horsepower</dt>\n",
       "\t\t<dd>-0.148195186363759</dd>\n",
       "</dl>\n"
      ],
      "text/latex": [
       "\\begin{description*}\n",
       "\\item[(Intercept)] 38.7387133554397\n",
       "\\item[horsepower] -0.148195186363759\n",
       "\\end{description*}\n"
      ],
      "text/markdown": [
       "(Intercept)\n",
       ":   38.7387133554397horsepower\n",
       ":   -0.148195186363759\n",
       "\n"
      ],
      "text/plain": [
       "(Intercept)  horsepower \n",
       " 38.7387134  -0.1481952 "
      ]
     },
     "metadata": {},
     "output_type": "display_data"
    },
    {
     "data": {
      "text/html": [
       "<dl class=dl-horizontal>\n",
       "\t<dt>(Intercept)</dt>\n",
       "\t\t<dd>40.0383085722796</dd>\n",
       "\t<dt>horsepower</dt>\n",
       "\t\t<dd>-0.159610359262947</dd>\n",
       "</dl>\n"
      ],
      "text/latex": [
       "\\begin{description*}\n",
       "\\item[(Intercept)] 40.0383085722796\n",
       "\\item[horsepower] -0.159610359262947\n",
       "\\end{description*}\n"
      ],
      "text/markdown": [
       "(Intercept)\n",
       ":   40.0383085722796horsepower\n",
       ":   -0.159610359262947\n",
       "\n"
      ],
      "text/plain": [
       "(Intercept)  horsepower \n",
       " 40.0383086  -0.1596104 "
      ]
     },
     "metadata": {},
     "output_type": "display_data"
    }
   ],
   "source": [
    "boot.fn=function(data,index)\n",
    "return(coef(lm(mpg~horsepower,data=data,subset=index)))\n",
    "    \n",
    "boot.fn(Auto,1:392) #return coefficients\n",
    "set.seed(1)\n",
    "boot.fn(Auto,sample(392,392,replace=T)) #produce bootstrap estimate of coeffs\n",
    "boot.fn(Auto,sample(392,392,replace=T)) #randomly sample with replacement from all 392 obs"
   ]
  },
  {
   "cell_type": "code",
   "execution_count": 131,
   "metadata": {
    "collapsed": false
   },
   "outputs": [
    {
     "data": {
      "text/plain": [
       "\n",
       "ORDINARY NONPARAMETRIC BOOTSTRAP\n",
       "\n",
       "\n",
       "Call:\n",
       "boot(data = Auto, statistic = boot.fn, R = 1000)\n",
       "\n",
       "\n",
       "Bootstrap Statistics :\n",
       "      original      bias    std. error\n",
       "t1* 39.9358610  0.02972191 0.860007896\n",
       "t2* -0.1578447 -0.00030823 0.007404467"
      ]
     },
     "metadata": {},
     "output_type": "display_data"
    }
   ],
   "source": [
    "boot(Auto,boot.fn,1000) #produces bootstrap estimate of standard errors\n",
    "                        #and the original coeffs from all data"
   ]
  },
  {
   "cell_type": "markdown",
   "metadata": {},
   "source": [
    "# R Lab 3"
   ]
  },
  {
   "cell_type": "code",
   "execution_count": 136,
   "metadata": {
    "collapsed": false
   },
   "outputs": [
    {
     "data": {
      "text/html": [
       "26.29"
      ],
      "text/latex": [
       "26.29"
      ],
      "text/markdown": [
       "26.29"
      ],
      "text/plain": [
       "[1] 26.29"
      ]
     },
     "metadata": {},
     "output_type": "display_data"
    },
    {
     "data": {
      "text/html": [
       "21.5"
      ],
      "text/latex": [
       "21.5"
      ],
      "text/markdown": [
       "21.5"
      ],
      "text/plain": [
       "[1] 21.5"
      ]
     },
     "metadata": {},
     "output_type": "display_data"
    },
    {
     "data": {
      "text/html": [
       "21.51"
      ],
      "text/latex": [
       "21.51"
      ],
      "text/markdown": [
       "21.51"
      ],
      "text/plain": [
       "[1] 21.51"
      ]
     },
     "metadata": {},
     "output_type": "display_data"
    }
   ],
   "source": [
    "set.seed(3)\n",
    "train=sample(392,196)\n",
    "lm00=lm(mpg~horsepower,data=Auto,subset=train)\n",
    "lm11=lm(mpg~poly(horsepower,2),data=Auto,subset=train)\n",
    "lm22=lm(mpg~poly(horsepower,3),data=Auto,subset=train)\n",
    "\n",
    "round(mean((mpg-predict(lm00,Auto))[-train]^2),2)\n",
    "round(mean((mpg-predict(lm11,Auto))[-train]^2),2)\n",
    "round(mean((mpg-predict(lm22,Auto))[-train]^2),2)"
   ]
  },
  {
   "cell_type": "code",
   "execution_count": 142,
   "metadata": {
    "collapsed": false
   },
   "outputs": [
    {
     "data": {
      "text/html": [
       "18.98"
      ],
      "text/latex": [
       "18.98"
      ],
      "text/markdown": [
       "18.98"
      ],
      "text/plain": [
       "[1] 18.98"
      ]
     },
     "metadata": {},
     "output_type": "display_data"
    }
   ],
   "source": [
    "glm11=glm(mpg~poly(horsepower,6),data=Auto)\n",
    "                        \n",
    "cv.error=cv.glm(Auto,glm11) \n",
    "round(cv.error$delta[1],2)"
   ]
  },
  {
   "cell_type": "code",
   "execution_count": 154,
   "metadata": {
    "collapsed": false
   },
   "outputs": [
    {
     "data": {
      "text/html": [
       "24.26"
      ],
      "text/latex": [
       "24.26"
      ],
      "text/markdown": [
       "24.26"
      ],
      "text/plain": [
       "[1] 24.26"
      ]
     },
     "metadata": {},
     "output_type": "display_data"
    },
    {
     "data": {
      "text/html": [
       "19.15"
      ],
      "text/latex": [
       "19.15"
      ],
      "text/markdown": [
       "19.15"
      ],
      "text/plain": [
       "[1] 19.15"
      ]
     },
     "metadata": {},
     "output_type": "display_data"
    }
   ],
   "source": [
    "set.seed(17)\n",
    "glm111=glm(mpg~poly(horsepower ,1),data=Auto)\n",
    "round(cv.glm(Auto,glm111,K=5)$delta[1][1],2)\n",
    "\n",
    "glm222=glm(mpg~poly(horsepower ,2),data=Auto)\n",
    "round(cv.glm(Auto,glm222,K=5)$delta[1][1],2)"
   ]
  },
  {
   "cell_type": "code",
   "execution_count": 150,
   "metadata": {
    "collapsed": false
   },
   "outputs": [
    {
     "data": {
      "text/html": [
       "<ol class=list-inline>\n",
       "\t<li>24.262396820797</li>\n",
       "\t<li>19.1542447601121</li>\n",
       "\t<li>19.1420531272825</li>\n",
       "\t<li>19.4296271147961</li>\n",
       "\t<li>18.8728820939288</li>\n",
       "\t<li>19.3635044067049</li>\n",
       "\t<li>19.044065932693</li>\n",
       "\t<li>18.9153920831738</li>\n",
       "\t<li>19.2207728847733</li>\n",
       "\t<li>19.1684695969296</li>\n",
       "</ol>\n"
      ],
      "text/latex": [
       "\\begin{enumerate*}\n",
       "\\item 24.262396820797\n",
       "\\item 19.1542447601121\n",
       "\\item 19.1420531272825\n",
       "\\item 19.4296271147961\n",
       "\\item 18.8728820939288\n",
       "\\item 19.3635044067049\n",
       "\\item 19.044065932693\n",
       "\\item 18.9153920831738\n",
       "\\item 19.2207728847733\n",
       "\\item 19.1684695969296\n",
       "\\end{enumerate*}\n"
      ],
      "text/markdown": [
       "1. 24.262396820797\n",
       "2. 19.1542447601121\n",
       "3. 19.1420531272825\n",
       "4. 19.4296271147961\n",
       "5. 18.8728820939288\n",
       "6. 19.3635044067049\n",
       "7. 19.044065932693\n",
       "8. 18.9153920831738\n",
       "9. 19.2207728847733\n",
       "10. 19.1684695969296\n",
       "\n",
       "\n"
      ],
      "text/plain": [
       " [1] 24.26240 19.15424 19.14205 19.42963 18.87288 19.36350 19.04407 18.91539\n",
       " [9] 19.22077 19.16847"
      ]
     },
     "metadata": {},
     "output_type": "display_data"
    }
   ],
   "source": [
    "set.seed(17)\n",
    "cv.error.10=rep(0,10)\n",
    "for (i in 1:10){\n",
    "glm333=glm(mpg~poly(horsepower ,i),data=Auto)\n",
    "cv.error.10[i]=cv.glm(Auto,glm333,K=5)$delta[1]\n",
    "    }\n",
    "cv.error.10"
   ]
  },
  {
   "cell_type": "code",
   "execution_count": 157,
   "metadata": {
    "collapsed": false
   },
   "outputs": [
    {
     "data": {
      "text/plain": [
       "\n",
       "ORDINARY NONPARAMETRIC BOOTSTRAP\n",
       "\n",
       "\n",
       "Call:\n",
       "boot(data = Portfolio, statistic = alpha.fn, R = 1000)\n",
       "\n",
       "\n",
       "Bootstrap Statistics :\n",
       "     original      bias    std. error\n",
       "t1* 0.5758321 0.001085673  0.09004091"
      ]
     },
     "metadata": {},
     "output_type": "display_data"
    }
   ],
   "source": [
    "set.seed(2)\n",
    "boot(Portfolio ,alpha.fn,R=1000) "
   ]
  },
  {
   "cell_type": "code",
   "execution_count": 159,
   "metadata": {
    "collapsed": false
   },
   "outputs": [
    {
     "data": {
      "text/html": [
       "0.09"
      ],
      "text/latex": [
       "0.09"
      ],
      "text/markdown": [
       "0.09"
      ],
      "text/plain": [
       "[1] 0.09"
      ]
     },
     "metadata": {},
     "output_type": "display_data"
    }
   ],
   "source": [
    "round(0.09004091,3)"
   ]
  },
  {
   "cell_type": "code",
   "execution_count": 168,
   "metadata": {
    "collapsed": false
   },
   "outputs": [
    {
     "data": {
      "text/plain": [
       "\n",
       "ORDINARY NONPARAMETRIC BOOTSTRAP\n",
       "\n",
       "\n",
       "Call:\n",
       "boot(data = Auto, statistic = boot.fn, R = 1000)\n",
       "\n",
       "\n",
       "Bootstrap Statistics :\n",
       "        original        bias     std. error\n",
       "t1* 56.900099702  6.977646e-02 2.1445102521\n",
       "t2* -0.466189630 -1.063154e-03 0.0337397614\n",
       "t3*  0.001230536  4.078156e-06 0.0001210534"
      ]
     },
     "metadata": {},
     "output_type": "display_data"
    }
   ],
   "source": [
    "boot.fn=function(data,index)\n",
    "coefficients(lm(mpg~horsepower+I(horsepower^2),data=data,\n",
    "subset=index))\n",
    "set.seed(2)\n",
    "boot(Auto ,boot.fn ,1000)"
   ]
  },
  {
   "cell_type": "code",
   "execution_count": 171,
   "metadata": {
    "collapsed": false
   },
   "outputs": [
    {
     "data": {
      "text/html": [
       "2.1445"
      ],
      "text/latex": [
       "2.1445"
      ],
      "text/markdown": [
       "2.1445"
      ],
      "text/plain": [
       "[1] 2.1445"
      ]
     },
     "metadata": {},
     "output_type": "display_data"
    },
    {
     "data": {
      "text/html": [
       "0.0337"
      ],
      "text/latex": [
       "0.0337"
      ],
      "text/markdown": [
       "0.0337"
      ],
      "text/plain": [
       "[1] 0.0337"
      ]
     },
     "metadata": {},
     "output_type": "display_data"
    },
    {
     "data": {
      "text/html": [
       "1e-04"
      ],
      "text/latex": [
       "1e-04"
      ],
      "text/markdown": [
       "1e-04"
      ],
      "text/plain": [
       "[1] 1e-04"
      ]
     },
     "metadata": {},
     "output_type": "display_data"
    }
   ],
   "source": [
    "round(2.1445102521,4)\n",
    "round(0.0337397614,4)\n",
    "round(0.0001210534,4)"
   ]
  }
 ],
 "metadata": {
  "kernelspec": {
   "display_name": "R",
   "language": "R",
   "name": "ir"
  },
  "language_info": {
   "codemirror_mode": "r",
   "file_extension": ".r",
   "mimetype": "text/x-r-source",
   "name": "R",
   "pygments_lexer": "r",
   "version": "3.3.2"
  }
 },
 "nbformat": 4,
 "nbformat_minor": 2
}
