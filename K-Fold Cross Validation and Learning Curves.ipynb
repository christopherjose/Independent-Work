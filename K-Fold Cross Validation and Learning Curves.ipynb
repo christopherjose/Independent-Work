{
 "cells": [
  {
   "cell_type": "code",
   "execution_count": 2,
   "metadata": {
    "collapsed": true
   },
   "outputs": [],
   "source": [
    "from IPython.core.interactiveshell import InteractiveShell\n",
    "InteractiveShell.ast_node_interactivity = \"all\"\n",
    "# show all outputs of a cell (such as if df.head() and df.tail() are in the same cell)\n",
    "#default is 'last_expr'"
   ]
  },
  {
   "cell_type": "code",
   "execution_count": 21,
   "metadata": {
    "collapsed": true
   },
   "outputs": [],
   "source": [
    "%matplotlib inline\n",
    "import pandas as pd\n",
    "import sklearn\n",
    "import pickle\n",
    "import numpy as np\n",
    "import matplotlib.pyplot as plt\n",
    "from sklearn.preprocessing import Imputer"
   ]
  },
  {
   "cell_type": "code",
   "execution_count": 22,
   "metadata": {
    "collapsed": false
   },
   "outputs": [],
   "source": [
    "esm = pd.read_excel('/Users/Work/Desktop/Work/Projects/ESMdata/ESMdata.xlsx'\\\n",
    "                    ,sheetname='Sheet1')"
   ]
  },
  {
   "cell_type": "code",
   "execution_count": 23,
   "metadata": {
    "collapsed": false
   },
   "outputs": [],
   "source": [
    "Y=esm.phase\n",
    "X1=esm.drop('phase',axis=1)\n",
    "X2=X1.iloc[:,8:-14].drop(['soc_who1','soc_who2','soc_who3','act_what1','act_what2','event_cause',\n",
    "                     'event_concern','event_pertain',],axis=1)\n",
    "X3=X2.drop(['event_freq','soc_together','soc_prefalone','soc_pleasant','soc_belong',\\\n",
    "        'soc_prefcomp','soc_enjoy_alone','mor_med','mor_qualsleep','mor_lieawake',\\\n",
    "       'mor_nrwakeup','mor_asleep','mor_feellike','evn_ordinary','evn_niceday',\\\n",
    "       'evn_inflmood','evn_pager','evn_work','evn_med','event_disturb'],axis=1)\n",
    "fill_NaN = Imputer(missing_values=np.nan, strategy='mean', axis=1)\n",
    "X = pd.DataFrame(fill_NaN.fit_transform(X3))\n",
    "X.columns = X3.columns\n",
    "X.index = X3.index"
   ]
  },
  {
   "cell_type": "markdown",
   "metadata": {},
   "source": [
    "# K-Fold Cross Validation"
   ]
  },
  {
   "cell_type": "markdown",
   "metadata": {},
   "source": [
    "**n_splits = K** means that K splits are created and each split is treated as a test split once, while the other (K-1) splits are used to train the data.\n",
    "\n",
    "**kf.split(X)** generates train/test split indices.  <br>\n",
    "The test split is one of the K folds and equals 1/K % of the total data. <br>\n",
    "Returns a generator and when list() is placed on it, returns a list of K tuples of size 2 of <br>\n",
    "(train split K indices, test split K indices).  The train split always has a size equal to the other K-1 folds, which is (1-1/K)% of the data.  Use a for statement to loop through the tuples and use value 0 indices to generate a train split an value 1 indicies to generate a test split for each of the K tuples.  This will result in K datasets and K models. <br>\n",
    "\n",
    "kf.split(X) creates test split sizes that are (1/K)% of the data and train split sizes that are (1-1/K)% of the data.<br>.  All points are eventually used in the train split as well as the test split. <br>\n",
    "\n",
    "**shuffle=True** shuffles the data before splitting into K folds.  If False, then the train split is literally just the last (1-1/K)% of the data points (the last data points), and the test split is the first 1/K% of data points.  So the train split is the first N number of data points where those N points fall within the first K-1 folds, and the test split's data points are the last data points, which are in the Kth fold.   If True, the folds are created from random indices, so that the Kth fold is not composed of points that are necessarily next to each other nor next to points in the (K-1) fold.  "
   ]
  },
  {
   "cell_type": "code",
   "execution_count": 24,
   "metadata": {
    "collapsed": false
   },
   "outputs": [],
   "source": [
    "from sklearn.model_selection import KFold\n",
    "kf = KFold(n_splits=10,shuffle=True,random_state=1)\n",
    "\n",
    "for train_index, test_index in kf.split(X):\n",
    "    X_train, X_test = X.iloc[train_index,:], X.iloc[test_index,:] \n",
    "    Y_train, Y_test = Y[train_index], Y[test_index]\n",
    "#iloc for the X dataframe and [] for the Y Series"
   ]
  },
  {
   "cell_type": "code",
   "execution_count": 25,
   "metadata": {
    "collapsed": false
   },
   "outputs": [
    {
     "data": {
      "text/plain": [
       "(array([   0,    1,    2, ..., 1473, 1474, 1475]),\n",
       " array([   3,   19,   37,   48,   49,   53,   60,   80,   91,  101,  104,\n",
       "         107,  111,  119,  140,  167,  177,  194,  201,  223,  227,  248,\n",
       "         258,  259,  267,  268,  288,  292,  301,  321,  325,  330,  341,\n",
       "         368,  375,  390,  399,  400,  404,  414,  424,  432,  460,  464,\n",
       "         480,  487,  498,  521,  527,  531,  553,  556,  561,  575,  577,\n",
       "         579,  598,  599,  612,  628,  629,  632,  647,  660,  664,  675,\n",
       "         683,  697,  707,  729,  730,  731,  735,  736,  742,  748,  750,\n",
       "         765,  786,  789,  812,  813,  817,  821,  826,  833,  855,  858,\n",
       "         870,  892,  898,  899,  902,  904,  921,  926,  927,  968,  982,\n",
       "         984,  987,  994, 1003, 1013, 1016, 1020, 1074, 1079, 1080, 1090,\n",
       "        1100, 1123, 1126, 1127, 1142, 1152, 1156, 1158, 1177, 1189, 1194,\n",
       "        1201, 1204, 1205, 1209, 1216, 1220, 1228, 1230, 1234, 1280, 1282,\n",
       "        1319, 1329, 1338, 1340, 1349, 1364, 1377, 1384, 1401, 1409, 1421,\n",
       "        1430, 1440, 1442, 1463, 1469]))"
      ]
     },
     "execution_count": 25,
     "metadata": {},
     "output_type": "execute_result"
    }
   ],
   "source": [
    "list(kf.split(X))[0] # the first train / test split in the list of 10 train/test split tuples"
   ]
  },
  {
   "cell_type": "markdown",
   "metadata": {},
   "source": [
    "# Stratified K-Fold Cross Validation"
   ]
  },
  {
   "cell_type": "markdown",
   "metadata": {},
   "source": [
    "If there is a class imbalance (for the target variable), where some classes are rare and others are common, then by using stratified k-fold cross validation, folds are made by preserving the percentage of samples for each class."
   ]
  },
  {
   "cell_type": "code",
   "execution_count": 26,
   "metadata": {
    "collapsed": false
   },
   "outputs": [],
   "source": [
    "from sklearn.model_selection import StratifiedKFold\n",
    "skf = StratifiedKFold(n_splits=10,shuffle=True,random_state=1)\n",
    "for train_index, test_index in skf.split(X,Y):\n",
    "    X_train, X_test = X.iloc[train_index,:], X.iloc[test_index,:] \n",
    "    Y_train, Y_test = Y[train_index], Y[test_index]\n",
    "#iloc for the X dataframe and [] for the Y Series"
   ]
  },
  {
   "cell_type": "code",
   "execution_count": 27,
   "metadata": {
    "collapsed": false
   },
   "outputs": [
    {
     "data": {
      "text/plain": [
       "(array([   0,    1,    2, ..., 1473, 1474, 1475]),\n",
       " array([   4,   11,   14,   19,   35,   42,   53,   69,   94,  105,  106,\n",
       "         110,  119,  126,  127,  136,  150,  163,  177,  187,  188,  194,\n",
       "         201,  218,  232,  247,  257,  262,  276,  294,  299,  306,  309,\n",
       "         321,  327,  336,  341,  345,  352,  358,  361,  370,  374,  378,\n",
       "         387,  394,  402,  427,  434,  446,  469,  493,  496,  500,  510,\n",
       "         515,  522,  528,  533,  538,  561,  573,  623,  625,  633,  643,\n",
       "         652,  666,  677,  680,  695,  698,  776,  785,  793,  801,  810,\n",
       "         821,  836,  839,  841,  844,  853,  865,  879,  886,  888,  894,\n",
       "         902,  904,  907,  909,  927,  930,  938,  944,  951,  954,  960,\n",
       "         967, 1002, 1011, 1026, 1037, 1042, 1046, 1060, 1075, 1080, 1089,\n",
       "        1090, 1093, 1111, 1114, 1146, 1150, 1180, 1182, 1203, 1237, 1246,\n",
       "        1249, 1256, 1257, 1259, 1269, 1272, 1274, 1276, 1277, 1281, 1291,\n",
       "        1322, 1328, 1341, 1365, 1376, 1383, 1386, 1388, 1399, 1411, 1423,\n",
       "        1432, 1434, 1438, 1449, 1457, 1464]))"
      ]
     },
     "execution_count": 27,
     "metadata": {},
     "output_type": "execute_result"
    }
   ],
   "source": [
    "list(skf.split(X,Y))[0]"
   ]
  },
  {
   "cell_type": "markdown",
   "metadata": {},
   "source": [
    "# Managing Error and Complexity"
   ]
  },
  {
   "cell_type": "markdown",
   "metadata": {},
   "source": [
    "# Learning Curve"
   ]
  },
  {
   "cell_type": "markdown",
   "metadata": {},
   "source": [
    "The learning curve shows how a model's score improves as it is trained on more data.  <br>\n",
    "A learning curve in machine learning is a graph that compares the performance of a model on training and testing data over a varying number of training instances. <br>\n",
    "\n",
    "Specifically, it shows scores for models built off a certain amount of training data, where each score is actually the average score from K models built using a certain amount of training data (assuming K-Fold CV is the cross validation method).  \n",
    "\n",
    "For each number of training examples, the learning curve gives the average score from models built using that certain number of training examples. <br>\n",
    "\n",
    "If K-Fold Cross Validation is used as a parameter, then for each number of training examples, K models are built off that number of training examples and their scores are averaged.  Thus, when building models off 10% of the data, you see the average scores for models built from 10% of the data.  Actually though, each of the K models is only built off (1-1/K)x10% of the data, since K-1 folds are used to train each model.  "
   ]
  },
  {
   "cell_type": "markdown",
   "metadata": {},
   "source": [
    "# sklearn.model_selection.learning_curve"
   ]
  },
  {
   "cell_type": "code",
   "execution_count": 13,
   "metadata": {
    "collapsed": true
   },
   "outputs": [],
   "source": [
    "o = open('/Users/Work/Desktop/Work/Projects/Springboard/Final_Files/Starbucks_Y.pkl','r')\n",
    "Y=pickle.load(o)\n",
    "o.close()\n",
    "o = open('/Users/Work/Desktop/Work/Projects/Springboard/Final_Files/Starbucks_X.pkl','r')\n",
    "X=pickle.load(o)\n",
    "o.close()"
   ]
  },
  {
   "cell_type": "code",
   "execution_count": 14,
   "metadata": {
    "collapsed": true
   },
   "outputs": [],
   "source": [
    "from sklearn.model_selection import KFold\n",
    "from sklearn.model_selection import StratifiedKFold\n",
    "from sklearn.model_selection import learning_curve\n",
    "from sklearn.metrics import explained_variance_score, mean_squared_error, make_scorer"
   ]
  },
  {
   "cell_type": "markdown",
   "metadata": {},
   "source": [
    "Provides 3 arrays<br>\n",
    "1) train_sizes: Training set sizes<br>\n",
    "2) train_scores: Scores on K training sets for each training set size<br>\n",
    "3) test_scores Scores on K test sets for each training set size <br>\n",
    "K scores for each training set size are provided when K-Fold CV is used. <br>  We then average the scores for each training set size and plot the average score per size!"
   ]
  },
  {
   "cell_type": "markdown",
   "metadata": {},
   "source": [
    "**scoring = None ** score shown on the y-axis, like mean squared error and accuracy. <br>\n",
    "by default assumes and uses the scoring method of the provided estimator: estimator.score<br>\n",
    "For regressors, this seems to be the R^2 (coefficient of determination <br>\n",
    "For classifiers, the accuracy score (TP+TN / total samples) <br>\n",
    "\n",
    "**train_sizes = None**  \n",
    "Default is Default is np.linspace(.1, 1.0, 5), so use 10% of data to build model, 32.5% of data, 55% of data, etc.<br>\n",
    "The numbers of training examples used to build the learning curve. <br>\n",
    "An array of the number of training examples, where K models are built for each number of training examples and the average score is determined. <br>\n",
    "An array of the number of training examples to be used in generating the curve.  <br>\n",
    "\n",
    "Thus for 10%, we come up with the average score for K models built using K-Fold CV on just 10% of the data.  <br>We then use 32.5% of the data to come up with the average score for K models built using K-Fold CV on just 32.5% of the data. <br>  Each of the K models is actually built on less than the 10% of data, since each is built using (K-1) folds, so each model is of size ((1-1/K)% x 10% x data)\n",
    "\n",
    "Integers represent actual number of training examples to use in building the curve. <br>\n",
    "Floats represent % of total training examples to use in building the curve. <br>\n",
    "\n",
    "\n",
    "**cv = None ** by default performs 3-Fold Cross Validation"
   ]
  },
  {
   "cell_type": "code",
   "execution_count": 15,
   "metadata": {
    "collapsed": true
   },
   "outputs": [],
   "source": [
    "#Specify learning_curve parameters\n",
    "estimator=sklearn.linear_model.LinearRegression()\n",
    "train_sizes=np.linspace(.1, 1.0, 5)\n",
    "cv=KFold(n_splits=5,shuffle=True,random_state=1)\n",
    "score=make_scorer(mean_squared_error)"
   ]
  },
  {
   "cell_type": "code",
   "execution_count": 16,
   "metadata": {
    "collapsed": false
   },
   "outputs": [],
   "source": [
    "train_sizes, train_scores, test_scores = learning_curve(\n",
    "    estimator, X, Y, cv=cv,train_sizes=train_sizes,scoring=score)"
   ]
  },
  {
   "cell_type": "code",
   "execution_count": 17,
   "metadata": {
    "collapsed": false
   },
   "outputs": [
    {
     "data": {
      "text/plain": [
       "array([ 0.1  ,  0.325,  0.55 ,  0.775,  1.   ])"
      ]
     },
     "execution_count": 17,
     "metadata": {},
     "output_type": "execute_result"
    },
    {
     "data": {
      "text/plain": [
       "array([ 39, 128, 217, 306, 395])"
      ]
     },
     "execution_count": 17,
     "metadata": {},
     "output_type": "execute_result"
    },
    {
     "data": {
      "text/plain": [
       "39.52000000000001"
      ]
     },
     "execution_count": 17,
     "metadata": {},
     "output_type": "execute_result"
    },
    {
     "data": {
      "text/plain": [
       "128.44000000000003"
      ]
     },
     "execution_count": 17,
     "metadata": {},
     "output_type": "execute_result"
    }
   ],
   "source": [
    "#The size of each of the K models built off x% of the data is actually (x% * (1-1/K)) of the data, since K-1 folds are \n",
    "#used to train the models\n",
    "np.linspace(.1, 1.0, 5)\n",
    "train_sizes\n",
    "494*.1*(4/5.0) \n",
    "494*.325*(4/5.0) "
   ]
  },
  {
   "cell_type": "code",
   "execution_count": 18,
   "metadata": {
    "collapsed": false
   },
   "outputs": [
    {
     "data": {
      "text/plain": [
       "array([[ 0.7729448 ,  0.50457687,  0.6006081 ,  0.55490208,  0.46337741],\n",
       "       [ 0.34538398,  0.40513257,  0.41018643,  0.44866029,  0.41608729],\n",
       "       [ 0.3550316 ,  0.37175696,  0.39806495,  0.41895473,  0.4013354 ],\n",
       "       [ 0.35714612,  0.37703515,  0.39442704,  0.41405022,  0.417843  ],\n",
       "       [ 0.36203869,  0.38008329,  0.3928462 ,  0.40772015,  0.4068261 ]])"
      ]
     },
     "execution_count": 18,
     "metadata": {},
     "output_type": "execute_result"
    }
   ],
   "source": [
    "test_scores # 5 scores are calculated for each x% of the data used in building the model\n",
    "#we average each of these array's scores to get the average score for models built off x% of the data"
   ]
  },
  {
   "cell_type": "code",
   "execution_count": 19,
   "metadata": {
    "collapsed": false
   },
   "outputs": [
    {
     "data": {
      "text/plain": [
       "array([ 0.25312749,  0.3450756 ,  0.36295229,  0.36803459,  0.36036845])"
      ]
     },
     "execution_count": 19,
     "metadata": {},
     "output_type": "execute_result"
    },
    {
     "data": {
      "text/plain": [
       "array([ 0.57928185,  0.40509011,  0.38902873,  0.3921003 ,  0.38990288])"
      ]
     },
     "execution_count": 19,
     "metadata": {},
     "output_type": "execute_result"
    }
   ],
   "source": [
    "train_scores_mean=np.mean(train_scores,axis=1)\n",
    "test_scores_mean=np.mean(test_scores,axis=1) \n",
    "train_scores_mean #average score on test set for models built off x% of the data\n",
    "test_scores_mean #average score on test set for models built off x% of the data"
   ]
  },
  {
   "cell_type": "code",
   "execution_count": 20,
   "metadata": {
    "collapsed": false
   },
   "outputs": [
    {
     "data": {
      "text/plain": [
       "[<matplotlib.lines.Line2D at 0x1176b4b90>]"
      ]
     },
     "execution_count": 20,
     "metadata": {},
     "output_type": "execute_result"
    },
    {
     "data": {
      "text/plain": [
       "[<matplotlib.lines.Line2D at 0x1177b68d0>]"
      ]
     },
     "execution_count": 20,
     "metadata": {},
     "output_type": "execute_result"
    },
    {
     "data": {
      "text/plain": [
       "<matplotlib.text.Text at 0x11779b050>"
      ]
     },
     "execution_count": 20,
     "metadata": {},
     "output_type": "execute_result"
    },
    {
     "data": {
      "text/plain": [
       "<matplotlib.text.Text at 0x117703490>"
      ]
     },
     "execution_count": 20,
     "metadata": {},
     "output_type": "execute_result"
    },
    {
     "data": {
      "text/plain": [
       "<matplotlib.legend.Legend at 0x1127f2150>"
      ]
     },
     "execution_count": 20,
     "metadata": {},
     "output_type": "execute_result"
    },
    {
     "data": {
      "image/png": "[encoded data removed]",
      "text/plain": [
       "<matplotlib.figure.Figure at 0x113713090>"
      ]
     },
     "metadata": {},
     "output_type": "display_data"
    }
   ],
   "source": [
    "plt.grid()\n",
    "plt.plot(train_sizes, train_scores_mean, 'o-', color=\"r\",label=\"Training score\")\n",
    "plt.plot(train_sizes, test_scores_mean, 'o-', color=\"g\",label=\"Cross-validation score\")\n",
    "plt.ylabel(\"Score\")\n",
    "plt.xlabel(\"Training Examples\")\n",
    "plt.legend(loc=\"best\")"
   ]
  },
  {
   "cell_type": "markdown",
   "metadata": {},
   "source": [
    "# Learning Curve Function"
   ]
  },
  {
   "cell_type": "code",
   "execution_count": 11,
   "metadata": {
    "collapsed": false
   },
   "outputs": [],
   "source": [
    "from sklearn import linear_model\n",
    "from sklearn.model_selection import KFold\n",
    "from sklearn.model_selection import learning_curve\n",
    "from sklearn.metrics import mean_squared_error, make_scorer\n",
    "import numpy as np\n",
    "import matplotlib.pyplot as plt"
   ]
  },
  {
   "cell_type": "code",
   "execution_count": 8,
   "metadata": {
    "collapsed": false
   },
   "outputs": [],
   "source": [
    "def plot_learning_curve(estimator, X, Y, title=None, ylim=None, cv=None,\n",
    "                        train_sizes=None,scoring=None):\n",
    "\n",
    "    #create train sizes, train scores, #test scores\n",
    "    train_sizes, train_scores, test_scores = learning_curve(\n",
    "        estimator, X, Y, cv=cv,train_sizes=train_sizes,scoring=scoring)\n",
    "    \n",
    "    #create average scores for each train sizes\n",
    "    train_scores_mean = np.mean(train_scores, axis=1)\n",
    "    test_scores_mean = np.mean(test_scores, axis=1)\n",
    "    \n",
    "    #plot average scores for each train size\n",
    "    plt.plot(train_sizes, train_scores_mean, 'o-', color=\"r\",label=\"Training score\")\n",
    "    plt.plot(train_sizes, test_scores_mean, 'o-', color=\"g\",label=\"Cross-validation score\")\n",
    "    \n",
    "    #plot aesthetics\n",
    "    plt.grid()\n",
    "    if ylim is not None:\n",
    "        plt.ylim(*ylim) \n",
    "    plt.ylabel(\"Score\")\n",
    "    plt.xlabel(\"Training Examples\")\n",
    "    plt.title(title)\n",
    "    plt.legend(loc=\"best\")\n",
    "    return plt"
   ]
  },
  {
   "cell_type": "code",
   "execution_count": 12,
   "metadata": {
    "collapsed": false
   },
   "outputs": [
    {
     "data": {
      "text/plain": [
       "<module 'matplotlib.pyplot' from '/Users/Work/Library/Enthought/Canopy_64bit/User/lib/python2.7/site-packages/matplotlib/pyplot.pyc'>"
      ]
     },
     "execution_count": 12,
     "metadata": {},
     "output_type": "execute_result"
    },
    {
     "data": {
      "image/png": "[encoded data removed]",
      "text/plain": [
       "<matplotlib.figure.Figure at 0x1135675d0>"
      ]
     },
     "metadata": {},
     "output_type": "display_data"
    }
   ],
   "source": [
    "estimator=sklearn.linear_model.LinearRegression()\n",
    "train_sizes=np.linspace(.1, 1.0, 5)\n",
    "cv=KFold(n_splits=5,shuffle=True,random_state=1)\n",
    "score=make_scorer(mean_squared_error)\n",
    "\n",
    "plot_learning_curve(estimator=estimator,X=X,Y=Y,title='Learning Curve',train_sizes=train_sizes, cv=cv, scoring=score)"
   ]
  },
  {
   "cell_type": "markdown",
   "metadata": {},
   "source": [
    "When the number of training instances is low, the model has high variance, so it overfits and does not generalize well.  This means it performs poorly on the testing set, as evidenced by the gap in the scores.   <br>\n",
    "\n",
    "When the number of training instances is higher, the variance is low, and the model generalizes better by not overfitting, since its performance on the testing and training sets converges."
   ]
  }
 ],
 "metadata": {
  "kernelspec": {
   "display_name": "Python 2",
   "language": "python",
   "name": "python2"
  },
  "language_info": {
   "codemirror_mode": {
    "name": "ipython",
    "version": 2
   },
   "file_extension": ".py",
   "mimetype": "text/x-python",
   "name": "python",
   "nbconvert_exporter": "python",
   "pygments_lexer": "ipython2",
   "version": "2.7.13"
  }
 },
 "nbformat": 4,
 "nbformat_minor": 0
}
