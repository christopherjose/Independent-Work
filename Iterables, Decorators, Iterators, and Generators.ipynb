{
 "cells": [
  {
   "cell_type": "code",
   "execution_count": 1,
   "metadata": {
    "collapsed": true
   },
   "outputs": [],
   "source": [
    "from IPython.core.interactiveshell import InteractiveShell\n",
    "InteractiveShell.ast_node_interactivity = \"all\"\n",
    "# show all outputs of a cell (such as if df.head() and df.tail() \n",
    "#are in the same cell); default is 'last_expr'"
   ]
  },
  {
   "cell_type": "markdown",
   "metadata": {},
   "source": [
    "# Positional and Keyword Arguments in Functions"
   ]
  },
  {
   "cell_type": "markdown",
   "metadata": {},
   "source": [
    "**Keyword arguments** have keywords (keyword = value) and must be placed after positional arguments.  <br>\n",
    "They have no required order since the keyword is used to tell the function which parameter the value represents.  \n",
    "They are stored in a dictionary of keywords and values {keyword:value, keyword:value}.\n",
    "\n",
    "The **jth positional argument** represents the value of the variable assigned to that position when the function was defined.  Thus def f(x,y): --> f(1,2) --> 1 is assigned to x since 1 is in the 1st position when the function is called and x was in the 1st position when the function was defined.  These arguments do not get keywords.\n",
    "\n",
    "Any number of positional arguments may be supplied when defining the function.  Only one keyword argument is supplied when defining the function."
   ]
  },
  {
   "cell_type": "code",
   "execution_count": 67,
   "metadata": {
    "collapsed": false
   },
   "outputs": [
    {
     "name": "stdout",
     "output_type": "stream",
     "text": [
      "{'c': 'def', 'b': 'abc', 'd': 'ghi'}\n",
      "def abc ghi \n",
      "\n",
      "1 {'c': 'def', 'b': 'abc', 'd': 'ghi'}\n",
      "1 3 {'c': 'def', 'b': 'abc', 'd': 'ghi'}\n",
      "8 3\n"
     ]
    }
   ],
   "source": [
    "def printer(**x):\n",
    "    print x\n",
    "printer(b='abc',c='def',d='ghi')\n",
    "\n",
    "def printer(**x):\n",
    "    for key in x:\n",
    "        print x[key],\n",
    "    print '\\n'\n",
    "printer(b='abc',c='def',d='ghi')\n",
    "\n",
    "def printer(x,**y):\n",
    "    print x, y\n",
    "printer(1,b='abc',c='def',d='ghi')\n",
    "\n",
    "def printer(arg1,arg2,**kwargs):\n",
    "    print arg1,arg2,kwargs\n",
    "printer(1,3,b='abc',c='def',d='ghi')\n",
    "\n",
    "def printer(x,y,**z):\n",
    "    for key in z:\n",
    "        print x+y+z[key],\n",
    "printer(1,2,a=5,b=0)"
   ]
  },
  {
   "cell_type": "markdown",
   "metadata": {},
   "source": [
    "# Decorators"
   ]
  },
  {
   "cell_type": "markdown",
   "metadata": {},
   "source": [
    "### A **decorator** is a function that takes one function as an input and returns another function."
   ]
  },
  {
   "cell_type": "code",
   "execution_count": 128,
   "metadata": {
    "collapsed": false
   },
   "outputs": [],
   "source": [
    "def decorator(func):\n",
    "    def new_function(*args,**kwargs):\n",
    "        print 'function name:',func.__name__\n",
    "        print 'positional arguments:',args\n",
    "        print 'keyword arguments:',kwargs\n",
    "        return func(*args,**kwargs)\n",
    "    return new_function"
   ]
  },
  {
   "cell_type": "markdown",
   "metadata": {},
   "source": [
    "### Method 1 - Apply the decorator manually <br>Define the functions to apply the decorator to"
   ]
  },
  {
   "cell_type": "code",
   "execution_count": 107,
   "metadata": {
    "collapsed": true
   },
   "outputs": [],
   "source": [
    "def add(*x):\n",
    "    return sum(x)\n",
    "def minimum(*x):\n",
    "    return min(x)"
   ]
  },
  {
   "cell_type": "markdown",
   "metadata": {},
   "source": [
    "### Apply the decorator to the functions"
   ]
  },
  {
   "cell_type": "code",
   "execution_count": 109,
   "metadata": {
    "collapsed": false
   },
   "outputs": [
    {
     "name": "stdout",
     "output_type": "stream",
     "text": [
      "function name: add\n",
      "positional arguments: (1, 2, 3)\n",
      "keyword arguments: {}\n",
      "function name: minimum\n",
      "positional arguments: (5, 4, 2)\n",
      "keyword arguments: {}\n"
     ]
    },
    {
     "data": {
      "text/plain": [
       "2"
      ]
     },
     "execution_count": 109,
     "metadata": {},
     "output_type": "execute_result"
    }
   ],
   "source": [
    "dec_add=decorator(add)\n",
    "dec_min=decorator(minimum)\n",
    "dec_add(1,2,3)\n",
    "dec_min(5,4,2)"
   ]
  },
  {
   "cell_type": "markdown",
   "metadata": {},
   "source": [
    "### Method 2 - Apply the decorator when the function is created "
   ]
  },
  {
   "cell_type": "code",
   "execution_count": 121,
   "metadata": {
    "collapsed": false
   },
   "outputs": [
    {
     "name": "stdout",
     "output_type": "stream",
     "text": [
      "function name: add\n",
      "positional arguments: (1, 2, 3)\n",
      "keyword arguments: {}\n"
     ]
    },
    {
     "data": {
      "text/plain": [
       "6"
      ]
     },
     "execution_count": 121,
     "metadata": {},
     "output_type": "execute_result"
    }
   ],
   "source": [
    "@decorator\n",
    "def add(*x):\n",
    "    return sum(x)\n",
    "add(1,2,3)"
   ]
  },
  {
   "cell_type": "markdown",
   "metadata": {},
   "source": [
    "### Apply multiple decorators to a function, where ones listed closer to the function header are run first"
   ]
  },
  {
   "cell_type": "markdown",
   "metadata": {},
   "source": [
    "Below is the same as **decorator(square_decorator(add))**."
   ]
  },
  {
   "cell_type": "code",
   "execution_count": 122,
   "metadata": {
    "collapsed": true
   },
   "outputs": [],
   "source": [
    "def square_decorator(func):\t\n",
    "    def new_function(*x,**y):\n",
    "        result=func(*x,**y)\n",
    "        return result * result\n",
    "    return new_function\t"
   ]
  },
  {
   "cell_type": "code",
   "execution_count": 133,
   "metadata": {
    "collapsed": false
   },
   "outputs": [
    {
     "name": "stdout",
     "output_type": "stream",
     "text": [
      "function name: new_function\n",
      "positional arguments: (1, 2, 3)\n",
      "keyword arguments: {}\n"
     ]
    },
    {
     "data": {
      "text/plain": [
       "36"
      ]
     },
     "execution_count": 133,
     "metadata": {},
     "output_type": "execute_result"
    }
   ],
   "source": [
    "@decorator\n",
    "@square_decorator\n",
    "def add(*x):\n",
    "    return sum(x)\n",
    "add(1,2,3)"
   ]
  },
  {
   "cell_type": "markdown",
   "metadata": {},
   "source": [
    "# Iterators"
   ]
  },
  {
   "cell_type": "markdown",
   "metadata": {},
   "source": [
    "A **container** is an object that contains objects, like a list, tuple, dictionary, set, etc.  It is an iterable if it has the \\__iter\\__ method.  It supports membership tests like <br> \n",
    "An **iterable** is a container that can be looped over, which means that it has the \\__iter\\__ method, and can return an iterator (such as with iter()). <br>\n",
    "An **iterator** is an object that has the \\__iter\\__ AND \\__next\\__ methods (that supports the iterator protocol, which is an object having these two methods).  An iterator is an iterable that also has the next method.  Since it has the next method, it has an internal state.  This means that when next() is called, the next/subsequent value in the iterator is produced because the iterator knows the last value that the next method produced (it knows its current state, so it knows the last object called using next and what the next object would be using next).  \n",
    "\n",
    "**\\__iter\\__** returns the iterator object itself <br>\n",
    "**\\__next\\__** (python 3), **next** (python 2) returns the next value from the iterator.  If there is no more items to return then it should raise StopIteration exception. <br>\n",
    "\n",
    "The built-in **next()** function runs the next() method of an iterator, as shown below."
   ]
  },
  {
   "cell_type": "code",
   "execution_count": 205,
   "metadata": {
    "collapsed": false
   },
   "outputs": [
    {
     "data": {
      "text/plain": [
       "<method-wrapper '__iter__' of list object at 0x1049c2638>"
      ]
     },
     "execution_count": 205,
     "metadata": {},
     "output_type": "execute_result"
    }
   ],
   "source": [
    "[1,2,3].__iter__"
   ]
  },
  {
   "cell_type": "code",
   "execution_count": 209,
   "metadata": {
    "collapsed": false
   },
   "outputs": [
    {
     "name": "stdout",
     "output_type": "stream",
     "text": [
      "1 2 3\n"
     ]
    }
   ],
   "source": [
    "x=iter([1,2,3])\n",
    "print x.next(), x.next(),x.next()"
   ]
  },
  {
   "cell_type": "code",
   "execution_count": 200,
   "metadata": {
    "collapsed": false
   },
   "outputs": [
    {
     "name": "stdout",
     "output_type": "stream",
     "text": [
      "1 2 3\n"
     ]
    }
   ],
   "source": [
    "x=iter([1,2,3])\n",
    "print next(x), next(x), next(x),"
   ]
  },
  {
   "cell_type": "markdown",
   "metadata": {},
   "source": [
    "# The __iter__ method"
   ]
  },
  {
   "cell_type": "markdown",
   "metadata": {},
   "source": [
    "**\\__iter\\__** is a special method (due to having underscore characters).  Special methods that are not called directly, but are called through other means.   <br>\n",
    "The iter() function calls the \\__iter\\__ method. <br>\n",
    "A **for loop**, *for x in iterable:*, calls the iter() function on the iterable, iter(iterable), which then calls the \\__iter\\__ special method of the iterable, which returns an iterator object.  The for loop then repeatedly calls the \\__next\\__ special method of the created iterator object.\n",
    "  \n"
   ]
  },
  {
   "cell_type": "code",
   "execution_count": 167,
   "metadata": {
    "collapsed": true
   },
   "outputs": [],
   "source": [
    "class Counter(object):\n",
    "    def __init__(self, low, high):\n",
    "        self.current = low\n",
    "        self.high = high\n",
    "\n",
    "    def __iter__(self):\n",
    "        'Returns itself as an iterator object'\n",
    "        return self\n",
    "\n",
    "    def next(self): #__next__(self) in python 3\n",
    "        'Returns the next value till current is lower than high'\n",
    "        if self.current > self.high:\n",
    "            raise StopIteration\n",
    "        else:\n",
    "            self.current += 1\n",
    "            return self.current - 1"
   ]
  },
  {
   "cell_type": "code",
   "execution_count": 210,
   "metadata": {
    "collapsed": false
   },
   "outputs": [
    {
     "name": "stdout",
     "output_type": "stream",
     "text": [
      "3 4 5 6 7 8\n"
     ]
    }
   ],
   "source": [
    "for c in Counter(3, 8):\n",
    "    print c,"
   ]
  },
  {
   "cell_type": "markdown",
   "metadata": {},
   "source": [
    "# Generators"
   ]
  },
  {
   "cell_type": "code",
   "execution_count": null,
   "metadata": {
    "collapsed": true
   },
   "outputs": [],
   "source": [
    "http://nvie.com/posts/iterators-vs-generators/"
   ]
  },
  {
   "cell_type": "markdown",
   "metadata": {},
   "source": [
    "## Use assertions for debugging, so you know what went wrong, based on which assertion error is raised.  Below, I use it to do membership tests with containers."
   ]
  },
  {
   "cell_type": "markdown",
   "metadata": {},
   "source": [
    "Use **assert** statements to evaluate if an expression is True.  If True, then the program moves on.  If False, then an Assertion Error is shown.  Below I use an assert statement and notice the lack of output.  It shows the result of a membership test of checking if 1 is in the list container."
   ]
  },
  {
   "cell_type": "code",
   "execution_count": 75,
   "metadata": {
    "collapsed": true
   },
   "outputs": [],
   "source": [
    "assert 1 in [1,2]"
   ]
  },
  {
   "cell_type": "code",
   "execution_count": 76,
   "metadata": {
    "collapsed": false
   },
   "outputs": [
    {
     "ename": "AssertionError",
     "evalue": "The container does not have this item in it!",
     "output_type": "error",
     "traceback": [
      "\u001b[0;31m---------------------------------------------------------------------------\u001b[0m",
      "\u001b[0;31mAssertionError\u001b[0m                            Traceback (most recent call last)",
      "\u001b[0;32m<ipython-input-76-6fc078d8911b>\u001b[0m in \u001b[0;36m<module>\u001b[0;34m()\u001b[0m\n\u001b[0;32m----> 1\u001b[0;31m \u001b[0;32massert\u001b[0m \u001b[0;34m(\u001b[0m\u001b[0;36m3\u001b[0m \u001b[0;32min\u001b[0m \u001b[0;34m[\u001b[0m\u001b[0;36m1\u001b[0m\u001b[0;34m,\u001b[0m\u001b[0;36m2\u001b[0m\u001b[0;34m]\u001b[0m\u001b[0;34m)\u001b[0m\u001b[0;34m,\u001b[0m \u001b[0;34m'The container does not have this item in it!'\u001b[0m\u001b[0;34m\u001b[0m\u001b[0m\n\u001b[0m",
      "\u001b[0;31mAssertionError\u001b[0m: The container does not have this item in it!"
     ]
    }
   ],
   "source": [
    "assert (3 in [1,2]), 'The container does not have this item in it!'"
   ]
  },
  {
   "cell_type": "markdown",
   "metadata": {},
   "source": [
    "There are two types of Generators in Python:<br>\n",
    "1.  Generator Functions\n",
    "2.  Generator Expressions"
   ]
  },
  {
   "cell_type": "code",
   "execution_count": 26,
   "metadata": {
    "collapsed": false
   },
   "outputs": [
    {
     "data": {
      "text/plain": [
       "1"
      ]
     },
     "execution_count": 26,
     "metadata": {},
     "output_type": "execute_result"
    },
    {
     "data": {
      "text/plain": [
       "4"
      ]
     },
     "execution_count": 26,
     "metadata": {},
     "output_type": "execute_result"
    },
    {
     "data": {
      "text/plain": [
       "[27, 256, 3125]"
      ]
     },
     "execution_count": 26,
     "metadata": {},
     "output_type": "execute_result"
    }
   ],
   "source": [
    "gen=(x**x for x in [1,2,3,4,5]) #generator expression\n",
    "next(gen)\n",
    "next(gen)\n",
    "list(gen) #list starts at item AFTER current item \n",
    "          #(which was called by next)"
   ]
  },
  {
   "cell_type": "code",
   "execution_count": null,
   "metadata": {
    "collapsed": true
   },
   "outputs": [],
   "source": [
    "https://jeffknupp.com/blog/2013/04/07/improve-your-python-yield-and-generators-explained/"
   ]
  }
 ],
 "metadata": {
  "kernelspec": {
   "display_name": "Python 2",
   "language": "python",
   "name": "python2"
  },
  "language_info": {
   "codemirror_mode": {
    "name": "ipython",
    "version": 2
   },
   "file_extension": ".py",
   "mimetype": "text/x-python",
   "name": "python",
   "nbconvert_exporter": "python",
   "pygments_lexer": "ipython2",
   "version": "2.7.13"
  }
 },
 "nbformat": 4,
 "nbformat_minor": 0
}
