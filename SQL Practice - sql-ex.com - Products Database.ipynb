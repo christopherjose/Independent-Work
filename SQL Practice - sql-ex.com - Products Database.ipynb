{
 "cells": [
  {
   "cell_type": "raw",
   "metadata": {},
   "source": [
    "data source: http://www.sql-ex.com/download/computer_script.sql <br>\n",
    "sources for other data sets: http://www.sql-ex.com/db_script_download.php"
   ]
  },
  {
   "cell_type": "code",
   "execution_count": 3,
   "metadata": {
    "collapsed": true
   },
   "outputs": [],
   "source": [
    "from IPython.core.interactiveshell import InteractiveShell\n",
    "InteractiveShell.ast_node_interactivity = \"all\"\n",
    "# show all outputs of a cell (such as if df.head() and df.tail() are in the same cell)\n",
    "#default is 'last_expr'\n",
    "\n",
    "%matplotlib inline\n",
    "import pandas as pd\n",
    "import sklearn\n",
    "import pickle\n",
    "import numpy as np\n",
    "from pandasql import sqldf\n",
    "import matplotlib.pyplot as plt\n",
    "\n",
    "sql = lambda q: sqldf(q, globals()) \n",
    "\n",
    "product=[('B','1121','PC'),('A','1232','PC'),('A','1233','PC'),('E','1260','PC'),('A','1276','Printer'),\\\n",
    "   ('D','1288','Printer'),('A','1298','Laptop'),('C','1321','Laptop'),('A','1401','Printer'),('A','1408','Printer'),\\\n",
    "   ('D','1433','Printer'),('E','1434','Printer'),('B','1750','Laptop'),('A','1752','Laptop'),('E','2113','PC'),\\\n",
    "   ('E','2112','PC')]\n",
    "product=pd.DataFrame(product,columns=['maker','model','type'])\n",
    "\n",
    "pc=[(1,'1232',500,64,5,'12x',600),(2,'1121',750,128,14,'40x',850),(3,'1233',500,64,5,'12x',600),\\\n",
    "(4,'1121',600,128,14,'40x',850),(5,'1121',600,128,8,'40x',850),(6,'1233',750,128,20,'50x',950),\\\n",
    "(7,'1232',500,32,10,'12x',400),(8,'1232',450,64,8,'24x',350),(9,'1232',450,32,10,'24x',350),\\\n",
    "(10,'1260',500,32,10,'12x',350),(11,'1233',900,128,40,'40x',980),(12,'1233',800,128,20,'50x',970)]\n",
    "pc=pd.DataFrame(pc,columns=['code','model','speed','ram','hd','cd','price'])           \n",
    "\n",
    "laptop=[(1,'1298',350,32,4,700,11),(2,'1321',500,64,8,970,12),(3,'1750',750,128,12,1200,14),\\\n",
    "(4,'1298',600,64,10,1050,15),(5,'1752',750,128,10,1150,14),(6,'1298',450,64,10,950,12)]\n",
    "laptop=pd.DataFrame(laptop,columns=['code','model','speed','ram','hd','price','screen'])\n",
    "\n",
    "printer=[(1,'1276','n','Laser',400),(2,'1433','y','Jet',270),(3,'1434','y','Jet',290),\\\n",
    "(4,'1401','n','Matrix',150),(5,'1408','n','Matrix',270),(6,'1288','n','Laser',400)]\n",
    "printer=pd.DataFrame(printer,columns=['code','model','color','type','price'])"
   ]
  },
  {
   "cell_type": "markdown",
   "metadata": {},
   "source": [
    "**Exercise: 58 (Serge I: 2009-11-13) <br>\n",
    "For each product type and maker in the Product table, find out, with a precision of two decimal places, the percentage ratio of the number of models of the actual type produced by the actual maker to the total number of models by this maker.\n",
    "Result set: maker, product type, the percentage ratio mentioned above.**"
   ]
  },
  {
   "cell_type": "code",
   "execution_count": null,
   "metadata": {
    "collapsed": true
   },
   "outputs": [],
   "source": [
    "#product type, maker:  (# of models for combo / # of models by same maker)"
   ]
  },
  {
   "cell_type": "markdown",
   "metadata": {},
   "source": [
    "for each maker,product combo count the number of rows"
   ]
  },
  {
   "cell_type": "code",
   "execution_count": 13,
   "metadata": {
    "collapsed": false
   },
   "outputs": [
    {
     "data": {
      "text/html": [
       "<div>\n",
       "<table border=\"1\" class=\"dataframe\">\n",
       "  <thead>\n",
       "    <tr style=\"text-align: right;\">\n",
       "      <th></th>\n",
       "      <th>maker</th>\n",
       "      <th>type</th>\n",
       "      <th>percentage</th>\n",
       "    </tr>\n",
       "  </thead>\n",
       "  <tbody>\n",
       "    <tr>\n",
       "      <th>0</th>\n",
       "      <td>A</td>\n",
       "      <td>Laptop</td>\n",
       "      <td>0</td>\n",
       "    </tr>\n",
       "    <tr>\n",
       "      <th>1</th>\n",
       "      <td>A</td>\n",
       "      <td>PC</td>\n",
       "      <td>0</td>\n",
       "    </tr>\n",
       "    <tr>\n",
       "      <th>2</th>\n",
       "      <td>A</td>\n",
       "      <td>Printer</td>\n",
       "      <td>0</td>\n",
       "    </tr>\n",
       "    <tr>\n",
       "      <th>3</th>\n",
       "      <td>B</td>\n",
       "      <td>Laptop</td>\n",
       "      <td>0</td>\n",
       "    </tr>\n",
       "    <tr>\n",
       "      <th>4</th>\n",
       "      <td>B</td>\n",
       "      <td>PC</td>\n",
       "      <td>0</td>\n",
       "    </tr>\n",
       "    <tr>\n",
       "      <th>5</th>\n",
       "      <td>C</td>\n",
       "      <td>Laptop</td>\n",
       "      <td>1</td>\n",
       "    </tr>\n",
       "    <tr>\n",
       "      <th>6</th>\n",
       "      <td>D</td>\n",
       "      <td>Printer</td>\n",
       "      <td>1</td>\n",
       "    </tr>\n",
       "    <tr>\n",
       "      <th>7</th>\n",
       "      <td>E</td>\n",
       "      <td>PC</td>\n",
       "      <td>0</td>\n",
       "    </tr>\n",
       "    <tr>\n",
       "      <th>8</th>\n",
       "      <td>E</td>\n",
       "      <td>Printer</td>\n",
       "      <td>0</td>\n",
       "    </tr>\n",
       "  </tbody>\n",
       "</table>\n",
       "</div>"
      ],
      "text/plain": [
       "  maker     type  percentage\n",
       "0     A   Laptop           0\n",
       "1     A       PC           0\n",
       "2     A  Printer           0\n",
       "3     B   Laptop           0\n",
       "4     B       PC           0\n",
       "5     C   Laptop           1\n",
       "6     D  Printer           1\n",
       "7     E       PC           0\n",
       "8     E  Printer           0"
      ]
     },
     "execution_count": 13,
     "metadata": {},
     "output_type": "execute_result"
    }
   ],
   "source": [
    "q='''\n",
    "select maker,type, \n",
    "(select count(*) from product p1 where p1.maker=p3.maker and p1.type=p3.type)/\n",
    "(select count(*) from product p2 where p2.maker=p3.maker) as percentage\n",
    "from product p3\n",
    "group by maker, type\n",
    "\n",
    "\n",
    "'''\n",
    "sql(q)"
   ]
  },
  {
   "cell_type": "markdown",
   "metadata": {},
   "source": [
    "**Exercise: 47 (Serge I: 2011-02-11) <br>\n",
    "Number the rows of the Product table as follows: makers in descending order of number of models produced by them (for manufacturers producing an equal number of models, their names are sorted in ascending alphabetical order); model numbers in ascending order.<br>\n",
    "Result set: row number as described above, manufacturer's name (maker), model. **"
   ]
  },
  {
   "cell_type": "code",
   "execution_count": 4,
   "metadata": {
    "collapsed": true
   },
   "outputs": [],
   "source": [
    "Product=product"
   ]
  },
  {
   "cell_type": "markdown",
   "metadata": {},
   "source": [
    "create table with maker, model, and total models per maker (which is the same regardless of model number)\n",
    "join this table with itself\n",
    "for each record in first table, you'll have columns from second table that have a count greater than maker count of first table"
   ]
  },
  {
   "cell_type": "code",
   "execution_count": 51,
   "metadata": {
    "collapsed": false
   },
   "outputs": [],
   "source": [
    "q='''\n",
    "select t1.maker, t1.model,t1.c,t2.maker,t2.model,t2.c\n",
    "from (select maker, model, c from Product\n",
    "      join (select count(model) c, maker m from Product group by maker ) b1\n",
    "      on maker = m) t1\n",
    "join (select maker, model, c from Product \n",
    "      join (select count(model) c, maker m from Product group by maker ) b2\n",
    "on maker = m) t2\n",
    "\n",
    "on t2.c > t1.c \n",
    "or t2.c=t1.c and t2.maker<t1.maker\n",
    "or t2.c=t1.c and t2.maker=t1.maker and t2.model <= t1.model\n",
    "order by 1\n",
    "\n",
    "\n",
    "'''\n",
    "sql(q);"
   ]
  },
  {
   "cell_type": "markdown",
   "metadata": {},
   "source": [
    "for each maker, model pairing\n",
    "     the number of records for this pairing is increased by the maker, model records associated with makers that have more models.  \n",
    "     \n",
    "If the maker with the most models, then first maker, model has 1 record.\n",
    "Second maker, model (model # above first records'),   \n",
    "\n",
    "maker with largest count of records is first\n",
    "this maker, for each of its models, has a record for all models of makers with more models, for all models of makers with the same number of models where the maker's name is a lower value alphabetically (makers with higher values get more records), or for the same maker\n",
    "(so this maker, if it originally had n models, will then have nxk models where k is the \n",
    "number of models for all makers with more models than this maker or the same number,)\n"
   ]
  },
  {
   "cell_type": "code",
   "execution_count": 52,
   "metadata": {
    "collapsed": true
   },
   "outputs": [
    {
     "data": {
      "text/html": [
       "<div>\n",
       "<table border=\"1\" class=\"dataframe\">\n",
       "  <thead>\n",
       "    <tr style=\"text-align: right;\">\n",
       "      <th></th>\n",
       "      <th>num</th>\n",
       "      <th>t1.maker</th>\n",
       "      <th>t1.model</th>\n",
       "    </tr>\n",
       "  </thead>\n",
       "  <tbody>\n",
       "    <tr>\n",
       "      <th>0</th>\n",
       "      <td>1</td>\n",
       "      <td>A</td>\n",
       "      <td>1232</td>\n",
       "    </tr>\n",
       "    <tr>\n",
       "      <th>1</th>\n",
       "      <td>2</td>\n",
       "      <td>A</td>\n",
       "      <td>1233</td>\n",
       "    </tr>\n",
       "    <tr>\n",
       "      <th>2</th>\n",
       "      <td>3</td>\n",
       "      <td>A</td>\n",
       "      <td>1276</td>\n",
       "    </tr>\n",
       "    <tr>\n",
       "      <th>3</th>\n",
       "      <td>4</td>\n",
       "      <td>A</td>\n",
       "      <td>1298</td>\n",
       "    </tr>\n",
       "    <tr>\n",
       "      <th>4</th>\n",
       "      <td>5</td>\n",
       "      <td>A</td>\n",
       "      <td>1401</td>\n",
       "    </tr>\n",
       "    <tr>\n",
       "      <th>5</th>\n",
       "      <td>6</td>\n",
       "      <td>A</td>\n",
       "      <td>1408</td>\n",
       "    </tr>\n",
       "    <tr>\n",
       "      <th>6</th>\n",
       "      <td>7</td>\n",
       "      <td>A</td>\n",
       "      <td>1752</td>\n",
       "    </tr>\n",
       "    <tr>\n",
       "      <th>7</th>\n",
       "      <td>8</td>\n",
       "      <td>E</td>\n",
       "      <td>1260</td>\n",
       "    </tr>\n",
       "    <tr>\n",
       "      <th>8</th>\n",
       "      <td>9</td>\n",
       "      <td>E</td>\n",
       "      <td>1434</td>\n",
       "    </tr>\n",
       "    <tr>\n",
       "      <th>9</th>\n",
       "      <td>10</td>\n",
       "      <td>E</td>\n",
       "      <td>2112</td>\n",
       "    </tr>\n",
       "    <tr>\n",
       "      <th>10</th>\n",
       "      <td>11</td>\n",
       "      <td>E</td>\n",
       "      <td>2113</td>\n",
       "    </tr>\n",
       "    <tr>\n",
       "      <th>11</th>\n",
       "      <td>12</td>\n",
       "      <td>B</td>\n",
       "      <td>1121</td>\n",
       "    </tr>\n",
       "    <tr>\n",
       "      <th>12</th>\n",
       "      <td>13</td>\n",
       "      <td>B</td>\n",
       "      <td>1750</td>\n",
       "    </tr>\n",
       "    <tr>\n",
       "      <th>13</th>\n",
       "      <td>14</td>\n",
       "      <td>D</td>\n",
       "      <td>1288</td>\n",
       "    </tr>\n",
       "    <tr>\n",
       "      <th>14</th>\n",
       "      <td>15</td>\n",
       "      <td>D</td>\n",
       "      <td>1433</td>\n",
       "    </tr>\n",
       "    <tr>\n",
       "      <th>15</th>\n",
       "      <td>16</td>\n",
       "      <td>C</td>\n",
       "      <td>1321</td>\n",
       "    </tr>\n",
       "  </tbody>\n",
       "</table>\n",
       "</div>"
      ],
      "text/plain": [
       "    num t1.maker t1.model\n",
       "0     1        A     1232\n",
       "1     2        A     1233\n",
       "2     3        A     1276\n",
       "3     4        A     1298\n",
       "4     5        A     1401\n",
       "5     6        A     1408\n",
       "6     7        A     1752\n",
       "7     8        E     1260\n",
       "8     9        E     1434\n",
       "9    10        E     2112\n",
       "10   11        E     2113\n",
       "11   12        B     1121\n",
       "12   13        B     1750\n",
       "13   14        D     1288\n",
       "14   15        D     1433\n",
       "15   16        C     1321"
      ]
     },
     "execution_count": 52,
     "metadata": {},
     "output_type": "execute_result"
    }
   ],
   "source": [
    "q='''\n",
    "select count(*) num, t1.maker, t1.model\n",
    "from (select maker, model, c from Product\n",
    "      join (select count(model) c, maker m from Product group by maker ) b1\n",
    "      on maker = m) t1\n",
    "join (select maker, model, c from Product \n",
    "      join (select count(model) c, maker m from Product group by maker ) b2\n",
    "on maker = m) t2\n",
    "\n",
    "on t2.c > t1.c \n",
    "or t2.c=t1.c and t2.maker<t1.maker\n",
    "or t2.c=t1.c and t2.maker=t1.maker and t2.model <= t1.model\n",
    "group by t1.maker, t1.model\n",
    "order by 1;\n",
    "\n",
    "\n",
    "'''\n",
    "sql(q)"
   ]
  },
  {
   "cell_type": "markdown",
   "metadata": {},
   "source": [
    "**Exercise: 41 (Serge I: 2008-08-30) <br>\n",
    "For the PC in the PC table with the maximum code value, obtain all its characteristics (except for the code) and display them in two columns \n",
    "**\n",
    "- name of the characteristic (title of the corresponding column in the PC table);\n",
    "- its respective value. "
   ]
  },
  {
   "cell_type": "code",
   "execution_count": 8,
   "metadata": {
    "collapsed": false
   },
   "outputs": [
    {
     "data": {
      "text/html": [
       "<div>\n",
       "<table border=\"1\" class=\"dataframe\">\n",
       "  <thead>\n",
       "    <tr style=\"text-align: right;\">\n",
       "      <th></th>\n",
       "      <th>'model'</th>\n",
       "      <th>model</th>\n",
       "    </tr>\n",
       "  </thead>\n",
       "  <tbody>\n",
       "    <tr>\n",
       "      <th>0</th>\n",
       "      <td>cd</td>\n",
       "      <td>50x</td>\n",
       "    </tr>\n",
       "    <tr>\n",
       "      <th>1</th>\n",
       "      <td>hd</td>\n",
       "      <td>20</td>\n",
       "    </tr>\n",
       "    <tr>\n",
       "      <th>2</th>\n",
       "      <td>model</td>\n",
       "      <td>1233</td>\n",
       "    </tr>\n",
       "    <tr>\n",
       "      <th>3</th>\n",
       "      <td>price</td>\n",
       "      <td>970</td>\n",
       "    </tr>\n",
       "    <tr>\n",
       "      <th>4</th>\n",
       "      <td>ram</td>\n",
       "      <td>128</td>\n",
       "    </tr>\n",
       "    <tr>\n",
       "      <th>5</th>\n",
       "      <td>speed</td>\n",
       "      <td>800</td>\n",
       "    </tr>\n",
       "  </tbody>\n",
       "</table>\n",
       "</div>"
      ],
      "text/plain": [
       "  'model' model\n",
       "0      cd   50x\n",
       "1      hd    20\n",
       "2   model  1233\n",
       "3   price   970\n",
       "4     ram   128\n",
       "5   speed   800"
      ]
     },
     "execution_count": 8,
     "metadata": {},
     "output_type": "execute_result"
    }
   ],
   "source": [
    "q='''\n",
    "select 'model', cast(model as NVARCHAR (10)) as model from pc where code in (select max(code) from pc)\n",
    "union\n",
    "select 'speed', cast(speed as NVARCHAR (10)) from pc where code in (select max(code) from pc)\n",
    "union\n",
    "select 'ram', cast(ram as NVARCHAR (10)) from pc where code in (select max(code) from pc)\n",
    "union\n",
    "select 'hd', cast(hd as NVARCHAR (10)) from pc where code in (select max(code) from pc)\n",
    "union\n",
    "select 'cd', cast(cd as NVARCHAR (10)) from pc where code in (select max(code) from pc)\n",
    "union\n",
    "select 'price', cast(price as NVARCHAR (10)) from pc where code in (select max(code) from pc)\n",
    "\n",
    "'''\n",
    "sql(q)"
   ]
  },
  {
   "cell_type": "markdown",
   "metadata": {},
   "source": [
    "**Exercise: 35 (qwrqwr: 2012-11-23) <br>\n",
    "Find models in the Product table consisting either of digits only or Latin letters (A-Z, case insensitive) only.<br>\n",
    "Result set: model, type.**"
   ]
  },
  {
   "cell_type": "code",
   "execution_count": 23,
   "metadata": {
    "collapsed": true
   },
   "outputs": [
    {
     "data": {
      "text/html": [
       "<div>\n",
       "<table border=\"1\" class=\"dataframe\">\n",
       "  <thead>\n",
       "    <tr style=\"text-align: right;\">\n",
       "      <th></th>\n",
       "      <th>model</th>\n",
       "      <th>type</th>\n",
       "    </tr>\n",
       "  </thead>\n",
       "  <tbody>\n",
       "    <tr>\n",
       "      <th>0</th>\n",
       "      <td>1121</td>\n",
       "      <td>PC</td>\n",
       "    </tr>\n",
       "    <tr>\n",
       "      <th>1</th>\n",
       "      <td>1232</td>\n",
       "      <td>PC</td>\n",
       "    </tr>\n",
       "    <tr>\n",
       "      <th>2</th>\n",
       "      <td>1233</td>\n",
       "      <td>PC</td>\n",
       "    </tr>\n",
       "    <tr>\n",
       "      <th>3</th>\n",
       "      <td>1260</td>\n",
       "      <td>PC</td>\n",
       "    </tr>\n",
       "    <tr>\n",
       "      <th>4</th>\n",
       "      <td>1276</td>\n",
       "      <td>Printer</td>\n",
       "    </tr>\n",
       "    <tr>\n",
       "      <th>5</th>\n",
       "      <td>1288</td>\n",
       "      <td>Printer</td>\n",
       "    </tr>\n",
       "    <tr>\n",
       "      <th>6</th>\n",
       "      <td>1298</td>\n",
       "      <td>Laptop</td>\n",
       "    </tr>\n",
       "    <tr>\n",
       "      <th>7</th>\n",
       "      <td>1321</td>\n",
       "      <td>Laptop</td>\n",
       "    </tr>\n",
       "    <tr>\n",
       "      <th>8</th>\n",
       "      <td>1401</td>\n",
       "      <td>Printer</td>\n",
       "    </tr>\n",
       "    <tr>\n",
       "      <th>9</th>\n",
       "      <td>1408</td>\n",
       "      <td>Printer</td>\n",
       "    </tr>\n",
       "    <tr>\n",
       "      <th>10</th>\n",
       "      <td>1433</td>\n",
       "      <td>Printer</td>\n",
       "    </tr>\n",
       "    <tr>\n",
       "      <th>11</th>\n",
       "      <td>1434</td>\n",
       "      <td>Printer</td>\n",
       "    </tr>\n",
       "    <tr>\n",
       "      <th>12</th>\n",
       "      <td>1750</td>\n",
       "      <td>Laptop</td>\n",
       "    </tr>\n",
       "    <tr>\n",
       "      <th>13</th>\n",
       "      <td>1752</td>\n",
       "      <td>Laptop</td>\n",
       "    </tr>\n",
       "    <tr>\n",
       "      <th>14</th>\n",
       "      <td>2113</td>\n",
       "      <td>PC</td>\n",
       "    </tr>\n",
       "    <tr>\n",
       "      <th>15</th>\n",
       "      <td>2112</td>\n",
       "      <td>PC</td>\n",
       "    </tr>\n",
       "  </tbody>\n",
       "</table>\n",
       "</div>"
      ],
      "text/plain": [
       "   model     type\n",
       "0   1121       PC\n",
       "1   1232       PC\n",
       "2   1233       PC\n",
       "3   1260       PC\n",
       "4   1276  Printer\n",
       "5   1288  Printer\n",
       "6   1298   Laptop\n",
       "7   1321   Laptop\n",
       "8   1401  Printer\n",
       "9   1408  Printer\n",
       "10  1433  Printer\n",
       "11  1434  Printer\n",
       "12  1750   Laptop\n",
       "13  1752   Laptop\n",
       "14  2113       PC\n",
       "15  2112       PC"
      ]
     },
     "execution_count": 23,
     "metadata": {},
     "output_type": "execute_result"
    }
   ],
   "source": [
    "#sqlite uses % and _ for the like operator, but does NOT accept character lists []\n",
    "#[^charlist] or [%charlist] any character other than the charlist\n",
    "#therefore, none of the below can be done in sqlite\n",
    "\n",
    "#like '%[0-9]%' returns strings with a number ANYWHERE in them (with at least one number)\n",
    "#like '%[^0-9]%' returns strings that are not ALL numbers\n",
    "    #the string'hi9' would match since if we just examine the '%[^0-9]' part, this means all \n",
    "        #strings with letters before 0-9 are returned since % is a wildcard '__9' \n",
    "    #the string '9hi' would match since if we just examine the '[^0-9]%' part, this means all\n",
    "        # strings with letters after 0-9 are returned since % is a wildcard '9__'\n",
    "    #the string 'hi' would match since it matches '[^0-9]%' and '%[^0-9]'  \n",
    "#not like '%[^0-9]%' returns strings that are ALL numbers \n",
    "    #(=not strings that are not ALL #s means strings that ARE all numbers)\n",
    "\n",
    "q='''\n",
    "select model, type from product \n",
    "where model not like '%[^a-z]%' or model not like '%[^0-9]%'\n",
    "'''\n",
    "sql(q)"
   ]
  },
  {
   "cell_type": "markdown",
   "metadata": {},
   "source": [
    "**Exercise: 27 (Serge I: 2003-02-03) <br>\n",
    "Find out the average hard disk drive capacity of PCs produced by makers who also manufacture printers.<br>\n",
    "Result set: maker, average HDD capacity.**"
   ]
  },
  {
   "cell_type": "code",
   "execution_count": 2,
   "metadata": {
    "collapsed": false
   },
   "outputs": [
    {
     "data": {
      "text/html": [
       "<div>\n",
       "<table border=\"1\" class=\"dataframe\">\n",
       "  <thead>\n",
       "    <tr style=\"text-align: right;\">\n",
       "      <th></th>\n",
       "      <th>maker</th>\n",
       "      <th>Avg_hd</th>\n",
       "    </tr>\n",
       "  </thead>\n",
       "  <tbody>\n",
       "    <tr>\n",
       "      <th>0</th>\n",
       "      <td>A</td>\n",
       "      <td>14.75</td>\n",
       "    </tr>\n",
       "    <tr>\n",
       "      <th>1</th>\n",
       "      <td>E</td>\n",
       "      <td>10.00</td>\n",
       "    </tr>\n",
       "  </tbody>\n",
       "</table>\n",
       "</div>"
      ],
      "text/plain": [
       "  maker  Avg_hd\n",
       "0     A   14.75\n",
       "1     E   10.00"
      ]
     },
     "execution_count": 2,
     "metadata": {},
     "output_type": "execute_result"
    }
   ],
   "source": [
    "q='''\n",
    "select maker, avg(pc.hd) as Avg_hd from product p\n",
    "left join pc on pc.model=p.model\n",
    "where maker in (select maker from product where type='Printer')\n",
    "group by maker\n",
    "having count(pc.model)>0\n",
    "'''\n",
    "sql(q)"
   ]
  },
  {
   "cell_type": "markdown",
   "metadata": {},
   "source": [
    "**Exercise: 26 (Serge I: 2003-02-14)<br>\n",
    "Find out the average price of PCs and laptops produced by maker A. <br>\n",
    "Result set: one overall average price for all items.** \n"
   ]
  },
  {
   "cell_type": "code",
   "execution_count": 10,
   "metadata": {
    "collapsed": false
   },
   "outputs": [
    {
     "data": {
      "text/html": [
       "<div>\n",
       "<table border=\"1\" class=\"dataframe\">\n",
       "  <thead>\n",
       "    <tr style=\"text-align: right;\">\n",
       "      <th></th>\n",
       "      <th>avg(price)</th>\n",
       "    </tr>\n",
       "  </thead>\n",
       "  <tbody>\n",
       "    <tr>\n",
       "      <th>0</th>\n",
       "      <td>754.166667</td>\n",
       "    </tr>\n",
       "  </tbody>\n",
       "</table>\n",
       "</div>"
      ],
      "text/plain": [
       "   avg(price)\n",
       "0  754.166667"
      ]
     },
     "execution_count": 10,
     "metadata": {},
     "output_type": "execute_result"
    }
   ],
   "source": [
    "#use union all, which does not remove duplicates\n",
    "#You get the wrong answer with union, which removes duplicates, which in this case some\n",
    "#price values of laptop are also in pc\n",
    "q='''\n",
    "with temp as (\n",
    "select price from pc join product p on p.model=pc.model where p.maker='A'\n",
    "union all\n",
    "select price from laptop l join product p on p.model=l.model where p.maker='A'\n",
    ")\n",
    "select avg(price) from temp\n",
    "'''\n",
    "sql(q)"
   ]
  },
  {
   "cell_type": "markdown",
   "metadata": {},
   "source": [
    "**Exercise: 25 <br>\n",
    "Find the printer makers also producing PCs with the lowest RAM capacity and the highest processor speed of all PCs having the lowest RAM capacity. <br>\n",
    "Result set: maker. **"
   ]
  },
  {
   "cell_type": "code",
   "execution_count": 49,
   "metadata": {
    "collapsed": false
   },
   "outputs": [
    {
     "data": {
      "text/html": [
       "<div>\n",
       "<table border=\"1\" class=\"dataframe\">\n",
       "  <thead>\n",
       "    <tr style=\"text-align: right;\">\n",
       "      <th></th>\n",
       "      <th>maker</th>\n",
       "    </tr>\n",
       "  </thead>\n",
       "  <tbody>\n",
       "    <tr>\n",
       "      <th>0</th>\n",
       "      <td>A</td>\n",
       "    </tr>\n",
       "    <tr>\n",
       "      <th>1</th>\n",
       "      <td>E</td>\n",
       "    </tr>\n",
       "  </tbody>\n",
       "</table>\n",
       "</div>"
      ],
      "text/plain": [
       "  maker\n",
       "0     A\n",
       "1     E"
      ]
     },
     "execution_count": 49,
     "metadata": {},
     "output_type": "execute_result"
    }
   ],
   "source": [
    "#Included where conditions on the joined table\n",
    "q='''\n",
    "select distinct maker from product p\n",
    "join pc on pc.model=p.model and pc.ram in (select min(ram) from pc)\n",
    "and pc.speed >= (select max(speed) from pc where pc.ram in (select min(ram) from pc) )\n",
    "where maker in (select maker from product where type = 'Printer')\n",
    "\n",
    "'''\n",
    "sql(q)"
   ]
  },
  {
   "cell_type": "markdown",
   "metadata": {},
   "source": [
    "**Exercise: 14 (Serge I: 2012-04-20)<br>\n",
    "Get the makers who produce only one product type and more than one model. Output: maker, type.**"
   ]
  },
  {
   "cell_type": "code",
   "execution_count": 2,
   "metadata": {
    "collapsed": false
   },
   "outputs": [
    {
     "data": {
      "text/html": [
       "<div>\n",
       "<table border=\"1\" class=\"dataframe\">\n",
       "  <thead>\n",
       "    <tr style=\"text-align: right;\">\n",
       "      <th></th>\n",
       "      <th>maker</th>\n",
       "      <th>type</th>\n",
       "    </tr>\n",
       "  </thead>\n",
       "  <tbody>\n",
       "    <tr>\n",
       "      <th>0</th>\n",
       "      <td>D</td>\n",
       "      <td>Printer</td>\n",
       "    </tr>\n",
       "  </tbody>\n",
       "</table>\n",
       "</div>"
      ],
      "text/plain": [
       "  maker     type\n",
       "0     D  Printer"
      ]
     },
     "execution_count": 2,
     "metadata": {},
     "output_type": "execute_result"
    }
   ],
   "source": [
    "q='''\n",
    "select distinct maker, type from product\n",
    "where maker in \n",
    "(select maker from product group by maker\n",
    "having count(distinct type) =1 and \n",
    "count(distinct model)>1)\n",
    "'''\n",
    "sql(q)"
   ]
  },
  {
   "cell_type": "code",
   "execution_count": 11,
   "metadata": {
    "collapsed": false
   },
   "outputs": [
    {
     "data": {
      "text/html": [
       "<div>\n",
       "<table border=\"1\" class=\"dataframe\">\n",
       "  <thead>\n",
       "    <tr style=\"text-align: right;\">\n",
       "      <th></th>\n",
       "      <th>maker</th>\n",
       "      <th>type</th>\n",
       "    </tr>\n",
       "  </thead>\n",
       "  <tbody>\n",
       "    <tr>\n",
       "      <th>0</th>\n",
       "      <td>D</td>\n",
       "      <td>Printer</td>\n",
       "    </tr>\n",
       "  </tbody>\n",
       "</table>\n",
       "</div>"
      ],
      "text/plain": [
       "  maker     type\n",
       "0     D  Printer"
      ]
     },
     "execution_count": 11,
     "metadata": {},
     "output_type": "execute_result"
    }
   ],
   "source": [
    "q='''\n",
    "select maker, type from \n",
    "(select maker, type from product group by maker\n",
    "having count(distinct type)=1 and count(distinct model)>1) \n",
    "'''\n",
    "sql(q)"
   ]
  },
  {
   "cell_type": "markdown",
   "metadata": {},
   "source": [
    "**Exercise: 15 (Serge I: 2003-02-03)<br>\n",
    "Get hard drive capacities that are identical for two or more PCs. <br>\n",
    "Result set: hd.**"
   ]
  },
  {
   "cell_type": "code",
   "execution_count": 17,
   "metadata": {
    "collapsed": false
   },
   "outputs": [
    {
     "data": {
      "text/html": [
       "<div>\n",
       "<table border=\"1\" class=\"dataframe\">\n",
       "  <thead>\n",
       "    <tr style=\"text-align: right;\">\n",
       "      <th></th>\n",
       "      <th>hd</th>\n",
       "    </tr>\n",
       "  </thead>\n",
       "  <tbody>\n",
       "    <tr>\n",
       "      <th>0</th>\n",
       "      <td>5.0</td>\n",
       "    </tr>\n",
       "    <tr>\n",
       "      <th>1</th>\n",
       "      <td>8.0</td>\n",
       "    </tr>\n",
       "    <tr>\n",
       "      <th>2</th>\n",
       "      <td>10.0</td>\n",
       "    </tr>\n",
       "    <tr>\n",
       "      <th>3</th>\n",
       "      <td>14.0</td>\n",
       "    </tr>\n",
       "    <tr>\n",
       "      <th>4</th>\n",
       "      <td>20.0</td>\n",
       "    </tr>\n",
       "  </tbody>\n",
       "</table>\n",
       "</div>"
      ],
      "text/plain": [
       "     hd\n",
       "0   5.0\n",
       "1   8.0\n",
       "2  10.0\n",
       "3  14.0\n",
       "4  20.0"
      ]
     },
     "execution_count": 17,
     "metadata": {},
     "output_type": "execute_result"
    }
   ],
   "source": [
    "q='''\n",
    "select hd from pc\n",
    "group by hd\n",
    "having count(hd)>=2\n",
    "'''\n",
    "sql(q)"
   ]
  },
  {
   "cell_type": "markdown",
   "metadata": {},
   "source": [
    "**Exercise: 16 (Serge I: 2003-02-03)\n",
    "Get pairs of PC models with identical speeds and the same RAM capacity.<br>\n",
    "Each resulting pair should be displayed only once, i.e. (i, j) but not (j, i). <br>\n",
    "Result set: model with the bigger number, model with the smaller number, speed, and RAM.**"
   ]
  },
  {
   "cell_type": "code",
   "execution_count": 26,
   "metadata": {
    "collapsed": false
   },
   "outputs": [
    {
     "data": {
      "text/html": [
       "<div>\n",
       "<table border=\"1\" class=\"dataframe\">\n",
       "  <thead>\n",
       "    <tr style=\"text-align: right;\">\n",
       "      <th></th>\n",
       "      <th>model</th>\n",
       "      <th>model</th>\n",
       "      <th>speed</th>\n",
       "      <th>ram</th>\n",
       "    </tr>\n",
       "  </thead>\n",
       "  <tbody>\n",
       "    <tr>\n",
       "      <th>0</th>\n",
       "      <td>1233</td>\n",
       "      <td>1232</td>\n",
       "      <td>500.0</td>\n",
       "      <td>64.0</td>\n",
       "    </tr>\n",
       "    <tr>\n",
       "      <th>1</th>\n",
       "      <td>1233</td>\n",
       "      <td>1121</td>\n",
       "      <td>750.0</td>\n",
       "      <td>128.0</td>\n",
       "    </tr>\n",
       "    <tr>\n",
       "      <th>2</th>\n",
       "      <td>1260</td>\n",
       "      <td>1232</td>\n",
       "      <td>500.0</td>\n",
       "      <td>32.0</td>\n",
       "    </tr>\n",
       "  </tbody>\n",
       "</table>\n",
       "</div>"
      ],
      "text/plain": [
       "  model model  speed    ram\n",
       "0  1233  1232  500.0   64.0\n",
       "1  1233  1121  750.0  128.0\n",
       "2  1260  1232  500.0   32.0"
      ]
     },
     "execution_count": 26,
     "metadata": {},
     "output_type": "execute_result"
    }
   ],
   "source": [
    "q=''' \n",
    "select a.model, b.model, a.speed, a.ram from pc as a, pc as b\n",
    "where a.speed=b.speed and a.ram=b.ram and a.model>b.model\n",
    "'''\n",
    "sql(q) #notice two tables are in the from statement"
   ]
  },
  {
   "cell_type": "markdown",
   "metadata": {},
   "source": [
    "**Exercise: 17 (Serge I: 2003-02-03) <br>\n",
    "Get the laptop models that have a speed smaller than the speed of any PC.  <br>\n",
    "Result set: type, model, speed.**"
   ]
  },
  {
   "cell_type": "code",
   "execution_count": 59,
   "metadata": {
    "collapsed": false
   },
   "outputs": [
    {
     "data": {
      "text/html": [
       "<div>\n",
       "<table border=\"1\" class=\"dataframe\">\n",
       "  <thead>\n",
       "    <tr style=\"text-align: right;\">\n",
       "      <th></th>\n",
       "      <th>type</th>\n",
       "      <th>model</th>\n",
       "      <th>speed</th>\n",
       "    </tr>\n",
       "  </thead>\n",
       "  <tbody>\n",
       "    <tr>\n",
       "      <th>0</th>\n",
       "      <td>laptop</td>\n",
       "      <td>1298</td>\n",
       "      <td>350.0</td>\n",
       "    </tr>\n",
       "  </tbody>\n",
       "</table>\n",
       "</div>"
      ],
      "text/plain": [
       "     type model  speed\n",
       "0  laptop  1298  350.0"
      ]
     },
     "execution_count": 59,
     "metadata": {},
     "output_type": "execute_result"
    }
   ],
   "source": [
    "q=''' \n",
    "select distinct 'laptop' as type, model, speed\n",
    "from laptop\n",
    "where speed < (select min(pc.speed) from pc)\n",
    "''' # notice that pc is not needed in the from statement\n",
    "    # notice that we don't need to refer to laptop since the subquery in the where\n",
    "    # clause is not conflicting with the laptop table\n",
    "sql(q)"
   ]
  },
  {
   "cell_type": "markdown",
   "metadata": {},
   "source": [
    "**Find the makers of the cheapest color printers.<br>\n",
    "Result set: maker, price.**"
   ]
  },
  {
   "cell_type": "code",
   "execution_count": 3,
   "metadata": {
    "collapsed": false
   },
   "outputs": [
    {
     "data": {
      "text/html": [
       "<div>\n",
       "<table border=\"1\" class=\"dataframe\">\n",
       "  <thead>\n",
       "    <tr style=\"text-align: right;\">\n",
       "      <th></th>\n",
       "      <th>maker</th>\n",
       "      <th>price</th>\n",
       "    </tr>\n",
       "  </thead>\n",
       "  <tbody>\n",
       "    <tr>\n",
       "      <th>0</th>\n",
       "      <td>D</td>\n",
       "      <td>270.0</td>\n",
       "    </tr>\n",
       "  </tbody>\n",
       "</table>\n",
       "</div>"
      ],
      "text/plain": [
       "  maker  price\n",
       "0     D  270.0"
      ]
     },
     "execution_count": 3,
     "metadata": {},
     "output_type": "execute_result"
    }
   ],
   "source": [
    "q='''\n",
    "select p2.maker, p1.price\n",
    "from printer p1 \n",
    "join product p2 on p1.model = p2.model\n",
    "where color='y' and p1.price in (select min(price) from printer where color='y')\n",
    "order by p1.price asc\n",
    "''' #You can use aggregate functions without a group by!  \n",
    "sql(q)"
   ]
  },
  {
   "cell_type": "markdown",
   "metadata": {},
   "source": [
    "**Exercise: 19 (Serge I: 2003-02-13)<br>\n",
    "For each maker having models in the Laptop table, find out the average screen size of the laptops he produces. <br>\n",
    "Result set: maker, average screen size.<br>**\n"
   ]
  },
  {
   "cell_type": "code",
   "execution_count": 4,
   "metadata": {
    "collapsed": false
   },
   "outputs": [
    {
     "data": {
      "text/html": [
       "<div>\n",
       "<table border=\"1\" class=\"dataframe\">\n",
       "  <thead>\n",
       "    <tr style=\"text-align: right;\">\n",
       "      <th></th>\n",
       "      <th>maker</th>\n",
       "      <th>avg(l.screen)</th>\n",
       "    </tr>\n",
       "  </thead>\n",
       "  <tbody>\n",
       "    <tr>\n",
       "      <th>0</th>\n",
       "      <td>A</td>\n",
       "      <td>13.0</td>\n",
       "    </tr>\n",
       "    <tr>\n",
       "      <th>1</th>\n",
       "      <td>B</td>\n",
       "      <td>14.0</td>\n",
       "    </tr>\n",
       "    <tr>\n",
       "      <th>2</th>\n",
       "      <td>C</td>\n",
       "      <td>12.0</td>\n",
       "    </tr>\n",
       "  </tbody>\n",
       "</table>\n",
       "</div>"
      ],
      "text/plain": [
       "  maker  avg(l.screen)\n",
       "0     A           13.0\n",
       "1     B           14.0\n",
       "2     C           12.0"
      ]
     },
     "execution_count": 4,
     "metadata": {},
     "output_type": "execute_result"
    }
   ],
   "source": [
    "q='''\n",
    "select p.maker, avg(l.screen)\n",
    "from laptop l\n",
    "join product p on p.model = l.model\n",
    "group by maker\n",
    "'''\n",
    "sql(q)"
   ]
  },
  {
   "cell_type": "markdown",
   "metadata": {},
   "source": [
    "**Exercise: 20 (Serge I: 2003-02-13) <br>\n",
    "Find the makers producing at least three distinct models of PCs. <br>\n",
    "Result set: maker, number of PC models. <br>**"
   ]
  },
  {
   "cell_type": "code",
   "execution_count": 15,
   "metadata": {
    "collapsed": false
   },
   "outputs": [
    {
     "data": {
      "text/html": [
       "<div>\n",
       "<table border=\"1\" class=\"dataframe\">\n",
       "  <thead>\n",
       "    <tr style=\"text-align: right;\">\n",
       "      <th></th>\n",
       "      <th>maker</th>\n",
       "      <th>count(distinct model)</th>\n",
       "    </tr>\n",
       "  </thead>\n",
       "  <tbody>\n",
       "    <tr>\n",
       "      <th>0</th>\n",
       "      <td>E</td>\n",
       "      <td>3</td>\n",
       "    </tr>\n",
       "  </tbody>\n",
       "</table>\n",
       "</div>"
      ],
      "text/plain": [
       "  maker  count(distinct model)\n",
       "0     E                      3"
      ]
     },
     "execution_count": 15,
     "metadata": {},
     "output_type": "execute_result"
    }
   ],
   "source": [
    "q='''\n",
    "select maker, count(distinct model)\n",
    "from products\n",
    "where type='PC'\n",
    "group by maker\n",
    "having count(distinct model) >=3\n",
    "'''\n",
    "sql(q)"
   ]
  },
  {
   "cell_type": "markdown",
   "metadata": {},
   "source": [
    "**Exercise: 21 (Serge I: 2003-02-13)<br>\n",
    "Find out the maximum PC price for each maker having models in the PC table. Result set: maker, maximum price.<br>**\n"
   ]
  },
  {
   "cell_type": "code",
   "execution_count": 3,
   "metadata": {
    "collapsed": false
   },
   "outputs": [
    {
     "data": {
      "text/html": [
       "<div>\n",
       "<table border=\"1\" class=\"dataframe\">\n",
       "  <thead>\n",
       "    <tr style=\"text-align: right;\">\n",
       "      <th></th>\n",
       "      <th>maker</th>\n",
       "      <th>maximum_price</th>\n",
       "    </tr>\n",
       "  </thead>\n",
       "  <tbody>\n",
       "    <tr>\n",
       "      <th>0</th>\n",
       "      <td>A</td>\n",
       "      <td>980.0</td>\n",
       "    </tr>\n",
       "    <tr>\n",
       "      <th>1</th>\n",
       "      <td>B</td>\n",
       "      <td>850.0</td>\n",
       "    </tr>\n",
       "    <tr>\n",
       "      <th>2</th>\n",
       "      <td>E</td>\n",
       "      <td>350.0</td>\n",
       "    </tr>\n",
       "  </tbody>\n",
       "</table>\n",
       "</div>"
      ],
      "text/plain": [
       "  maker  maximum_price\n",
       "0     A          980.0\n",
       "1     B          850.0\n",
       "2     E          350.0"
      ]
     },
     "execution_count": 3,
     "metadata": {},
     "output_type": "execute_result"
    }
   ],
   "source": [
    "q='''\n",
    "select p.maker, max(pc.price) as maximum_price\n",
    "from product p join pc on p.model=pc.model\n",
    "group by maker\n",
    "'''\n",
    "sql(q)"
   ]
  },
  {
   "cell_type": "markdown",
   "metadata": {},
   "source": [
    "**Exercise: 22 (Serge I: 2003-02-13) <br>\n",
    "For each value of PC speed that exceeds 600 MHz, find out the average price of PCs with identical speeds. <br>\n",
    "Result set: speed, average price. <br>**\n"
   ]
  },
  {
   "cell_type": "code",
   "execution_count": 4,
   "metadata": {
    "collapsed": false
   },
   "outputs": [
    {
     "data": {
      "text/html": [
       "<div>\n",
       "<table border=\"1\" class=\"dataframe\">\n",
       "  <thead>\n",
       "    <tr style=\"text-align: right;\">\n",
       "      <th></th>\n",
       "      <th>speed</th>\n",
       "      <th>avg(price)</th>\n",
       "    </tr>\n",
       "  </thead>\n",
       "  <tbody>\n",
       "    <tr>\n",
       "      <th>0</th>\n",
       "      <td>750.0</td>\n",
       "      <td>900.0</td>\n",
       "    </tr>\n",
       "    <tr>\n",
       "      <th>1</th>\n",
       "      <td>800.0</td>\n",
       "      <td>970.0</td>\n",
       "    </tr>\n",
       "    <tr>\n",
       "      <th>2</th>\n",
       "      <td>900.0</td>\n",
       "      <td>980.0</td>\n",
       "    </tr>\n",
       "  </tbody>\n",
       "</table>\n",
       "</div>"
      ],
      "text/plain": [
       "   speed  avg(price)\n",
       "0  750.0       900.0\n",
       "1  800.0       970.0\n",
       "2  900.0       980.0"
      ]
     },
     "execution_count": 4,
     "metadata": {},
     "output_type": "execute_result"
    }
   ],
   "source": [
    "q='''\n",
    "select speed, avg(price)\n",
    "from pc\n",
    "where speed>600\n",
    "group by speed\n",
    "'''\n",
    "sql(q)"
   ]
  },
  {
   "cell_type": "markdown",
   "metadata": {},
   "source": [
    "**Exercise: 23 (Serge I: 2003-02-14) <br>\n",
    "Get the makers producing both PCs having a speed of 750 MHz or higher and laptops with a speed of 750 MHz or higher.  In other words, makers with at least one pc whose speed is 750 or higher AND at least one laptop whose speed is 750 or higher. <br>\n",
    "Result set: maker**"
   ]
  },
  {
   "cell_type": "code",
   "execution_count": 22,
   "metadata": {
    "collapsed": true
   },
   "outputs": [
    {
     "data": {
      "text/html": [
       "<div>\n",
       "<table border=\"1\" class=\"dataframe\">\n",
       "  <thead>\n",
       "    <tr style=\"text-align: right;\">\n",
       "      <th></th>\n",
       "      <th>code</th>\n",
       "      <th>model</th>\n",
       "      <th>speed</th>\n",
       "      <th>ram</th>\n",
       "      <th>hd</th>\n",
       "      <th>price</th>\n",
       "      <th>screen</th>\n",
       "    </tr>\n",
       "  </thead>\n",
       "  <tbody>\n",
       "    <tr>\n",
       "      <th>0</th>\n",
       "      <td>1</td>\n",
       "      <td>1298</td>\n",
       "      <td>350</td>\n",
       "      <td>32</td>\n",
       "      <td>4</td>\n",
       "      <td>700</td>\n",
       "      <td>11</td>\n",
       "    </tr>\n",
       "    <tr>\n",
       "      <th>1</th>\n",
       "      <td>2</td>\n",
       "      <td>1321</td>\n",
       "      <td>500</td>\n",
       "      <td>64</td>\n",
       "      <td>8</td>\n",
       "      <td>970</td>\n",
       "      <td>12</td>\n",
       "    </tr>\n",
       "    <tr>\n",
       "      <th>2</th>\n",
       "      <td>3</td>\n",
       "      <td>1750</td>\n",
       "      <td>750</td>\n",
       "      <td>128</td>\n",
       "      <td>12</td>\n",
       "      <td>1200</td>\n",
       "      <td>14</td>\n",
       "    </tr>\n",
       "    <tr>\n",
       "      <th>3</th>\n",
       "      <td>4</td>\n",
       "      <td>1298</td>\n",
       "      <td>600</td>\n",
       "      <td>64</td>\n",
       "      <td>10</td>\n",
       "      <td>1050</td>\n",
       "      <td>15</td>\n",
       "    </tr>\n",
       "    <tr>\n",
       "      <th>4</th>\n",
       "      <td>5</td>\n",
       "      <td>1752</td>\n",
       "      <td>750</td>\n",
       "      <td>128</td>\n",
       "      <td>10</td>\n",
       "      <td>1150</td>\n",
       "      <td>14</td>\n",
       "    </tr>\n",
       "    <tr>\n",
       "      <th>5</th>\n",
       "      <td>6</td>\n",
       "      <td>1298</td>\n",
       "      <td>450</td>\n",
       "      <td>64</td>\n",
       "      <td>10</td>\n",
       "      <td>950</td>\n",
       "      <td>12</td>\n",
       "    </tr>\n",
       "  </tbody>\n",
       "</table>\n",
       "</div>"
      ],
      "text/plain": [
       "   code model  speed  ram  hd  price  screen\n",
       "0     1  1298    350   32   4    700      11\n",
       "1     2  1321    500   64   8    970      12\n",
       "2     3  1750    750  128  12   1200      14\n",
       "3     4  1298    600   64  10   1050      15\n",
       "4     5  1752    750  128  10   1150      14\n",
       "5     6  1298    450   64  10    950      12"
      ]
     },
     "execution_count": 22,
     "metadata": {},
     "output_type": "execute_result"
    }
   ],
   "source": [
    "\n",
    "q='''\n",
    "select * from laptop\n",
    "'''\n",
    "sql(q)"
   ]
  },
  {
   "cell_type": "code",
   "execution_count": 27,
   "metadata": {
    "collapsed": false,
    "scrolled": true
   },
   "outputs": [
    {
     "data": {
      "text/html": [
       "<div>\n",
       "<table border=\"1\" class=\"dataframe\">\n",
       "  <thead>\n",
       "    <tr style=\"text-align: right;\">\n",
       "      <th></th>\n",
       "      <th>maker</th>\n",
       "    </tr>\n",
       "  </thead>\n",
       "  <tbody>\n",
       "  </tbody>\n",
       "</table>\n",
       "</div>"
      ],
      "text/plain": [
       "Empty DataFrame\n",
       "Columns: [maker]\n",
       "Index: []"
      ]
     },
     "execution_count": 27,
     "metadata": {},
     "output_type": "execute_result"
    }
   ],
   "source": [
    "# makers (where pc speed>=750) and (laptop speed >=750)\n",
    "q='''\n",
    "select maker from product\n",
    "where model in (select model from laptop where speed>=750)\n",
    "and model in (select model from pc where speed >=750)\n",
    "'''\n",
    "sql(q)"
   ]
  },
  {
   "cell_type": "code",
   "execution_count": 37,
   "metadata": {
    "collapsed": false
   },
   "outputs": [
    {
     "data": {
      "text/html": [
       "<div>\n",
       "<table border=\"1\" class=\"dataframe\">\n",
       "  <thead>\n",
       "    <tr style=\"text-align: right;\">\n",
       "      <th></th>\n",
       "      <th>maker</th>\n",
       "    </tr>\n",
       "  </thead>\n",
       "  <tbody>\n",
       "    <tr>\n",
       "      <th>0</th>\n",
       "      <td>A</td>\n",
       "    </tr>\n",
       "    <tr>\n",
       "      <th>1</th>\n",
       "      <td>B</td>\n",
       "    </tr>\n",
       "  </tbody>\n",
       "</table>\n",
       "</div>"
      ],
      "text/plain": [
       "  maker\n",
       "0     A\n",
       "1     B"
      ]
     },
     "execution_count": 37,
     "metadata": {},
     "output_type": "execute_result"
    }
   ],
   "source": [
    "#using group by and having clause\n",
    "q='''\n",
    "select p.maker from product p \n",
    "group by maker having maker in\n",
    "(select maker from product p join laptop l on l.model=p.model where l.speed>=750) and maker in \n",
    "(select maker from product p join pc on pc.model=p.model where pc.speed>=750)\n",
    "'''\n",
    "sql(q)"
   ]
  },
  {
   "cell_type": "code",
   "execution_count": 43,
   "metadata": {
    "collapsed": false
   },
   "outputs": [
    {
     "data": {
      "text/html": [
       "<div>\n",
       "<table border=\"1\" class=\"dataframe\">\n",
       "  <thead>\n",
       "    <tr style=\"text-align: right;\">\n",
       "      <th></th>\n",
       "      <th>maker</th>\n",
       "    </tr>\n",
       "  </thead>\n",
       "  <tbody>\n",
       "    <tr>\n",
       "      <th>0</th>\n",
       "      <td>A</td>\n",
       "    </tr>\n",
       "    <tr>\n",
       "      <th>1</th>\n",
       "      <td>B</td>\n",
       "    </tr>\n",
       "  </tbody>\n",
       "</table>\n",
       "</div>"
      ],
      "text/plain": [
       "  maker\n",
       "0     A\n",
       "1     B"
      ]
     },
     "execution_count": 43,
     "metadata": {},
     "output_type": "execute_result"
    }
   ],
   "source": [
    "#using where and distinct\n",
    "q='''\n",
    "select distinct maker from product where maker in \n",
    "(select maker from product p join laptop l on l.model=p.model where l.speed =750) and maker in \n",
    "(select maker from product p join pc on pc.model=p.model where pc.speed =750)\n",
    "'''\n",
    "sql(q)"
   ]
  },
  {
   "cell_type": "code",
   "execution_count": 45,
   "metadata": {
    "collapsed": false
   },
   "outputs": [
    {
     "data": {
      "text/html": [
       "<div>\n",
       "<table border=\"1\" class=\"dataframe\">\n",
       "  <thead>\n",
       "    <tr style=\"text-align: right;\">\n",
       "      <th></th>\n",
       "      <th>maker</th>\n",
       "    </tr>\n",
       "  </thead>\n",
       "  <tbody>\n",
       "    <tr>\n",
       "      <th>0</th>\n",
       "      <td>A</td>\n",
       "    </tr>\n",
       "    <tr>\n",
       "      <th>1</th>\n",
       "      <td>B</td>\n",
       "    </tr>\n",
       "  </tbody>\n",
       "</table>\n",
       "</div>"
      ],
      "text/plain": [
       "  maker\n",
       "0     A\n",
       "1     B"
      ]
     },
     "execution_count": 45,
     "metadata": {},
     "output_type": "execute_result"
    }
   ],
   "source": [
    "#using multiple subqueries\n",
    "q='''\n",
    "select distinct maker from product where maker in \n",
    "(select maker from product where model in (select model from laptop where laptop.speed>=750))\n",
    "and maker in \n",
    "(select maker from product where model in (select model from pc where pc.speed =750))\n",
    "'''\n",
    "sql(q)"
   ]
  },
  {
   "cell_type": "code",
   "execution_count": 47,
   "metadata": {
    "collapsed": false
   },
   "outputs": [
    {
     "data": {
      "text/html": [
       "<div>\n",
       "<table border=\"1\" class=\"dataframe\">\n",
       "  <thead>\n",
       "    <tr style=\"text-align: right;\">\n",
       "      <th></th>\n",
       "      <th>maker</th>\n",
       "    </tr>\n",
       "  </thead>\n",
       "  <tbody>\n",
       "    <tr>\n",
       "      <th>0</th>\n",
       "      <td>A</td>\n",
       "    </tr>\n",
       "    <tr>\n",
       "      <th>1</th>\n",
       "      <td>B</td>\n",
       "    </tr>\n",
       "  </tbody>\n",
       "</table>\n",
       "</div>"
      ],
      "text/plain": [
       "  maker\n",
       "0     A\n",
       "1     B"
      ]
     },
     "execution_count": 47,
     "metadata": {},
     "output_type": "execute_result"
    }
   ],
   "source": [
    "#using aggregate functions in having clause for joined tables\n",
    "q='''\n",
    "select maker from product p \n",
    "left join laptop l on p.model=l.model \n",
    "left join pc on pc.model=p.model\n",
    "group by maker\n",
    "having max(pc.speed)>=750 and max(l.speed)>=750\n",
    "'''\n",
    "sql(q)"
   ]
  },
  {
   "cell_type": "markdown",
   "metadata": {},
   "source": [
    "**Exercise: 24 (Serge I: 2003-02-03)<br>\n",
    "List the models of any type having the highest price of all products present in the database.**"
   ]
  },
  {
   "cell_type": "code",
   "execution_count": 15,
   "metadata": {
    "collapsed": false
   },
   "outputs": [
    {
     "data": {
      "text/html": [
       "<div>\n",
       "<table border=\"1\" class=\"dataframe\">\n",
       "  <thead>\n",
       "    <tr style=\"text-align: right;\">\n",
       "      <th></th>\n",
       "      <th>model</th>\n",
       "    </tr>\n",
       "  </thead>\n",
       "  <tbody>\n",
       "    <tr>\n",
       "      <th>0</th>\n",
       "      <td>1750</td>\n",
       "    </tr>\n",
       "  </tbody>\n",
       "</table>\n",
       "</div>"
      ],
      "text/plain": [
       "  model\n",
       "0  1750"
      ]
     },
     "execution_count": 15,
     "metadata": {},
     "output_type": "execute_result"
    }
   ],
   "source": [
    "#use the with clause to create a common table expression (CTE) that is like a derived table in that it lasts for \n",
    "#the duration of the query, EXCEPT it can be referenced multiple times in the query such as with WHERE and group by\n",
    "#it essentially acts as a temporary result-set \n",
    "#the where clause does not use where price >= ALL(select price from sub) because sqlite can't use ALL in this way\n",
    "q='''\n",
    "with sub as (\n",
    "select model, price from pc where price in (select max(price) from pc) union\n",
    "select model, price from laptop where price in (select max(price) from laptop) union\n",
    "select model, price from printer where price in (select max(price) from printer)  )\n",
    "select model from sub\n",
    "where price = (select max(price) from sub)\n",
    "\n",
    "'''\n",
    "sql(q)"
   ]
  }
 ],
 "metadata": {
  "kernelspec": {
   "display_name": "Python 2",
   "language": "python",
   "name": "python2"
  },
  "language_info": {
   "codemirror_mode": {
    "name": "ipython",
    "version": 2
   },
   "file_extension": ".py",
   "mimetype": "text/x-python",
   "name": "python",
   "nbconvert_exporter": "python",
   "pygments_lexer": "ipython2",
   "version": "2.7.13"
  }
 },
 "nbformat": 4,
 "nbformat_minor": 0
}
