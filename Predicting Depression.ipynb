{
 "cells": [
  {
   "cell_type": "code",
   "execution_count": 27,
   "metadata": {
    "collapsed": false
   },
   "outputs": [],
   "source": [
    "%matplotlib inline\n",
    "import matplotlib\n",
    "import matplotlib.pyplot as plt\n",
    "import numpy as np\n",
    "import pandas as pd\n",
    "import json\n",
    "import pickle\n",
    "import sklearn\n",
    "import scipy\n",
    "from pandasql import *\n",
    "from pandasql import sqldf\n",
    "from datetime import datetime\n",
    "from pandas.io.json import json_normalize\n",
    "import seaborn as sns\n",
    "import statsmodels.api as sm\n",
    "from statsmodels.formula.api import ols\n",
    "from collections import OrderedDict\n",
    "from sklearn.decomposition import PCA\n",
    "from sklearn.preprocessing import normalize, scale\n",
    "from statsmodels.regression.linear_model import OLS as reg\n",
    "from sklearn.linear_model import LinearRegression\n",
    "from sklearn.model_selection import train_test_split\n",
    "from sklearn import preprocessing\n",
    "from sklearn.ensemble import RandomForestRegressor\n",
    "from sklearn import ensemble\n",
    "from sklearn.grid_search import GridSearchCV\n",
    "from sklearn.preprocessing import Imputer\n",
    "plt.rcParams['figure.figsize'] = 9,7"
   ]
  },
  {
   "cell_type": "code",
   "execution_count": 28,
   "metadata": {
    "collapsed": true
   },
   "outputs": [],
   "source": [
    "def rmse(Y_test,Y_pred):   \n",
    "    return np.sqrt(sklearn.metrics.mean_squared_error(Y_test,Y_pred))"
   ]
  },
  {
   "cell_type": "code",
   "execution_count": 198,
   "metadata": {
    "collapsed": false
   },
   "outputs": [],
   "source": [
    "zzz='''\n",
    "<br>                            newline\n",
    "**text**                        bold\n",
    "# text, ## text, ### text       heading\n",
    "_text_                          italicize\n",
    "+ text                          bullet\n",
    "\n",
    "m                               markdown \n",
    "y                               code\n",
    "c                               copy   \n",
    "v                               paste\n",
    "b                               insert cell below\n",
    "a                               insert cell above \n",
    "\n",
    "File Locations '/Users/Work/Desktop/Work/Projects/ESMdata'\n",
    "'''"
   ]
  },
  {
   "cell_type": "markdown",
   "metadata": {},
   "source": [
    "**Data location** <br>\n",
    "https://osf.io/c6xt4/"
   ]
  },
  {
   "cell_type": "markdown",
   "metadata": {},
   "source": [
    "**Abstract** <br>\n",
    "\"We present a dataset of a single (N = 1) participant diagnosed with major depressive disorder, who completed 1478 measurements over the course of 239 consecutive days in 2012 and 2013. The experiment included a double-blind phase in which the dosage of anti-depressant medication was gradually reduced. The entire study looked at momentary affective states in daily life before, during, and after the double-blind phase. The items, which were asked ten times a day, cover topics like mood, physical condition and social contacts. Also, depressive symptoms were measured on a weekly basis using the Symptom Checklist Revised (SCL-90-R). The data are suitable for various time-series analyses and studies in complex dynamical systems.\"\n"
   ]
  },
  {
   "cell_type": "markdown",
   "metadata": {},
   "source": [
    "**How to Cite:**<br>\n",
    "Kossakowski, J.J. et al., (2017). Data from ‘Critical Slowing Down as a Personalized Early Warning Signal for Depression’. Journal of Open Psychology Data. 5(1), p.1. DOI: http://doi.org/10.5334/jopd.29"
   ]
  },
  {
   "cell_type": "code",
   "execution_count": 29,
   "metadata": {
    "collapsed": true
   },
   "outputs": [],
   "source": [
    "esm = pd.read_excel('/Users/Work/Desktop/Work/Projects/ESMdata/ESMdata.xlsx'\\\n",
    "                    ,sheetname='Sheet1')"
   ]
  },
  {
   "cell_type": "code",
   "execution_count": null,
   "metadata": {
    "collapsed": false
   },
   "outputs": [],
   "source": [
    "esm.head(1)"
   ]
  },
  {
   "cell_type": "code",
   "execution_count": 19,
   "metadata": {
    "collapsed": false
   },
   "outputs": [
    {
     "data": {
      "text/plain": [
       "(1476, 85)"
      ]
     },
     "execution_count": 19,
     "metadata": {},
     "output_type": "execute_result"
    }
   ],
   "source": [
    "esm.shape"
   ]
  },
  {
   "cell_type": "code",
   "execution_count": 202,
   "metadata": {
    "collapsed": false
   },
   "outputs": [],
   "source": [
    "missing_count=esm.isnull().sum(axis=0)"
   ]
  },
  {
   "cell_type": "code",
   "execution_count": 203,
   "metadata": {
    "collapsed": false
   },
   "outputs": [
    {
     "data": {
      "text/html": [
       "<div>\n",
       "<table border=\"1\" class=\"dataframe\">\n",
       "  <thead>\n",
       "    <tr style=\"text-align: right;\">\n",
       "      <th></th>\n",
       "      <th>count</th>\n",
       "      <th>mean</th>\n",
       "      <th>std</th>\n",
       "      <th>min</th>\n",
       "      <th>25%</th>\n",
       "      <th>50%</th>\n",
       "      <th>75%</th>\n",
       "      <th>max</th>\n",
       "    </tr>\n",
       "  </thead>\n",
       "  <tbody>\n",
       "    <tr>\n",
       "      <th>phase</th>\n",
       "      <td>1476.0</td>\n",
       "      <td>3.562331</td>\n",
       "      <td>1.331054</td>\n",
       "      <td>1.0</td>\n",
       "      <td>3.0</td>\n",
       "      <td>4.0</td>\n",
       "      <td>5.0</td>\n",
       "      <td>5.0</td>\n",
       "    </tr>\n",
       "    <tr>\n",
       "      <th>concentrat</th>\n",
       "      <td>1476.0</td>\n",
       "      <td>40.596883</td>\n",
       "      <td>59.382947</td>\n",
       "      <td>0.0</td>\n",
       "      <td>0.0</td>\n",
       "      <td>0.0</td>\n",
       "      <td>73.0</td>\n",
       "      <td>150.0</td>\n",
       "    </tr>\n",
       "    <tr>\n",
       "      <th>dayno</th>\n",
       "      <td>1476.0</td>\n",
       "      <td>198.859079</td>\n",
       "      <td>123.956473</td>\n",
       "      <td>1.0</td>\n",
       "      <td>61.0</td>\n",
       "      <td>252.0</td>\n",
       "      <td>303.0</td>\n",
       "      <td>366.0</td>\n",
       "    </tr>\n",
       "    <tr>\n",
       "      <th>beepno</th>\n",
       "      <td>1476.0</td>\n",
       "      <td>5.239837</td>\n",
       "      <td>2.892081</td>\n",
       "      <td>1.0</td>\n",
       "      <td>3.0</td>\n",
       "      <td>5.0</td>\n",
       "      <td>8.0</td>\n",
       "      <td>10.0</td>\n",
       "    </tr>\n",
       "    <tr>\n",
       "      <th>resp_abort</th>\n",
       "      <td>1474.0</td>\n",
       "      <td>0.003392</td>\n",
       "      <td>0.058163</td>\n",
       "      <td>0.0</td>\n",
       "      <td>0.0</td>\n",
       "      <td>0.0</td>\n",
       "      <td>0.0</td>\n",
       "      <td>1.0</td>\n",
       "    </tr>\n",
       "    <tr>\n",
       "      <th>mood_relaxed</th>\n",
       "      <td>1476.0</td>\n",
       "      <td>4.173442</td>\n",
       "      <td>0.754466</td>\n",
       "      <td>1.0</td>\n",
       "      <td>4.0</td>\n",
       "      <td>4.0</td>\n",
       "      <td>5.0</td>\n",
       "      <td>7.0</td>\n",
       "    </tr>\n",
       "    <tr>\n",
       "      <th>mood_down</th>\n",
       "      <td>1474.0</td>\n",
       "      <td>0.178426</td>\n",
       "      <td>0.744326</td>\n",
       "      <td>-3.0</td>\n",
       "      <td>0.0</td>\n",
       "      <td>0.0</td>\n",
       "      <td>0.0</td>\n",
       "      <td>3.0</td>\n",
       "    </tr>\n",
       "    <tr>\n",
       "      <th>mood_irritat</th>\n",
       "      <td>1473.0</td>\n",
       "      <td>2.241005</td>\n",
       "      <td>1.169542</td>\n",
       "      <td>1.0</td>\n",
       "      <td>1.0</td>\n",
       "      <td>2.0</td>\n",
       "      <td>3.0</td>\n",
       "      <td>7.0</td>\n",
       "    </tr>\n",
       "    <tr>\n",
       "      <th>mood_satisfi</th>\n",
       "      <td>1473.0</td>\n",
       "      <td>4.202987</td>\n",
       "      <td>0.986425</td>\n",
       "      <td>1.0</td>\n",
       "      <td>3.0</td>\n",
       "      <td>4.0</td>\n",
       "      <td>5.0</td>\n",
       "      <td>6.0</td>\n",
       "    </tr>\n",
       "    <tr>\n",
       "      <th>mood_lonely</th>\n",
       "      <td>1474.0</td>\n",
       "      <td>-0.007463</td>\n",
       "      <td>0.490866</td>\n",
       "      <td>-3.0</td>\n",
       "      <td>0.0</td>\n",
       "      <td>0.0</td>\n",
       "      <td>0.0</td>\n",
       "      <td>3.0</td>\n",
       "    </tr>\n",
       "    <tr>\n",
       "      <th>mood_anxious</th>\n",
       "      <td>1473.0</td>\n",
       "      <td>-0.088934</td>\n",
       "      <td>0.309880</td>\n",
       "      <td>-3.0</td>\n",
       "      <td>0.0</td>\n",
       "      <td>0.0</td>\n",
       "      <td>0.0</td>\n",
       "      <td>1.0</td>\n",
       "    </tr>\n",
       "    <tr>\n",
       "      <th>mood_enthus</th>\n",
       "      <td>1473.0</td>\n",
       "      <td>3.832994</td>\n",
       "      <td>0.861667</td>\n",
       "      <td>1.0</td>\n",
       "      <td>3.0</td>\n",
       "      <td>4.0</td>\n",
       "      <td>4.0</td>\n",
       "      <td>6.0</td>\n",
       "    </tr>\n",
       "  </tbody>\n",
       "</table>\n",
       "</div>"
      ],
      "text/plain": [
       "               count        mean         std  min   25%    50%    75%    max\n",
       "phase         1476.0    3.562331    1.331054  1.0   3.0    4.0    5.0    5.0\n",
       "concentrat    1476.0   40.596883   59.382947  0.0   0.0    0.0   73.0  150.0\n",
       "dayno         1476.0  198.859079  123.956473  1.0  61.0  252.0  303.0  366.0\n",
       "beepno        1476.0    5.239837    2.892081  1.0   3.0    5.0    8.0   10.0\n",
       "resp_abort    1474.0    0.003392    0.058163  0.0   0.0    0.0    0.0    1.0\n",
       "mood_relaxed  1476.0    4.173442    0.754466  1.0   4.0    4.0    5.0    7.0\n",
       "mood_down     1474.0    0.178426    0.744326 -3.0   0.0    0.0    0.0    3.0\n",
       "mood_irritat  1473.0    2.241005    1.169542  1.0   1.0    2.0    3.0    7.0\n",
       "mood_satisfi  1473.0    4.202987    0.986425  1.0   3.0    4.0    5.0    6.0\n",
       "mood_lonely   1474.0   -0.007463    0.490866 -3.0   0.0    0.0    0.0    3.0\n",
       "mood_anxious  1473.0   -0.088934    0.309880 -3.0   0.0    0.0    0.0    1.0\n",
       "mood_enthus   1473.0    3.832994    0.861667  1.0   3.0    4.0    4.0    6.0"
      ]
     },
     "execution_count": 203,
     "metadata": {},
     "output_type": "execute_result"
    }
   ],
   "source": [
    "esm.describe().transpose().head(12)"
   ]
  },
  {
   "cell_type": "code",
   "execution_count": 30,
   "metadata": {
    "collapsed": false
   },
   "outputs": [
    {
     "data": {
      "text/plain": [
       "event_freq         1034\n",
       "soc_together        802\n",
       "soc_prefalone       802\n",
       "soc_pleasant        802\n",
       "soc_belong          802\n",
       "soc_prefcomp        678\n",
       "soc_enjoy_alone     678\n",
       "mor_med             591\n",
       "mor_qualsleep       584\n",
       "mor_lieawake        584\n",
       "mor_nrwakeup        584\n",
       "mor_asleep          584\n",
       "mor_feellike        584\n",
       "evn_ordinary        262\n",
       "evn_niceday         262\n",
       "evn_inflmood        262\n",
       "evn_pager           262\n",
       "evn_work            262\n",
       "evn_med             262\n",
       "event_disturb         7\n",
       "dtype: int64"
      ]
     },
     "execution_count": 30,
     "metadata": {},
     "output_type": "execute_result"
    }
   ],
   "source": [
    "Y=esm.phase\n",
    "X1=esm.drop('phase',axis=1)\n",
    "X2=X1.iloc[:,8:-14].drop(['soc_who1','soc_who2','soc_who3','act_what1','act_what2','event_cause',\n",
    "                     'event_concern','event_pertain',],axis=1)\n",
    "X2.isnull().sum(axis=0).sort_values(ascending=False).head(20)"
   ]
  },
  {
   "cell_type": "code",
   "execution_count": 31,
   "metadata": {
    "collapsed": false
   },
   "outputs": [
    {
     "data": {
      "text/plain": [
       "event_import    5\n",
       "phy_nauseous    5\n",
       "event_pleas     5\n",
       "phy_hungry      5\n",
       "phy_pain        5\n",
       "dtype: int64"
      ]
     },
     "execution_count": 31,
     "metadata": {},
     "output_type": "execute_result"
    }
   ],
   "source": [
    "X3=X2.drop(['event_freq','soc_together','soc_prefalone','soc_pleasant','soc_belong',\\\n",
    "        'soc_prefcomp','soc_enjoy_alone','mor_med','mor_qualsleep','mor_lieawake',\\\n",
    "       'mor_nrwakeup','mor_asleep','mor_feellike','evn_ordinary','evn_niceday',\\\n",
    "       'evn_inflmood','evn_pager','evn_work','evn_med','event_disturb'],axis=1)\n",
    "X3.isnull().sum(axis=0).sort_values(ascending=False).head()"
   ]
  },
  {
   "cell_type": "code",
   "execution_count": 32,
   "metadata": {
    "collapsed": false
   },
   "outputs": [],
   "source": [
    "#fit_transform returns a new dataframe X_new, rather than changing the original X\n",
    "fill_NaN = Imputer(missing_values=np.nan, strategy='mean', axis=1)\n",
    "X = pd.DataFrame(fill_NaN.fit_transform(X3))\n",
    "X.columns = X3.columns\n",
    "X.index = X3.index"
   ]
  },
  {
   "cell_type": "code",
   "execution_count": 33,
   "metadata": {
    "collapsed": false
   },
   "outputs": [
    {
     "name": "stdout",
     "output_type": "stream",
     "text": [
      "                            OLS Regression Results                            \n",
      "==============================================================================\n",
      "Dep. Variable:                Y_train   R-squared:                       0.368\n",
      "Model:                            OLS   Adj. R-squared:                  0.346\n",
      "Method:                 Least Squares   F-statistic:                     17.07\n",
      "Date:                Thu, 23 Feb 2017   Prob (F-statistic):           5.12e-77\n",
      "Time:                        17:49:21   Log-Likelihood:                -1528.9\n",
      "No. Observations:                1033   AIC:                             3128.\n",
      "Df Residuals:                     998   BIC:                             3301.\n",
      "Df Model:                          34                                         \n",
      "Covariance Type:            nonrobust                                         \n",
      "===============================================================================\n",
      "                  coef    std err          t      P>|t|      [95.0% Conf. Int.]\n",
      "-------------------------------------------------------------------------------\n",
      "Intercept      -0.7381      1.132     -0.652      0.515        -2.960     1.484\n",
      "X_train[0]      0.0013      0.078      0.016      0.987        -0.151     0.154\n",
      "X_train[1]      0.0840      0.093      0.908      0.364        -0.098     0.266\n",
      "X_train[2]      0.0398      0.057      0.698      0.485        -0.072     0.152\n",
      "X_train[3]      0.1345      0.069      1.960      0.050        -0.000     0.269\n",
      "X_train[4]      0.0320      0.139      0.230      0.818        -0.241     0.306\n",
      "X_train[5]      0.3949      0.186      2.128      0.034         0.031     0.759\n",
      "X_train[6]      0.0667      0.069      0.971      0.332        -0.068     0.202\n",
      "X_train[7]      0.4011      0.084      4.769      0.000         0.236     0.566\n",
      "X_train[8]      0.0675      0.076      0.885      0.377        -0.082     0.217\n",
      "X_train[9]     -0.1107      0.117     -0.943      0.346        -0.341     0.120\n",
      "X_train[10]    -0.0026      0.056     -0.047      0.962        -0.112     0.107\n",
      "X_train[11]    -0.1609      0.074     -2.165      0.031        -0.307    -0.015\n",
      "X_train[12]     0.5337      0.062      8.581      0.000         0.412     0.656\n",
      "X_train[13]     0.1901      0.071      2.668      0.008         0.050     0.330\n",
      "X_train[14]     0.2923      0.083      3.540      0.000         0.130     0.454\n",
      "X_train[15]     0.1632      0.080      2.045      0.041         0.007     0.320\n",
      "X_train[16]     0.3722      0.080      4.670      0.000         0.216     0.529\n",
      "X_train[17]     0.0838      0.094      0.893      0.372        -0.100     0.268\n",
      "X_train[18]    -0.0123      0.070     -0.175      0.861        -0.150     0.126\n",
      "X_train[19]     0.2541      0.073      3.494      0.000         0.111     0.397\n",
      "X_train[20]    -0.2231      0.049     -4.562      0.000        -0.319    -0.127\n",
      "X_train[21]    -0.2931      0.055     -5.318      0.000        -0.401    -0.185\n",
      "X_train[22]     0.0860      0.070      1.223      0.222        -0.052     0.224\n",
      "X_train[23]     0.5767      0.376      1.536      0.125        -0.160     1.314\n",
      "X_train[24]    -0.2448      0.662     -0.370      0.711        -1.543     1.053\n",
      "X_train[25]     0.3163      0.375      0.842      0.400        -0.421     1.053\n",
      "X_train[26]     0.0807      0.057      1.428      0.154        -0.030     0.192\n",
      "X_train[27]     0.1222      0.043      2.839      0.005         0.038     0.207\n",
      "X_train[28]    -0.2905      0.045     -6.426      0.000        -0.379    -0.202\n",
      "X_train[29]    -0.4700      0.077     -6.141      0.000        -0.620    -0.320\n",
      "X_train[30]     0.1819      0.067      2.698      0.007         0.050     0.314\n",
      "X_train[31]    -0.1463      0.040     -3.674      0.000        -0.224    -0.068\n",
      "X_train[32]     0.0388      0.039      0.996      0.319        -0.038     0.115\n",
      "X_train[33]     0.0452      0.056      0.809      0.418        -0.064     0.155\n",
      "==============================================================================\n",
      "Omnibus:                       13.435   Durbin-Watson:                   1.977\n",
      "Prob(Omnibus):                  0.001   Jarque-Bera (JB):               12.696\n",
      "Skew:                          -0.232   Prob(JB):                      0.00175\n",
      "Kurtosis:                       2.717   Cond. No.                         546.\n",
      "==============================================================================\n",
      "\n",
      "Warnings:\n",
      "[1] Standard Errors assume that the covariance matrix of the errors is correctly specified.\n"
     ]
    }
   ],
   "source": [
    "X_train, X_test, Y_train, Y_test = sklearn.model_selection.train_test_split\\\n",
    "(X, Y, test_size=0.30, random_state = 5)\n",
    "\n",
    "m = ols('Y_train ~ X_train', X_train).fit()\n",
    "print m.summary()"
   ]
  },
  {
   "cell_type": "code",
   "execution_count": 34,
   "metadata": {
    "collapsed": false
   },
   "outputs": [
    {
     "data": {
      "text/plain": [
       "1.3307072344061424"
      ]
     },
     "execution_count": 34,
     "metadata": {},
     "output_type": "execute_result"
    }
   ],
   "source": [
    "lm = LinearRegression()\n",
    "lm.fit(X_train, Y_train)\n",
    "\n",
    "Y_pred=lm.predict(X_test)\n",
    "rmse(Y_test,Y_pred)"
   ]
  },
  {
   "cell_type": "markdown",
   "metadata": {},
   "source": [
    "# Random Forests"
   ]
  },
  {
   "cell_type": "code",
   "execution_count": 108,
   "metadata": {
    "collapsed": false
   },
   "outputs": [
    {
     "data": {
      "text/plain": [
       "(RandomForestRegressor(bootstrap=True, criterion='mse', max_depth=None,\n",
       "            max_features='sqrt', max_leaf_nodes=None,\n",
       "            min_impurity_split=1e-07, min_samples_leaf=1,\n",
       "            min_samples_split=2, min_weight_fraction_leaf=0.0,\n",
       "            n_estimators=300, n_jobs=1, oob_score=True, random_state=5,\n",
       "            verbose=0, warm_start=True),\n",
       " {'max_features': 'sqrt'},\n",
       " -1.1392470958875658,\n",
       " [mean: -1.22463, std: 0.21384, params: {'max_features': None},\n",
       "  mean: -1.13925, std: 0.20092, params: {'max_features': 'sqrt'},\n",
       "  mean: -1.15640, std: 0.19749, params: {'max_features': 0.1},\n",
       "  mean: -1.14487, std: 0.20377, params: {'max_features': 0.2},\n",
       "  mean: -1.15628, std: 0.20608, params: {'max_features': 0.3},\n",
       "  mean: -1.16288, std: 0.22037, params: {'max_features': 0.4},\n",
       "  mean: -1.18252, std: 0.22060, params: {'max_features': 0.5},\n",
       "  mean: -1.19483, std: 0.21287, params: {'max_features': 0.6},\n",
       "  mean: -1.20385, std: 0.21778, params: {'max_features': 0.7},\n",
       "  mean: -1.21401, std: 0.21553, params: {'max_features': 0.8},\n",
       "  mean: -1.21294, std: 0.21884, params: {'max_features': 0.9}])"
      ]
     },
     "execution_count": 108,
     "metadata": {},
     "output_type": "execute_result"
    }
   ],
   "source": [
    "RANDOM_STATE=5\n",
    "from sklearn.grid_search import GridSearchCV\n",
    "clf=RandomForestRegressor(warm_start=True, oob_score=True,random_state=RANDOM_STATE,\n",
    "                         n_estimators=300)\n",
    "parameters={\"max_features\":[None,'sqrt',.1,.2,.3,.4,.5,.6,.7,.8,.9]}\n",
    "fitmodel = GridSearchCV(clf, param_grid=parameters, cv=5, scoring=\"neg_mean_squared_error\")\n",
    "fitmodel.fit(X_train, Y_train)\n",
    "fitmodel.best_estimator_, fitmodel.best_params_, fitmodel.best_score_, fitmodel.grid_scores_"
   ]
  },
  {
   "cell_type": "code",
   "execution_count": 129,
   "metadata": {
    "collapsed": false
   },
   "outputs": [],
   "source": [
    "rf=RandomForestRegressor(warm_start=True, oob_score=True,random_state=RANDOM_STATE,\n",
    "                         n_estimators=300, max_features=fitmodel.best_params_['max_features'])\n",
    "rf.fit(X_train,Y_train)\n",
    "pickle.dump(rf, open('ESM_RF.sav', 'wb'))"
   ]
  },
  {
   "cell_type": "code",
   "execution_count": 130,
   "metadata": {
    "collapsed": false
   },
   "outputs": [
    {
     "data": {
      "text/plain": [
       "0.99889785926193286"
      ]
     },
     "execution_count": 130,
     "metadata": {},
     "output_type": "execute_result"
    }
   ],
   "source": [
    "rf = pickle.load(open('ESM_RF.sav', 'rb'))\n",
    "Y_pred=rf.predict(X_test)\n",
    "rmse(Y_test,Y_pred)"
   ]
  },
  {
   "cell_type": "code",
   "execution_count": 132,
   "metadata": {
    "collapsed": false
   },
   "outputs": [
    {
     "data": {
      "text/plain": [
       "<matplotlib.axes._subplots.AxesSubplot at 0x11c348190>"
      ]
     },
     "execution_count": 132,
     "metadata": {},
     "output_type": "execute_result"
    },
    {
     "data": {
      "image/png": "[encoded data removed]",
      "text/plain": [
       "<matplotlib.figure.Figure at 0x11c55f950>"
      ]
     },
     "metadata": {},
     "output_type": "display_data"
    }
   ],
   "source": [
    "feat_imp = pd.Series(rf.feature_importances_, index=X.columns)\n",
    "feat_imp.sort_values(inplace=True, ascending=True)\n",
    "feat_imp.plot(kind='barh', title='Feature importance')"
   ]
  },
  {
   "cell_type": "markdown",
   "metadata": {},
   "source": [
    "# Gradient Boosted Regression Trees"
   ]
  },
  {
   "cell_type": "code",
   "execution_count": 117,
   "metadata": {
    "collapsed": false
   },
   "outputs": [
    {
     "data": {
      "text/plain": [
       "(GradientBoostingRegressor(alpha=0.9, criterion='friedman_mse', init=None,\n",
       "              learning_rate=0.0233333333333, loss='ls', max_depth=4,\n",
       "              max_features=0.4, max_leaf_nodes=None,\n",
       "              min_impurity_split=1e-07, min_samples_leaf=1,\n",
       "              min_samples_split=2, min_weight_fraction_leaf=0.0,\n",
       "              n_estimators=300, presort='auto', random_state=5,\n",
       "              subsample=0.5, verbose=0, warm_start=False),\n",
       " {'learning_rate': 0.023333333333333334,\n",
       "  'max_depth': 4,\n",
       "  'max_features': 0.4,\n",
       "  'subsample': 0.5},\n",
       " -1.0664522197271245,\n",
       " [mean: -1.18552, std: 0.18724, params: {'max_features': 0.4, 'subsample': 0.5, 'learning_rate': 0.006666666666666667, 'max_depth': 4},\n",
       "  mean: -1.19422, std: 0.18932, params: {'max_features': 0.4, 'subsample': 0.75, 'learning_rate': 0.006666666666666667, 'max_depth': 4},\n",
       "  mean: -1.20642, std: 0.19127, params: {'max_features': 0.4, 'subsample': 1, 'learning_rate': 0.006666666666666667, 'max_depth': 4},\n",
       "  mean: -1.18126, std: 0.18674, params: {'max_features': 0.6, 'subsample': 0.5, 'learning_rate': 0.006666666666666667, 'max_depth': 4},\n",
       "  mean: -1.19507, std: 0.18666, params: {'max_features': 0.6, 'subsample': 0.75, 'learning_rate': 0.006666666666666667, 'max_depth': 4},\n",
       "  mean: -1.21080, std: 0.19085, params: {'max_features': 0.6, 'subsample': 1, 'learning_rate': 0.006666666666666667, 'max_depth': 4},\n",
       "  mean: -1.18086, std: 0.18670, params: {'max_features': 0.8, 'subsample': 0.5, 'learning_rate': 0.006666666666666667, 'max_depth': 4},\n",
       "  mean: -1.18902, std: 0.18868, params: {'max_features': 0.8, 'subsample': 0.75, 'learning_rate': 0.006666666666666667, 'max_depth': 4},\n",
       "  mean: -1.21349, std: 0.18990, params: {'max_features': 0.8, 'subsample': 1, 'learning_rate': 0.006666666666666667, 'max_depth': 4},\n",
       "  mean: -1.43315, std: 0.20240, params: {'max_features': 1, 'subsample': 0.5, 'learning_rate': 0.006666666666666667, 'max_depth': 4},\n",
       "  mean: -1.43912, std: 0.20120, params: {'max_features': 1, 'subsample': 0.75, 'learning_rate': 0.006666666666666667, 'max_depth': 4},\n",
       "  mean: -1.42589, std: 0.19946, params: {'max_features': 1, 'subsample': 1, 'learning_rate': 0.006666666666666667, 'max_depth': 4},\n",
       "  mean: -1.14010, std: 0.18292, params: {'max_features': 0.4, 'subsample': 0.5, 'learning_rate': 0.006666666666666667, 'max_depth': 6},\n",
       "  mean: -1.15530, std: 0.18461, params: {'max_features': 0.4, 'subsample': 0.75, 'learning_rate': 0.006666666666666667, 'max_depth': 6},\n",
       "  mean: -1.17708, std: 0.19234, params: {'max_features': 0.4, 'subsample': 1, 'learning_rate': 0.006666666666666667, 'max_depth': 6},\n",
       "  mean: -1.14367, std: 0.19063, params: {'max_features': 0.6, 'subsample': 0.5, 'learning_rate': 0.006666666666666667, 'max_depth': 6},\n",
       "  mean: -1.16122, std: 0.18800, params: {'max_features': 0.6, 'subsample': 0.75, 'learning_rate': 0.006666666666666667, 'max_depth': 6},\n",
       "  mean: -1.19619, std: 0.19295, params: {'max_features': 0.6, 'subsample': 1, 'learning_rate': 0.006666666666666667, 'max_depth': 6},\n",
       "  mean: -1.14531, std: 0.18909, params: {'max_features': 0.8, 'subsample': 0.5, 'learning_rate': 0.006666666666666667, 'max_depth': 6},\n",
       "  mean: -1.16306, std: 0.18700, params: {'max_features': 0.8, 'subsample': 0.75, 'learning_rate': 0.006666666666666667, 'max_depth': 6},\n",
       "  mean: -1.20855, std: 0.18662, params: {'max_features': 0.8, 'subsample': 1, 'learning_rate': 0.006666666666666667, 'max_depth': 6},\n",
       "  mean: -1.33311, std: 0.19777, params: {'max_features': 1, 'subsample': 0.5, 'learning_rate': 0.006666666666666667, 'max_depth': 6},\n",
       "  mean: -1.33230, std: 0.19426, params: {'max_features': 1, 'subsample': 0.75, 'learning_rate': 0.006666666666666667, 'max_depth': 6},\n",
       "  mean: -1.31989, std: 0.19495, params: {'max_features': 1, 'subsample': 1, 'learning_rate': 0.006666666666666667, 'max_depth': 6},\n",
       "  mean: -1.13150, std: 0.18576, params: {'max_features': 0.4, 'subsample': 0.5, 'learning_rate': 0.006666666666666667, 'max_depth': 8},\n",
       "  mean: -1.15496, std: 0.19360, params: {'max_features': 0.4, 'subsample': 0.75, 'learning_rate': 0.006666666666666667, 'max_depth': 8},\n",
       "  mean: -1.17521, std: 0.19864, params: {'max_features': 0.4, 'subsample': 1, 'learning_rate': 0.006666666666666667, 'max_depth': 8},\n",
       "  mean: -1.13846, std: 0.18884, params: {'max_features': 0.6, 'subsample': 0.5, 'learning_rate': 0.006666666666666667, 'max_depth': 8},\n",
       "  mean: -1.16022, std: 0.19572, params: {'max_features': 0.6, 'subsample': 0.75, 'learning_rate': 0.006666666666666667, 'max_depth': 8},\n",
       "  mean: -1.20552, std: 0.20117, params: {'max_features': 0.6, 'subsample': 1, 'learning_rate': 0.006666666666666667, 'max_depth': 8},\n",
       "  mean: -1.14960, std: 0.18910, params: {'max_features': 0.8, 'subsample': 0.5, 'learning_rate': 0.006666666666666667, 'max_depth': 8},\n",
       "  mean: -1.16995, std: 0.19321, params: {'max_features': 0.8, 'subsample': 0.75, 'learning_rate': 0.006666666666666667, 'max_depth': 8},\n",
       "  mean: -1.23095, std: 0.20102, params: {'max_features': 0.8, 'subsample': 1, 'learning_rate': 0.006666666666666667, 'max_depth': 8},\n",
       "  mean: -1.26862, std: 0.19133, params: {'max_features': 1, 'subsample': 0.5, 'learning_rate': 0.006666666666666667, 'max_depth': 8},\n",
       "  mean: -1.26596, std: 0.18797, params: {'max_features': 1, 'subsample': 0.75, 'learning_rate': 0.006666666666666667, 'max_depth': 8},\n",
       "  mean: -1.26457, std: 0.18918, params: {'max_features': 1, 'subsample': 1, 'learning_rate': 0.006666666666666667, 'max_depth': 8},\n",
       "  mean: -1.13456, std: 0.19085, params: {'max_features': 0.4, 'subsample': 0.5, 'learning_rate': 0.006666666666666667, 'max_depth': 10},\n",
       "  mean: -1.16257, std: 0.19342, params: {'max_features': 0.4, 'subsample': 0.75, 'learning_rate': 0.006666666666666667, 'max_depth': 10},\n",
       "  mean: -1.19081, std: 0.21219, params: {'max_features': 0.4, 'subsample': 1, 'learning_rate': 0.006666666666666667, 'max_depth': 10},\n",
       "  mean: -1.14322, std: 0.19036, params: {'max_features': 0.6, 'subsample': 0.5, 'learning_rate': 0.006666666666666667, 'max_depth': 10},\n",
       "  mean: -1.17687, std: 0.20183, params: {'max_features': 0.6, 'subsample': 0.75, 'learning_rate': 0.006666666666666667, 'max_depth': 10},\n",
       "  mean: -1.22916, std: 0.21040, params: {'max_features': 0.6, 'subsample': 1, 'learning_rate': 0.006666666666666667, 'max_depth': 10},\n",
       "  mean: -1.14585, std: 0.20069, params: {'max_features': 0.8, 'subsample': 0.5, 'learning_rate': 0.006666666666666667, 'max_depth': 10},\n",
       "  mean: -1.18826, std: 0.19791, params: {'max_features': 0.8, 'subsample': 0.75, 'learning_rate': 0.006666666666666667, 'max_depth': 10},\n",
       "  mean: -1.28655, std: 0.21569, params: {'max_features': 0.8, 'subsample': 1, 'learning_rate': 0.006666666666666667, 'max_depth': 10},\n",
       "  mean: -1.23050, std: 0.18430, params: {'max_features': 1, 'subsample': 0.5, 'learning_rate': 0.006666666666666667, 'max_depth': 10},\n",
       "  mean: -1.22786, std: 0.17761, params: {'max_features': 1, 'subsample': 0.75, 'learning_rate': 0.006666666666666667, 'max_depth': 10},\n",
       "  mean: -1.23425, std: 0.18208, params: {'max_features': 1, 'subsample': 1, 'learning_rate': 0.006666666666666667, 'max_depth': 10},\n",
       "  mean: -1.13211, std: 0.18176, params: {'max_features': 0.4, 'subsample': 0.5, 'learning_rate': 0.01, 'max_depth': 4},\n",
       "  mean: -1.14236, std: 0.18010, params: {'max_features': 0.4, 'subsample': 0.75, 'learning_rate': 0.01, 'max_depth': 4},\n",
       "  mean: -1.15524, std: 0.19131, params: {'max_features': 0.4, 'subsample': 1, 'learning_rate': 0.01, 'max_depth': 4},\n",
       "  mean: -1.13229, std: 0.18413, params: {'max_features': 0.6, 'subsample': 0.5, 'learning_rate': 0.01, 'max_depth': 4},\n",
       "  mean: -1.14359, std: 0.17863, params: {'max_features': 0.6, 'subsample': 0.75, 'learning_rate': 0.01, 'max_depth': 4},\n",
       "  mean: -1.16546, std: 0.18834, params: {'max_features': 0.6, 'subsample': 1, 'learning_rate': 0.01, 'max_depth': 4},\n",
       "  mean: -1.12397, std: 0.18003, params: {'max_features': 0.8, 'subsample': 0.5, 'learning_rate': 0.01, 'max_depth': 4},\n",
       "  mean: -1.14178, std: 0.18511, params: {'max_features': 0.8, 'subsample': 0.75, 'learning_rate': 0.01, 'max_depth': 4},\n",
       "  mean: -1.16766, std: 0.19001, params: {'max_features': 0.8, 'subsample': 1, 'learning_rate': 0.01, 'max_depth': 4},\n",
       "  mean: -1.34022, std: 0.19664, params: {'max_features': 1, 'subsample': 0.5, 'learning_rate': 0.01, 'max_depth': 4},\n",
       "  mean: -1.34624, std: 0.19459, params: {'max_features': 1, 'subsample': 0.75, 'learning_rate': 0.01, 'max_depth': 4},\n",
       "  mean: -1.33102, std: 0.19105, params: {'max_features': 1, 'subsample': 1, 'learning_rate': 0.01, 'max_depth': 4},\n",
       "  mean: -1.10448, std: 0.18736, params: {'max_features': 0.4, 'subsample': 0.5, 'learning_rate': 0.01, 'max_depth': 6},\n",
       "  mean: -1.11607, std: 0.18399, params: {'max_features': 0.4, 'subsample': 0.75, 'learning_rate': 0.01, 'max_depth': 6},\n",
       "  mean: -1.14463, std: 0.19249, params: {'max_features': 0.4, 'subsample': 1, 'learning_rate': 0.01, 'max_depth': 6},\n",
       "  mean: -1.10988, std: 0.18025, params: {'max_features': 0.6, 'subsample': 0.5, 'learning_rate': 0.01, 'max_depth': 6},\n",
       "  mean: -1.12580, std: 0.18576, params: {'max_features': 0.6, 'subsample': 0.75, 'learning_rate': 0.01, 'max_depth': 6},\n",
       "  mean: -1.16324, std: 0.19303, params: {'max_features': 0.6, 'subsample': 1, 'learning_rate': 0.01, 'max_depth': 6},\n",
       "  mean: -1.11679, std: 0.18811, params: {'max_features': 0.8, 'subsample': 0.5, 'learning_rate': 0.01, 'max_depth': 6},\n",
       "  mean: -1.13319, std: 0.18429, params: {'max_features': 0.8, 'subsample': 0.75, 'learning_rate': 0.01, 'max_depth': 6},\n",
       "  mean: -1.18087, std: 0.18999, params: {'max_features': 0.8, 'subsample': 1, 'learning_rate': 0.01, 'max_depth': 6},\n",
       "  mean: -1.24145, std: 0.18456, params: {'max_features': 1, 'subsample': 0.5, 'learning_rate': 0.01, 'max_depth': 6},\n",
       "  mean: -1.24274, std: 0.18631, params: {'max_features': 1, 'subsample': 0.75, 'learning_rate': 0.01, 'max_depth': 6},\n",
       "  mean: -1.23335, std: 0.18670, params: {'max_features': 1, 'subsample': 1, 'learning_rate': 0.01, 'max_depth': 6},\n",
       "  mean: -1.11202, std: 0.19183, params: {'max_features': 0.4, 'subsample': 0.5, 'learning_rate': 0.01, 'max_depth': 8},\n",
       "  mean: -1.13519, std: 0.20213, params: {'max_features': 0.4, 'subsample': 0.75, 'learning_rate': 0.01, 'max_depth': 8},\n",
       "  mean: -1.16790, std: 0.21274, params: {'max_features': 0.4, 'subsample': 1, 'learning_rate': 0.01, 'max_depth': 8},\n",
       "  mean: -1.11163, std: 0.18695, params: {'max_features': 0.6, 'subsample': 0.5, 'learning_rate': 0.01, 'max_depth': 8},\n",
       "  mean: -1.14009, std: 0.19560, params: {'max_features': 0.6, 'subsample': 0.75, 'learning_rate': 0.01, 'max_depth': 8},\n",
       "  mean: -1.20597, std: 0.21805, params: {'max_features': 0.6, 'subsample': 1, 'learning_rate': 0.01, 'max_depth': 8},\n",
       "  mean: -1.12289, std: 0.19559, params: {'max_features': 0.8, 'subsample': 0.5, 'learning_rate': 0.01, 'max_depth': 8},\n",
       "  mean: -1.14944, std: 0.20318, params: {'max_features': 0.8, 'subsample': 0.75, 'learning_rate': 0.01, 'max_depth': 8},\n",
       "  mean: -1.23349, std: 0.21595, params: {'max_features': 0.8, 'subsample': 1, 'learning_rate': 0.01, 'max_depth': 8},\n",
       "  mean: -1.18223, std: 0.18558, params: {'max_features': 1, 'subsample': 0.5, 'learning_rate': 0.01, 'max_depth': 8},\n",
       "  mean: -1.18704, std: 0.18089, params: {'max_features': 1, 'subsample': 0.75, 'learning_rate': 0.01, 'max_depth': 8},\n",
       "  mean: -1.18232, std: 0.17819, params: {'max_features': 1, 'subsample': 1, 'learning_rate': 0.01, 'max_depth': 8},\n",
       "  mean: -1.10802, std: 0.18676, params: {'max_features': 0.4, 'subsample': 0.5, 'learning_rate': 0.01, 'max_depth': 10},\n",
       "  mean: -1.13502, std: 0.20794, params: {'max_features': 0.4, 'subsample': 0.75, 'learning_rate': 0.01, 'max_depth': 10},\n",
       "  mean: -1.19936, std: 0.22889, params: {'max_features': 0.4, 'subsample': 1, 'learning_rate': 0.01, 'max_depth': 10},\n",
       "  mean: -1.13114, std: 0.19556, params: {'max_features': 0.6, 'subsample': 0.5, 'learning_rate': 0.01, 'max_depth': 10},\n",
       "  mean: -1.16630, std: 0.21219, params: {'max_features': 0.6, 'subsample': 0.75, 'learning_rate': 0.01, 'max_depth': 10},\n",
       "  mean: -1.23688, std: 0.22957, params: {'max_features': 0.6, 'subsample': 1, 'learning_rate': 0.01, 'max_depth': 10},\n",
       "  mean: -1.13394, std: 0.19249, params: {'max_features': 0.8, 'subsample': 0.5, 'learning_rate': 0.01, 'max_depth': 10},\n",
       "  mean: -1.18457, std: 0.21861, params: {'max_features': 0.8, 'subsample': 0.75, 'learning_rate': 0.01, 'max_depth': 10},\n",
       "  mean: -1.30758, std: 0.23543, params: {'max_features': 0.8, 'subsample': 1, 'learning_rate': 0.01, 'max_depth': 10},\n",
       "  mean: -1.15686, std: 0.17393, params: {'max_features': 1, 'subsample': 0.5, 'learning_rate': 0.01, 'max_depth': 10},\n",
       "  mean: -1.16052, std: 0.17326, params: {'max_features': 1, 'subsample': 0.75, 'learning_rate': 0.01, 'max_depth': 10},\n",
       "  mean: -1.16785, std: 0.18365, params: {'max_features': 1, 'subsample': 1, 'learning_rate': 0.01, 'max_depth': 10},\n",
       "  mean: -1.10290, std: 0.18027, params: {'max_features': 0.4, 'subsample': 0.5, 'learning_rate': 0.013333333333333334, 'max_depth': 4},\n",
       "  mean: -1.12254, std: 0.17682, params: {'max_features': 0.4, 'subsample': 0.75, 'learning_rate': 0.013333333333333334, 'max_depth': 4},\n",
       "  mean: -1.13581, std: 0.18675, params: {'max_features': 0.4, 'subsample': 1, 'learning_rate': 0.013333333333333334, 'max_depth': 4},\n",
       "  mean: -1.10257, std: 0.17415, params: {'max_features': 0.6, 'subsample': 0.5, 'learning_rate': 0.013333333333333334, 'max_depth': 4},\n",
       "  mean: -1.11351, std: 0.17923, params: {'max_features': 0.6, 'subsample': 0.75, 'learning_rate': 0.013333333333333334, 'max_depth': 4},\n",
       "  mean: -1.14630, std: 0.18958, params: {'max_features': 0.6, 'subsample': 1, 'learning_rate': 0.013333333333333334, 'max_depth': 4},\n",
       "  mean: -1.10354, std: 0.17567, params: {'max_features': 0.8, 'subsample': 0.5, 'learning_rate': 0.013333333333333334, 'max_depth': 4},\n",
       "  mean: -1.12326, std: 0.18296, params: {'max_features': 0.8, 'subsample': 0.75, 'learning_rate': 0.013333333333333334, 'max_depth': 4},\n",
       "  mean: -1.15210, std: 0.18619, params: {'max_features': 0.8, 'subsample': 1, 'learning_rate': 0.013333333333333334, 'max_depth': 4},\n",
       "  mean: -1.27467, std: 0.18948, params: {'max_features': 1, 'subsample': 0.5, 'learning_rate': 0.013333333333333334, 'max_depth': 4},\n",
       "  mean: -1.28183, std: 0.18669, params: {'max_features': 1, 'subsample': 0.75, 'learning_rate': 0.013333333333333334, 'max_depth': 4},\n",
       "  mean: -1.26993, std: 0.18460, params: {'max_features': 1, 'subsample': 1, 'learning_rate': 0.013333333333333334, 'max_depth': 4},\n",
       "  mean: -1.09888, std: 0.18016, params: {'max_features': 0.4, 'subsample': 0.5, 'learning_rate': 0.013333333333333334, 'max_depth': 6},\n",
       "  mean: -1.10264, std: 0.18326, params: {'max_features': 0.4, 'subsample': 0.75, 'learning_rate': 0.013333333333333334, 'max_depth': 6},\n",
       "  mean: -1.13025, std: 0.18774, params: {'max_features': 0.4, 'subsample': 1, 'learning_rate': 0.013333333333333334, 'max_depth': 6},\n",
       "  mean: -1.09938, std: 0.18069, params: {'max_features': 0.6, 'subsample': 0.5, 'learning_rate': 0.013333333333333334, 'max_depth': 6},\n",
       "  mean: -1.11457, std: 0.18204, params: {'max_features': 0.6, 'subsample': 0.75, 'learning_rate': 0.013333333333333334, 'max_depth': 6},\n",
       "  mean: -1.15663, std: 0.19212, params: {'max_features': 0.6, 'subsample': 1, 'learning_rate': 0.013333333333333334, 'max_depth': 6},\n",
       "  mean: -1.09598, std: 0.18740, params: {'max_features': 0.8, 'subsample': 0.5, 'learning_rate': 0.013333333333333334, 'max_depth': 6},\n",
       "  mean: -1.12914, std: 0.18208, params: {'max_features': 0.8, 'subsample': 0.75, 'learning_rate': 0.013333333333333334, 'max_depth': 6},\n",
       "  mean: -1.17036, std: 0.19197, params: {'max_features': 0.8, 'subsample': 1, 'learning_rate': 0.013333333333333334, 'max_depth': 6},\n",
       "  mean: -1.18479, std: 0.18029, params: {'max_features': 1, 'subsample': 0.5, 'learning_rate': 0.013333333333333334, 'max_depth': 6},\n",
       "  mean: -1.18600, std: 0.17917, params: {'max_features': 1, 'subsample': 0.75, 'learning_rate': 0.013333333333333334, 'max_depth': 6},\n",
       "  mean: -1.18225, std: 0.18557, params: {'max_features': 1, 'subsample': 1, 'learning_rate': 0.013333333333333334, 'max_depth': 6},\n",
       "  mean: -1.10993, std: 0.19200, params: {'max_features': 0.4, 'subsample': 0.5, 'learning_rate': 0.013333333333333334, 'max_depth': 8},\n",
       "  mean: -1.13120, std: 0.19432, params: {'max_features': 0.4, 'subsample': 0.75, 'learning_rate': 0.013333333333333334, 'max_depth': 8},\n",
       "  mean: -1.17858, std: 0.21221, params: {'max_features': 0.4, 'subsample': 1, 'learning_rate': 0.013333333333333334, 'max_depth': 8},\n",
       "  mean: -1.11686, std: 0.19483, params: {'max_features': 0.6, 'subsample': 0.5, 'learning_rate': 0.013333333333333334, 'max_depth': 8},\n",
       "  mean: -1.13874, std: 0.20076, params: {'max_features': 0.6, 'subsample': 0.75, 'learning_rate': 0.013333333333333334, 'max_depth': 8},\n",
       "  mean: -1.19969, std: 0.22593, params: {'max_features': 0.6, 'subsample': 1, 'learning_rate': 0.013333333333333334, 'max_depth': 8},\n",
       "  mean: -1.12618, std: 0.19602, params: {'max_features': 0.8, 'subsample': 0.5, 'learning_rate': 0.013333333333333334, 'max_depth': 8},\n",
       "  mean: -1.17191, std: 0.20220, params: {'max_features': 0.8, 'subsample': 0.75, 'learning_rate': 0.013333333333333334, 'max_depth': 8},\n",
       "  mean: -1.24564, std: 0.22537, params: {'max_features': 0.8, 'subsample': 1, 'learning_rate': 0.013333333333333334, 'max_depth': 8},\n",
       "  mean: -1.13941, std: 0.18352, params: {'max_features': 1, 'subsample': 0.5, 'learning_rate': 0.013333333333333334, 'max_depth': 8},\n",
       "  mean: -1.14724, std: 0.18432, params: {'max_features': 1, 'subsample': 0.75, 'learning_rate': 0.013333333333333334, 'max_depth': 8},\n",
       "  mean: -1.14995, std: 0.17825, params: {'max_features': 1, 'subsample': 1, 'learning_rate': 0.013333333333333334, 'max_depth': 8},\n",
       "  mean: -1.11444, std: 0.20178, params: {'max_features': 0.4, 'subsample': 0.5, 'learning_rate': 0.013333333333333334, 'max_depth': 10},\n",
       "  mean: -1.15759, std: 0.20844, params: {'max_features': 0.4, 'subsample': 0.75, 'learning_rate': 0.013333333333333334, 'max_depth': 10},\n",
       "  mean: -1.19590, std: 0.23801, params: {'max_features': 0.4, 'subsample': 1, 'learning_rate': 0.013333333333333334, 'max_depth': 10},\n",
       "  mean: -1.14364, std: 0.19815, params: {'max_features': 0.6, 'subsample': 0.5, 'learning_rate': 0.013333333333333334, 'max_depth': 10},\n",
       "  mean: -1.18223, std: 0.20985, params: {'max_features': 0.6, 'subsample': 0.75, 'learning_rate': 0.013333333333333334, 'max_depth': 10},\n",
       "  mean: -1.25022, std: 0.23868, params: {'max_features': 0.6, 'subsample': 1, 'learning_rate': 0.013333333333333334, 'max_depth': 10},\n",
       "  mean: -1.14262, std: 0.19481, params: {'max_features': 0.8, 'subsample': 0.5, 'learning_rate': 0.013333333333333334, 'max_depth': 10},\n",
       "  mean: -1.18255, std: 0.21918, params: {'max_features': 0.8, 'subsample': 0.75, 'learning_rate': 0.013333333333333334, 'max_depth': 10},\n",
       "  mean: -1.31751, std: 0.24521, params: {'max_features': 0.8, 'subsample': 1, 'learning_rate': 0.013333333333333334, 'max_depth': 10},\n",
       "  mean: -1.12544, std: 0.17726, params: {'max_features': 1, 'subsample': 0.5, 'learning_rate': 0.013333333333333334, 'max_depth': 10},\n",
       "  mean: -1.13331, std: 0.16264, params: {'max_features': 1, 'subsample': 0.75, 'learning_rate': 0.013333333333333334, 'max_depth': 10},\n",
       "  mean: -1.14217, std: 0.18087, params: {'max_features': 1, 'subsample': 1, 'learning_rate': 0.013333333333333334, 'max_depth': 10},\n",
       "  mean: -1.08009, std: 0.18000, params: {'max_features': 0.4, 'subsample': 0.5, 'learning_rate': 0.016666666666666666, 'max_depth': 4},\n",
       "  mean: -1.10482, std: 0.18127, params: {'max_features': 0.4, 'subsample': 0.75, 'learning_rate': 0.016666666666666666, 'max_depth': 4},\n",
       "  mean: -1.12331, std: 0.18492, params: {'max_features': 0.4, 'subsample': 1, 'learning_rate': 0.016666666666666666, 'max_depth': 4},\n",
       "  mean: -1.09000, std: 0.17389, params: {'max_features': 0.6, 'subsample': 0.5, 'learning_rate': 0.016666666666666666, 'max_depth': 4},\n",
       "  mean: -1.10503, std: 0.17959, params: {'max_features': 0.6, 'subsample': 0.75, 'learning_rate': 0.016666666666666666, 'max_depth': 4},\n",
       "  mean: -1.12744, std: 0.18143, params: {'max_features': 0.6, 'subsample': 1, 'learning_rate': 0.016666666666666666, 'max_depth': 4},\n",
       "  mean: -1.09059, std: 0.17802, params: {'max_features': 0.8, 'subsample': 0.5, 'learning_rate': 0.016666666666666666, 'max_depth': 4},\n",
       "  mean: -1.10620, std: 0.17726, params: {'max_features': 0.8, 'subsample': 0.75, 'learning_rate': 0.016666666666666666, 'max_depth': 4},\n",
       "  mean: -1.13424, std: 0.18659, params: {'max_features': 0.8, 'subsample': 1, 'learning_rate': 0.016666666666666666, 'max_depth': 4},\n",
       "  mean: -1.22803, std: 0.18378, params: {'max_features': 1, 'subsample': 0.5, 'learning_rate': 0.016666666666666666, 'max_depth': 4},\n",
       "  mean: -1.23898, std: 0.18183, params: {'max_features': 1, 'subsample': 0.75, 'learning_rate': 0.016666666666666666, 'max_depth': 4},\n",
       "  mean: -1.22730, std: 0.17529, params: {'max_features': 1, 'subsample': 1, 'learning_rate': 0.016666666666666666, 'max_depth': 4},\n",
       "  mean: -1.09101, std: 0.18012, params: {'max_features': 0.4, 'subsample': 0.5, 'learning_rate': 0.016666666666666666, 'max_depth': 6},\n",
       "  mean: -1.10059, std: 0.18058, params: {'max_features': 0.4, 'subsample': 0.75, 'learning_rate': 0.016666666666666666, 'max_depth': 6},\n",
       "  mean: -1.13084, std: 0.19363, params: {'max_features': 0.4, 'subsample': 1, 'learning_rate': 0.016666666666666666, 'max_depth': 6},\n",
       "  mean: -1.10044, std: 0.17811, params: {'max_features': 0.6, 'subsample': 0.5, 'learning_rate': 0.016666666666666666, 'max_depth': 6},\n",
       "  mean: -1.11813, std: 0.18118, params: {'max_features': 0.6, 'subsample': 0.75, 'learning_rate': 0.016666666666666666, 'max_depth': 6},\n",
       "  mean: -1.15162, std: 0.19036, params: {'max_features': 0.6, 'subsample': 1, 'learning_rate': 0.016666666666666666, 'max_depth': 6},\n",
       "  mean: -1.09746, std: 0.18154, params: {'max_features': 0.8, 'subsample': 0.5, 'learning_rate': 0.016666666666666666, 'max_depth': 6},\n",
       "  mean: -1.12203, std: 0.18537, params: {'max_features': 0.8, 'subsample': 0.75, 'learning_rate': 0.016666666666666666, 'max_depth': 6},\n",
       "  mean: -1.17643, std: 0.19757, params: {'max_features': 0.8, 'subsample': 1, 'learning_rate': 0.016666666666666666, 'max_depth': 6},\n",
       "  mean: -1.15574, std: 0.17032, params: {'max_features': 1, 'subsample': 0.5, 'learning_rate': 0.016666666666666666, 'max_depth': 6},\n",
       "  mean: -1.15536, std: 0.17411, params: {'max_features': 1, 'subsample': 0.75, 'learning_rate': 0.016666666666666666, 'max_depth': 6},\n",
       "  mean: -1.15062, std: 0.18278, params: {'max_features': 1, 'subsample': 1, 'learning_rate': 0.016666666666666666, 'max_depth': 6},\n",
       "  mean: -1.11571, std: 0.18595, params: {'max_features': 0.4, 'subsample': 0.5, 'learning_rate': 0.016666666666666666, 'max_depth': 8},\n",
       "  mean: -1.11925, std: 0.18840, params: {'max_features': 0.4, 'subsample': 0.75, 'learning_rate': 0.016666666666666666, 'max_depth': 8},\n",
       "  mean: -1.17621, std: 0.21370, params: {'max_features': 0.4, 'subsample': 1, 'learning_rate': 0.016666666666666666, 'max_depth': 8},\n",
       "  mean: -1.09672, std: 0.18810, params: {'max_features': 0.6, 'subsample': 0.5, 'learning_rate': 0.016666666666666666, 'max_depth': 8},\n",
       "  mean: -1.15175, std: 0.19504, params: {'max_features': 0.6, 'subsample': 0.75, 'learning_rate': 0.016666666666666666, 'max_depth': 8},\n",
       "  mean: -1.20607, std: 0.22554, params: {'max_features': 0.6, 'subsample': 1, 'learning_rate': 0.016666666666666666, 'max_depth': 8},\n",
       "  mean: -1.12650, std: 0.18666, params: {'max_features': 0.8, 'subsample': 0.5, 'learning_rate': 0.016666666666666666, 'max_depth': 8},\n",
       "  mean: -1.17610, std: 0.19770, params: {'max_features': 0.8, 'subsample': 0.75, 'learning_rate': 0.016666666666666666, 'max_depth': 8},\n",
       "  mean: -1.24358, std: 0.22927, params: {'max_features': 0.8, 'subsample': 1, 'learning_rate': 0.016666666666666666, 'max_depth': 8},\n",
       "  mean: -1.11730, std: 0.17246, params: {'max_features': 1, 'subsample': 0.5, 'learning_rate': 0.016666666666666666, 'max_depth': 8},\n",
       "  mean: -1.11419, std: 0.17297, params: {'max_features': 1, 'subsample': 0.75, 'learning_rate': 0.016666666666666666, 'max_depth': 8},\n",
       "  mean: -1.12208, std: 0.17031, params: {'max_features': 1, 'subsample': 1, 'learning_rate': 0.016666666666666666, 'max_depth': 8},\n",
       "  mean: -1.11614, std: 0.18060, params: {'max_features': 0.4, 'subsample': 0.5, 'learning_rate': 0.016666666666666666, 'max_depth': 10},\n",
       "  mean: -1.16557, std: 0.20915, params: {'max_features': 0.4, 'subsample': 0.75, 'learning_rate': 0.016666666666666666, 'max_depth': 10},\n",
       "  mean: -1.22528, std: 0.24299, params: {'max_features': 0.4, 'subsample': 1, 'learning_rate': 0.016666666666666666, 'max_depth': 10},\n",
       "  mean: -1.14140, std: 0.19392, params: {'max_features': 0.6, 'subsample': 0.5, 'learning_rate': 0.016666666666666666, 'max_depth': 10},\n",
       "  mean: -1.19666, std: 0.21369, params: {'max_features': 0.6, 'subsample': 0.75, 'learning_rate': 0.016666666666666666, 'max_depth': 10},\n",
       "  mean: -1.26033, std: 0.24831, params: {'max_features': 0.6, 'subsample': 1, 'learning_rate': 0.016666666666666666, 'max_depth': 10},\n",
       "  mean: -1.15390, std: 0.19987, params: {'max_features': 0.8, 'subsample': 0.5, 'learning_rate': 0.016666666666666666, 'max_depth': 10},\n",
       "  mean: -1.19774, std: 0.22212, params: {'max_features': 0.8, 'subsample': 0.75, 'learning_rate': 0.016666666666666666, 'max_depth': 10},\n",
       "  mean: -1.33735, std: 0.24859, params: {'max_features': 0.8, 'subsample': 1, 'learning_rate': 0.016666666666666666, 'max_depth': 10},\n",
       "  mean: -1.12270, std: 0.16501, params: {'max_features': 1, 'subsample': 0.5, 'learning_rate': 0.016666666666666666, 'max_depth': 10},\n",
       "  mean: -1.12516, std: 0.16112, params: {'max_features': 1, 'subsample': 0.75, 'learning_rate': 0.016666666666666666, 'max_depth': 10},\n",
       "  mean: -1.12716, std: 0.18417, params: {'max_features': 1, 'subsample': 1, 'learning_rate': 0.016666666666666666, 'max_depth': 10},\n",
       "  mean: -1.07300, std: 0.17821, params: {'max_features': 0.4, 'subsample': 0.5, 'learning_rate': 0.02, 'max_depth': 4},\n",
       "  mean: -1.09343, std: 0.17414, params: {'max_features': 0.4, 'subsample': 0.75, 'learning_rate': 0.02, 'max_depth': 4},\n",
       "  mean: -1.12140, std: 0.18206, params: {'max_features': 0.4, 'subsample': 1, 'learning_rate': 0.02, 'max_depth': 4},\n",
       "  mean: -1.08521, std: 0.16967, params: {'max_features': 0.6, 'subsample': 0.5, 'learning_rate': 0.02, 'max_depth': 4},\n",
       "  mean: -1.09385, std: 0.17880, params: {'max_features': 0.6, 'subsample': 0.75, 'learning_rate': 0.02, 'max_depth': 4},\n",
       "  mean: -1.12521, std: 0.18286, params: {'max_features': 0.6, 'subsample': 1, 'learning_rate': 0.02, 'max_depth': 4},\n",
       "  mean: -1.09758, std: 0.17043, params: {'max_features': 0.8, 'subsample': 0.5, 'learning_rate': 0.02, 'max_depth': 4},\n",
       "  mean: -1.10607, std: 0.18021, params: {'max_features': 0.8, 'subsample': 0.75, 'learning_rate': 0.02, 'max_depth': 4},\n",
       "  mean: -1.12782, std: 0.18681, params: {'max_features': 0.8, 'subsample': 1, 'learning_rate': 0.02, 'max_depth': 4},\n",
       "  mean: -1.19428, std: 0.17975, params: {'max_features': 1, 'subsample': 0.5, 'learning_rate': 0.02, 'max_depth': 4},\n",
       "  mean: -1.20865, std: 0.17637, params: {'max_features': 1, 'subsample': 0.75, 'learning_rate': 0.02, 'max_depth': 4},\n",
       "  mean: -1.19689, std: 0.17711, params: {'max_features': 1, 'subsample': 1, 'learning_rate': 0.02, 'max_depth': 4},\n",
       "  mean: -1.08510, std: 0.17427, params: {'max_features': 0.4, 'subsample': 0.5, 'learning_rate': 0.02, 'max_depth': 6},\n",
       "  mean: -1.10008, std: 0.18485, params: {'max_features': 0.4, 'subsample': 0.75, 'learning_rate': 0.02, 'max_depth': 6},\n",
       "  mean: -1.12738, std: 0.19313, params: {'max_features': 0.4, 'subsample': 1, 'learning_rate': 0.02, 'max_depth': 6},\n",
       "  mean: -1.10075, std: 0.16400, params: {'max_features': 0.6, 'subsample': 0.5, 'learning_rate': 0.02, 'max_depth': 6},\n",
       "  mean: -1.11961, std: 0.18567, params: {'max_features': 0.6, 'subsample': 0.75, 'learning_rate': 0.02, 'max_depth': 6},\n",
       "  mean: -1.15904, std: 0.18847, params: {'max_features': 0.6, 'subsample': 1, 'learning_rate': 0.02, 'max_depth': 6},\n",
       "  mean: -1.10071, std: 0.17690, params: {'max_features': 0.8, 'subsample': 0.5, 'learning_rate': 0.02, 'max_depth': 6},\n",
       "  mean: -1.13451, std: 0.18469, params: {'max_features': 0.8, 'subsample': 0.75, 'learning_rate': 0.02, 'max_depth': 6},\n",
       "  mean: -1.16773, std: 0.19196, params: {'max_features': 0.8, 'subsample': 1, 'learning_rate': 0.02, 'max_depth': 6},\n",
       "  mean: -1.13451, std: 0.17340, params: {'max_features': 1, 'subsample': 0.5, 'learning_rate': 0.02, 'max_depth': 6},\n",
       "  mean: -1.14137, std: 0.16875, params: {'max_features': 1, 'subsample': 0.75, 'learning_rate': 0.02, 'max_depth': 6},\n",
       "  mean: -1.12638, std: 0.17699, params: {'max_features': 1, 'subsample': 1, 'learning_rate': 0.02, 'max_depth': 6},\n",
       "  mean: -1.11789, std: 0.19015, params: {'max_features': 0.4, 'subsample': 0.5, 'learning_rate': 0.02, 'max_depth': 8},\n",
       "  mean: -1.12880, std: 0.18563, params: {'max_features': 0.4, 'subsample': 0.75, 'learning_rate': 0.02, 'max_depth': 8},\n",
       "  mean: -1.18118, std: 0.20620, params: {'max_features': 0.4, 'subsample': 1, 'learning_rate': 0.02, 'max_depth': 8},\n",
       "  mean: -1.12826, std: 0.19199, params: {'max_features': 0.6, 'subsample': 0.5, 'learning_rate': 0.02, 'max_depth': 8},\n",
       "  mean: -1.15788, std: 0.20258, params: {'max_features': 0.6, 'subsample': 0.75, 'learning_rate': 0.02, 'max_depth': 8},\n",
       "  mean: -1.21799, std: 0.23107, params: {'max_features': 0.6, 'subsample': 1, 'learning_rate': 0.02, 'max_depth': 8},\n",
       "  mean: -1.12909, std: 0.18938, params: {'max_features': 0.8, 'subsample': 0.5, 'learning_rate': 0.02, 'max_depth': 8},\n",
       "  mean: -1.16912, std: 0.20674, params: {'max_features': 0.8, 'subsample': 0.75, 'learning_rate': 0.02, 'max_depth': 8},\n",
       "  mean: -1.25545, std: 0.23664, params: {'max_features': 0.8, 'subsample': 1, 'learning_rate': 0.02, 'max_depth': 8},\n",
       "  mean: -1.10748, std: 0.16808, params: {'max_features': 1, 'subsample': 0.5, 'learning_rate': 0.02, 'max_depth': 8},\n",
       "  mean: -1.10616, std: 0.16364, params: {'max_features': 1, 'subsample': 0.75, 'learning_rate': 0.02, 'max_depth': 8},\n",
       "  mean: -1.11422, std: 0.16960, params: {'max_features': 1, 'subsample': 1, 'learning_rate': 0.02, 'max_depth': 8},\n",
       "  mean: -1.13482, std: 0.17642, params: {'max_features': 0.4, 'subsample': 0.5, 'learning_rate': 0.02, 'max_depth': 10},\n",
       "  mean: -1.17130, std: 0.18870, params: {'max_features': 0.4, 'subsample': 0.75, 'learning_rate': 0.02, 'max_depth': 10},\n",
       "  mean: -1.22629, std: 0.25000, params: {'max_features': 0.4, 'subsample': 1, 'learning_rate': 0.02, 'max_depth': 10},\n",
       "  mean: -1.16701, std: 0.19973, params: {'max_features': 0.6, 'subsample': 0.5, 'learning_rate': 0.02, 'max_depth': 10},\n",
       "  mean: -1.20273, std: 0.22936, params: {'max_features': 0.6, 'subsample': 0.75, 'learning_rate': 0.02, 'max_depth': 10},\n",
       "  mean: -1.27604, std: 0.25860, params: {'max_features': 0.6, 'subsample': 1, 'learning_rate': 0.02, 'max_depth': 10},\n",
       "  mean: -1.16691, std: 0.18973, params: {'max_features': 0.8, 'subsample': 0.5, 'learning_rate': 0.02, 'max_depth': 10},\n",
       "  mean: -1.21844, std: 0.21108, params: {'max_features': 0.8, 'subsample': 0.75, 'learning_rate': 0.02, 'max_depth': 10},\n",
       "  mean: -1.33715, std: 0.26044, params: {'max_features': 0.8, 'subsample': 1, 'learning_rate': 0.02, 'max_depth': 10},\n",
       "  mean: -1.09780, std: 0.18107, params: {'max_features': 1, 'subsample': 0.5, 'learning_rate': 0.02, 'max_depth': 10},\n",
       "  mean: -1.10870, std: 0.15825, params: {'max_features': 1, 'subsample': 0.75, 'learning_rate': 0.02, 'max_depth': 10},\n",
       "  mean: -1.12457, std: 0.17729, params: {'max_features': 1, 'subsample': 1, 'learning_rate': 0.02, 'max_depth': 10},\n",
       "  mean: -1.06645, std: 0.17356, params: {'max_features': 0.4, 'subsample': 0.5, 'learning_rate': 0.023333333333333334, 'max_depth': 4},\n",
       "  mean: -1.08825, std: 0.16772, params: {'max_features': 0.4, 'subsample': 0.75, 'learning_rate': 0.023333333333333334, 'max_depth': 4},\n",
       "  mean: -1.11511, std: 0.17797, params: {'max_features': 0.4, 'subsample': 1, 'learning_rate': 0.023333333333333334, 'max_depth': 4},\n",
       "  mean: -1.09519, std: 0.16732, params: {'max_features': 0.6, 'subsample': 0.5, 'learning_rate': 0.023333333333333334, 'max_depth': 4},\n",
       "  mean: -1.09172, std: 0.17723, params: {'max_features': 0.6, 'subsample': 0.75, 'learning_rate': 0.023333333333333334, 'max_depth': 4},\n",
       "  mean: -1.12235, std: 0.18142, params: {'max_features': 0.6, 'subsample': 1, 'learning_rate': 0.023333333333333334, 'max_depth': 4},\n",
       "  mean: -1.09083, std: 0.17645, params: {'max_features': 0.8, 'subsample': 0.5, 'learning_rate': 0.023333333333333334, 'max_depth': 4},\n",
       "  mean: -1.10083, std: 0.17694, params: {'max_features': 0.8, 'subsample': 0.75, 'learning_rate': 0.023333333333333334, 'max_depth': 4},\n",
       "  mean: -1.12967, std: 0.18304, params: {'max_features': 0.8, 'subsample': 1, 'learning_rate': 0.023333333333333334, 'max_depth': 4},\n",
       "  mean: -1.16912, std: 0.17731, params: {'max_features': 1, 'subsample': 0.5, 'learning_rate': 0.023333333333333334, 'max_depth': 4},\n",
       "  mean: -1.18413, std: 0.17298, params: {'max_features': 1, 'subsample': 0.75, 'learning_rate': 0.023333333333333334, 'max_depth': 4},\n",
       "  mean: -1.17473, std: 0.17416, params: {'max_features': 1, 'subsample': 1, 'learning_rate': 0.023333333333333334, 'max_depth': 4},\n",
       "  mean: -1.09413, std: 0.17464, params: {'max_features': 0.4, 'subsample': 0.5, 'learning_rate': 0.023333333333333334, 'max_depth': 6},\n",
       "  mean: -1.10548, std: 0.18432, params: {'max_features': 0.4, 'subsample': 0.75, 'learning_rate': 0.023333333333333334, 'max_depth': 6},\n",
       "  mean: -1.14057, std: 0.19433, params: {'max_features': 0.4, 'subsample': 1, 'learning_rate': 0.023333333333333334, 'max_depth': 6},\n",
       "  mean: -1.10781, std: 0.17377, params: {'max_features': 0.6, 'subsample': 0.5, 'learning_rate': 0.023333333333333334, 'max_depth': 6},\n",
       "  mean: -1.12492, std: 0.18042, params: {'max_features': 0.6, 'subsample': 0.75, 'learning_rate': 0.023333333333333334, 'max_depth': 6},\n",
       "  mean: -1.15482, std: 0.19397, params: {'max_features': 0.6, 'subsample': 1, 'learning_rate': 0.023333333333333334, 'max_depth': 6},\n",
       "  mean: -1.12137, std: 0.16796, params: {'max_features': 0.8, 'subsample': 0.5, 'learning_rate': 0.023333333333333334, 'max_depth': 6},\n",
       "  mean: -1.13171, std: 0.17741, params: {'max_features': 0.8, 'subsample': 0.75, 'learning_rate': 0.023333333333333334, 'max_depth': 6},\n",
       "  mean: -1.16612, std: 0.18611, params: {'max_features': 0.8, 'subsample': 1, 'learning_rate': 0.023333333333333334, 'max_depth': 6},\n",
       "  mean: -1.11699, std: 0.16775, params: {'max_features': 1, 'subsample': 0.5, 'learning_rate': 0.023333333333333334, 'max_depth': 6},\n",
       "  mean: -1.12429, std: 0.15899, params: {'max_features': 1, 'subsample': 0.75, 'learning_rate': 0.023333333333333334, 'max_depth': 6},\n",
       "  mean: -1.11069, std: 0.17579, params: {'max_features': 1, 'subsample': 1, 'learning_rate': 0.023333333333333334, 'max_depth': 6},\n",
       "  mean: -1.10882, std: 0.19706, params: {'max_features': 0.4, 'subsample': 0.5, 'learning_rate': 0.023333333333333334, 'max_depth': 8},\n",
       "  mean: -1.14379, std: 0.19936, params: {'max_features': 0.4, 'subsample': 0.75, 'learning_rate': 0.023333333333333334, 'max_depth': 8},\n",
       "  mean: -1.19221, std: 0.21323, params: {'max_features': 0.4, 'subsample': 1, 'learning_rate': 0.023333333333333334, 'max_depth': 8},\n",
       "  mean: -1.13237, std: 0.19953, params: {'max_features': 0.6, 'subsample': 0.5, 'learning_rate': 0.023333333333333334, 'max_depth': 8},\n",
       "  mean: -1.14924, std: 0.18893, params: {'max_features': 0.6, 'subsample': 0.75, 'learning_rate': 0.023333333333333334, 'max_depth': 8},\n",
       "  mean: -1.21883, std: 0.22958, params: {'max_features': 0.6, 'subsample': 1, 'learning_rate': 0.023333333333333334, 'max_depth': 8},\n",
       "  mean: -1.13691, std: 0.16962, params: {'max_features': 0.8, 'subsample': 0.5, 'learning_rate': 0.023333333333333334, 'max_depth': 8},\n",
       "  mean: -1.17316, std: 0.18848, params: {'max_features': 0.8, 'subsample': 0.75, 'learning_rate': 0.023333333333333334, 'max_depth': 8},\n",
       "  mean: -1.27714, std: 0.22890, params: {'max_features': 0.8, 'subsample': 1, 'learning_rate': 0.023333333333333334, 'max_depth': 8},\n",
       "  mean: -1.11566, std: 0.17658, params: {'max_features': 1, 'subsample': 0.5, 'learning_rate': 0.023333333333333334, 'max_depth': 8},\n",
       "  mean: -1.09940, std: 0.15795, params: {'max_features': 1, 'subsample': 0.75, 'learning_rate': 0.023333333333333334, 'max_depth': 8},\n",
       "  mean: -1.11835, std: 0.16703, params: {'max_features': 1, 'subsample': 1, 'learning_rate': 0.023333333333333334, 'max_depth': 8},\n",
       "  mean: -1.14020, std: 0.19037, params: {'max_features': 0.4, 'subsample': 0.5, 'learning_rate': 0.023333333333333334, 'max_depth': 10},\n",
       "  mean: -1.18217, std: 0.20861, params: {'max_features': 0.4, 'subsample': 0.75, 'learning_rate': 0.023333333333333334, 'max_depth': 10},\n",
       "  mean: -1.22795, std: 0.24741, params: {'max_features': 0.4, 'subsample': 1, 'learning_rate': 0.023333333333333334, 'max_depth': 10},\n",
       "  mean: -1.16056, std: 0.17575, params: {'max_features': 0.6, 'subsample': 0.5, 'learning_rate': 0.023333333333333334, 'max_depth': 10},\n",
       "  mean: -1.20375, std: 0.19969, params: {'max_features': 0.6, 'subsample': 0.75, 'learning_rate': 0.023333333333333334, 'max_depth': 10},\n",
       "  mean: -1.27887, std: 0.23970, params: {'max_features': 0.6, 'subsample': 1, 'learning_rate': 0.023333333333333334, 'max_depth': 10},\n",
       "  mean: -1.16523, std: 0.18344, params: {'max_features': 0.8, 'subsample': 0.5, 'learning_rate': 0.023333333333333334, 'max_depth': 10},\n",
       "  mean: -1.22403, std: 0.22253, params: {'max_features': 0.8, 'subsample': 0.75, 'learning_rate': 0.023333333333333334, 'max_depth': 10},\n",
       "  mean: -1.34696, std: 0.25519, params: {'max_features': 0.8, 'subsample': 1, 'learning_rate': 0.023333333333333334, 'max_depth': 10},\n",
       "  mean: -1.09971, std: 0.17377, params: {'max_features': 1, 'subsample': 0.5, 'learning_rate': 0.023333333333333334, 'max_depth': 10},\n",
       "  mean: -1.09708, std: 0.15133, params: {'max_features': 1, 'subsample': 0.75, 'learning_rate': 0.023333333333333334, 'max_depth': 10},\n",
       "  mean: -1.12432, std: 0.18369, params: {'max_features': 1, 'subsample': 1, 'learning_rate': 0.023333333333333334, 'max_depth': 10},\n",
       "  mean: -1.07784, std: 0.18617, params: {'max_features': 0.4, 'subsample': 0.5, 'learning_rate': 0.02666666666666667, 'max_depth': 4},\n",
       "  mean: -1.08207, std: 0.16831, params: {'max_features': 0.4, 'subsample': 0.75, 'learning_rate': 0.02666666666666667, 'max_depth': 4},\n",
       "  mean: -1.11151, std: 0.17881, params: {'max_features': 0.4, 'subsample': 1, 'learning_rate': 0.02666666666666667, 'max_depth': 4},\n",
       "  mean: -1.09621, std: 0.17091, params: {'max_features': 0.6, 'subsample': 0.5, 'learning_rate': 0.02666666666666667, 'max_depth': 4},\n",
       "  mean: -1.09082, std: 0.16847, params: {'max_features': 0.6, 'subsample': 0.75, 'learning_rate': 0.02666666666666667, 'max_depth': 4},\n",
       "  mean: -1.12403, std: 0.18033, params: {'max_features': 0.6, 'subsample': 1, 'learning_rate': 0.02666666666666667, 'max_depth': 4},\n",
       "  mean: -1.09617, std: 0.16259, params: {'max_features': 0.8, 'subsample': 0.5, 'learning_rate': 0.02666666666666667, 'max_depth': 4},\n",
       "  mean: -1.09585, std: 0.17120, params: {'max_features': 0.8, 'subsample': 0.75, 'learning_rate': 0.02666666666666667, 'max_depth': 4},\n",
       "  mean: -1.12780, std: 0.18261, params: {'max_features': 0.8, 'subsample': 1, 'learning_rate': 0.02666666666666667, 'max_depth': 4},\n",
       "  mean: -1.15216, std: 0.17557, params: {'max_features': 1, 'subsample': 0.5, 'learning_rate': 0.02666666666666667, 'max_depth': 4},\n",
       "  mean: -1.16613, std: 0.16798, params: {'max_features': 1, 'subsample': 0.75, 'learning_rate': 0.02666666666666667, 'max_depth': 4},\n",
       "  mean: -1.15791, std: 0.17166, params: {'max_features': 1, 'subsample': 1, 'learning_rate': 0.02666666666666667, 'max_depth': 4},\n",
       "  mean: -1.12516, std: 0.19454, params: {'max_features': 0.4, 'subsample': 0.5, 'learning_rate': 0.02666666666666667, 'max_depth': 6},\n",
       "  mean: -1.11080, std: 0.18180, params: {'max_features': 0.4, 'subsample': 0.75, 'learning_rate': 0.02666666666666667, 'max_depth': 6},\n",
       "  mean: -1.13685, std: 0.18680, params: {'max_features': 0.4, 'subsample': 1, 'learning_rate': 0.02666666666666667, 'max_depth': 6},\n",
       "  mean: -1.11855, std: 0.16179, params: {'max_features': 0.6, 'subsample': 0.5, 'learning_rate': 0.02666666666666667, 'max_depth': 6},\n",
       "  mean: -1.13952, std: 0.17780, params: {'max_features': 0.6, 'subsample': 0.75, 'learning_rate': 0.02666666666666667, 'max_depth': 6},\n",
       "  mean: -1.15918, std: 0.18875, params: {'max_features': 0.6, 'subsample': 1, 'learning_rate': 0.02666666666666667, 'max_depth': 6},\n",
       "  mean: -1.12570, std: 0.16222, params: {'max_features': 0.8, 'subsample': 0.5, 'learning_rate': 0.02666666666666667, 'max_depth': 6},\n",
       "  mean: -1.15055, std: 0.18509, params: {'max_features': 0.8, 'subsample': 0.75, 'learning_rate': 0.02666666666666667, 'max_depth': 6},\n",
       "  mean: -1.16592, std: 0.18826, params: {'max_features': 0.8, 'subsample': 1, 'learning_rate': 0.02666666666666667, 'max_depth': 6},\n",
       "  mean: -1.11198, std: 0.16726, params: {'max_features': 1, 'subsample': 0.5, 'learning_rate': 0.02666666666666667, 'max_depth': 6},\n",
       "  mean: -1.11136, std: 0.15907, params: {'max_features': 1, 'subsample': 0.75, 'learning_rate': 0.02666666666666667, 'max_depth': 6},\n",
       "  mean: -1.10599, std: 0.17301, params: {'max_features': 1, 'subsample': 1, 'learning_rate': 0.02666666666666667, 'max_depth': 6},\n",
       "  mean: -1.12547, std: 0.16910, params: {'max_features': 0.4, 'subsample': 0.5, 'learning_rate': 0.02666666666666667, 'max_depth': 8},\n",
       "  mean: -1.15931, std: 0.22102, params: {'max_features': 0.4, 'subsample': 0.75, 'learning_rate': 0.02666666666666667, 'max_depth': 8},\n",
       "  mean: -1.19160, std: 0.20947, params: {'max_features': 0.4, 'subsample': 1, 'learning_rate': 0.02666666666666667, 'max_depth': 8},\n",
       "  mean: -1.15425, std: 0.18772, params: {'max_features': 0.6, 'subsample': 0.5, 'learning_rate': 0.02666666666666667, 'max_depth': 8},\n",
       "  mean: -1.18928, std: 0.19316, params: {'max_features': 0.6, 'subsample': 0.75, 'learning_rate': 0.02666666666666667, 'max_depth': 8},\n",
       "  mean: -1.23360, std: 0.22476, params: {'max_features': 0.6, 'subsample': 1, 'learning_rate': 0.02666666666666667, 'max_depth': 8},\n",
       "  mean: -1.15522, std: 0.19164, params: {'max_features': 0.8, 'subsample': 0.5, 'learning_rate': 0.02666666666666667, 'max_depth': 8},\n",
       "  mean: -1.19769, std: 0.19918, params: {'max_features': 0.8, 'subsample': 0.75, 'learning_rate': 0.02666666666666667, 'max_depth': 8},\n",
       "  mean: -1.25182, std: 0.23139, params: {'max_features': 0.8, 'subsample': 1, 'learning_rate': 0.02666666666666667, 'max_depth': 8},\n",
       "  mean: -1.10171, std: 0.16074, params: {'max_features': 1, 'subsample': 0.5, 'learning_rate': 0.02666666666666667, 'max_depth': 8},\n",
       "  mean: -1.11253, std: 0.16304, params: {'max_features': 1, 'subsample': 0.75, 'learning_rate': 0.02666666666666667, 'max_depth': 8},\n",
       "  mean: -1.10172, std: 0.16379, params: {'max_features': 1, 'subsample': 1, 'learning_rate': 0.02666666666666667, 'max_depth': 8},\n",
       "  mean: -1.16132, std: 0.19270, params: {'max_features': 0.4, 'subsample': 0.5, 'learning_rate': 0.02666666666666667, 'max_depth': 10},\n",
       "  mean: -1.17261, std: 0.19663, params: {'max_features': 0.4, 'subsample': 0.75, 'learning_rate': 0.02666666666666667, 'max_depth': 10},\n",
       "  mean: -1.22577, std: 0.25167, params: {'max_features': 0.4, 'subsample': 1, 'learning_rate': 0.02666666666666667, 'max_depth': 10},\n",
       "  mean: -1.16843, std: 0.17935, params: {'max_features': 0.6, 'subsample': 0.5, 'learning_rate': 0.02666666666666667, 'max_depth': 10},\n",
       "  mean: -1.23543, std: 0.24327, params: {'max_features': 0.6, 'subsample': 0.75, 'learning_rate': 0.02666666666666667, 'max_depth': 10},\n",
       "  mean: -1.28786, std: 0.25337, params: {'max_features': 0.6, 'subsample': 1, 'learning_rate': 0.02666666666666667, 'max_depth': 10},\n",
       "  mean: -1.18001, std: 0.17662, params: {'max_features': 0.8, 'subsample': 0.5, 'learning_rate': 0.02666666666666667, 'max_depth': 10},\n",
       "  mean: -1.23735, std: 0.20842, params: {'max_features': 0.8, 'subsample': 0.75, 'learning_rate': 0.02666666666666667, 'max_depth': 10},\n",
       "  mean: -1.35494, std: 0.24171, params: {'max_features': 0.8, 'subsample': 1, 'learning_rate': 0.02666666666666667, 'max_depth': 10},\n",
       "  mean: -1.08983, std: 0.15704, params: {'max_features': 1, 'subsample': 0.5, 'learning_rate': 0.02666666666666667, 'max_depth': 10},\n",
       "  mean: -1.09759, std: 0.15710, params: {'max_features': 1, 'subsample': 0.75, 'learning_rate': 0.02666666666666667, 'max_depth': 10},\n",
       "  mean: -1.12111, std: 0.18679, params: {'max_features': 1, 'subsample': 1, 'learning_rate': 0.02666666666666667, 'max_depth': 10},\n",
       "  mean: -1.07767, std: 0.18108, params: {'max_features': 0.4, 'subsample': 0.5, 'learning_rate': 0.03, 'max_depth': 4},\n",
       "  mean: -1.07961, std: 0.16739, params: {'max_features': 0.4, 'subsample': 0.75, 'learning_rate': 0.03, 'max_depth': 4},\n",
       "  mean: -1.11040, std: 0.17415, params: {'max_features': 0.4, 'subsample': 1, 'learning_rate': 0.03, 'max_depth': 4},\n",
       "  mean: -1.09722, std: 0.17448, params: {'max_features': 0.6, 'subsample': 0.5, 'learning_rate': 0.03, 'max_depth': 4},\n",
       "  mean: -1.09719, std: 0.17210, params: {'max_features': 0.6, 'subsample': 0.75, 'learning_rate': 0.03, 'max_depth': 4},\n",
       "  mean: -1.12156, std: 0.17550, params: {'max_features': 0.6, 'subsample': 1, 'learning_rate': 0.03, 'max_depth': 4},\n",
       "  mean: -1.10010, std: 0.16865, params: {'max_features': 0.8, 'subsample': 0.5, 'learning_rate': 0.03, 'max_depth': 4},\n",
       "  mean: -1.08966, std: 0.17720, params: {'max_features': 0.8, 'subsample': 0.75, 'learning_rate': 0.03, 'max_depth': 4},\n",
       "  mean: -1.12533, std: 0.18067, params: {'max_features': 0.8, 'subsample': 1, 'learning_rate': 0.03, 'max_depth': 4},\n",
       "  mean: -1.14013, std: 0.17014, params: {'max_features': 1, 'subsample': 0.5, 'learning_rate': 0.03, 'max_depth': 4},\n",
       "  mean: -1.15786, std: 0.16691, params: {'max_features': 1, 'subsample': 0.75, 'learning_rate': 0.03, 'max_depth': 4},\n",
       "  mean: -1.14583, std: 0.16835, params: {'max_features': 1, 'subsample': 1, 'learning_rate': 0.03, 'max_depth': 4},\n",
       "  mean: -1.13356, std: 0.19478, params: {'max_features': 0.4, 'subsample': 0.5, 'learning_rate': 0.03, 'max_depth': 6},\n",
       "  mean: -1.12181, std: 0.18334, params: {'max_features': 0.4, 'subsample': 0.75, 'learning_rate': 0.03, 'max_depth': 6},\n",
       "  mean: -1.13905, std: 0.18464, params: {'max_features': 0.4, 'subsample': 1, 'learning_rate': 0.03, 'max_depth': 6},\n",
       "  mean: -1.13178, std: 0.17874, params: {'max_features': 0.6, 'subsample': 0.5, 'learning_rate': 0.03, 'max_depth': 6},\n",
       "  mean: -1.13864, std: 0.16777, params: {'max_features': 0.6, 'subsample': 0.75, 'learning_rate': 0.03, 'max_depth': 6},\n",
       "  mean: -1.16223, std: 0.19935, params: {'max_features': 0.6, 'subsample': 1, 'learning_rate': 0.03, 'max_depth': 6},\n",
       "  mean: -1.12312, std: 0.17813, params: {'max_features': 0.8, 'subsample': 0.5, 'learning_rate': 0.03, 'max_depth': 6},\n",
       "  mean: -1.14777, std: 0.17494, params: {'max_features': 0.8, 'subsample': 0.75, 'learning_rate': 0.03, 'max_depth': 6},\n",
       "  mean: -1.18444, std: 0.19659, params: {'max_features': 0.8, 'subsample': 1, 'learning_rate': 0.03, 'max_depth': 6},\n",
       "  mean: -1.09669, std: 0.16625, params: {'max_features': 1, 'subsample': 0.5, 'learning_rate': 0.03, 'max_depth': 6},\n",
       "  mean: -1.10497, std: 0.15339, params: {'max_features': 1, 'subsample': 0.75, 'learning_rate': 0.03, 'max_depth': 6},\n",
       "  mean: -1.10053, std: 0.17160, params: {'max_features': 1, 'subsample': 1, 'learning_rate': 0.03, 'max_depth': 6},\n",
       "  mean: -1.12271, std: 0.18678, params: {'max_features': 0.4, 'subsample': 0.5, 'learning_rate': 0.03, 'max_depth': 8},\n",
       "  mean: -1.16707, std: 0.21233, params: {'max_features': 0.4, 'subsample': 0.75, 'learning_rate': 0.03, 'max_depth': 8},\n",
       "  mean: -1.20488, std: 0.21885, params: {'max_features': 0.4, 'subsample': 1, 'learning_rate': 0.03, 'max_depth': 8},\n",
       "  mean: -1.16309, std: 0.19960, params: {'max_features': 0.6, 'subsample': 0.5, 'learning_rate': 0.03, 'max_depth': 8},\n",
       "  mean: -1.18470, std: 0.19791, params: {'max_features': 0.6, 'subsample': 0.75, 'learning_rate': 0.03, 'max_depth': 8},\n",
       "  mean: -1.21712, std: 0.23025, params: {'max_features': 0.6, 'subsample': 1, 'learning_rate': 0.03, 'max_depth': 8},\n",
       "  mean: -1.15933, std: 0.18733, params: {'max_features': 0.8, 'subsample': 0.5, 'learning_rate': 0.03, 'max_depth': 8},\n",
       "  mean: -1.18318, std: 0.19352, params: {'max_features': 0.8, 'subsample': 0.75, 'learning_rate': 0.03, 'max_depth': 8},\n",
       "  mean: -1.28178, std: 0.23725, params: {'max_features': 0.8, 'subsample': 1, 'learning_rate': 0.03, 'max_depth': 8},\n",
       "  mean: -1.10962, std: 0.15284, params: {'max_features': 1, 'subsample': 0.5, 'learning_rate': 0.03, 'max_depth': 8},\n",
       "  mean: -1.10595, std: 0.15767, params: {'max_features': 1, 'subsample': 0.75, 'learning_rate': 0.03, 'max_depth': 8},\n",
       "  mean: -1.10600, std: 0.16224, params: {'max_features': 1, 'subsample': 1, 'learning_rate': 0.03, 'max_depth': 8},\n",
       "  mean: -1.16595, std: 0.17100, params: {'max_features': 0.4, 'subsample': 0.5, 'learning_rate': 0.03, 'max_depth': 10},\n",
       "  mean: -1.19807, std: 0.20527, params: {'max_features': 0.4, 'subsample': 0.75, 'learning_rate': 0.03, 'max_depth': 10},\n",
       "  mean: -1.23877, std: 0.24190, params: {'max_features': 0.4, 'subsample': 1, 'learning_rate': 0.03, 'max_depth': 10},\n",
       "  mean: -1.15231, std: 0.19275, params: {'max_features': 0.6, 'subsample': 0.5, 'learning_rate': 0.03, 'max_depth': 10},\n",
       "  mean: -1.22118, std: 0.22108, params: {'max_features': 0.6, 'subsample': 0.75, 'learning_rate': 0.03, 'max_depth': 10},\n",
       "  mean: -1.30086, std: 0.24839, params: {'max_features': 0.6, 'subsample': 1, 'learning_rate': 0.03, 'max_depth': 10},\n",
       "  mean: -1.17966, std: 0.18016, params: {'max_features': 0.8, 'subsample': 0.5, 'learning_rate': 0.03, 'max_depth': 10},\n",
       "  mean: -1.24243, std: 0.21072, params: {'max_features': 0.8, 'subsample': 0.75, 'learning_rate': 0.03, 'max_depth': 10},\n",
       "  mean: -1.35681, std: 0.25797, params: {'max_features': 0.8, 'subsample': 1, 'learning_rate': 0.03, 'max_depth': 10},\n",
       "  mean: -1.11275, std: 0.16952, params: {'max_features': 1, 'subsample': 0.5, 'learning_rate': 0.03, 'max_depth': 10},\n",
       "  mean: -1.10993, std: 0.16013, params: {'max_features': 1, 'subsample': 0.75, 'learning_rate': 0.03, 'max_depth': 10},\n",
       "  mean: -1.12860, std: 0.17861, params: {'max_features': 1, 'subsample': 1, 'learning_rate': 0.03, 'max_depth': 10},\n",
       "  mean: -1.07352, std: 0.18672, params: {'max_features': 0.4, 'subsample': 0.5, 'learning_rate': 0.03333333333333333, 'max_depth': 4},\n",
       "  mean: -1.08713, std: 0.16940, params: {'max_features': 0.4, 'subsample': 0.75, 'learning_rate': 0.03333333333333333, 'max_depth': 4},\n",
       "  mean: -1.10682, std: 0.16715, params: {'max_features': 0.4, 'subsample': 1, 'learning_rate': 0.03333333333333333, 'max_depth': 4},\n",
       "  mean: -1.09765, std: 0.16144, params: {'max_features': 0.6, 'subsample': 0.5, 'learning_rate': 0.03333333333333333, 'max_depth': 4},\n",
       "  mean: -1.08725, std: 0.17093, params: {'max_features': 0.6, 'subsample': 0.75, 'learning_rate': 0.03333333333333333, 'max_depth': 4},\n",
       "  mean: -1.11445, std: 0.17780, params: {'max_features': 0.6, 'subsample': 1, 'learning_rate': 0.03333333333333333, 'max_depth': 4},\n",
       "  mean: -1.09555, std: 0.17399, params: {'max_features': 0.8, 'subsample': 0.5, 'learning_rate': 0.03333333333333333, 'max_depth': 4},\n",
       "  mean: -1.08812, std: 0.17383, params: {'max_features': 0.8, 'subsample': 0.75, 'learning_rate': 0.03333333333333333, 'max_depth': 4},\n",
       "  mean: -1.13017, std: 0.17318, params: {'max_features': 0.8, 'subsample': 1, 'learning_rate': 0.03333333333333333, 'max_depth': 4},\n",
       "  mean: -1.12117, std: 0.16993, params: {'max_features': 1, 'subsample': 0.5, 'learning_rate': 0.03333333333333333, 'max_depth': 4},\n",
       "  mean: -1.14423, std: 0.16516, params: {'max_features': 1, 'subsample': 0.75, 'learning_rate': 0.03333333333333333, 'max_depth': 4},\n",
       "  mean: -1.13618, std: 0.16564, params: {'max_features': 1, 'subsample': 1, 'learning_rate': 0.03333333333333333, 'max_depth': 4},\n",
       "  mean: -1.13331, std: 0.20099, params: {'max_features': 0.4, 'subsample': 0.5, 'learning_rate': 0.03333333333333333, 'max_depth': 6},\n",
       "  mean: -1.11044, std: 0.17961, params: {'max_features': 0.4, 'subsample': 0.75, 'learning_rate': 0.03333333333333333, 'max_depth': 6},\n",
       "  mean: -1.14324, std: 0.18627, params: {'max_features': 0.4, 'subsample': 1, 'learning_rate': 0.03333333333333333, 'max_depth': 6},\n",
       "  mean: -1.14555, std: 0.16754, params: {'max_features': 0.6, 'subsample': 0.5, 'learning_rate': 0.03333333333333333, 'max_depth': 6},\n",
       "  mean: -1.14693, std: 0.17305, params: {'max_features': 0.6, 'subsample': 0.75, 'learning_rate': 0.03333333333333333, 'max_depth': 6},\n",
       "  mean: -1.17995, std: 0.18140, params: {'max_features': 0.6, 'subsample': 1, 'learning_rate': 0.03333333333333333, 'max_depth': 6},\n",
       "  mean: -1.13229, std: 0.18179, params: {'max_features': 0.8, 'subsample': 0.5, 'learning_rate': 0.03333333333333333, 'max_depth': 6},\n",
       "  mean: -1.13669, std: 0.17310, params: {'max_features': 0.8, 'subsample': 0.75, 'learning_rate': 0.03333333333333333, 'max_depth': 6},\n",
       "  mean: -1.18874, std: 0.18593, params: {'max_features': 0.8, 'subsample': 1, 'learning_rate': 0.03333333333333333, 'max_depth': 6},\n",
       "  mean: -1.09141, std: 0.15685, params: {'max_features': 1, 'subsample': 0.5, 'learning_rate': 0.03333333333333333, 'max_depth': 6},\n",
       "  mean: -1.10665, std: 0.15044, params: {'max_features': 1, 'subsample': 0.75, 'learning_rate': 0.03333333333333333, 'max_depth': 6},\n",
       "  mean: -1.10230, std: 0.17277, params: {'max_features': 1, 'subsample': 1, 'learning_rate': 0.03333333333333333, 'max_depth': 6},\n",
       "  mean: -1.17751, std: 0.19491, params: {'max_features': 0.4, 'subsample': 0.5, 'learning_rate': 0.03333333333333333, 'max_depth': 8},\n",
       "  mean: -1.16929, std: 0.21383, params: {'max_features': 0.4, 'subsample': 0.75, 'learning_rate': 0.03333333333333333, 'max_depth': 8},\n",
       "  mean: -1.19868, std: 0.21970, params: {'max_features': 0.4, 'subsample': 1, 'learning_rate': 0.03333333333333333, 'max_depth': 8},\n",
       "  mean: -1.18123, std: 0.17870, params: {'max_features': 0.6, 'subsample': 0.5, 'learning_rate': 0.03333333333333333, 'max_depth': 8},\n",
       "  mean: -1.18706, std: 0.18557, params: {'max_features': 0.6, 'subsample': 0.75, 'learning_rate': 0.03333333333333333, 'max_depth': 8},\n",
       "  mean: -1.25186, std: 0.21235, params: {'max_features': 0.6, 'subsample': 1, 'learning_rate': 0.03333333333333333, 'max_depth': 8},\n",
       "  mean: -1.17821, std: 0.18470, params: {'max_features': 0.8, 'subsample': 0.5, 'learning_rate': 0.03333333333333333, 'max_depth': 8},\n",
       "  mean: -1.19997, std: 0.20870, params: {'max_features': 0.8, 'subsample': 0.75, 'learning_rate': 0.03333333333333333, 'max_depth': 8},\n",
       "  mean: -1.29722, std: 0.24825, params: {'max_features': 0.8, 'subsample': 1, 'learning_rate': 0.03333333333333333, 'max_depth': 8},\n",
       "  mean: -1.10415, std: 0.15485, params: {'max_features': 1, 'subsample': 0.5, 'learning_rate': 0.03333333333333333, 'max_depth': 8},\n",
       "  mean: -1.09948, std: 0.16649, params: {'max_features': 1, 'subsample': 0.75, 'learning_rate': 0.03333333333333333, 'max_depth': 8},\n",
       "  mean: -1.10882, std: 0.17773, params: {'max_features': 1, 'subsample': 1, 'learning_rate': 0.03333333333333333, 'max_depth': 8},\n",
       "  mean: -1.14225, std: 0.18214, params: {'max_features': 0.4, 'subsample': 0.5, 'learning_rate': 0.03333333333333333, 'max_depth': 10},\n",
       "  mean: -1.21462, std: 0.20088, params: {'max_features': 0.4, 'subsample': 0.75, 'learning_rate': 0.03333333333333333, 'max_depth': 10},\n",
       "  mean: -1.23095, std: 0.24614, params: {'max_features': 0.4, 'subsample': 1, 'learning_rate': 0.03333333333333333, 'max_depth': 10},\n",
       "  mean: -1.15236, std: 0.17159, params: {'max_features': 0.6, 'subsample': 0.5, 'learning_rate': 0.03333333333333333, 'max_depth': 10},\n",
       "  mean: -1.23105, std: 0.20538, params: {'max_features': 0.6, 'subsample': 0.75, 'learning_rate': 0.03333333333333333, 'max_depth': 10},\n",
       "  mean: -1.28977, std: 0.26192, params: {'max_features': 0.6, 'subsample': 1, 'learning_rate': 0.03333333333333333, 'max_depth': 10},\n",
       "  mean: -1.18786, std: 0.18702, params: {'max_features': 0.8, 'subsample': 0.5, 'learning_rate': 0.03333333333333333, 'max_depth': 10},\n",
       "  mean: -1.23018, std: 0.20817, params: {'max_features': 0.8, 'subsample': 0.75, 'learning_rate': 0.03333333333333333, 'max_depth': 10},\n",
       "  mean: -1.34147, std: 0.27348, params: {'max_features': 0.8, 'subsample': 1, 'learning_rate': 0.03333333333333333, 'max_depth': 10},\n",
       "  mean: -1.11233, std: 0.14763, params: {'max_features': 1, 'subsample': 0.5, 'learning_rate': 0.03333333333333333, 'max_depth': 10},\n",
       "  mean: -1.10913, std: 0.15207, params: {'max_features': 1, 'subsample': 0.75, 'learning_rate': 0.03333333333333333, 'max_depth': 10},\n",
       "  mean: -1.13507, std: 0.17431, params: {'max_features': 1, 'subsample': 1, 'learning_rate': 0.03333333333333333, 'max_depth': 10}])"
      ]
     },
     "execution_count": 117,
     "metadata": {},
     "output_type": "execute_result"
    }
   ],
   "source": [
    "parameters={'min_samples_split': 2,'n_estimators':300,'random_state':RANDOM_STATE}\n",
    "clf = ensemble.GradientBoostingRegressor(**parameters)\n",
    "parameters_grid={'max_depth':[4,6,8,10], \n",
    "                'learning_rate':[x/300.0 for x in range(2,11)],\n",
    "                'subsample':[.5,.75,1],'max_features':[.4,.6,.8,1]}\n",
    "fitmodel = GridSearchCV(clf, param_grid=parameters_grid, cv=5, scoring=\"neg_mean_squared_error\")\n",
    "fitmodel.fit(X_train, Y_train)\n",
    "fitmodel.best_estimator_, fitmodel.best_params_, fitmodel.best_score_, fitmodel.grid_scores_"
   ]
  },
  {
   "cell_type": "code",
   "execution_count": 134,
   "metadata": {
    "collapsed": false
   },
   "outputs": [],
   "source": [
    "parameters={'n_estimators': 300, \n",
    "            'max_depth': fitmodel.best_params_['max_depth'], \n",
    "            'min_samples_split': 2,\n",
    "            'learning_rate': fitmodel.best_params_['learning_rate'], 'loss': 'ls',\n",
    "            'subsample': fitmodel.best_params_['subsample'],\n",
    "            'max_features':fitmodel.best_params_['max_features'], 'random_state':RANDOM_STATE}\n",
    "gb= ensemble.GradientBoostingRegressor(**parameters)\n",
    "gb.fit(X_train,Y_train)\n",
    "pickle.dump(gb, open('ESM_GBRT.sav', 'wb'))"
   ]
  },
  {
   "cell_type": "code",
   "execution_count": 135,
   "metadata": {
    "collapsed": false
   },
   "outputs": [
    {
     "data": {
      "text/plain": [
       "1.0076354952031434"
      ]
     },
     "execution_count": 135,
     "metadata": {},
     "output_type": "execute_result"
    }
   ],
   "source": [
    "gb = pickle.load(open('ESM_GBRT.sav', 'rb'))\n",
    "Y_pred=gb.predict(X_test)\n",
    "rmse(Y_test,Y_pred)"
   ]
  },
  {
   "cell_type": "code",
   "execution_count": 136,
   "metadata": {
    "collapsed": false
   },
   "outputs": [
    {
     "data": {
      "text/plain": [
       "<matplotlib.axes._subplots.AxesSubplot at 0x11c033990>"
      ]
     },
     "execution_count": 136,
     "metadata": {},
     "output_type": "execute_result"
    },
    {
     "data": {
      "image/png": "[encoded data removed]",
      "text/plain": [
       "<matplotlib.figure.Figure at 0x11c1b59d0>"
      ]
     },
     "metadata": {},
     "output_type": "display_data"
    }
   ],
   "source": [
    "feat_imp = pd.Series(gb.feature_importances_, index=X.columns)\n",
    "feat_imp.sort_values(inplace=True, ascending=True)\n",
    "feat_imp.plot(kind='barh', title='Feature importance')"
   ]
  },
  {
   "cell_type": "code",
   "execution_count": null,
   "metadata": {
    "collapsed": true
   },
   "outputs": [],
   "source": []
  },
  {
   "cell_type": "code",
   "execution_count": null,
   "metadata": {
    "collapsed": true
   },
   "outputs": [],
   "source": []
  },
  {
   "cell_type": "code",
   "execution_count": null,
   "metadata": {
    "collapsed": true
   },
   "outputs": [],
   "source": []
  },
  {
   "cell_type": "code",
   "execution_count": 35,
   "metadata": {
    "collapsed": false
   },
   "outputs": [],
   "source": [
    "from pandasql import sqldf\n",
    "sql = lambda q: sqldf(q, globals()) \n",
    "#add to script so you don't have to call locals"
   ]
  },
  {
   "cell_type": "code",
   "execution_count": 36,
   "metadata": {
    "collapsed": false
   },
   "outputs": [
    {
     "data": {
      "text/html": [
       "<div>\n",
       "<table border=\"1\" class=\"dataframe\">\n",
       "  <thead>\n",
       "    <tr style=\"text-align: right;\">\n",
       "      <th></th>\n",
       "      <th>AVG(m.mood_cheerf)</th>\n",
       "      <th>COUNT(*)</th>\n",
       "    </tr>\n",
       "  </thead>\n",
       "  <tbody>\n",
       "    <tr>\n",
       "      <th>0</th>\n",
       "      <td>4.000000</td>\n",
       "      <td>5</td>\n",
       "    </tr>\n",
       "    <tr>\n",
       "      <th>1</th>\n",
       "      <td>4.087432</td>\n",
       "      <td>1464</td>\n",
       "    </tr>\n",
       "    <tr>\n",
       "      <th>2</th>\n",
       "      <td>4.166667</td>\n",
       "      <td>6</td>\n",
       "    </tr>\n",
       "    <tr>\n",
       "      <th>3</th>\n",
       "      <td>3.000000</td>\n",
       "      <td>1</td>\n",
       "    </tr>\n",
       "  </tbody>\n",
       "</table>\n",
       "</div>"
      ],
      "text/plain": [
       "   AVG(m.mood_cheerf)  COUNT(*)\n",
       "0            4.000000         5\n",
       "1            4.087432      1464\n",
       "2            4.166667         6\n",
       "3            3.000000         1"
      ]
     },
     "execution_count": 36,
     "metadata": {},
     "output_type": "execute_result"
    }
   ],
   "source": [
    "#What is the partipant's average cheerfulness level for each level of naeuseousness?\n",
    "q='''\n",
    "SELECT AVG(m.mood_cheerf), COUNT(*)\n",
    "FROM esm m\n",
    "GROUP BY phy_nauseous\n",
    "'''\n",
    "sql(q)"
   ]
  },
  {
   "cell_type": "code",
   "execution_count": 76,
   "metadata": {
    "collapsed": false
   },
   "outputs": [
    {
     "data": {
      "text/html": [
       "<div>\n",
       "<table border=\"1\" class=\"dataframe\">\n",
       "  <thead>\n",
       "    <tr style=\"text-align: right;\">\n",
       "      <th></th>\n",
       "      <th>mood_relaxed</th>\n",
       "      <th>COUNT</th>\n",
       "    </tr>\n",
       "  </thead>\n",
       "  <tbody>\n",
       "    <tr>\n",
       "      <th>0</th>\n",
       "      <td>4.0</td>\n",
       "      <td>714</td>\n",
       "    </tr>\n",
       "    <tr>\n",
       "      <th>1</th>\n",
       "      <td>5.0</td>\n",
       "      <td>510</td>\n",
       "    </tr>\n",
       "    <tr>\n",
       "      <th>2</th>\n",
       "      <td>3.0</td>\n",
       "      <td>218</td>\n",
       "    </tr>\n",
       "    <tr>\n",
       "      <th>3</th>\n",
       "      <td>2.0</td>\n",
       "      <td>24</td>\n",
       "    </tr>\n",
       "    <tr>\n",
       "      <th>4</th>\n",
       "      <td>6.0</td>\n",
       "      <td>6</td>\n",
       "    </tr>\n",
       "    <tr>\n",
       "      <th>5</th>\n",
       "      <td>1.0</td>\n",
       "      <td>2</td>\n",
       "    </tr>\n",
       "    <tr>\n",
       "      <th>6</th>\n",
       "      <td>7.0</td>\n",
       "      <td>2</td>\n",
       "    </tr>\n",
       "  </tbody>\n",
       "</table>\n",
       "</div>"
      ],
      "text/plain": [
       "   mood_relaxed  COUNT\n",
       "0           4.0    714\n",
       "1           5.0    510\n",
       "2           3.0    218\n",
       "3           2.0     24\n",
       "4           6.0      6\n",
       "5           1.0      2\n",
       "6           7.0      2"
      ]
     },
     "execution_count": 76,
     "metadata": {},
     "output_type": "execute_result"
    }
   ],
   "source": [
    "#Make a frequency table of mood_relaxed\n",
    "q='''\n",
    "SELECT x.mood_relaxed, COUNT(*) COUNT\n",
    "FROM X As x\n",
    "GROUP BY mood_relaxed\n",
    "ORDER BY COUNT DESC\n",
    "'''\n",
    "sql(q)"
   ]
  },
  {
   "cell_type": "markdown",
   "metadata": {},
   "source": [
    "The information associated with this data says that mood_relaxed should range from 1-7, so it is interesting that it appears to range from 0-6.  "
   ]
  }
 ],
 "metadata": {
  "kernelspec": {
   "display_name": "Python 2",
   "language": "python",
   "name": "python2"
  },
  "language_info": {
   "codemirror_mode": {
    "name": "ipython",
    "version": 2
   },
   "file_extension": ".py",
   "mimetype": "text/x-python",
   "name": "python",
   "nbconvert_exporter": "python",
   "pygments_lexer": "ipython2",
   "version": "2.7.13"
  }
 },
 "nbformat": 4,
 "nbformat_minor": 0
}
