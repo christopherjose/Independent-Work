{
 "cells": [
  {
   "cell_type": "code",
   "execution_count": 4,
   "metadata": {
    "collapsed": true
   },
   "outputs": [],
   "source": [
    "from IPython.core.interactiveshell import InteractiveShell\n",
    "InteractiveShell.ast_node_interactivity = \"all\"\n",
    "# show all outputs of a cell (such as if df.head() and df.tail() are in the same cell)\n",
    "#default is 'last_expr'"
   ]
  },
  {
   "cell_type": "code",
   "execution_count": 5,
   "metadata": {
    "collapsed": true
   },
   "outputs": [],
   "source": [
    "import pandas as pd\n",
    "import numpy as np"
   ]
  },
  {
   "cell_type": "markdown",
   "metadata": {},
   "source": [
    "# Transforming categorical data into numerical values"
   ]
  },
  {
   "cell_type": "markdown",
   "metadata": {},
   "source": [
    "**label_encoder.fit()** to determine all unique values <br>\n",
    "**label_encoder.transform()** to transform all unique values into count numbers starting at 0. <br>\n",
    "**label_encoded_data=label_encoder.fit_transform()** does both of the above in one step<br>\n",
    "**one_hot_encoder.fit_transform(label_encoded_data.reshape(-1,1)** to make a dummy for each distinct numerical value created using label_encoder (since some methods need dummies).  This method CANNOT take a 1D array, which is what will be outputted from label_encoder, so convert it into a 2D array using reshape."
   ]
  },
  {
   "cell_type": "code",
   "execution_count": 96,
   "metadata": {
    "collapsed": true
   },
   "outputs": [],
   "source": [
    "df=pd.DataFrame([0,1,2,3])\n",
    "s=pd.Series(['hi','bye','him','her'])"
   ]
  },
  {
   "cell_type": "code",
   "execution_count": 84,
   "metadata": {
    "collapsed": false
   },
   "outputs": [
    {
     "data": {
      "text/plain": [
       "array(['bye', 'her', 'hi', 'him'], dtype=object)"
      ]
     },
     "execution_count": 84,
     "metadata": {},
     "output_type": "execute_result"
    }
   ],
   "source": [
    "label_encoder.fit(s).classes_"
   ]
  },
  {
   "cell_type": "markdown",
   "metadata": {},
   "source": [
    "## Transform column of categorical values into integer data"
   ]
  },
  {
   "cell_type": "code",
   "execution_count": 116,
   "metadata": {
    "collapsed": false
   },
   "outputs": [],
   "source": [
    "from sklearn import preprocessing\n",
    "label_encoder = preprocessing.LabelEncoder()\n",
    "label_encoded_data=label_encoder.fit_transform(s)"
   ]
  },
  {
   "cell_type": "code",
   "execution_count": 118,
   "metadata": {
    "collapsed": false
   },
   "outputs": [
    {
     "data": {
      "text/plain": [
       "array([2, 0, 3, 1])"
      ]
     },
     "execution_count": 118,
     "metadata": {},
     "output_type": "execute_result"
    }
   ],
   "source": [
    "label_encoded_data"
   ]
  },
  {
   "cell_type": "markdown",
   "metadata": {},
   "source": [
    "## Transform column of integer data into columns of dummy variables using OneHotEncoder"
   ]
  },
  {
   "cell_type": "code",
   "execution_count": 117,
   "metadata": {
    "collapsed": true
   },
   "outputs": [],
   "source": [
    "one_hot_encoder=preprocessing.OneHotEncoder()\n",
    "dummies=one_hot_encoder.fit_transform(label_encoded_data.reshape(-1,1))"
   ]
  },
  {
   "cell_type": "code",
   "execution_count": 108,
   "metadata": {
    "collapsed": false
   },
   "outputs": [
    {
     "data": {
      "text/plain": [
       "[(0, array([ 0.,  0.,  1.,  0.])),\n",
       " (1, array([ 1.,  0.,  0.,  0.])),\n",
       " (2, array([ 0.,  0.,  0.,  1.])),\n",
       " (3, array([ 0.,  1.,  0.,  0.]))]"
      ]
     },
     "execution_count": 108,
     "metadata": {},
     "output_type": "execute_result"
    }
   ],
   "source": [
    "list(enumerate(dummies.toarray()))"
   ]
  },
  {
   "cell_type": "markdown",
   "metadata": {},
   "source": [
    "Add the dummies to your dataframe."
   ]
  },
  {
   "cell_type": "code",
   "execution_count": 112,
   "metadata": {
    "collapsed": false
   },
   "outputs": [
    {
     "data": {
      "text/plain": [
       "(4, 4)"
      ]
     },
     "execution_count": 112,
     "metadata": {},
     "output_type": "execute_result"
    },
    {
     "data": {
      "text/plain": [
       "array([[ 0.,  0.,  1.,  0.],\n",
       "       [ 1.,  0.,  0.,  0.],\n",
       "       [ 0.,  0.,  0.,  1.],\n",
       "       [ 0.,  1.,  0.,  0.]])"
      ]
     },
     "execution_count": 112,
     "metadata": {},
     "output_type": "execute_result"
    },
    {
     "data": {
      "text/html": [
       "<div>\n",
       "<table border=\"1\" class=\"dataframe\">\n",
       "  <thead>\n",
       "    <tr style=\"text-align: right;\">\n",
       "      <th></th>\n",
       "      <th>0</th>\n",
       "      <th>hi</th>\n",
       "      <th>bye</th>\n",
       "      <th>him</th>\n",
       "      <th>her</th>\n",
       "    </tr>\n",
       "  </thead>\n",
       "  <tbody>\n",
       "    <tr>\n",
       "      <th>0</th>\n",
       "      <td>0</td>\n",
       "      <td>0.0</td>\n",
       "      <td>0.0</td>\n",
       "      <td>1.0</td>\n",
       "      <td>0.0</td>\n",
       "    </tr>\n",
       "    <tr>\n",
       "      <th>1</th>\n",
       "      <td>1</td>\n",
       "      <td>0.0</td>\n",
       "      <td>0.0</td>\n",
       "      <td>1.0</td>\n",
       "      <td>0.0</td>\n",
       "    </tr>\n",
       "    <tr>\n",
       "      <th>2</th>\n",
       "      <td>2</td>\n",
       "      <td>0.0</td>\n",
       "      <td>0.0</td>\n",
       "      <td>1.0</td>\n",
       "      <td>0.0</td>\n",
       "    </tr>\n",
       "    <tr>\n",
       "      <th>3</th>\n",
       "      <td>3</td>\n",
       "      <td>0.0</td>\n",
       "      <td>0.0</td>\n",
       "      <td>1.0</td>\n",
       "      <td>0.0</td>\n",
       "    </tr>\n",
       "  </tbody>\n",
       "</table>\n",
       "</div>"
      ],
      "text/plain": [
       "   0   hi  bye  him  her\n",
       "0  0  0.0  0.0  1.0  0.0\n",
       "1  1  0.0  0.0  1.0  0.0\n",
       "2  2  0.0  0.0  1.0  0.0\n",
       "3  3  0.0  0.0  1.0  0.0"
      ]
     },
     "execution_count": 112,
     "metadata": {},
     "output_type": "execute_result"
    }
   ],
   "source": [
    "dummies.shape #2D array with shape (4,4)\n",
    "dummies.toarray() \n",
    "for index, dimension in enumerate(dummies.toarray()): # for each 2D array, makes tuple of its index and the 2D array\n",
    "    for element in dimension:\n",
    "        df[s[index]]=element\n",
    "df"
   ]
  },
  {
   "cell_type": "code",
   "execution_count": 115,
   "metadata": {
    "collapsed": false
   },
   "outputs": [
    {
     "data": {
      "text/plain": [
       "[(0, array([ 0.,  0.,  1.,  0.])),\n",
       " (1, array([ 1.,  0.,  0.,  0.])),\n",
       " (2, array([ 0.,  0.,  0.,  1.])),\n",
       " (3, array([ 0.,  1.,  0.,  0.]))]"
      ]
     },
     "execution_count": 115,
     "metadata": {},
     "output_type": "execute_result"
    }
   ],
   "source": [
    "#Enumerate produces tuples for each element that are (index of element, element)\n",
    "list(enumerate(dummies.toarray()))"
   ]
  },
  {
   "cell_type": "code",
   "execution_count": 90,
   "metadata": {
    "collapsed": false
   },
   "outputs": [
    {
     "data": {
      "text/plain": [
       "array([[2],\n",
       "       [0],\n",
       "       [3],\n",
       "       [1]])"
      ]
     },
     "execution_count": 90,
     "metadata": {},
     "output_type": "execute_result"
    }
   ],
   "source": [
    "label_encoded_data.reshape(-1,1) #a 2D array where the 2nd dimension has length 4 and 1st dimension has length 1."
   ]
  },
  {
   "cell_type": "markdown",
   "metadata": {},
   "source": [
    "# Transform categorical data into dummies using pandas.get_dummies"
   ]
  },
  {
   "cell_type": "code",
   "execution_count": 129,
   "metadata": {
    "collapsed": false
   },
   "outputs": [
    {
     "data": {
      "text/html": [
       "<div>\n",
       "<table border=\"1\" class=\"dataframe\">\n",
       "  <thead>\n",
       "    <tr style=\"text-align: right;\">\n",
       "      <th></th>\n",
       "      <th>bye</th>\n",
       "      <th>her</th>\n",
       "      <th>hi</th>\n",
       "      <th>him</th>\n",
       "    </tr>\n",
       "  </thead>\n",
       "  <tbody>\n",
       "    <tr>\n",
       "      <th>0</th>\n",
       "      <td>0</td>\n",
       "      <td>0</td>\n",
       "      <td>1</td>\n",
       "      <td>0</td>\n",
       "    </tr>\n",
       "    <tr>\n",
       "      <th>1</th>\n",
       "      <td>1</td>\n",
       "      <td>0</td>\n",
       "      <td>0</td>\n",
       "      <td>0</td>\n",
       "    </tr>\n",
       "    <tr>\n",
       "      <th>2</th>\n",
       "      <td>0</td>\n",
       "      <td>0</td>\n",
       "      <td>0</td>\n",
       "      <td>1</td>\n",
       "    </tr>\n",
       "    <tr>\n",
       "      <th>3</th>\n",
       "      <td>0</td>\n",
       "      <td>1</td>\n",
       "      <td>0</td>\n",
       "      <td>0</td>\n",
       "    </tr>\n",
       "  </tbody>\n",
       "</table>\n",
       "</div>"
      ],
      "text/plain": [
       "   bye  her  hi  him\n",
       "0    0    0   1    0\n",
       "1    1    0   0    0\n",
       "2    0    0   0    1\n",
       "3    0    1   0    0"
      ]
     },
     "execution_count": 129,
     "metadata": {},
     "output_type": "execute_result"
    },
    {
     "data": {
      "text/html": [
       "<div>\n",
       "<table border=\"1\" class=\"dataframe\">\n",
       "  <thead>\n",
       "    <tr style=\"text-align: right;\">\n",
       "      <th></th>\n",
       "      <th>0</th>\n",
       "      <th>bye</th>\n",
       "      <th>her</th>\n",
       "      <th>hi</th>\n",
       "      <th>him</th>\n",
       "    </tr>\n",
       "  </thead>\n",
       "  <tbody>\n",
       "    <tr>\n",
       "      <th>0</th>\n",
       "      <td>0</td>\n",
       "      <td>0</td>\n",
       "      <td>0</td>\n",
       "      <td>1</td>\n",
       "      <td>0</td>\n",
       "    </tr>\n",
       "    <tr>\n",
       "      <th>1</th>\n",
       "      <td>1</td>\n",
       "      <td>1</td>\n",
       "      <td>0</td>\n",
       "      <td>0</td>\n",
       "      <td>0</td>\n",
       "    </tr>\n",
       "    <tr>\n",
       "      <th>2</th>\n",
       "      <td>2</td>\n",
       "      <td>0</td>\n",
       "      <td>0</td>\n",
       "      <td>0</td>\n",
       "      <td>1</td>\n",
       "    </tr>\n",
       "    <tr>\n",
       "      <th>3</th>\n",
       "      <td>3</td>\n",
       "      <td>0</td>\n",
       "      <td>1</td>\n",
       "      <td>0</td>\n",
       "      <td>0</td>\n",
       "    </tr>\n",
       "  </tbody>\n",
       "</table>\n",
       "</div>"
      ],
      "text/plain": [
       "   0  bye  her  hi  him\n",
       "0  0    0    0   1    0\n",
       "1  1    1    0   0    0\n",
       "2  2    0    0   0    1\n",
       "3  3    0    1   0    0"
      ]
     },
     "execution_count": 129,
     "metadata": {},
     "output_type": "execute_result"
    }
   ],
   "source": [
    "df_dummies=pd.get_dummies(s)\n",
    "df_dummies\n",
    "df=pd.DataFrame([0,1,2,3])\n",
    "pd.concat([df,df_dummies],axis=1)"
   ]
  },
  {
   "cell_type": "code",
   "execution_count": 132,
   "metadata": {
    "collapsed": false
   },
   "outputs": [
    {
     "data": {
      "text/html": [
       "<div>\n",
       "<table border=\"1\" class=\"dataframe\">\n",
       "  <thead>\n",
       "    <tr style=\"text-align: right;\">\n",
       "      <th></th>\n",
       "    </tr>\n",
       "  </thead>\n",
       "  <tbody>\n",
       "    <tr>\n",
       "      <th>0</th>\n",
       "    </tr>\n",
       "    <tr>\n",
       "      <th>1</th>\n",
       "    </tr>\n",
       "    <tr>\n",
       "      <th>2</th>\n",
       "    </tr>\n",
       "    <tr>\n",
       "      <th>3</th>\n",
       "    </tr>\n",
       "  </tbody>\n",
       "</table>\n",
       "</div>"
      ],
      "text/plain": [
       "Empty DataFrame\n",
       "Columns: []\n",
       "Index: [0, 1, 2, 3]"
      ]
     },
     "execution_count": 132,
     "metadata": {},
     "output_type": "execute_result"
    }
   ],
   "source": [
    "pd.concat([df,df_dummies],axis=1).select_dtypes(include=[object])"
   ]
  },
  {
   "cell_type": "markdown",
   "metadata": {},
   "source": [
    "# Numpy Arrays"
   ]
  },
  {
   "cell_type": "markdown",
   "metadata": {},
   "source": [
    "Numpy arrays are a way to represent a table of elements. <br>\n",
    "Numpy arrays must contain the same data type. <br>\n",
    "Numpy arrays are preferrable to Python lists since they take up less space and are thus faster to work with, and also have many methods. <br>\n",
    "A numpy array's elements are grouped into **dimensions**, which are called **axes**.  An n-dimensional array is said to have **rank n**. <br>\n",
    "\n",
    "A multi-dimensional numpy array, or N-Dimensional array, is composed of multiple arrays, where each array itself can contain arrays.  It's like a tree with branches, and points on the branches extending from an earlier point on the tree are all arrays contained within the array at that earlier point.  The later points are like children of that array and that array is like the parent.  The parent array is in a higher dimension than all of its children arrays.  The 1st dimension array just contains elements and there are no branches extending from it.  An array in the 5th dimension contains arrays in the 4th dimension, which contains arrays in the 3rd dimension, and so on.  An array in dimension N contains arrays in dimension (N-1), (N-2),..., and 1.  Access an element by specifying which dimension N array it is in, which dimension N-1 array it is in,..., and which dimension 1 array it is in.  Do so using the axis <br>\n",
    "\n",
    "The location of an element is uniquely specified by that element's location in each axis.  For an array with N axes, the Nth axis has index N-1 (since indices start at zero), ..., and first axis (with just elements in it and not arrays) has axis index 0.  Thus for axis 1, or dimension 2, you specify which array it is in (0,...,L) where L is the length of dimension 2 and represents how many arrays are in dimension 2.  You can view each axis's index by looking at its location in the shape method. <br>\n",
    "\n",
    "To access a certain element in an array, you specify its location within each axes (the array its in), since each axes contains multiple arrays (though for the 1D axes, you specify its element position).  <br>\n",
    "\n",
    "**np.shape** provides a tuple of elements, where element j is the size of (number of arrays in) dimension j (where for dimension 1, its the number of values).  In other words, the size of the array in dimension j.  The length of the shape tuple (number of tuple elments) is the number of dimensions of the numpy array and is the rank. <br>\n",
    "\n",
    "A single list must be passed as an argument to np.array(), and each list or tuple within this list represents a dimension. <br>\n",
    "**np.size** returns the total number of elements in the numpy array. <br>\n",
    "\n"
   ]
  },
  {
   "cell_type": "markdown",
   "metadata": {},
   "source": [
    "Alternatively, I like to think of arrays as containers.  The N-Dim array contains all arrays with lower dimensions that are children of that array.  So if a 3-D array is a kingdom, then it naturally has villages (all 2d arrays that are part of that kingdom), and villagers (all 1d arrays, meaning elements, that are part of each of the kingdoms villages).<br>\n",
    "1D Villagers <br>\n",
    "2D Villages <br>\n",
    "3D Kingdoms<br>\n",
    "4D Lands<br>\n",
    "5D Worlds<br>\n",
    "6D Universes<br>\n",
    "7D Multiverses<br>\n"
   ]
  },
  {
   "cell_type": "markdown",
   "metadata": {},
   "source": [
    "# Numpy Array Reshape Method"
   ]
  },
  {
   "cell_type": "markdown",
   "metadata": {},
   "source": [
    "**array.reshape()** method reshapes an array without changing the data. <br>\n",
    "You specify the length of each dimension the same way as for the shape method, which shows the length of each dimension for an array. <br>\n",
    "array.reshape(# of A arrays, # of B arrays within A arrays, # of C arrays within B arrays, ... , # of elements within J arrays) <br> \n",
    "array.reshape(# of Ndim arrays, # of (N-1)dim arrays, # of (N-2)dim arrays, ... , # of elements within 1dim arrays) <br> \n",
    "The last specified argument always represents the number of elements. <br>\n",
    "\n",
    "reshape(3,-1) --> create 3 arrays, and within each of these, however many arrays needed so that the size of the data remains the same<br>\n",
    "reshape(3,2,1) --> create 3 arrays, 2 arrays within each of these, and 1 element within each of these. <br>\n",
    "reshape(4,3,2,2) --> create 4 arrays, 3 within each of these, 2 within each of these, 2 elements within each of these.\n",
    "\n",
    "For the second two reshapes, the number of elements needed to use these is (3\\*2\\*1=6, 4\\*3\\*2\\*2=48)."
   ]
  },
  {
   "cell_type": "markdown",
   "metadata": {},
   "source": [
    "np.arange() returns a numpy array<br>\n",
    "Python has a built in range() function, which in Python 2, returns a list and in Python 3, returns an iterator.  "
   ]
  },
  {
   "cell_type": "code",
   "execution_count": 275,
   "metadata": {
    "collapsed": false
   },
   "outputs": [
    {
     "name": "stdout",
     "output_type": "stream",
     "text": [
      "3 4 2 1\n"
     ]
    }
   ],
   "source": [
    "print len(np.array(np.arange(24)).reshape(3,4,2,1)), # 3 arrays\n",
    "print len(np.array(np.arange(24)).reshape(3,4,2,1)[0]), #4 arrays within each of the above 3 arrays\n",
    "print len(np.array(np.arange(24)).reshape(3,4,2,1)[0][0]), #2 arrays within each of the above 4 arrays\n",
    "print len(np.array(np.arange(24)).reshape(3,4,2,1)[0][0][0]), #1 element within each of the above 2 arrays"
   ]
  },
  {
   "cell_type": "markdown",
   "metadata": {},
   "source": [
    "The way in in which numbers go into the new array using reshape is by default, according to the \"C-like\" index order, an first element is placed in the first spot in the 1st dimension of the first array in the 2nd dimension, etc, then the next element is placed in the 2nd spot in the 1st dimension of the first array in the 2nd dimension, etc. This means the first axis index changes fastest and the last axis index changes slowest:<br>\n",
    "reshape(3,4,2,1) ---> <br>\n",
    "reshape(3 lands, 4 kingdoms, 2 villages, 1 element) <br>\n",
    "The 1st element is placed in (1st land, 1st kingdom, 1st village, the only spot) <br>\n",
    "The 2nd element is placed in (1st land, 1st kingdom, 2nd village) <br>\n",
    "The 3rd element is placed in (1st land, 2nd kingdom, 3rd village) <br>"
   ]
  },
  {
   "cell_type": "code",
   "execution_count": 15,
   "metadata": {
    "collapsed": false
   },
   "outputs": [
    {
     "data": {
      "text/plain": [
       "array([[[0],\n",
       "        [1]],\n",
       "\n",
       "       [[2],\n",
       "        [3]],\n",
       "\n",
       "       [[4],\n",
       "        [5]],\n",
       "\n",
       "       [[6],\n",
       "        [7]]])"
      ]
     },
     "execution_count": 15,
     "metadata": {},
     "output_type": "execute_result"
    },
    {
     "data": {
      "text/plain": [
       "array([[0],\n",
       "       [1]])"
      ]
     },
     "execution_count": 15,
     "metadata": {},
     "output_type": "execute_result"
    },
    {
     "data": {
      "text/plain": [
       "array([0])"
      ]
     },
     "execution_count": 15,
     "metadata": {},
     "output_type": "execute_result"
    }
   ],
   "source": [
    "reshaped[0] #access 1st array in 4th dimension array (), meaning we'd like to visit land 0.\n",
    "reshaped[0][0] #access 1st array in the 3rd dimension array that is the 1st array in the 4th dimension array\n",
    "               #we're visiting kingdom 0 of land 0.\n",
    "reshaped[0][0][0] #access [0,0,0] meaning village 0, kingdom 0, land 0"
   ]
  },
  {
   "cell_type": "markdown",
   "metadata": {},
   "source": [
    "# Shape Method of Numpy Arrays"
   ]
  },
  {
   "cell_type": "markdown",
   "metadata": {},
   "source": [
    "The following array is a rank 4 array since it has 4 dimensions, each with their own respective lengths."
   ]
  },
  {
   "cell_type": "code",
   "execution_count": 9,
   "metadata": {
    "collapsed": false
   },
   "outputs": [
    {
     "data": {
      "text/plain": [
       "(3, 4, 2, 1)"
      ]
     },
     "execution_count": 9,
     "metadata": {},
     "output_type": "execute_result"
    }
   ],
   "source": [
    "reshaped.shape"
   ]
  },
  {
   "cell_type": "markdown",
   "metadata": {},
   "source": [
    "Shows the length of each axes (dimension), meaning the number of arrays in it.  <br>\n",
    "For the first dimension, it's the number of elements. <br>\n",
    "Len(array.shape) returns the number of dimensions. <br>\n",
    "(# of Dim 3 arrays, # of Dim 2 arrays, # of Dim 1 elements) --> rank 3 array<br>\n",
    "(# of Dim 2 arrays, # of Dim 1 arrays) --> rank 2 array<br>\n",
    "(# of elements in a Dim 1 array, )--> rank 1 array<br>"
   ]
  },
  {
   "cell_type": "code",
   "execution_count": 32,
   "metadata": {
    "collapsed": false
   },
   "outputs": [
    {
     "data": {
      "text/plain": [
       "((2,), (3, 1), (3, 2), (2, 2, 2), (1, 2, 1))"
      ]
     },
     "execution_count": 32,
     "metadata": {},
     "output_type": "execute_result"
    }
   ],
   "source": [
    "a=np.array([4,3]) \n",
    "b=np.array([[1],[5],[3]]) \n",
    "c=np.array([[1,0],[1,2],[5,4]]) \n",
    "d=np.array([[[1,2],[3,4]],[[1,2],[3,4]]])\n",
    "e=np.array([[[1],[2]]])\n",
    "a.shape, b.shape, c.shape, d.shape, e.shape,"
   ]
  },
  {
   "cell_type": "markdown",
   "metadata": {},
   "source": [
    "# Accessing a certain element in an array of rank N"
   ]
  },
  {
   "cell_type": "code",
   "execution_count": 66,
   "metadata": {
    "collapsed": false
   },
   "outputs": [
    {
     "data": {
      "text/plain": [
       "array([[[ 0,  1],\n",
       "        [ 2,  3],\n",
       "        [ 4,  5]],\n",
       "\n",
       "       [[ 6,  7],\n",
       "        [ 8,  9],\n",
       "        [10, 11]],\n",
       "\n",
       "       [[12, 13],\n",
       "        [14, 15],\n",
       "        [16, 17]],\n",
       "\n",
       "       [[18, 19],\n",
       "        [20, 21],\n",
       "        [22, 23]]])"
      ]
     },
     "execution_count": 66,
     "metadata": {},
     "output_type": "execute_result"
    }
   ],
   "source": [
    "x=np.arange(24)\n",
    "x=x.reshape(4,3,2) #create a rank 3 array\n",
    "x"
   ]
  },
  {
   "cell_type": "markdown",
   "metadata": {
    "collapsed": true
   },
   "source": [
    "1) Access array.shape() <br>\n",
    "2) For each axis, identify the index number associated with the element for that axis (meaning which array the element is located in in that axis).<br>"
   ]
  },
  {
   "cell_type": "code",
   "execution_count": 73,
   "metadata": {
    "collapsed": false
   },
   "outputs": [
    {
     "name": "stdout",
     "output_type": "stream",
     "text": [
      "5 8 13 20\n"
     ]
    }
   ],
   "source": [
    "print x[0,2,1],\n",
    "print x[1,1,0], \n",
    "print x[2,0,1],\n",
    "print x[3, 1, 0]"
   ]
  }
 ],
 "metadata": {
  "kernelspec": {
   "display_name": "Python 2",
   "language": "python",
   "name": "python2"
  },
  "language_info": {
   "codemirror_mode": {
    "name": "ipython",
    "version": 2
   },
   "file_extension": ".py",
   "mimetype": "text/x-python",
   "name": "python",
   "nbconvert_exporter": "python",
   "pygments_lexer": "ipython2",
   "version": "2.7.10"
  }
 },
 "nbformat": 4,
 "nbformat_minor": 0
}
