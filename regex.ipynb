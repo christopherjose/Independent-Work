{
 "cells": [
  {
   "cell_type": "code",
   "execution_count": 223,
   "metadata": {
    "collapsed": true
   },
   "outputs": [],
   "source": [
    "from IPython.core.interactiveshell import InteractiveShell\n",
    "InteractiveShell.ast_node_interactivity = \"all\"\n",
    "# show all outputs of a cell (such as if df.head() and df.tail() are in the same cell)\n",
    "#default is 'last_expr'"
   ]
  },
  {
   "cell_type": "code",
   "execution_count": 390,
   "metadata": {
    "collapsed": false
   },
   "outputs": [],
   "source": [
    "import re\n",
    "import regex\n",
    "# The regex module is the newer version of re module"
   ]
  },
  {
   "cell_type": "markdown",
   "metadata": {},
   "source": [
    "By default, the regex module performs the same as the re module.  To use the regex module:<br>\n",
    "regex.findall(regex,text,regex.VERSION1) <br>\n",
    "regex.findall(regex,text,regex.V1)"
   ]
  },
  {
   "cell_type": "markdown",
   "metadata": {},
   "source": [
    "## Python functions of the regex module"
   ]
  },
  {
   "cell_type": "markdown",
   "metadata": {},
   "source": [
    "**match=re.search(regex,string)** <br>Searches for the first match in a string and stops when it finds it.  <br>Returns an object called a _Match_ Object with properties about the match.<br>This object has value 1 or True if a match was found.  None if a match was not found. <br><br>\n",
    "**match=re.match(regex,string)**<br>\n",
    "Only checks if the BEGINNING of the string matches the regex\n",
    "\n",
    "Match objects, produced from functions _match_ and _search_, have the following methods:<br>\n",
    "**match.start()** returns the starting index of the match <br>\n",
    "**match.end()** returns the ending index (where the match actuually ends on end-1)<br>\n",
    "**match.span()** returns (start,end) indices as a tuple<br>\n",
    "**match.group()** returns the substring that was matched\n",
    "\n",
    "**matches=re.findall(regex,string)** <br>Returns a list of all matches <br>Does NOT have the above methods (start, end, span group)"
   ]
  },
  {
   "cell_type": "code",
   "execution_count": 391,
   "metadata": {
    "collapsed": true
   },
   "outputs": [],
   "source": [
    "text='Birth Day: 7/8/1989, Birth Day: 10/1/1943'\n",
    "text2=\"June 24 and then another June 24\""
   ]
  },
  {
   "cell_type": "code",
   "execution_count": 392,
   "metadata": {
    "collapsed": false
   },
   "outputs": [
    {
     "data": {
      "text/plain": [
       "['June 24', 'June 24']"
      ]
     },
     "execution_count": 392,
     "metadata": {},
     "output_type": "execute_result"
    }
   ],
   "source": [
    "regex.findall('June 24',text2)"
   ]
  },
  {
   "cell_type": "code",
   "execution_count": 317,
   "metadata": {
    "collapsed": false
   },
   "outputs": [
    {
     "data": {
      "text/plain": [
       "(0, 7)"
      ]
     },
     "execution_count": 317,
     "metadata": {},
     "output_type": "execute_result"
    }
   ],
   "source": [
    "regex.search('June 24',text2).span()"
   ]
  },
  {
   "cell_type": "code",
   "execution_count": 248,
   "metadata": {
    "collapsed": false
   },
   "outputs": [
    {
     "data": {
      "text/plain": [
       "'June 24'"
      ]
     },
     "execution_count": 248,
     "metadata": {},
     "output_type": "execute_result"
    }
   ],
   "source": [
    "regex.match('June 24',text2).group()"
   ]
  },
  {
   "cell_type": "code",
   "execution_count": 397,
   "metadata": {
    "collapsed": false
   },
   "outputs": [
    {
     "data": {
      "text/plain": [
       "False"
      ]
     },
     "execution_count": 397,
     "metadata": {},
     "output_type": "execute_result"
    },
    {
     "data": {
      "text/plain": [
       "False"
      ]
     },
     "execution_count": 397,
     "metadata": {},
     "output_type": "execute_result"
    },
    {
     "data": {
      "text/plain": [
       "True"
      ]
     },
     "execution_count": 397,
     "metadata": {},
     "output_type": "execute_result"
    }
   ],
   "source": [
    "regex.match('and',text2)==1\n",
    "regex.match('and',text2)==0\n",
    "regex.match('and',text2)==None"
   ]
  },
  {
   "cell_type": "markdown",
   "metadata": {},
   "source": [
    "## Python methods of the regex module"
   ]
  },
  {
   "cell_type": "markdown",
   "metadata": {},
   "source": [
    "Instead of using the above functions to search for text, you can:<br>\n",
    "1. Use the compile function to create a regex object (regex pattern object) with the regular expression you'd like to use to search the text\n",
    "2. Use the findall, search, or match methods of the regex object.  Search and match still produce match objects. <br>\n",
    "\n",
    "**pattern=regex.compile(regular expression, regex.V1)**<br>\n",
    "**pattern.findall(text)**"
   ]
  },
  {
   "cell_type": "code",
   "execution_count": 398,
   "metadata": {
    "collapsed": true
   },
   "outputs": [],
   "source": [
    "text=\"June 24 and then another June 24\""
   ]
  },
  {
   "cell_type": "code",
   "execution_count": 399,
   "metadata": {
    "collapsed": false
   },
   "outputs": [
    {
     "data": {
      "text/plain": [
       "'June'"
      ]
     },
     "execution_count": 399,
     "metadata": {},
     "output_type": "execute_result"
    }
   ],
   "source": [
    "pattern=regex.compile('June',regex.V1)\n",
    "pattern.search(text).group()"
   ]
  },
  {
   "cell_type": "markdown",
   "metadata": {},
   "source": [
    "## Character Classes"
   ]
  },
  {
   "cell_type": "markdown",
   "metadata": {},
   "source": [
    "A **character class** or **character set** specifies a set of characters, such that if a single character in the string matches any of them, then it is a match and is returned.  Classes are specified using brackets [].  So in other words, it matches and returns all characters satisfying the conditions specified within the brackets.  So a match occurs if any of the characters specified in the class are found where the class is placed. The order of the characters makes no difference.  A range of characters can also be specified using a hyphen -.  <br>\n",
    "\n",
    "_[tbj]oy_ would return all words starting with t,b,j and ending with oy: toy, boy, joy<br>\n",
    "_[A-Za-z]oy_ returns all words with an uppercase or lowercase letter and then having 'oy' <br>\n",
    "_June [0-9]_  returns all phrases of June x where x=[1,9]<br>\n",
    "_June [0-9][0-9]_  returns all June dates above June 9"
   ]
  },
  {
   "cell_type": "markdown",
   "metadata": {},
   "source": [
    "The caret character ^, when used inside a class at the very beginning, indicates \"not the following\":<br>\n",
    "**[^a-d]** any character, except a through d"
   ]
  },
  {
   "cell_type": "code",
   "execution_count": 401,
   "metadata": {
    "collapsed": true
   },
   "outputs": [],
   "source": [
    "text2=\"Toys are a joy for boys and girls\"\n",
    "text3=\"Dates include: June 2, June 3, June 13, etc\""
   ]
  },
  {
   "cell_type": "code",
   "execution_count": 357,
   "metadata": {
    "collapsed": false
   },
   "outputs": [
    {
     "data": {
      "text/plain": [
       "['joy', 'boy']"
      ]
     },
     "execution_count": 357,
     "metadata": {},
     "output_type": "execute_result"
    }
   ],
   "source": [
    "regex.findall('[tbj]oy',text2)"
   ]
  },
  {
   "cell_type": "code",
   "execution_count": 403,
   "metadata": {
    "collapsed": false
   },
   "outputs": [
    {
     "data": {
      "text/plain": [
       "['Toy', 'boy']"
      ]
     },
     "execution_count": 403,
     "metadata": {},
     "output_type": "execute_result"
    }
   ],
   "source": [
    "regex.findall('[A-Za-f]oy',text2)"
   ]
  },
  {
   "cell_type": "code",
   "execution_count": 402,
   "metadata": {
    "collapsed": false
   },
   "outputs": [
    {
     "data": {
      "text/plain": [
       "['June 3']"
      ]
     },
     "execution_count": 402,
     "metadata": {},
     "output_type": "execute_result"
    }
   ],
   "source": [
    "regex.findall('June [^0-2]',text3)"
   ]
  },
  {
   "cell_type": "code",
   "execution_count": 255,
   "metadata": {
    "collapsed": false
   },
   "outputs": [
    {
     "data": {
      "text/plain": [
       "['June 13']"
      ]
     },
     "execution_count": 255,
     "metadata": {},
     "output_type": "execute_result"
    }
   ],
   "source": [
    "regex.findall('June [0-9][0-9]',text3)"
   ]
  },
  {
   "cell_type": "markdown",
   "metadata": {},
   "source": [
    "## Metacharacters Inside Character Classes"
   ]
  },
  {
   "cell_type": "markdown",
   "metadata": {},
   "source": [
    "], \\, ^, - are the only metacharacters inside square brackets [] that retain their special value.\n",
    " <br>\n",
    "To escape their meanings, precede them with a backslash: \\^, \\\\, \\-, \\] <br>\n",
    "OR to escape ^'s meaning, you can just place it anywhere other than right after the opening bracket <br>\n",
    "OR to escape ]'s meaning, []x] or [^]x], place right after opening bracket or after a caret. <br>\n",
    "OR to escape -'s meaning, place right after opening bracket, right before closing bracket, or right after a caret.\n",
    "All other metacharacters merely retain their literal value and do not need to be escaped via a backslash"
   ]
  },
  {
   "cell_type": "code",
   "execution_count": 413,
   "metadata": {
    "collapsed": false
   },
   "outputs": [],
   "source": [
    "text='Birth Day: [7-8-1989] \\nBirth Day: [10-1-1943]'"
   ]
  },
  {
   "cell_type": "code",
   "execution_count": 452,
   "metadata": {
    "collapsed": false
   },
   "outputs": [
    {
     "name": "stdout",
     "output_type": "stream",
     "text": [
      "['B', 'i', 'r', 't', 'h', ' ', 'D', 'a', 'y', ':', ' ', '[', '7', '8', '1', '9', '8', '9', ',', ' ', 'B', 'i', 'r', 't', 'h', ' ', 'D', 'a', 'y', ':', ' ', '[', '1', '0', '1', '1', '9', '4', '3']\n"
     ]
    }
   ],
   "source": [
    "print regex.findall('[^]-]',text) #all characters except ] nor -, thus we are escaping ],-'s metacharacter meanings"
   ]
  },
  {
   "cell_type": "markdown",
   "metadata": {},
   "source": [
    "## Negated Characters Inside Character Classes"
   ]
  },
  {
   "cell_type": "markdown",
   "metadata": {},
   "source": [
    "**[^aB-]** matches any character that is neither a,B, or - (it can't be either of them)<br>\n",
    "**[^a^B^-]** same as above, so in other words (not any of a, B, or -)<br>"
   ]
  },
  {
   "cell_type": "code",
   "execution_count": 429,
   "metadata": {
    "collapsed": false
   },
   "outputs": [
    {
     "data": {
      "text/plain": [
       "True"
      ]
     },
     "execution_count": 429,
     "metadata": {},
     "output_type": "execute_result"
    }
   ],
   "source": [
    "regex.findall('[^aB-]',text)==\\\n",
    "regex.findall('[^a^B^-]',text)"
   ]
  },
  {
   "cell_type": "markdown",
   "metadata": {},
   "source": [
    "## Set Operations for Character Classes"
   ]
  },
  {
   "cell_type": "markdown",
   "metadata": {},
   "source": [
    "** [[class1] -- [class2]]**  _Subtraction_: Return items from one class, except for all items you've subtracted from that class <br>\n",
    "** [[class1] || [class2]]**  _Union_: Return items from either class (both classes) <br>\n",
    "**[[class1] ~~ [class2]]**  _Union - Subtraction_:Return items from both classes, except for items common to both classes <br>\n",
    "**[[class1] && [class2]]**  _Intersection_ - Return only items common to both classes <br>"
   ]
  },
  {
   "cell_type": "markdown",
   "metadata": {},
   "source": [
    "The regex module can apply set operations to classes, but not the re module.  <br>\n",
    "The regex module defaults to performing the same as the re module, so change this default setting via the parameter _regex.V1_ or _regex.VERSION1_."
   ]
  },
  {
   "cell_type": "code",
   "execution_count": 430,
   "metadata": {
    "collapsed": true
   },
   "outputs": [],
   "source": [
    "text='abcdef'"
   ]
  },
  {
   "cell_type": "code",
   "execution_count": 431,
   "metadata": {
    "collapsed": false
   },
   "outputs": [
    {
     "data": {
      "text/plain": [
       "['b', 'c', 'd', 'f']"
      ]
     },
     "execution_count": 431,
     "metadata": {},
     "output_type": "execute_result"
    }
   ],
   "source": [
    "regex.findall('[[a-z]--[aeiou]]',text,regex.V1)"
   ]
  },
  {
   "cell_type": "code",
   "execution_count": 287,
   "metadata": {
    "collapsed": false
   },
   "outputs": [
    {
     "data": {
      "text/plain": [
       "['a', 'b']"
      ]
     },
     "execution_count": 287,
     "metadata": {},
     "output_type": "execute_result"
    }
   ],
   "source": [
    "regex.findall('[[a]||[b]]',text,regex.V1)"
   ]
  },
  {
   "cell_type": "code",
   "execution_count": 286,
   "metadata": {
    "collapsed": false
   },
   "outputs": [
    {
     "data": {
      "text/plain": [
       "['c']"
      ]
     },
     "execution_count": 286,
     "metadata": {},
     "output_type": "execute_result"
    }
   ],
   "source": [
    "regex.findall('[[abc]~~[ab]]',text,regex.V1)"
   ]
  },
  {
   "cell_type": "code",
   "execution_count": 290,
   "metadata": {
    "collapsed": false
   },
   "outputs": [
    {
     "data": {
      "text/plain": [
       "['a', 'b']"
      ]
     },
     "execution_count": 290,
     "metadata": {},
     "output_type": "execute_result"
    }
   ],
   "source": [
    "regex.findall('[[abc]&&[ab]]',text,regex.V1)"
   ]
  },
  {
   "cell_type": "markdown",
   "metadata": {},
   "source": [
    "## Shorthand Character Classes"
   ]
  },
  {
   "cell_type": "markdown",
   "metadata": {},
   "source": [
    "Classes called **shorthand character classes** can be referenced using shorthand, meaning designated symbols and characters that refer to that class. <br>\n",
    "[\\d] ->   [0-9] any digit<br>\n",
    "[\\w] ->   [A-Za-z0-9\\_] any letter, digit, or underscore character (alphanumeric character)<br>\n",
    "[\\s] ->   [ \\t\\r\\n\\f\\v] any whitespace character (tab, space, newline, etc)\n",
    "\n",
    "[\\D] ->   [^0-9] any non-digit<br>\n",
    "[\\W] ->   [^A-Za-z0-9\\_] (non-alphanumeric characters)<br>\n",
    "[\\S] ->   [^ \\t\\r\\n\\f\\v] matches NON \"space\" characters <br>\n",
    "\n",
    "Shorthand character classes can be combined like literal characters to form classes<br>\n",
    "[\\d\\s]  matches a single character that is either a whitepace or a digit character, <br>\n",
    "\n",
    "Shorthand character classes can be used inside or outside brackets, though the meaning changes.  <br>\n",
    "\\d\\s    matches a single digit followed by a whitespace character <br>"
   ]
  },
  {
   "cell_type": "markdown",
   "metadata": {},
   "source": [
    "**Negated shorthand classes** <br>\n",
    "[^\\d\\s] matches any character that is neither a digit nor a whitespace (it can't be either), so (not d & not s)<br>\n",
    "[\\D\\S] matches any character that is either not a digit or not a whitespace, so (not d or not s)"
   ]
  },
  {
   "cell_type": "code",
   "execution_count": 439,
   "metadata": {
    "collapsed": true
   },
   "outputs": [],
   "source": [
    "text='Birth Day: 7/8/1989, Birth Day: 10/1/1943'"
   ]
  },
  {
   "cell_type": "code",
   "execution_count": 440,
   "metadata": {
    "collapsed": false
   },
   "outputs": [
    {
     "name": "stdout",
     "output_type": "stream",
     "text": [
      "['B', 'i', 'r', 't', 'h', ' ', 'D', 'a', 'y', ':', ' ', '7', '/', '8', '/', '1', '9', '8', '9', ',', ' ', 'B', 'i', 'r', 't', 'h', ' ', 'D', 'a', 'y', ':', ' ', '1', '0', '/', '1', '/', '1', '9', '4', '3']\n"
     ]
    }
   ],
   "source": [
    "#match a non-alphanumeric (like /) OR match a non-whitespace character.  \n",
    "#This actually has the result of including all alpha-numerics, which are non-whitespace, and all whitespace\n",
    "#which are non-alphanumerics\n",
    "print regex.findall('[\\W\\S]',text) "
   ]
  },
  {
   "cell_type": "code",
   "execution_count": 408,
   "metadata": {
    "collapsed": false
   },
   "outputs": [
    {
     "name": "stdout",
     "output_type": "stream",
     "text": [
      "['Ab', 'Bb']\n"
     ]
    }
   ],
   "source": [
    "#return substrings starting with a capital letter and then whose next letter is alphanumeric\n",
    "print regex.findall('[A-Z][\\w]','Ab ab Bb bb') "
   ]
  },
  {
   "cell_type": "code",
   "execution_count": 419,
   "metadata": {
    "collapsed": false
   },
   "outputs": [
    {
     "name": "stdout",
     "output_type": "stream",
     "text": [
      "['B', 'i', 'r', 't', 'h', 'D', 'a', 'y', ':', '/', '/', ',', 'B', 'i', 'r', 't', 'h', 'D', 'a', 'y', ':', '/', '/']\n"
     ]
    }
   ],
   "source": [
    "print regex.findall('[^\\s\\d]',text) "
   ]
  },
  {
   "cell_type": "markdown",
   "metadata": {},
   "source": [
    "## The dot metacharacter"
   ]
  },
  {
   "cell_type": "markdown",
   "metadata": {},
   "source": [
    "**.** wildcard metacharacter that matches any character except the newline character <br>\n",
    "**\\\\.** escapes the dot metacharacter so that its meaning is taken literally"
   ]
  },
  {
   "cell_type": "code",
   "execution_count": 432,
   "metadata": {
    "collapsed": false
   },
   "outputs": [
    {
     "data": {
      "text/plain": [
       "['cat.', 'dog.', '932.']"
      ]
     },
     "execution_count": 432,
     "metadata": {},
     "output_type": "execute_result"
    }
   ],
   "source": [
    "regex.findall('...\\.','cat. dog. 932. abc1') #returns all 4-chara words with a . at the end"
   ]
  },
  {
   "cell_type": "markdown",
   "metadata": {},
   "source": [
    "## Anchor Metacharacters -  ^, $, \\A,\\Z"
   ]
  },
  {
   "cell_type": "markdown",
   "metadata": {},
   "source": [
    "Anchors are metacharacters that do not match characters, but when placed next to other characters, cause a match to occur for those characters ONLY at certain locations in the text, like the start or end of the text."
   ]
  },
  {
   "cell_type": "markdown",
   "metadata": {},
   "source": [
    "The **caret ^** metacharacter, when placed in front of characters we'd like to match on, results in a match occuring only if those characters are found at the beginning of the text (or just after a newline character, if regex.multiline is specified in the code). <br>\n",
    "\n",
    "The **$** metacharacter, when placed at the end of characters we'd like to match on, results in a match occuring only if those characters are found at the end of the text (or just before a newline character, if regex.multiline is specified in the code).<br>\n",
    " \n",
    "**\\A** is the same as caret ^, except it ONLY matches at the very beginning of the text, even if regex.MULTILINE is specified. <br>\n",
    "\n",
    "**\\Z** is the same as $, except it ONLY matches at the very end of the text, even if regex.MULTILINE is specified. <br> Other languages also have \\z, but Python does not and its \\Z has the meaning as specified."
   ]
  },
  {
   "cell_type": "markdown",
   "metadata": {},
   "source": [
    "What if you want to match characters at the start or end of each line, where lines are separated by newline characters (\\n)?<br>\n",
    "To have the caret ^ anchor match at the start of the string, AS WELL AS after each line break (meaning, after each \\n):<br> \n",
    "To have the $ ^ anchor match at the end of the string, AS WELL AS before each line break (meaning, before each \\n): <br>\n",
    "**regex.MULTILINE** <br>"
   ]
  },
  {
   "cell_type": "code",
   "execution_count": 519,
   "metadata": {
    "collapsed": false
   },
   "outputs": [
    {
     "data": {
      "text/plain": [
       "['Birth']"
      ]
     },
     "execution_count": 519,
     "metadata": {},
     "output_type": "execute_result"
    },
    {
     "data": {
      "text/plain": [
       "['1943']"
      ]
     },
     "execution_count": 519,
     "metadata": {},
     "output_type": "execute_result"
    }
   ],
   "source": [
    "text='Birth Day: 7/8/1989, Birth Day: 10/1/1943'\n",
    "regex.findall('^Birth',text)\n",
    "regex.findall('1943$',text)"
   ]
  },
  {
   "cell_type": "code",
   "execution_count": 509,
   "metadata": {
    "collapsed": false
   },
   "outputs": [
    {
     "name": "stdout",
     "output_type": "stream",
     "text": [
      "Birth Day: 7/8/1989\n",
      "Birth Day: 10/1/1943\n",
      "Birth Day: 9/8/1955\n",
      "Birth Day: 12/7/1971\n"
     ]
    }
   ],
   "source": [
    "text='Birth Day: 7/8/1989\\nBirth Day: 10/1/1943\\n\\\n",
    "Birth Day: 9/8/1955\\nBirth Day: 12/7/1971'\n",
    "print text"
   ]
  },
  {
   "cell_type": "code",
   "execution_count": 504,
   "metadata": {
    "collapsed": false
   },
   "outputs": [
    {
     "data": {
      "text/plain": [
       "['Birth', 'Birth', 'Birth', 'Birth']"
      ]
     },
     "execution_count": 504,
     "metadata": {},
     "output_type": "execute_result"
    },
    {
     "data": {
      "text/plain": [
       "['1989', '1943', '1955', '1971']"
      ]
     },
     "execution_count": 504,
     "metadata": {},
     "output_type": "execute_result"
    }
   ],
   "source": [
    "regex.findall('^Birth',text,regex.MULTILINE)\n",
    "regex.findall('....$',text,regex.MULTILINE)"
   ]
  },
  {
   "cell_type": "code",
   "execution_count": 508,
   "metadata": {
    "collapsed": false
   },
   "outputs": [
    {
     "data": {
      "text/plain": [
       "['Birth']"
      ]
     },
     "execution_count": 508,
     "metadata": {},
     "output_type": "execute_result"
    },
    {
     "data": {
      "text/plain": [
       "['1971']"
      ]
     },
     "execution_count": 508,
     "metadata": {},
     "output_type": "execute_result"
    }
   ],
   "source": [
    "regex.findall('\\ABirth',text,regex.MULTILINE) \n",
    "regex.findall('....\\Z',text,regex.MULTILINE)\n",
    "#notice below how regex.MULTILINE makes NO difference"
   ]
  },
  {
   "cell_type": "code",
   "execution_count": 517,
   "metadata": {
    "collapsed": false
   },
   "outputs": [
    {
     "name": "stdout",
     "output_type": "stream",
     "text": [
      "4 is 4\n",
      "4 is more.\n",
      "4 can't not be 4\n"
     ]
    },
    {
     "data": {
      "text/plain": [
       "[]"
      ]
     },
     "execution_count": 517,
     "metadata": {},
     "output_type": "execute_result"
    }
   ],
   "source": [
    "text=\"4 is 4\\n4 is more.\\n4 can't not be 4\"\n",
    "print text\n",
    "regex.findall('^4$',text,regex.MULTILINE) "
   ]
  }
 ],
 "metadata": {
  "kernelspec": {
   "display_name": "Python 2",
   "language": "python",
   "name": "python2"
  },
  "language_info": {
   "codemirror_mode": {
    "name": "ipython",
    "version": 2
   },
   "file_extension": ".py",
   "mimetype": "text/x-python",
   "name": "python",
   "nbconvert_exporter": "python",
   "pygments_lexer": "ipython2",
   "version": "2.7.13"
  }
 },
 "nbformat": 4,
 "nbformat_minor": 0
}
